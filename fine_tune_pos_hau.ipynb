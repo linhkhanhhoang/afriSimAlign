{
  "nbformat": 4,
  "nbformat_minor": 0,
  "metadata": {
    "colab": {
      "provenance": [],
      "gpuType": "T4",
      "include_colab_link": true
    },
    "kernelspec": {
      "name": "python3",
      "display_name": "Python 3"
    },
    "language_info": {
      "name": "python"
    },
    "accelerator": "GPU",
    "widgets": {
      "application/vnd.jupyter.widget-state+json": {
        "3f70e40c03b24cc888e902e521f1d1ca": {
          "model_module": "@jupyter-widgets/controls",
          "model_name": "HBoxModel",
          "model_module_version": "1.5.0",
          "state": {
            "_dom_classes": [],
            "_model_module": "@jupyter-widgets/controls",
            "_model_module_version": "1.5.0",
            "_model_name": "HBoxModel",
            "_view_count": null,
            "_view_module": "@jupyter-widgets/controls",
            "_view_module_version": "1.5.0",
            "_view_name": "HBoxView",
            "box_style": "",
            "children": [
              "IPY_MODEL_098cf44c9a334fdb8fe056ebe031c1d0",
              "IPY_MODEL_efcdbbd9b7d14c62b515702d1b454918",
              "IPY_MODEL_5fee8062610a41ac8647737eef16236c"
            ],
            "layout": "IPY_MODEL_ab1c89bef2584434aa06d5efccff13ac"
          }
        },
        "098cf44c9a334fdb8fe056ebe031c1d0": {
          "model_module": "@jupyter-widgets/controls",
          "model_name": "HTMLModel",
          "model_module_version": "1.5.0",
          "state": {
            "_dom_classes": [],
            "_model_module": "@jupyter-widgets/controls",
            "_model_module_version": "1.5.0",
            "_model_name": "HTMLModel",
            "_view_count": null,
            "_view_module": "@jupyter-widgets/controls",
            "_view_module_version": "1.5.0",
            "_view_name": "HTMLView",
            "description": "",
            "description_tooltip": null,
            "layout": "IPY_MODEL_953ec0f6d45d4e25b4ee6beb0f89f467",
            "placeholder": "​",
            "style": "IPY_MODEL_31ebc32221f840bf8ae8abd9b1697de2",
            "value": "Downloading data files: 100%"
          }
        },
        "efcdbbd9b7d14c62b515702d1b454918": {
          "model_module": "@jupyter-widgets/controls",
          "model_name": "FloatProgressModel",
          "model_module_version": "1.5.0",
          "state": {
            "_dom_classes": [],
            "_model_module": "@jupyter-widgets/controls",
            "_model_module_version": "1.5.0",
            "_model_name": "FloatProgressModel",
            "_view_count": null,
            "_view_module": "@jupyter-widgets/controls",
            "_view_module_version": "1.5.0",
            "_view_name": "ProgressView",
            "bar_style": "success",
            "description": "",
            "description_tooltip": null,
            "layout": "IPY_MODEL_322c02b4878c43709f1adfaa2444e9d1",
            "max": 1,
            "min": 0,
            "orientation": "horizontal",
            "style": "IPY_MODEL_b6c6add7e345493381d098d3ece96a74",
            "value": 1
          }
        },
        "5fee8062610a41ac8647737eef16236c": {
          "model_module": "@jupyter-widgets/controls",
          "model_name": "HTMLModel",
          "model_module_version": "1.5.0",
          "state": {
            "_dom_classes": [],
            "_model_module": "@jupyter-widgets/controls",
            "_model_module_version": "1.5.0",
            "_model_name": "HTMLModel",
            "_view_count": null,
            "_view_module": "@jupyter-widgets/controls",
            "_view_module_version": "1.5.0",
            "_view_name": "HTMLView",
            "description": "",
            "description_tooltip": null,
            "layout": "IPY_MODEL_0583de08dddb42a8b4b81c4eb7c08c0d",
            "placeholder": "​",
            "style": "IPY_MODEL_e3fe465e0814411887cf020c4f0f0d35",
            "value": " 1/1 [00:00&lt;00:00, 60.72it/s]"
          }
        },
        "ab1c89bef2584434aa06d5efccff13ac": {
          "model_module": "@jupyter-widgets/base",
          "model_name": "LayoutModel",
          "model_module_version": "1.2.0",
          "state": {
            "_model_module": "@jupyter-widgets/base",
            "_model_module_version": "1.2.0",
            "_model_name": "LayoutModel",
            "_view_count": null,
            "_view_module": "@jupyter-widgets/base",
            "_view_module_version": "1.2.0",
            "_view_name": "LayoutView",
            "align_content": null,
            "align_items": null,
            "align_self": null,
            "border": null,
            "bottom": null,
            "display": null,
            "flex": null,
            "flex_flow": null,
            "grid_area": null,
            "grid_auto_columns": null,
            "grid_auto_flow": null,
            "grid_auto_rows": null,
            "grid_column": null,
            "grid_gap": null,
            "grid_row": null,
            "grid_template_areas": null,
            "grid_template_columns": null,
            "grid_template_rows": null,
            "height": null,
            "justify_content": null,
            "justify_items": null,
            "left": null,
            "margin": null,
            "max_height": null,
            "max_width": null,
            "min_height": null,
            "min_width": null,
            "object_fit": null,
            "object_position": null,
            "order": null,
            "overflow": null,
            "overflow_x": null,
            "overflow_y": null,
            "padding": null,
            "right": null,
            "top": null,
            "visibility": null,
            "width": null
          }
        },
        "953ec0f6d45d4e25b4ee6beb0f89f467": {
          "model_module": "@jupyter-widgets/base",
          "model_name": "LayoutModel",
          "model_module_version": "1.2.0",
          "state": {
            "_model_module": "@jupyter-widgets/base",
            "_model_module_version": "1.2.0",
            "_model_name": "LayoutModel",
            "_view_count": null,
            "_view_module": "@jupyter-widgets/base",
            "_view_module_version": "1.2.0",
            "_view_name": "LayoutView",
            "align_content": null,
            "align_items": null,
            "align_self": null,
            "border": null,
            "bottom": null,
            "display": null,
            "flex": null,
            "flex_flow": null,
            "grid_area": null,
            "grid_auto_columns": null,
            "grid_auto_flow": null,
            "grid_auto_rows": null,
            "grid_column": null,
            "grid_gap": null,
            "grid_row": null,
            "grid_template_areas": null,
            "grid_template_columns": null,
            "grid_template_rows": null,
            "height": null,
            "justify_content": null,
            "justify_items": null,
            "left": null,
            "margin": null,
            "max_height": null,
            "max_width": null,
            "min_height": null,
            "min_width": null,
            "object_fit": null,
            "object_position": null,
            "order": null,
            "overflow": null,
            "overflow_x": null,
            "overflow_y": null,
            "padding": null,
            "right": null,
            "top": null,
            "visibility": null,
            "width": null
          }
        },
        "31ebc32221f840bf8ae8abd9b1697de2": {
          "model_module": "@jupyter-widgets/controls",
          "model_name": "DescriptionStyleModel",
          "model_module_version": "1.5.0",
          "state": {
            "_model_module": "@jupyter-widgets/controls",
            "_model_module_version": "1.5.0",
            "_model_name": "DescriptionStyleModel",
            "_view_count": null,
            "_view_module": "@jupyter-widgets/base",
            "_view_module_version": "1.2.0",
            "_view_name": "StyleView",
            "description_width": ""
          }
        },
        "322c02b4878c43709f1adfaa2444e9d1": {
          "model_module": "@jupyter-widgets/base",
          "model_name": "LayoutModel",
          "model_module_version": "1.2.0",
          "state": {
            "_model_module": "@jupyter-widgets/base",
            "_model_module_version": "1.2.0",
            "_model_name": "LayoutModel",
            "_view_count": null,
            "_view_module": "@jupyter-widgets/base",
            "_view_module_version": "1.2.0",
            "_view_name": "LayoutView",
            "align_content": null,
            "align_items": null,
            "align_self": null,
            "border": null,
            "bottom": null,
            "display": null,
            "flex": null,
            "flex_flow": null,
            "grid_area": null,
            "grid_auto_columns": null,
            "grid_auto_flow": null,
            "grid_auto_rows": null,
            "grid_column": null,
            "grid_gap": null,
            "grid_row": null,
            "grid_template_areas": null,
            "grid_template_columns": null,
            "grid_template_rows": null,
            "height": null,
            "justify_content": null,
            "justify_items": null,
            "left": null,
            "margin": null,
            "max_height": null,
            "max_width": null,
            "min_height": null,
            "min_width": null,
            "object_fit": null,
            "object_position": null,
            "order": null,
            "overflow": null,
            "overflow_x": null,
            "overflow_y": null,
            "padding": null,
            "right": null,
            "top": null,
            "visibility": null,
            "width": null
          }
        },
        "b6c6add7e345493381d098d3ece96a74": {
          "model_module": "@jupyter-widgets/controls",
          "model_name": "ProgressStyleModel",
          "model_module_version": "1.5.0",
          "state": {
            "_model_module": "@jupyter-widgets/controls",
            "_model_module_version": "1.5.0",
            "_model_name": "ProgressStyleModel",
            "_view_count": null,
            "_view_module": "@jupyter-widgets/base",
            "_view_module_version": "1.2.0",
            "_view_name": "StyleView",
            "bar_color": null,
            "description_width": ""
          }
        },
        "0583de08dddb42a8b4b81c4eb7c08c0d": {
          "model_module": "@jupyter-widgets/base",
          "model_name": "LayoutModel",
          "model_module_version": "1.2.0",
          "state": {
            "_model_module": "@jupyter-widgets/base",
            "_model_module_version": "1.2.0",
            "_model_name": "LayoutModel",
            "_view_count": null,
            "_view_module": "@jupyter-widgets/base",
            "_view_module_version": "1.2.0",
            "_view_name": "LayoutView",
            "align_content": null,
            "align_items": null,
            "align_self": null,
            "border": null,
            "bottom": null,
            "display": null,
            "flex": null,
            "flex_flow": null,
            "grid_area": null,
            "grid_auto_columns": null,
            "grid_auto_flow": null,
            "grid_auto_rows": null,
            "grid_column": null,
            "grid_gap": null,
            "grid_row": null,
            "grid_template_areas": null,
            "grid_template_columns": null,
            "grid_template_rows": null,
            "height": null,
            "justify_content": null,
            "justify_items": null,
            "left": null,
            "margin": null,
            "max_height": null,
            "max_width": null,
            "min_height": null,
            "min_width": null,
            "object_fit": null,
            "object_position": null,
            "order": null,
            "overflow": null,
            "overflow_x": null,
            "overflow_y": null,
            "padding": null,
            "right": null,
            "top": null,
            "visibility": null,
            "width": null
          }
        },
        "e3fe465e0814411887cf020c4f0f0d35": {
          "model_module": "@jupyter-widgets/controls",
          "model_name": "DescriptionStyleModel",
          "model_module_version": "1.5.0",
          "state": {
            "_model_module": "@jupyter-widgets/controls",
            "_model_module_version": "1.5.0",
            "_model_name": "DescriptionStyleModel",
            "_view_count": null,
            "_view_module": "@jupyter-widgets/base",
            "_view_module_version": "1.2.0",
            "_view_name": "StyleView",
            "description_width": ""
          }
        },
        "5eba8dafa02d427d955410ae6e43d793": {
          "model_module": "@jupyter-widgets/controls",
          "model_name": "HBoxModel",
          "model_module_version": "1.5.0",
          "state": {
            "_dom_classes": [],
            "_model_module": "@jupyter-widgets/controls",
            "_model_module_version": "1.5.0",
            "_model_name": "HBoxModel",
            "_view_count": null,
            "_view_module": "@jupyter-widgets/controls",
            "_view_module_version": "1.5.0",
            "_view_name": "HBoxView",
            "box_style": "",
            "children": [
              "IPY_MODEL_075f6ca3ac694e23b957ccac3b3940f3",
              "IPY_MODEL_9d14df4ebf1f4f5cac45766a47cab516",
              "IPY_MODEL_630ddefe93b44e719f5ea793b78bdb08"
            ],
            "layout": "IPY_MODEL_8376140f734644949819747ff3a862a2"
          }
        },
        "075f6ca3ac694e23b957ccac3b3940f3": {
          "model_module": "@jupyter-widgets/controls",
          "model_name": "HTMLModel",
          "model_module_version": "1.5.0",
          "state": {
            "_dom_classes": [],
            "_model_module": "@jupyter-widgets/controls",
            "_model_module_version": "1.5.0",
            "_model_name": "HTMLModel",
            "_view_count": null,
            "_view_module": "@jupyter-widgets/controls",
            "_view_module_version": "1.5.0",
            "_view_name": "HTMLView",
            "description": "",
            "description_tooltip": null,
            "layout": "IPY_MODEL_e4debe3a51ba4585a89e14fa3cfd3a5c",
            "placeholder": "​",
            "style": "IPY_MODEL_47bb00f2f5514417a0e0121cc0ceb7a1",
            "value": "Extracting data files: 100%"
          }
        },
        "9d14df4ebf1f4f5cac45766a47cab516": {
          "model_module": "@jupyter-widgets/controls",
          "model_name": "FloatProgressModel",
          "model_module_version": "1.5.0",
          "state": {
            "_dom_classes": [],
            "_model_module": "@jupyter-widgets/controls",
            "_model_module_version": "1.5.0",
            "_model_name": "FloatProgressModel",
            "_view_count": null,
            "_view_module": "@jupyter-widgets/controls",
            "_view_module_version": "1.5.0",
            "_view_name": "ProgressView",
            "bar_style": "success",
            "description": "",
            "description_tooltip": null,
            "layout": "IPY_MODEL_4d4f6fe9425945aaafc2c3be67d5358d",
            "max": 1,
            "min": 0,
            "orientation": "horizontal",
            "style": "IPY_MODEL_bd83877c34e74c66ae7b15d1a89d15a0",
            "value": 1
          }
        },
        "630ddefe93b44e719f5ea793b78bdb08": {
          "model_module": "@jupyter-widgets/controls",
          "model_name": "HTMLModel",
          "model_module_version": "1.5.0",
          "state": {
            "_dom_classes": [],
            "_model_module": "@jupyter-widgets/controls",
            "_model_module_version": "1.5.0",
            "_model_name": "HTMLModel",
            "_view_count": null,
            "_view_module": "@jupyter-widgets/controls",
            "_view_module_version": "1.5.0",
            "_view_name": "HTMLView",
            "description": "",
            "description_tooltip": null,
            "layout": "IPY_MODEL_1a700527e9684b9c8f6e2273edc8f54b",
            "placeholder": "​",
            "style": "IPY_MODEL_6f5075ed2c734f23b0b20265ca2b5942",
            "value": " 1/1 [00:00&lt;00:00, 41.17it/s]"
          }
        },
        "8376140f734644949819747ff3a862a2": {
          "model_module": "@jupyter-widgets/base",
          "model_name": "LayoutModel",
          "model_module_version": "1.2.0",
          "state": {
            "_model_module": "@jupyter-widgets/base",
            "_model_module_version": "1.2.0",
            "_model_name": "LayoutModel",
            "_view_count": null,
            "_view_module": "@jupyter-widgets/base",
            "_view_module_version": "1.2.0",
            "_view_name": "LayoutView",
            "align_content": null,
            "align_items": null,
            "align_self": null,
            "border": null,
            "bottom": null,
            "display": null,
            "flex": null,
            "flex_flow": null,
            "grid_area": null,
            "grid_auto_columns": null,
            "grid_auto_flow": null,
            "grid_auto_rows": null,
            "grid_column": null,
            "grid_gap": null,
            "grid_row": null,
            "grid_template_areas": null,
            "grid_template_columns": null,
            "grid_template_rows": null,
            "height": null,
            "justify_content": null,
            "justify_items": null,
            "left": null,
            "margin": null,
            "max_height": null,
            "max_width": null,
            "min_height": null,
            "min_width": null,
            "object_fit": null,
            "object_position": null,
            "order": null,
            "overflow": null,
            "overflow_x": null,
            "overflow_y": null,
            "padding": null,
            "right": null,
            "top": null,
            "visibility": null,
            "width": null
          }
        },
        "e4debe3a51ba4585a89e14fa3cfd3a5c": {
          "model_module": "@jupyter-widgets/base",
          "model_name": "LayoutModel",
          "model_module_version": "1.2.0",
          "state": {
            "_model_module": "@jupyter-widgets/base",
            "_model_module_version": "1.2.0",
            "_model_name": "LayoutModel",
            "_view_count": null,
            "_view_module": "@jupyter-widgets/base",
            "_view_module_version": "1.2.0",
            "_view_name": "LayoutView",
            "align_content": null,
            "align_items": null,
            "align_self": null,
            "border": null,
            "bottom": null,
            "display": null,
            "flex": null,
            "flex_flow": null,
            "grid_area": null,
            "grid_auto_columns": null,
            "grid_auto_flow": null,
            "grid_auto_rows": null,
            "grid_column": null,
            "grid_gap": null,
            "grid_row": null,
            "grid_template_areas": null,
            "grid_template_columns": null,
            "grid_template_rows": null,
            "height": null,
            "justify_content": null,
            "justify_items": null,
            "left": null,
            "margin": null,
            "max_height": null,
            "max_width": null,
            "min_height": null,
            "min_width": null,
            "object_fit": null,
            "object_position": null,
            "order": null,
            "overflow": null,
            "overflow_x": null,
            "overflow_y": null,
            "padding": null,
            "right": null,
            "top": null,
            "visibility": null,
            "width": null
          }
        },
        "47bb00f2f5514417a0e0121cc0ceb7a1": {
          "model_module": "@jupyter-widgets/controls",
          "model_name": "DescriptionStyleModel",
          "model_module_version": "1.5.0",
          "state": {
            "_model_module": "@jupyter-widgets/controls",
            "_model_module_version": "1.5.0",
            "_model_name": "DescriptionStyleModel",
            "_view_count": null,
            "_view_module": "@jupyter-widgets/base",
            "_view_module_version": "1.2.0",
            "_view_name": "StyleView",
            "description_width": ""
          }
        },
        "4d4f6fe9425945aaafc2c3be67d5358d": {
          "model_module": "@jupyter-widgets/base",
          "model_name": "LayoutModel",
          "model_module_version": "1.2.0",
          "state": {
            "_model_module": "@jupyter-widgets/base",
            "_model_module_version": "1.2.0",
            "_model_name": "LayoutModel",
            "_view_count": null,
            "_view_module": "@jupyter-widgets/base",
            "_view_module_version": "1.2.0",
            "_view_name": "LayoutView",
            "align_content": null,
            "align_items": null,
            "align_self": null,
            "border": null,
            "bottom": null,
            "display": null,
            "flex": null,
            "flex_flow": null,
            "grid_area": null,
            "grid_auto_columns": null,
            "grid_auto_flow": null,
            "grid_auto_rows": null,
            "grid_column": null,
            "grid_gap": null,
            "grid_row": null,
            "grid_template_areas": null,
            "grid_template_columns": null,
            "grid_template_rows": null,
            "height": null,
            "justify_content": null,
            "justify_items": null,
            "left": null,
            "margin": null,
            "max_height": null,
            "max_width": null,
            "min_height": null,
            "min_width": null,
            "object_fit": null,
            "object_position": null,
            "order": null,
            "overflow": null,
            "overflow_x": null,
            "overflow_y": null,
            "padding": null,
            "right": null,
            "top": null,
            "visibility": null,
            "width": null
          }
        },
        "bd83877c34e74c66ae7b15d1a89d15a0": {
          "model_module": "@jupyter-widgets/controls",
          "model_name": "ProgressStyleModel",
          "model_module_version": "1.5.0",
          "state": {
            "_model_module": "@jupyter-widgets/controls",
            "_model_module_version": "1.5.0",
            "_model_name": "ProgressStyleModel",
            "_view_count": null,
            "_view_module": "@jupyter-widgets/base",
            "_view_module_version": "1.2.0",
            "_view_name": "StyleView",
            "bar_color": null,
            "description_width": ""
          }
        },
        "1a700527e9684b9c8f6e2273edc8f54b": {
          "model_module": "@jupyter-widgets/base",
          "model_name": "LayoutModel",
          "model_module_version": "1.2.0",
          "state": {
            "_model_module": "@jupyter-widgets/base",
            "_model_module_version": "1.2.0",
            "_model_name": "LayoutModel",
            "_view_count": null,
            "_view_module": "@jupyter-widgets/base",
            "_view_module_version": "1.2.0",
            "_view_name": "LayoutView",
            "align_content": null,
            "align_items": null,
            "align_self": null,
            "border": null,
            "bottom": null,
            "display": null,
            "flex": null,
            "flex_flow": null,
            "grid_area": null,
            "grid_auto_columns": null,
            "grid_auto_flow": null,
            "grid_auto_rows": null,
            "grid_column": null,
            "grid_gap": null,
            "grid_row": null,
            "grid_template_areas": null,
            "grid_template_columns": null,
            "grid_template_rows": null,
            "height": null,
            "justify_content": null,
            "justify_items": null,
            "left": null,
            "margin": null,
            "max_height": null,
            "max_width": null,
            "min_height": null,
            "min_width": null,
            "object_fit": null,
            "object_position": null,
            "order": null,
            "overflow": null,
            "overflow_x": null,
            "overflow_y": null,
            "padding": null,
            "right": null,
            "top": null,
            "visibility": null,
            "width": null
          }
        },
        "6f5075ed2c734f23b0b20265ca2b5942": {
          "model_module": "@jupyter-widgets/controls",
          "model_name": "DescriptionStyleModel",
          "model_module_version": "1.5.0",
          "state": {
            "_model_module": "@jupyter-widgets/controls",
            "_model_module_version": "1.5.0",
            "_model_name": "DescriptionStyleModel",
            "_view_count": null,
            "_view_module": "@jupyter-widgets/base",
            "_view_module_version": "1.2.0",
            "_view_name": "StyleView",
            "description_width": ""
          }
        },
        "1724551825c44063b8fdcfbb2c813205": {
          "model_module": "@jupyter-widgets/controls",
          "model_name": "HBoxModel",
          "model_module_version": "1.5.0",
          "state": {
            "_dom_classes": [],
            "_model_module": "@jupyter-widgets/controls",
            "_model_module_version": "1.5.0",
            "_model_name": "HBoxModel",
            "_view_count": null,
            "_view_module": "@jupyter-widgets/controls",
            "_view_module_version": "1.5.0",
            "_view_name": "HBoxView",
            "box_style": "",
            "children": [
              "IPY_MODEL_4d9db9e1ac654247be40924cc77c279e",
              "IPY_MODEL_a42c81df4c954dca86c13131c3f4846b",
              "IPY_MODEL_2a437ad341864f34a75738f6bc35e6dd"
            ],
            "layout": "IPY_MODEL_b37b012e333144a8b6a2857b259f9d57"
          }
        },
        "4d9db9e1ac654247be40924cc77c279e": {
          "model_module": "@jupyter-widgets/controls",
          "model_name": "HTMLModel",
          "model_module_version": "1.5.0",
          "state": {
            "_dom_classes": [],
            "_model_module": "@jupyter-widgets/controls",
            "_model_module_version": "1.5.0",
            "_model_name": "HTMLModel",
            "_view_count": null,
            "_view_module": "@jupyter-widgets/controls",
            "_view_module_version": "1.5.0",
            "_view_name": "HTMLView",
            "description": "",
            "description_tooltip": null,
            "layout": "IPY_MODEL_dbc7cb84cb4b482eac33f03a72827719",
            "placeholder": "​",
            "style": "IPY_MODEL_05b9f1dc17554dcdb0b9c9b1f22fe132",
            "value": "Generating train split: "
          }
        },
        "a42c81df4c954dca86c13131c3f4846b": {
          "model_module": "@jupyter-widgets/controls",
          "model_name": "FloatProgressModel",
          "model_module_version": "1.5.0",
          "state": {
            "_dom_classes": [],
            "_model_module": "@jupyter-widgets/controls",
            "_model_module_version": "1.5.0",
            "_model_name": "FloatProgressModel",
            "_view_count": null,
            "_view_module": "@jupyter-widgets/controls",
            "_view_module_version": "1.5.0",
            "_view_name": "ProgressView",
            "bar_style": "info",
            "description": "",
            "description_tooltip": null,
            "layout": "IPY_MODEL_a6b09575a6aa42a590d6c8de2ac3410d",
            "max": 1,
            "min": 0,
            "orientation": "horizontal",
            "style": "IPY_MODEL_d1f55f18b8364462bce2badc5a3d92ee",
            "value": 1
          }
        },
        "2a437ad341864f34a75738f6bc35e6dd": {
          "model_module": "@jupyter-widgets/controls",
          "model_name": "HTMLModel",
          "model_module_version": "1.5.0",
          "state": {
            "_dom_classes": [],
            "_model_module": "@jupyter-widgets/controls",
            "_model_module_version": "1.5.0",
            "_model_name": "HTMLModel",
            "_view_count": null,
            "_view_module": "@jupyter-widgets/controls",
            "_view_module_version": "1.5.0",
            "_view_name": "HTMLView",
            "description": "",
            "description_tooltip": null,
            "layout": "IPY_MODEL_a93dfdeba11f486a9dc553733803c840",
            "placeholder": "​",
            "style": "IPY_MODEL_1afc2b41983f412db1436bdad4466a37",
            "value": " 1012/0 [00:00&lt;00:00, 7291.11 examples/s]"
          }
        },
        "b37b012e333144a8b6a2857b259f9d57": {
          "model_module": "@jupyter-widgets/base",
          "model_name": "LayoutModel",
          "model_module_version": "1.2.0",
          "state": {
            "_model_module": "@jupyter-widgets/base",
            "_model_module_version": "1.2.0",
            "_model_name": "LayoutModel",
            "_view_count": null,
            "_view_module": "@jupyter-widgets/base",
            "_view_module_version": "1.2.0",
            "_view_name": "LayoutView",
            "align_content": null,
            "align_items": null,
            "align_self": null,
            "border": null,
            "bottom": null,
            "display": null,
            "flex": null,
            "flex_flow": null,
            "grid_area": null,
            "grid_auto_columns": null,
            "grid_auto_flow": null,
            "grid_auto_rows": null,
            "grid_column": null,
            "grid_gap": null,
            "grid_row": null,
            "grid_template_areas": null,
            "grid_template_columns": null,
            "grid_template_rows": null,
            "height": null,
            "justify_content": null,
            "justify_items": null,
            "left": null,
            "margin": null,
            "max_height": null,
            "max_width": null,
            "min_height": null,
            "min_width": null,
            "object_fit": null,
            "object_position": null,
            "order": null,
            "overflow": null,
            "overflow_x": null,
            "overflow_y": null,
            "padding": null,
            "right": null,
            "top": null,
            "visibility": "hidden",
            "width": null
          }
        },
        "dbc7cb84cb4b482eac33f03a72827719": {
          "model_module": "@jupyter-widgets/base",
          "model_name": "LayoutModel",
          "model_module_version": "1.2.0",
          "state": {
            "_model_module": "@jupyter-widgets/base",
            "_model_module_version": "1.2.0",
            "_model_name": "LayoutModel",
            "_view_count": null,
            "_view_module": "@jupyter-widgets/base",
            "_view_module_version": "1.2.0",
            "_view_name": "LayoutView",
            "align_content": null,
            "align_items": null,
            "align_self": null,
            "border": null,
            "bottom": null,
            "display": null,
            "flex": null,
            "flex_flow": null,
            "grid_area": null,
            "grid_auto_columns": null,
            "grid_auto_flow": null,
            "grid_auto_rows": null,
            "grid_column": null,
            "grid_gap": null,
            "grid_row": null,
            "grid_template_areas": null,
            "grid_template_columns": null,
            "grid_template_rows": null,
            "height": null,
            "justify_content": null,
            "justify_items": null,
            "left": null,
            "margin": null,
            "max_height": null,
            "max_width": null,
            "min_height": null,
            "min_width": null,
            "object_fit": null,
            "object_position": null,
            "order": null,
            "overflow": null,
            "overflow_x": null,
            "overflow_y": null,
            "padding": null,
            "right": null,
            "top": null,
            "visibility": null,
            "width": null
          }
        },
        "05b9f1dc17554dcdb0b9c9b1f22fe132": {
          "model_module": "@jupyter-widgets/controls",
          "model_name": "DescriptionStyleModel",
          "model_module_version": "1.5.0",
          "state": {
            "_model_module": "@jupyter-widgets/controls",
            "_model_module_version": "1.5.0",
            "_model_name": "DescriptionStyleModel",
            "_view_count": null,
            "_view_module": "@jupyter-widgets/base",
            "_view_module_version": "1.2.0",
            "_view_name": "StyleView",
            "description_width": ""
          }
        },
        "a6b09575a6aa42a590d6c8de2ac3410d": {
          "model_module": "@jupyter-widgets/base",
          "model_name": "LayoutModel",
          "model_module_version": "1.2.0",
          "state": {
            "_model_module": "@jupyter-widgets/base",
            "_model_module_version": "1.2.0",
            "_model_name": "LayoutModel",
            "_view_count": null,
            "_view_module": "@jupyter-widgets/base",
            "_view_module_version": "1.2.0",
            "_view_name": "LayoutView",
            "align_content": null,
            "align_items": null,
            "align_self": null,
            "border": null,
            "bottom": null,
            "display": null,
            "flex": null,
            "flex_flow": null,
            "grid_area": null,
            "grid_auto_columns": null,
            "grid_auto_flow": null,
            "grid_auto_rows": null,
            "grid_column": null,
            "grid_gap": null,
            "grid_row": null,
            "grid_template_areas": null,
            "grid_template_columns": null,
            "grid_template_rows": null,
            "height": null,
            "justify_content": null,
            "justify_items": null,
            "left": null,
            "margin": null,
            "max_height": null,
            "max_width": null,
            "min_height": null,
            "min_width": null,
            "object_fit": null,
            "object_position": null,
            "order": null,
            "overflow": null,
            "overflow_x": null,
            "overflow_y": null,
            "padding": null,
            "right": null,
            "top": null,
            "visibility": null,
            "width": "20px"
          }
        },
        "d1f55f18b8364462bce2badc5a3d92ee": {
          "model_module": "@jupyter-widgets/controls",
          "model_name": "ProgressStyleModel",
          "model_module_version": "1.5.0",
          "state": {
            "_model_module": "@jupyter-widgets/controls",
            "_model_module_version": "1.5.0",
            "_model_name": "ProgressStyleModel",
            "_view_count": null,
            "_view_module": "@jupyter-widgets/base",
            "_view_module_version": "1.2.0",
            "_view_name": "StyleView",
            "bar_color": null,
            "description_width": ""
          }
        },
        "a93dfdeba11f486a9dc553733803c840": {
          "model_module": "@jupyter-widgets/base",
          "model_name": "LayoutModel",
          "model_module_version": "1.2.0",
          "state": {
            "_model_module": "@jupyter-widgets/base",
            "_model_module_version": "1.2.0",
            "_model_name": "LayoutModel",
            "_view_count": null,
            "_view_module": "@jupyter-widgets/base",
            "_view_module_version": "1.2.0",
            "_view_name": "LayoutView",
            "align_content": null,
            "align_items": null,
            "align_self": null,
            "border": null,
            "bottom": null,
            "display": null,
            "flex": null,
            "flex_flow": null,
            "grid_area": null,
            "grid_auto_columns": null,
            "grid_auto_flow": null,
            "grid_auto_rows": null,
            "grid_column": null,
            "grid_gap": null,
            "grid_row": null,
            "grid_template_areas": null,
            "grid_template_columns": null,
            "grid_template_rows": null,
            "height": null,
            "justify_content": null,
            "justify_items": null,
            "left": null,
            "margin": null,
            "max_height": null,
            "max_width": null,
            "min_height": null,
            "min_width": null,
            "object_fit": null,
            "object_position": null,
            "order": null,
            "overflow": null,
            "overflow_x": null,
            "overflow_y": null,
            "padding": null,
            "right": null,
            "top": null,
            "visibility": null,
            "width": null
          }
        },
        "1afc2b41983f412db1436bdad4466a37": {
          "model_module": "@jupyter-widgets/controls",
          "model_name": "DescriptionStyleModel",
          "model_module_version": "1.5.0",
          "state": {
            "_model_module": "@jupyter-widgets/controls",
            "_model_module_version": "1.5.0",
            "_model_name": "DescriptionStyleModel",
            "_view_count": null,
            "_view_module": "@jupyter-widgets/base",
            "_view_module_version": "1.2.0",
            "_view_name": "StyleView",
            "description_width": ""
          }
        },
        "59452b995d4946a597d4dfb08f2571e8": {
          "model_module": "@jupyter-widgets/controls",
          "model_name": "HBoxModel",
          "model_module_version": "1.5.0",
          "state": {
            "_dom_classes": [],
            "_model_module": "@jupyter-widgets/controls",
            "_model_module_version": "1.5.0",
            "_model_name": "HBoxModel",
            "_view_count": null,
            "_view_module": "@jupyter-widgets/controls",
            "_view_module_version": "1.5.0",
            "_view_name": "HBoxView",
            "box_style": "",
            "children": [
              "IPY_MODEL_c5d45704f4c54b859b61f851e06fce75",
              "IPY_MODEL_b7971fe2dfef47c7a7c48d4846f9aeda",
              "IPY_MODEL_c73889e9303841eb90d22f87dbd11604"
            ],
            "layout": "IPY_MODEL_d769afdee758403fb86afe624ccb5d08"
          }
        },
        "c5d45704f4c54b859b61f851e06fce75": {
          "model_module": "@jupyter-widgets/controls",
          "model_name": "HTMLModel",
          "model_module_version": "1.5.0",
          "state": {
            "_dom_classes": [],
            "_model_module": "@jupyter-widgets/controls",
            "_model_module_version": "1.5.0",
            "_model_name": "HTMLModel",
            "_view_count": null,
            "_view_module": "@jupyter-widgets/controls",
            "_view_module_version": "1.5.0",
            "_view_name": "HTMLView",
            "description": "",
            "description_tooltip": null,
            "layout": "IPY_MODEL_f238c18ff812414995ee11445ca18a56",
            "placeholder": "​",
            "style": "IPY_MODEL_07ea5067cede4ccd9ed057e776235945",
            "value": "100%"
          }
        },
        "b7971fe2dfef47c7a7c48d4846f9aeda": {
          "model_module": "@jupyter-widgets/controls",
          "model_name": "FloatProgressModel",
          "model_module_version": "1.5.0",
          "state": {
            "_dom_classes": [],
            "_model_module": "@jupyter-widgets/controls",
            "_model_module_version": "1.5.0",
            "_model_name": "FloatProgressModel",
            "_view_count": null,
            "_view_module": "@jupyter-widgets/controls",
            "_view_module_version": "1.5.0",
            "_view_name": "ProgressView",
            "bar_style": "success",
            "description": "",
            "description_tooltip": null,
            "layout": "IPY_MODEL_d495f653f923472393445dfb2a2cc189",
            "max": 1,
            "min": 0,
            "orientation": "horizontal",
            "style": "IPY_MODEL_6609fdc0adfe420e80273c84897c4c21",
            "value": 1
          }
        },
        "c73889e9303841eb90d22f87dbd11604": {
          "model_module": "@jupyter-widgets/controls",
          "model_name": "HTMLModel",
          "model_module_version": "1.5.0",
          "state": {
            "_dom_classes": [],
            "_model_module": "@jupyter-widgets/controls",
            "_model_module_version": "1.5.0",
            "_model_name": "HTMLModel",
            "_view_count": null,
            "_view_module": "@jupyter-widgets/controls",
            "_view_module_version": "1.5.0",
            "_view_name": "HTMLView",
            "description": "",
            "description_tooltip": null,
            "layout": "IPY_MODEL_8b40a1ab6d8348948793f6747285bc34",
            "placeholder": "​",
            "style": "IPY_MODEL_7ce52eb38ee34f30ae18f8b96cf3987e",
            "value": " 1/1 [00:00&lt;00:00, 33.67it/s]"
          }
        },
        "d769afdee758403fb86afe624ccb5d08": {
          "model_module": "@jupyter-widgets/base",
          "model_name": "LayoutModel",
          "model_module_version": "1.2.0",
          "state": {
            "_model_module": "@jupyter-widgets/base",
            "_model_module_version": "1.2.0",
            "_model_name": "LayoutModel",
            "_view_count": null,
            "_view_module": "@jupyter-widgets/base",
            "_view_module_version": "1.2.0",
            "_view_name": "LayoutView",
            "align_content": null,
            "align_items": null,
            "align_self": null,
            "border": null,
            "bottom": null,
            "display": null,
            "flex": null,
            "flex_flow": null,
            "grid_area": null,
            "grid_auto_columns": null,
            "grid_auto_flow": null,
            "grid_auto_rows": null,
            "grid_column": null,
            "grid_gap": null,
            "grid_row": null,
            "grid_template_areas": null,
            "grid_template_columns": null,
            "grid_template_rows": null,
            "height": null,
            "justify_content": null,
            "justify_items": null,
            "left": null,
            "margin": null,
            "max_height": null,
            "max_width": null,
            "min_height": null,
            "min_width": null,
            "object_fit": null,
            "object_position": null,
            "order": null,
            "overflow": null,
            "overflow_x": null,
            "overflow_y": null,
            "padding": null,
            "right": null,
            "top": null,
            "visibility": null,
            "width": null
          }
        },
        "f238c18ff812414995ee11445ca18a56": {
          "model_module": "@jupyter-widgets/base",
          "model_name": "LayoutModel",
          "model_module_version": "1.2.0",
          "state": {
            "_model_module": "@jupyter-widgets/base",
            "_model_module_version": "1.2.0",
            "_model_name": "LayoutModel",
            "_view_count": null,
            "_view_module": "@jupyter-widgets/base",
            "_view_module_version": "1.2.0",
            "_view_name": "LayoutView",
            "align_content": null,
            "align_items": null,
            "align_self": null,
            "border": null,
            "bottom": null,
            "display": null,
            "flex": null,
            "flex_flow": null,
            "grid_area": null,
            "grid_auto_columns": null,
            "grid_auto_flow": null,
            "grid_auto_rows": null,
            "grid_column": null,
            "grid_gap": null,
            "grid_row": null,
            "grid_template_areas": null,
            "grid_template_columns": null,
            "grid_template_rows": null,
            "height": null,
            "justify_content": null,
            "justify_items": null,
            "left": null,
            "margin": null,
            "max_height": null,
            "max_width": null,
            "min_height": null,
            "min_width": null,
            "object_fit": null,
            "object_position": null,
            "order": null,
            "overflow": null,
            "overflow_x": null,
            "overflow_y": null,
            "padding": null,
            "right": null,
            "top": null,
            "visibility": null,
            "width": null
          }
        },
        "07ea5067cede4ccd9ed057e776235945": {
          "model_module": "@jupyter-widgets/controls",
          "model_name": "DescriptionStyleModel",
          "model_module_version": "1.5.0",
          "state": {
            "_model_module": "@jupyter-widgets/controls",
            "_model_module_version": "1.5.0",
            "_model_name": "DescriptionStyleModel",
            "_view_count": null,
            "_view_module": "@jupyter-widgets/base",
            "_view_module_version": "1.2.0",
            "_view_name": "StyleView",
            "description_width": ""
          }
        },
        "d495f653f923472393445dfb2a2cc189": {
          "model_module": "@jupyter-widgets/base",
          "model_name": "LayoutModel",
          "model_module_version": "1.2.0",
          "state": {
            "_model_module": "@jupyter-widgets/base",
            "_model_module_version": "1.2.0",
            "_model_name": "LayoutModel",
            "_view_count": null,
            "_view_module": "@jupyter-widgets/base",
            "_view_module_version": "1.2.0",
            "_view_name": "LayoutView",
            "align_content": null,
            "align_items": null,
            "align_self": null,
            "border": null,
            "bottom": null,
            "display": null,
            "flex": null,
            "flex_flow": null,
            "grid_area": null,
            "grid_auto_columns": null,
            "grid_auto_flow": null,
            "grid_auto_rows": null,
            "grid_column": null,
            "grid_gap": null,
            "grid_row": null,
            "grid_template_areas": null,
            "grid_template_columns": null,
            "grid_template_rows": null,
            "height": null,
            "justify_content": null,
            "justify_items": null,
            "left": null,
            "margin": null,
            "max_height": null,
            "max_width": null,
            "min_height": null,
            "min_width": null,
            "object_fit": null,
            "object_position": null,
            "order": null,
            "overflow": null,
            "overflow_x": null,
            "overflow_y": null,
            "padding": null,
            "right": null,
            "top": null,
            "visibility": null,
            "width": null
          }
        },
        "6609fdc0adfe420e80273c84897c4c21": {
          "model_module": "@jupyter-widgets/controls",
          "model_name": "ProgressStyleModel",
          "model_module_version": "1.5.0",
          "state": {
            "_model_module": "@jupyter-widgets/controls",
            "_model_module_version": "1.5.0",
            "_model_name": "ProgressStyleModel",
            "_view_count": null,
            "_view_module": "@jupyter-widgets/base",
            "_view_module_version": "1.2.0",
            "_view_name": "StyleView",
            "bar_color": null,
            "description_width": ""
          }
        },
        "8b40a1ab6d8348948793f6747285bc34": {
          "model_module": "@jupyter-widgets/base",
          "model_name": "LayoutModel",
          "model_module_version": "1.2.0",
          "state": {
            "_model_module": "@jupyter-widgets/base",
            "_model_module_version": "1.2.0",
            "_model_name": "LayoutModel",
            "_view_count": null,
            "_view_module": "@jupyter-widgets/base",
            "_view_module_version": "1.2.0",
            "_view_name": "LayoutView",
            "align_content": null,
            "align_items": null,
            "align_self": null,
            "border": null,
            "bottom": null,
            "display": null,
            "flex": null,
            "flex_flow": null,
            "grid_area": null,
            "grid_auto_columns": null,
            "grid_auto_flow": null,
            "grid_auto_rows": null,
            "grid_column": null,
            "grid_gap": null,
            "grid_row": null,
            "grid_template_areas": null,
            "grid_template_columns": null,
            "grid_template_rows": null,
            "height": null,
            "justify_content": null,
            "justify_items": null,
            "left": null,
            "margin": null,
            "max_height": null,
            "max_width": null,
            "min_height": null,
            "min_width": null,
            "object_fit": null,
            "object_position": null,
            "order": null,
            "overflow": null,
            "overflow_x": null,
            "overflow_y": null,
            "padding": null,
            "right": null,
            "top": null,
            "visibility": null,
            "width": null
          }
        },
        "7ce52eb38ee34f30ae18f8b96cf3987e": {
          "model_module": "@jupyter-widgets/controls",
          "model_name": "DescriptionStyleModel",
          "model_module_version": "1.5.0",
          "state": {
            "_model_module": "@jupyter-widgets/controls",
            "_model_module_version": "1.5.0",
            "_model_name": "DescriptionStyleModel",
            "_view_count": null,
            "_view_module": "@jupyter-widgets/base",
            "_view_module_version": "1.2.0",
            "_view_name": "StyleView",
            "description_width": ""
          }
        },
        "2a0dee6c17f545bb8437f412d286688c": {
          "model_module": "@jupyter-widgets/controls",
          "model_name": "HBoxModel",
          "model_module_version": "1.5.0",
          "state": {
            "_dom_classes": [],
            "_model_module": "@jupyter-widgets/controls",
            "_model_module_version": "1.5.0",
            "_model_name": "HBoxModel",
            "_view_count": null,
            "_view_module": "@jupyter-widgets/controls",
            "_view_module_version": "1.5.0",
            "_view_name": "HBoxView",
            "box_style": "",
            "children": [
              "IPY_MODEL_64e66356837a4db4a3c7a1d2a9d890a2",
              "IPY_MODEL_b3052cbcbb46460b9a8a8911d0502231",
              "IPY_MODEL_9ce2dcf75d144ba39dea2ff665e9011d"
            ],
            "layout": "IPY_MODEL_e34908cfe4354df2a5c7d06e95302b4d"
          }
        },
        "64e66356837a4db4a3c7a1d2a9d890a2": {
          "model_module": "@jupyter-widgets/controls",
          "model_name": "HTMLModel",
          "model_module_version": "1.5.0",
          "state": {
            "_dom_classes": [],
            "_model_module": "@jupyter-widgets/controls",
            "_model_module_version": "1.5.0",
            "_model_name": "HTMLModel",
            "_view_count": null,
            "_view_module": "@jupyter-widgets/controls",
            "_view_module_version": "1.5.0",
            "_view_name": "HTMLView",
            "description": "",
            "description_tooltip": null,
            "layout": "IPY_MODEL_4f99d95207944e37ba0aed553384de7d",
            "placeholder": "​",
            "style": "IPY_MODEL_48ce928afcce4ed193af6d9e2973065e",
            "value": "Downloading data files: 100%"
          }
        },
        "b3052cbcbb46460b9a8a8911d0502231": {
          "model_module": "@jupyter-widgets/controls",
          "model_name": "FloatProgressModel",
          "model_module_version": "1.5.0",
          "state": {
            "_dom_classes": [],
            "_model_module": "@jupyter-widgets/controls",
            "_model_module_version": "1.5.0",
            "_model_name": "FloatProgressModel",
            "_view_count": null,
            "_view_module": "@jupyter-widgets/controls",
            "_view_module_version": "1.5.0",
            "_view_name": "ProgressView",
            "bar_style": "success",
            "description": "",
            "description_tooltip": null,
            "layout": "IPY_MODEL_018b84bd777c4c0b8264b0ae546cca24",
            "max": 1,
            "min": 0,
            "orientation": "horizontal",
            "style": "IPY_MODEL_c631fa21f75b4f0c84a38561087b4ee0",
            "value": 1
          }
        },
        "9ce2dcf75d144ba39dea2ff665e9011d": {
          "model_module": "@jupyter-widgets/controls",
          "model_name": "HTMLModel",
          "model_module_version": "1.5.0",
          "state": {
            "_dom_classes": [],
            "_model_module": "@jupyter-widgets/controls",
            "_model_module_version": "1.5.0",
            "_model_name": "HTMLModel",
            "_view_count": null,
            "_view_module": "@jupyter-widgets/controls",
            "_view_module_version": "1.5.0",
            "_view_name": "HTMLView",
            "description": "",
            "description_tooltip": null,
            "layout": "IPY_MODEL_88e181c94e70429689a7c0c25b68bf18",
            "placeholder": "​",
            "style": "IPY_MODEL_d46c58fcdf8a42b79ae7b697ba338243",
            "value": " 1/1 [00:00&lt;00:00, 30.84it/s]"
          }
        },
        "e34908cfe4354df2a5c7d06e95302b4d": {
          "model_module": "@jupyter-widgets/base",
          "model_name": "LayoutModel",
          "model_module_version": "1.2.0",
          "state": {
            "_model_module": "@jupyter-widgets/base",
            "_model_module_version": "1.2.0",
            "_model_name": "LayoutModel",
            "_view_count": null,
            "_view_module": "@jupyter-widgets/base",
            "_view_module_version": "1.2.0",
            "_view_name": "LayoutView",
            "align_content": null,
            "align_items": null,
            "align_self": null,
            "border": null,
            "bottom": null,
            "display": null,
            "flex": null,
            "flex_flow": null,
            "grid_area": null,
            "grid_auto_columns": null,
            "grid_auto_flow": null,
            "grid_auto_rows": null,
            "grid_column": null,
            "grid_gap": null,
            "grid_row": null,
            "grid_template_areas": null,
            "grid_template_columns": null,
            "grid_template_rows": null,
            "height": null,
            "justify_content": null,
            "justify_items": null,
            "left": null,
            "margin": null,
            "max_height": null,
            "max_width": null,
            "min_height": null,
            "min_width": null,
            "object_fit": null,
            "object_position": null,
            "order": null,
            "overflow": null,
            "overflow_x": null,
            "overflow_y": null,
            "padding": null,
            "right": null,
            "top": null,
            "visibility": null,
            "width": null
          }
        },
        "4f99d95207944e37ba0aed553384de7d": {
          "model_module": "@jupyter-widgets/base",
          "model_name": "LayoutModel",
          "model_module_version": "1.2.0",
          "state": {
            "_model_module": "@jupyter-widgets/base",
            "_model_module_version": "1.2.0",
            "_model_name": "LayoutModel",
            "_view_count": null,
            "_view_module": "@jupyter-widgets/base",
            "_view_module_version": "1.2.0",
            "_view_name": "LayoutView",
            "align_content": null,
            "align_items": null,
            "align_self": null,
            "border": null,
            "bottom": null,
            "display": null,
            "flex": null,
            "flex_flow": null,
            "grid_area": null,
            "grid_auto_columns": null,
            "grid_auto_flow": null,
            "grid_auto_rows": null,
            "grid_column": null,
            "grid_gap": null,
            "grid_row": null,
            "grid_template_areas": null,
            "grid_template_columns": null,
            "grid_template_rows": null,
            "height": null,
            "justify_content": null,
            "justify_items": null,
            "left": null,
            "margin": null,
            "max_height": null,
            "max_width": null,
            "min_height": null,
            "min_width": null,
            "object_fit": null,
            "object_position": null,
            "order": null,
            "overflow": null,
            "overflow_x": null,
            "overflow_y": null,
            "padding": null,
            "right": null,
            "top": null,
            "visibility": null,
            "width": null
          }
        },
        "48ce928afcce4ed193af6d9e2973065e": {
          "model_module": "@jupyter-widgets/controls",
          "model_name": "DescriptionStyleModel",
          "model_module_version": "1.5.0",
          "state": {
            "_model_module": "@jupyter-widgets/controls",
            "_model_module_version": "1.5.0",
            "_model_name": "DescriptionStyleModel",
            "_view_count": null,
            "_view_module": "@jupyter-widgets/base",
            "_view_module_version": "1.2.0",
            "_view_name": "StyleView",
            "description_width": ""
          }
        },
        "018b84bd777c4c0b8264b0ae546cca24": {
          "model_module": "@jupyter-widgets/base",
          "model_name": "LayoutModel",
          "model_module_version": "1.2.0",
          "state": {
            "_model_module": "@jupyter-widgets/base",
            "_model_module_version": "1.2.0",
            "_model_name": "LayoutModel",
            "_view_count": null,
            "_view_module": "@jupyter-widgets/base",
            "_view_module_version": "1.2.0",
            "_view_name": "LayoutView",
            "align_content": null,
            "align_items": null,
            "align_self": null,
            "border": null,
            "bottom": null,
            "display": null,
            "flex": null,
            "flex_flow": null,
            "grid_area": null,
            "grid_auto_columns": null,
            "grid_auto_flow": null,
            "grid_auto_rows": null,
            "grid_column": null,
            "grid_gap": null,
            "grid_row": null,
            "grid_template_areas": null,
            "grid_template_columns": null,
            "grid_template_rows": null,
            "height": null,
            "justify_content": null,
            "justify_items": null,
            "left": null,
            "margin": null,
            "max_height": null,
            "max_width": null,
            "min_height": null,
            "min_width": null,
            "object_fit": null,
            "object_position": null,
            "order": null,
            "overflow": null,
            "overflow_x": null,
            "overflow_y": null,
            "padding": null,
            "right": null,
            "top": null,
            "visibility": null,
            "width": null
          }
        },
        "c631fa21f75b4f0c84a38561087b4ee0": {
          "model_module": "@jupyter-widgets/controls",
          "model_name": "ProgressStyleModel",
          "model_module_version": "1.5.0",
          "state": {
            "_model_module": "@jupyter-widgets/controls",
            "_model_module_version": "1.5.0",
            "_model_name": "ProgressStyleModel",
            "_view_count": null,
            "_view_module": "@jupyter-widgets/base",
            "_view_module_version": "1.2.0",
            "_view_name": "StyleView",
            "bar_color": null,
            "description_width": ""
          }
        },
        "88e181c94e70429689a7c0c25b68bf18": {
          "model_module": "@jupyter-widgets/base",
          "model_name": "LayoutModel",
          "model_module_version": "1.2.0",
          "state": {
            "_model_module": "@jupyter-widgets/base",
            "_model_module_version": "1.2.0",
            "_model_name": "LayoutModel",
            "_view_count": null,
            "_view_module": "@jupyter-widgets/base",
            "_view_module_version": "1.2.0",
            "_view_name": "LayoutView",
            "align_content": null,
            "align_items": null,
            "align_self": null,
            "border": null,
            "bottom": null,
            "display": null,
            "flex": null,
            "flex_flow": null,
            "grid_area": null,
            "grid_auto_columns": null,
            "grid_auto_flow": null,
            "grid_auto_rows": null,
            "grid_column": null,
            "grid_gap": null,
            "grid_row": null,
            "grid_template_areas": null,
            "grid_template_columns": null,
            "grid_template_rows": null,
            "height": null,
            "justify_content": null,
            "justify_items": null,
            "left": null,
            "margin": null,
            "max_height": null,
            "max_width": null,
            "min_height": null,
            "min_width": null,
            "object_fit": null,
            "object_position": null,
            "order": null,
            "overflow": null,
            "overflow_x": null,
            "overflow_y": null,
            "padding": null,
            "right": null,
            "top": null,
            "visibility": null,
            "width": null
          }
        },
        "d46c58fcdf8a42b79ae7b697ba338243": {
          "model_module": "@jupyter-widgets/controls",
          "model_name": "DescriptionStyleModel",
          "model_module_version": "1.5.0",
          "state": {
            "_model_module": "@jupyter-widgets/controls",
            "_model_module_version": "1.5.0",
            "_model_name": "DescriptionStyleModel",
            "_view_count": null,
            "_view_module": "@jupyter-widgets/base",
            "_view_module_version": "1.2.0",
            "_view_name": "StyleView",
            "description_width": ""
          }
        },
        "3d5ce5443a8144babf749b3ed6be79c6": {
          "model_module": "@jupyter-widgets/controls",
          "model_name": "HBoxModel",
          "model_module_version": "1.5.0",
          "state": {
            "_dom_classes": [],
            "_model_module": "@jupyter-widgets/controls",
            "_model_module_version": "1.5.0",
            "_model_name": "HBoxModel",
            "_view_count": null,
            "_view_module": "@jupyter-widgets/controls",
            "_view_module_version": "1.5.0",
            "_view_name": "HBoxView",
            "box_style": "",
            "children": [
              "IPY_MODEL_6ec4789cceeb495eba4ae0dde54b8b4f",
              "IPY_MODEL_d3af79b6276b4f54bd807149421062e7",
              "IPY_MODEL_e0f17666205142f3a83fe447e6a969eb"
            ],
            "layout": "IPY_MODEL_e99535e85f5341998d17c61ecc7b0400"
          }
        },
        "6ec4789cceeb495eba4ae0dde54b8b4f": {
          "model_module": "@jupyter-widgets/controls",
          "model_name": "HTMLModel",
          "model_module_version": "1.5.0",
          "state": {
            "_dom_classes": [],
            "_model_module": "@jupyter-widgets/controls",
            "_model_module_version": "1.5.0",
            "_model_name": "HTMLModel",
            "_view_count": null,
            "_view_module": "@jupyter-widgets/controls",
            "_view_module_version": "1.5.0",
            "_view_name": "HTMLView",
            "description": "",
            "description_tooltip": null,
            "layout": "IPY_MODEL_7f2ed593a52e40e7ab42a0b8e2d631d8",
            "placeholder": "​",
            "style": "IPY_MODEL_d917ab3ead7d48b8983f68e6a1f14193",
            "value": "Extracting data files: 100%"
          }
        },
        "d3af79b6276b4f54bd807149421062e7": {
          "model_module": "@jupyter-widgets/controls",
          "model_name": "FloatProgressModel",
          "model_module_version": "1.5.0",
          "state": {
            "_dom_classes": [],
            "_model_module": "@jupyter-widgets/controls",
            "_model_module_version": "1.5.0",
            "_model_name": "FloatProgressModel",
            "_view_count": null,
            "_view_module": "@jupyter-widgets/controls",
            "_view_module_version": "1.5.0",
            "_view_name": "ProgressView",
            "bar_style": "success",
            "description": "",
            "description_tooltip": null,
            "layout": "IPY_MODEL_8d19aa7010e94b94a45939189c8ea0c8",
            "max": 1,
            "min": 0,
            "orientation": "horizontal",
            "style": "IPY_MODEL_aef681e6dcd74cd1a0b7a7242997b6fc",
            "value": 1
          }
        },
        "e0f17666205142f3a83fe447e6a969eb": {
          "model_module": "@jupyter-widgets/controls",
          "model_name": "HTMLModel",
          "model_module_version": "1.5.0",
          "state": {
            "_dom_classes": [],
            "_model_module": "@jupyter-widgets/controls",
            "_model_module_version": "1.5.0",
            "_model_name": "HTMLModel",
            "_view_count": null,
            "_view_module": "@jupyter-widgets/controls",
            "_view_module_version": "1.5.0",
            "_view_name": "HTMLView",
            "description": "",
            "description_tooltip": null,
            "layout": "IPY_MODEL_214dcabc78254bbc9b7aafbe59be1361",
            "placeholder": "​",
            "style": "IPY_MODEL_9397f12ac9f94292a94a48ba5c51460d",
            "value": " 1/1 [00:00&lt;00:00, 44.30it/s]"
          }
        },
        "e99535e85f5341998d17c61ecc7b0400": {
          "model_module": "@jupyter-widgets/base",
          "model_name": "LayoutModel",
          "model_module_version": "1.2.0",
          "state": {
            "_model_module": "@jupyter-widgets/base",
            "_model_module_version": "1.2.0",
            "_model_name": "LayoutModel",
            "_view_count": null,
            "_view_module": "@jupyter-widgets/base",
            "_view_module_version": "1.2.0",
            "_view_name": "LayoutView",
            "align_content": null,
            "align_items": null,
            "align_self": null,
            "border": null,
            "bottom": null,
            "display": null,
            "flex": null,
            "flex_flow": null,
            "grid_area": null,
            "grid_auto_columns": null,
            "grid_auto_flow": null,
            "grid_auto_rows": null,
            "grid_column": null,
            "grid_gap": null,
            "grid_row": null,
            "grid_template_areas": null,
            "grid_template_columns": null,
            "grid_template_rows": null,
            "height": null,
            "justify_content": null,
            "justify_items": null,
            "left": null,
            "margin": null,
            "max_height": null,
            "max_width": null,
            "min_height": null,
            "min_width": null,
            "object_fit": null,
            "object_position": null,
            "order": null,
            "overflow": null,
            "overflow_x": null,
            "overflow_y": null,
            "padding": null,
            "right": null,
            "top": null,
            "visibility": null,
            "width": null
          }
        },
        "7f2ed593a52e40e7ab42a0b8e2d631d8": {
          "model_module": "@jupyter-widgets/base",
          "model_name": "LayoutModel",
          "model_module_version": "1.2.0",
          "state": {
            "_model_module": "@jupyter-widgets/base",
            "_model_module_version": "1.2.0",
            "_model_name": "LayoutModel",
            "_view_count": null,
            "_view_module": "@jupyter-widgets/base",
            "_view_module_version": "1.2.0",
            "_view_name": "LayoutView",
            "align_content": null,
            "align_items": null,
            "align_self": null,
            "border": null,
            "bottom": null,
            "display": null,
            "flex": null,
            "flex_flow": null,
            "grid_area": null,
            "grid_auto_columns": null,
            "grid_auto_flow": null,
            "grid_auto_rows": null,
            "grid_column": null,
            "grid_gap": null,
            "grid_row": null,
            "grid_template_areas": null,
            "grid_template_columns": null,
            "grid_template_rows": null,
            "height": null,
            "justify_content": null,
            "justify_items": null,
            "left": null,
            "margin": null,
            "max_height": null,
            "max_width": null,
            "min_height": null,
            "min_width": null,
            "object_fit": null,
            "object_position": null,
            "order": null,
            "overflow": null,
            "overflow_x": null,
            "overflow_y": null,
            "padding": null,
            "right": null,
            "top": null,
            "visibility": null,
            "width": null
          }
        },
        "d917ab3ead7d48b8983f68e6a1f14193": {
          "model_module": "@jupyter-widgets/controls",
          "model_name": "DescriptionStyleModel",
          "model_module_version": "1.5.0",
          "state": {
            "_model_module": "@jupyter-widgets/controls",
            "_model_module_version": "1.5.0",
            "_model_name": "DescriptionStyleModel",
            "_view_count": null,
            "_view_module": "@jupyter-widgets/base",
            "_view_module_version": "1.2.0",
            "_view_name": "StyleView",
            "description_width": ""
          }
        },
        "8d19aa7010e94b94a45939189c8ea0c8": {
          "model_module": "@jupyter-widgets/base",
          "model_name": "LayoutModel",
          "model_module_version": "1.2.0",
          "state": {
            "_model_module": "@jupyter-widgets/base",
            "_model_module_version": "1.2.0",
            "_model_name": "LayoutModel",
            "_view_count": null,
            "_view_module": "@jupyter-widgets/base",
            "_view_module_version": "1.2.0",
            "_view_name": "LayoutView",
            "align_content": null,
            "align_items": null,
            "align_self": null,
            "border": null,
            "bottom": null,
            "display": null,
            "flex": null,
            "flex_flow": null,
            "grid_area": null,
            "grid_auto_columns": null,
            "grid_auto_flow": null,
            "grid_auto_rows": null,
            "grid_column": null,
            "grid_gap": null,
            "grid_row": null,
            "grid_template_areas": null,
            "grid_template_columns": null,
            "grid_template_rows": null,
            "height": null,
            "justify_content": null,
            "justify_items": null,
            "left": null,
            "margin": null,
            "max_height": null,
            "max_width": null,
            "min_height": null,
            "min_width": null,
            "object_fit": null,
            "object_position": null,
            "order": null,
            "overflow": null,
            "overflow_x": null,
            "overflow_y": null,
            "padding": null,
            "right": null,
            "top": null,
            "visibility": null,
            "width": null
          }
        },
        "aef681e6dcd74cd1a0b7a7242997b6fc": {
          "model_module": "@jupyter-widgets/controls",
          "model_name": "ProgressStyleModel",
          "model_module_version": "1.5.0",
          "state": {
            "_model_module": "@jupyter-widgets/controls",
            "_model_module_version": "1.5.0",
            "_model_name": "ProgressStyleModel",
            "_view_count": null,
            "_view_module": "@jupyter-widgets/base",
            "_view_module_version": "1.2.0",
            "_view_name": "StyleView",
            "bar_color": null,
            "description_width": ""
          }
        },
        "214dcabc78254bbc9b7aafbe59be1361": {
          "model_module": "@jupyter-widgets/base",
          "model_name": "LayoutModel",
          "model_module_version": "1.2.0",
          "state": {
            "_model_module": "@jupyter-widgets/base",
            "_model_module_version": "1.2.0",
            "_model_name": "LayoutModel",
            "_view_count": null,
            "_view_module": "@jupyter-widgets/base",
            "_view_module_version": "1.2.0",
            "_view_name": "LayoutView",
            "align_content": null,
            "align_items": null,
            "align_self": null,
            "border": null,
            "bottom": null,
            "display": null,
            "flex": null,
            "flex_flow": null,
            "grid_area": null,
            "grid_auto_columns": null,
            "grid_auto_flow": null,
            "grid_auto_rows": null,
            "grid_column": null,
            "grid_gap": null,
            "grid_row": null,
            "grid_template_areas": null,
            "grid_template_columns": null,
            "grid_template_rows": null,
            "height": null,
            "justify_content": null,
            "justify_items": null,
            "left": null,
            "margin": null,
            "max_height": null,
            "max_width": null,
            "min_height": null,
            "min_width": null,
            "object_fit": null,
            "object_position": null,
            "order": null,
            "overflow": null,
            "overflow_x": null,
            "overflow_y": null,
            "padding": null,
            "right": null,
            "top": null,
            "visibility": null,
            "width": null
          }
        },
        "9397f12ac9f94292a94a48ba5c51460d": {
          "model_module": "@jupyter-widgets/controls",
          "model_name": "DescriptionStyleModel",
          "model_module_version": "1.5.0",
          "state": {
            "_model_module": "@jupyter-widgets/controls",
            "_model_module_version": "1.5.0",
            "_model_name": "DescriptionStyleModel",
            "_view_count": null,
            "_view_module": "@jupyter-widgets/base",
            "_view_module_version": "1.2.0",
            "_view_name": "StyleView",
            "description_width": ""
          }
        },
        "153f50dd7e7249f4af0ea4946db1a8ea": {
          "model_module": "@jupyter-widgets/controls",
          "model_name": "HBoxModel",
          "model_module_version": "1.5.0",
          "state": {
            "_dom_classes": [],
            "_model_module": "@jupyter-widgets/controls",
            "_model_module_version": "1.5.0",
            "_model_name": "HBoxModel",
            "_view_count": null,
            "_view_module": "@jupyter-widgets/controls",
            "_view_module_version": "1.5.0",
            "_view_name": "HBoxView",
            "box_style": "",
            "children": [
              "IPY_MODEL_822a564177e14c1286f75b082706e94c",
              "IPY_MODEL_ca5740f9bcac4828932fd7657d7e8c54",
              "IPY_MODEL_4f34488a15e845379ebe0e22c19f3a4d"
            ],
            "layout": "IPY_MODEL_db325e4059e848a39507a53728419238"
          }
        },
        "822a564177e14c1286f75b082706e94c": {
          "model_module": "@jupyter-widgets/controls",
          "model_name": "HTMLModel",
          "model_module_version": "1.5.0",
          "state": {
            "_dom_classes": [],
            "_model_module": "@jupyter-widgets/controls",
            "_model_module_version": "1.5.0",
            "_model_name": "HTMLModel",
            "_view_count": null,
            "_view_module": "@jupyter-widgets/controls",
            "_view_module_version": "1.5.0",
            "_view_name": "HTMLView",
            "description": "",
            "description_tooltip": null,
            "layout": "IPY_MODEL_8bafcdb8779e4efd9e4c580e4c2bca9b",
            "placeholder": "​",
            "style": "IPY_MODEL_32b09bcbc88e44578a605038e5114564",
            "value": "Generating train split: "
          }
        },
        "ca5740f9bcac4828932fd7657d7e8c54": {
          "model_module": "@jupyter-widgets/controls",
          "model_name": "FloatProgressModel",
          "model_module_version": "1.5.0",
          "state": {
            "_dom_classes": [],
            "_model_module": "@jupyter-widgets/controls",
            "_model_module_version": "1.5.0",
            "_model_name": "FloatProgressModel",
            "_view_count": null,
            "_view_module": "@jupyter-widgets/controls",
            "_view_module_version": "1.5.0",
            "_view_name": "ProgressView",
            "bar_style": "info",
            "description": "",
            "description_tooltip": null,
            "layout": "IPY_MODEL_56bc620242d947cfa85dac4badc2856b",
            "max": 1,
            "min": 0,
            "orientation": "horizontal",
            "style": "IPY_MODEL_8e7a8906a98045a3ae8d0840ef549e7b",
            "value": 1
          }
        },
        "4f34488a15e845379ebe0e22c19f3a4d": {
          "model_module": "@jupyter-widgets/controls",
          "model_name": "HTMLModel",
          "model_module_version": "1.5.0",
          "state": {
            "_dom_classes": [],
            "_model_module": "@jupyter-widgets/controls",
            "_model_module_version": "1.5.0",
            "_model_name": "HTMLModel",
            "_view_count": null,
            "_view_module": "@jupyter-widgets/controls",
            "_view_module_version": "1.5.0",
            "_view_name": "HTMLView",
            "description": "",
            "description_tooltip": null,
            "layout": "IPY_MODEL_d8339174b2a24accbe774f85d5c42fc7",
            "placeholder": "​",
            "style": "IPY_MODEL_52d18caa1cd64e849fc107a81951376a",
            "value": " 0/0 [00:00&lt;?, ? examples/s]"
          }
        },
        "db325e4059e848a39507a53728419238": {
          "model_module": "@jupyter-widgets/base",
          "model_name": "LayoutModel",
          "model_module_version": "1.2.0",
          "state": {
            "_model_module": "@jupyter-widgets/base",
            "_model_module_version": "1.2.0",
            "_model_name": "LayoutModel",
            "_view_count": null,
            "_view_module": "@jupyter-widgets/base",
            "_view_module_version": "1.2.0",
            "_view_name": "LayoutView",
            "align_content": null,
            "align_items": null,
            "align_self": null,
            "border": null,
            "bottom": null,
            "display": null,
            "flex": null,
            "flex_flow": null,
            "grid_area": null,
            "grid_auto_columns": null,
            "grid_auto_flow": null,
            "grid_auto_rows": null,
            "grid_column": null,
            "grid_gap": null,
            "grid_row": null,
            "grid_template_areas": null,
            "grid_template_columns": null,
            "grid_template_rows": null,
            "height": null,
            "justify_content": null,
            "justify_items": null,
            "left": null,
            "margin": null,
            "max_height": null,
            "max_width": null,
            "min_height": null,
            "min_width": null,
            "object_fit": null,
            "object_position": null,
            "order": null,
            "overflow": null,
            "overflow_x": null,
            "overflow_y": null,
            "padding": null,
            "right": null,
            "top": null,
            "visibility": "hidden",
            "width": null
          }
        },
        "8bafcdb8779e4efd9e4c580e4c2bca9b": {
          "model_module": "@jupyter-widgets/base",
          "model_name": "LayoutModel",
          "model_module_version": "1.2.0",
          "state": {
            "_model_module": "@jupyter-widgets/base",
            "_model_module_version": "1.2.0",
            "_model_name": "LayoutModel",
            "_view_count": null,
            "_view_module": "@jupyter-widgets/base",
            "_view_module_version": "1.2.0",
            "_view_name": "LayoutView",
            "align_content": null,
            "align_items": null,
            "align_self": null,
            "border": null,
            "bottom": null,
            "display": null,
            "flex": null,
            "flex_flow": null,
            "grid_area": null,
            "grid_auto_columns": null,
            "grid_auto_flow": null,
            "grid_auto_rows": null,
            "grid_column": null,
            "grid_gap": null,
            "grid_row": null,
            "grid_template_areas": null,
            "grid_template_columns": null,
            "grid_template_rows": null,
            "height": null,
            "justify_content": null,
            "justify_items": null,
            "left": null,
            "margin": null,
            "max_height": null,
            "max_width": null,
            "min_height": null,
            "min_width": null,
            "object_fit": null,
            "object_position": null,
            "order": null,
            "overflow": null,
            "overflow_x": null,
            "overflow_y": null,
            "padding": null,
            "right": null,
            "top": null,
            "visibility": null,
            "width": null
          }
        },
        "32b09bcbc88e44578a605038e5114564": {
          "model_module": "@jupyter-widgets/controls",
          "model_name": "DescriptionStyleModel",
          "model_module_version": "1.5.0",
          "state": {
            "_model_module": "@jupyter-widgets/controls",
            "_model_module_version": "1.5.0",
            "_model_name": "DescriptionStyleModel",
            "_view_count": null,
            "_view_module": "@jupyter-widgets/base",
            "_view_module_version": "1.2.0",
            "_view_name": "StyleView",
            "description_width": ""
          }
        },
        "56bc620242d947cfa85dac4badc2856b": {
          "model_module": "@jupyter-widgets/base",
          "model_name": "LayoutModel",
          "model_module_version": "1.2.0",
          "state": {
            "_model_module": "@jupyter-widgets/base",
            "_model_module_version": "1.2.0",
            "_model_name": "LayoutModel",
            "_view_count": null,
            "_view_module": "@jupyter-widgets/base",
            "_view_module_version": "1.2.0",
            "_view_name": "LayoutView",
            "align_content": null,
            "align_items": null,
            "align_self": null,
            "border": null,
            "bottom": null,
            "display": null,
            "flex": null,
            "flex_flow": null,
            "grid_area": null,
            "grid_auto_columns": null,
            "grid_auto_flow": null,
            "grid_auto_rows": null,
            "grid_column": null,
            "grid_gap": null,
            "grid_row": null,
            "grid_template_areas": null,
            "grid_template_columns": null,
            "grid_template_rows": null,
            "height": null,
            "justify_content": null,
            "justify_items": null,
            "left": null,
            "margin": null,
            "max_height": null,
            "max_width": null,
            "min_height": null,
            "min_width": null,
            "object_fit": null,
            "object_position": null,
            "order": null,
            "overflow": null,
            "overflow_x": null,
            "overflow_y": null,
            "padding": null,
            "right": null,
            "top": null,
            "visibility": null,
            "width": "20px"
          }
        },
        "8e7a8906a98045a3ae8d0840ef549e7b": {
          "model_module": "@jupyter-widgets/controls",
          "model_name": "ProgressStyleModel",
          "model_module_version": "1.5.0",
          "state": {
            "_model_module": "@jupyter-widgets/controls",
            "_model_module_version": "1.5.0",
            "_model_name": "ProgressStyleModel",
            "_view_count": null,
            "_view_module": "@jupyter-widgets/base",
            "_view_module_version": "1.2.0",
            "_view_name": "StyleView",
            "bar_color": null,
            "description_width": ""
          }
        },
        "d8339174b2a24accbe774f85d5c42fc7": {
          "model_module": "@jupyter-widgets/base",
          "model_name": "LayoutModel",
          "model_module_version": "1.2.0",
          "state": {
            "_model_module": "@jupyter-widgets/base",
            "_model_module_version": "1.2.0",
            "_model_name": "LayoutModel",
            "_view_count": null,
            "_view_module": "@jupyter-widgets/base",
            "_view_module_version": "1.2.0",
            "_view_name": "LayoutView",
            "align_content": null,
            "align_items": null,
            "align_self": null,
            "border": null,
            "bottom": null,
            "display": null,
            "flex": null,
            "flex_flow": null,
            "grid_area": null,
            "grid_auto_columns": null,
            "grid_auto_flow": null,
            "grid_auto_rows": null,
            "grid_column": null,
            "grid_gap": null,
            "grid_row": null,
            "grid_template_areas": null,
            "grid_template_columns": null,
            "grid_template_rows": null,
            "height": null,
            "justify_content": null,
            "justify_items": null,
            "left": null,
            "margin": null,
            "max_height": null,
            "max_width": null,
            "min_height": null,
            "min_width": null,
            "object_fit": null,
            "object_position": null,
            "order": null,
            "overflow": null,
            "overflow_x": null,
            "overflow_y": null,
            "padding": null,
            "right": null,
            "top": null,
            "visibility": null,
            "width": null
          }
        },
        "52d18caa1cd64e849fc107a81951376a": {
          "model_module": "@jupyter-widgets/controls",
          "model_name": "DescriptionStyleModel",
          "model_module_version": "1.5.0",
          "state": {
            "_model_module": "@jupyter-widgets/controls",
            "_model_module_version": "1.5.0",
            "_model_name": "DescriptionStyleModel",
            "_view_count": null,
            "_view_module": "@jupyter-widgets/base",
            "_view_module_version": "1.2.0",
            "_view_name": "StyleView",
            "description_width": ""
          }
        },
        "81ac810185b64a9ca1096c738215b1e0": {
          "model_module": "@jupyter-widgets/controls",
          "model_name": "HBoxModel",
          "model_module_version": "1.5.0",
          "state": {
            "_dom_classes": [],
            "_model_module": "@jupyter-widgets/controls",
            "_model_module_version": "1.5.0",
            "_model_name": "HBoxModel",
            "_view_count": null,
            "_view_module": "@jupyter-widgets/controls",
            "_view_module_version": "1.5.0",
            "_view_name": "HBoxView",
            "box_style": "",
            "children": [
              "IPY_MODEL_12a52637e48c45f68ed131f78c471547",
              "IPY_MODEL_94ecc0c884ec436cafc65100e8fc07e5",
              "IPY_MODEL_0739acb06bd448ae94a87cdf4a0d7a46"
            ],
            "layout": "IPY_MODEL_12afb2aeb19e44e5a289b7a46a18ec6d"
          }
        },
        "12a52637e48c45f68ed131f78c471547": {
          "model_module": "@jupyter-widgets/controls",
          "model_name": "HTMLModel",
          "model_module_version": "1.5.0",
          "state": {
            "_dom_classes": [],
            "_model_module": "@jupyter-widgets/controls",
            "_model_module_version": "1.5.0",
            "_model_name": "HTMLModel",
            "_view_count": null,
            "_view_module": "@jupyter-widgets/controls",
            "_view_module_version": "1.5.0",
            "_view_name": "HTMLView",
            "description": "",
            "description_tooltip": null,
            "layout": "IPY_MODEL_9f06242c7770419c94037a10637bc044",
            "placeholder": "​",
            "style": "IPY_MODEL_6a2e46666f2c49eaba753f524152a4e9",
            "value": "100%"
          }
        },
        "94ecc0c884ec436cafc65100e8fc07e5": {
          "model_module": "@jupyter-widgets/controls",
          "model_name": "FloatProgressModel",
          "model_module_version": "1.5.0",
          "state": {
            "_dom_classes": [],
            "_model_module": "@jupyter-widgets/controls",
            "_model_module_version": "1.5.0",
            "_model_name": "FloatProgressModel",
            "_view_count": null,
            "_view_module": "@jupyter-widgets/controls",
            "_view_module_version": "1.5.0",
            "_view_name": "ProgressView",
            "bar_style": "success",
            "description": "",
            "description_tooltip": null,
            "layout": "IPY_MODEL_1337d6ab902749b88ef3742888726c74",
            "max": 1,
            "min": 0,
            "orientation": "horizontal",
            "style": "IPY_MODEL_35e8200ee730411ab5045c441c94f553",
            "value": 1
          }
        },
        "0739acb06bd448ae94a87cdf4a0d7a46": {
          "model_module": "@jupyter-widgets/controls",
          "model_name": "HTMLModel",
          "model_module_version": "1.5.0",
          "state": {
            "_dom_classes": [],
            "_model_module": "@jupyter-widgets/controls",
            "_model_module_version": "1.5.0",
            "_model_name": "HTMLModel",
            "_view_count": null,
            "_view_module": "@jupyter-widgets/controls",
            "_view_module_version": "1.5.0",
            "_view_name": "HTMLView",
            "description": "",
            "description_tooltip": null,
            "layout": "IPY_MODEL_d1f46ee1129b48dc8abed3afe2448b45",
            "placeholder": "​",
            "style": "IPY_MODEL_5705f992f21a4b9798a18c0538dafc3a",
            "value": " 1/1 [00:00&lt;00:00, 40.69it/s]"
          }
        },
        "12afb2aeb19e44e5a289b7a46a18ec6d": {
          "model_module": "@jupyter-widgets/base",
          "model_name": "LayoutModel",
          "model_module_version": "1.2.0",
          "state": {
            "_model_module": "@jupyter-widgets/base",
            "_model_module_version": "1.2.0",
            "_model_name": "LayoutModel",
            "_view_count": null,
            "_view_module": "@jupyter-widgets/base",
            "_view_module_version": "1.2.0",
            "_view_name": "LayoutView",
            "align_content": null,
            "align_items": null,
            "align_self": null,
            "border": null,
            "bottom": null,
            "display": null,
            "flex": null,
            "flex_flow": null,
            "grid_area": null,
            "grid_auto_columns": null,
            "grid_auto_flow": null,
            "grid_auto_rows": null,
            "grid_column": null,
            "grid_gap": null,
            "grid_row": null,
            "grid_template_areas": null,
            "grid_template_columns": null,
            "grid_template_rows": null,
            "height": null,
            "justify_content": null,
            "justify_items": null,
            "left": null,
            "margin": null,
            "max_height": null,
            "max_width": null,
            "min_height": null,
            "min_width": null,
            "object_fit": null,
            "object_position": null,
            "order": null,
            "overflow": null,
            "overflow_x": null,
            "overflow_y": null,
            "padding": null,
            "right": null,
            "top": null,
            "visibility": null,
            "width": null
          }
        },
        "9f06242c7770419c94037a10637bc044": {
          "model_module": "@jupyter-widgets/base",
          "model_name": "LayoutModel",
          "model_module_version": "1.2.0",
          "state": {
            "_model_module": "@jupyter-widgets/base",
            "_model_module_version": "1.2.0",
            "_model_name": "LayoutModel",
            "_view_count": null,
            "_view_module": "@jupyter-widgets/base",
            "_view_module_version": "1.2.0",
            "_view_name": "LayoutView",
            "align_content": null,
            "align_items": null,
            "align_self": null,
            "border": null,
            "bottom": null,
            "display": null,
            "flex": null,
            "flex_flow": null,
            "grid_area": null,
            "grid_auto_columns": null,
            "grid_auto_flow": null,
            "grid_auto_rows": null,
            "grid_column": null,
            "grid_gap": null,
            "grid_row": null,
            "grid_template_areas": null,
            "grid_template_columns": null,
            "grid_template_rows": null,
            "height": null,
            "justify_content": null,
            "justify_items": null,
            "left": null,
            "margin": null,
            "max_height": null,
            "max_width": null,
            "min_height": null,
            "min_width": null,
            "object_fit": null,
            "object_position": null,
            "order": null,
            "overflow": null,
            "overflow_x": null,
            "overflow_y": null,
            "padding": null,
            "right": null,
            "top": null,
            "visibility": null,
            "width": null
          }
        },
        "6a2e46666f2c49eaba753f524152a4e9": {
          "model_module": "@jupyter-widgets/controls",
          "model_name": "DescriptionStyleModel",
          "model_module_version": "1.5.0",
          "state": {
            "_model_module": "@jupyter-widgets/controls",
            "_model_module_version": "1.5.0",
            "_model_name": "DescriptionStyleModel",
            "_view_count": null,
            "_view_module": "@jupyter-widgets/base",
            "_view_module_version": "1.2.0",
            "_view_name": "StyleView",
            "description_width": ""
          }
        },
        "1337d6ab902749b88ef3742888726c74": {
          "model_module": "@jupyter-widgets/base",
          "model_name": "LayoutModel",
          "model_module_version": "1.2.0",
          "state": {
            "_model_module": "@jupyter-widgets/base",
            "_model_module_version": "1.2.0",
            "_model_name": "LayoutModel",
            "_view_count": null,
            "_view_module": "@jupyter-widgets/base",
            "_view_module_version": "1.2.0",
            "_view_name": "LayoutView",
            "align_content": null,
            "align_items": null,
            "align_self": null,
            "border": null,
            "bottom": null,
            "display": null,
            "flex": null,
            "flex_flow": null,
            "grid_area": null,
            "grid_auto_columns": null,
            "grid_auto_flow": null,
            "grid_auto_rows": null,
            "grid_column": null,
            "grid_gap": null,
            "grid_row": null,
            "grid_template_areas": null,
            "grid_template_columns": null,
            "grid_template_rows": null,
            "height": null,
            "justify_content": null,
            "justify_items": null,
            "left": null,
            "margin": null,
            "max_height": null,
            "max_width": null,
            "min_height": null,
            "min_width": null,
            "object_fit": null,
            "object_position": null,
            "order": null,
            "overflow": null,
            "overflow_x": null,
            "overflow_y": null,
            "padding": null,
            "right": null,
            "top": null,
            "visibility": null,
            "width": null
          }
        },
        "35e8200ee730411ab5045c441c94f553": {
          "model_module": "@jupyter-widgets/controls",
          "model_name": "ProgressStyleModel",
          "model_module_version": "1.5.0",
          "state": {
            "_model_module": "@jupyter-widgets/controls",
            "_model_module_version": "1.5.0",
            "_model_name": "ProgressStyleModel",
            "_view_count": null,
            "_view_module": "@jupyter-widgets/base",
            "_view_module_version": "1.2.0",
            "_view_name": "StyleView",
            "bar_color": null,
            "description_width": ""
          }
        },
        "d1f46ee1129b48dc8abed3afe2448b45": {
          "model_module": "@jupyter-widgets/base",
          "model_name": "LayoutModel",
          "model_module_version": "1.2.0",
          "state": {
            "_model_module": "@jupyter-widgets/base",
            "_model_module_version": "1.2.0",
            "_model_name": "LayoutModel",
            "_view_count": null,
            "_view_module": "@jupyter-widgets/base",
            "_view_module_version": "1.2.0",
            "_view_name": "LayoutView",
            "align_content": null,
            "align_items": null,
            "align_self": null,
            "border": null,
            "bottom": null,
            "display": null,
            "flex": null,
            "flex_flow": null,
            "grid_area": null,
            "grid_auto_columns": null,
            "grid_auto_flow": null,
            "grid_auto_rows": null,
            "grid_column": null,
            "grid_gap": null,
            "grid_row": null,
            "grid_template_areas": null,
            "grid_template_columns": null,
            "grid_template_rows": null,
            "height": null,
            "justify_content": null,
            "justify_items": null,
            "left": null,
            "margin": null,
            "max_height": null,
            "max_width": null,
            "min_height": null,
            "min_width": null,
            "object_fit": null,
            "object_position": null,
            "order": null,
            "overflow": null,
            "overflow_x": null,
            "overflow_y": null,
            "padding": null,
            "right": null,
            "top": null,
            "visibility": null,
            "width": null
          }
        },
        "5705f992f21a4b9798a18c0538dafc3a": {
          "model_module": "@jupyter-widgets/controls",
          "model_name": "DescriptionStyleModel",
          "model_module_version": "1.5.0",
          "state": {
            "_model_module": "@jupyter-widgets/controls",
            "_model_module_version": "1.5.0",
            "_model_name": "DescriptionStyleModel",
            "_view_count": null,
            "_view_module": "@jupyter-widgets/base",
            "_view_module_version": "1.2.0",
            "_view_name": "StyleView",
            "description_width": ""
          }
        }
      }
    }
  },
  "cells": [
    {
      "cell_type": "markdown",
      "metadata": {
        "id": "view-in-github",
        "colab_type": "text"
      },
      "source": [
        "<a href=\"https://colab.research.google.com/github/linhkhanhhoang/afriSimAlign/blob/main/fine_tune_pos_hau.ipynb\" target=\"_parent\"><img src=\"https://colab.research.google.com/assets/colab-badge.svg\" alt=\"Open In Colab\"/></a>"
      ]
    },
    {
      "cell_type": "code",
      "execution_count": null,
      "metadata": {
        "id": "FUze77SNsxYK"
      },
      "outputs": [],
      "source": [
        "!pip install flair\n",
        "import flair.datasets, flair.data\n",
        "\n",
        "from flair.data import Corpus\n",
        "from flair.datasets import ColumnCorpus"
      ]
    },
    {
      "cell_type": "code",
      "source": [
        "columns = {0: 'text', 1: 'upos'}\n",
        "data_folder = '/content/hausa'\n",
        "\n",
        "corpus: Corpus = ColumnCorpus(data_folder, columns,\n",
        "                              train_file='train.txt',\n",
        "                              test_file='test.txt',\n",
        "                              dev_file='dev.txt')"
      ],
      "metadata": {
        "id": "hotCS1WfyHDl",
        "colab": {
          "base_uri": "https://localhost:8080/"
        },
        "outputId": "7cecd7fa-7436-49db-8a15-a2ca429a5d73"
      },
      "execution_count": null,
      "outputs": [
        {
          "output_type": "stream",
          "name": "stdout",
          "text": [
            "2023-07-17 13:08:35,297 Reading data from /content/hausa\n",
            "2023-07-17 13:08:35,300 Train: /content/hausa/train.txt\n",
            "2023-07-17 13:08:35,301 Dev: /content/hausa/dev.txt\n",
            "2023-07-17 13:08:35,302 Test: /content/hausa/test.txt\n"
          ]
        }
      ]
    },
    {
      "cell_type": "code",
      "source": [
        "from flair.embeddings import WordEmbeddings, StackedEmbeddings, FlairEmbeddings\n",
        "from flair.models import SequenceTagger\n",
        "from flair.trainers import ModelTrainer\n",
        "\n",
        "# 1. get the corpus\n",
        "print(corpus)\n",
        "\n",
        "# 2. what label do we want to predict?\n",
        "label_type = 'upos'\n",
        "\n",
        "# 3. make the label dictionary from the corpus\n",
        "label_dict = corpus.make_label_dictionary(label_type=label_type)\n",
        "print(label_dict)\n",
        "\n",
        "# 4. initialize embeddings\n",
        "embedding_types = [\n",
        "    WordEmbeddings('glove'),\n",
        "    FlairEmbeddings('news-forward'),\n",
        "    FlairEmbeddings('news-backward'),\n",
        "]\n",
        "\n",
        "embeddings = StackedEmbeddings(embeddings=embedding_types)\n",
        "\n",
        "# 5. initialize sequence tagger\n",
        "tagger = SequenceTagger(hidden_size=256,\n",
        "                        embeddings=embeddings,\n",
        "                        tag_dictionary=label_dict,\n",
        "                        tag_type=label_type,\n",
        "                        use_crf=True)\n",
        "\n",
        "# 6. initialize trainer\n",
        "trainer = ModelTrainer(tagger, corpus)\n",
        "\n",
        "# 7. start training\n",
        "trainer.train('resources/taggers/example-upos',\n",
        "              learning_rate=0.1,\n",
        "              mini_batch_size=32)"
      ],
      "metadata": {
        "colab": {
          "base_uri": "https://localhost:8080/"
        },
        "id": "CodFkMvtzp7Z",
        "outputId": "8d1cbfec-c4a5-403b-aa43-b993ca12d1e4"
      },
      "execution_count": null,
      "outputs": [
        {
          "output_type": "stream",
          "name": "stdout",
          "text": [
            "Corpus: 753 train + 150 dev + 601 test sentences\n",
            "2023-07-17 13:08:36,357 Computing label dictionary. Progress:\n"
          ]
        },
        {
          "output_type": "stream",
          "name": "stderr",
          "text": [
            "753it [00:00, 19324.33it/s]"
          ]
        },
        {
          "output_type": "stream",
          "name": "stdout",
          "text": [
            "2023-07-17 13:08:36,446 Dictionary created for label 'upos' with 17 values: NOUN (seen 5056 times), PROPN (seen 2908 times), PART (seen 2825 times), VERB (seen 2607 times), PUNCT (seen 1867 times), AUX (seen 1594 times), NUM (seen 856 times), ADJ (seen 833 times), PRON (seen 786 times), ADP (seen 766 times), ADV (seen 590 times), SCONJ (seen 537 times), CCONJ (seen 428 times), X (seen 295 times), DET (seen 211 times), INTJ (seen 1 times)\n",
            "Dictionary with 17 tags: <unk>, NOUN, PROPN, PART, VERB, PUNCT, AUX, NUM, ADJ, PRON, ADP, ADV, SCONJ, CCONJ, X, DET, INTJ\n"
          ]
        },
        {
          "output_type": "stream",
          "name": "stderr",
          "text": [
            "\n"
          ]
        },
        {
          "output_type": "stream",
          "name": "stdout",
          "text": [
            "2023-07-17 13:08:37,757 https://flair.informatik.hu-berlin.de/resources/embeddings/token/glove.gensim.vectors.npy not found in cache, downloading to /tmp/tmpubr78kk8\n"
          ]
        },
        {
          "output_type": "stream",
          "name": "stderr",
          "text": [
            "100%|██████████| 153M/153M [00:13<00:00, 11.9MB/s]"
          ]
        },
        {
          "output_type": "stream",
          "name": "stdout",
          "text": [
            "2023-07-17 13:08:51,898 copying /tmp/tmpubr78kk8 to cache at /root/.flair/embeddings/glove.gensim.vectors.npy\n"
          ]
        },
        {
          "output_type": "stream",
          "name": "stderr",
          "text": [
            "\n"
          ]
        },
        {
          "output_type": "stream",
          "name": "stdout",
          "text": [
            "2023-07-17 13:08:52,072 removing temp file /tmp/tmpubr78kk8\n",
            "2023-07-17 13:08:52,808 https://flair.informatik.hu-berlin.de/resources/embeddings/token/glove.gensim not found in cache, downloading to /tmp/tmpqr_bmb7h\n"
          ]
        },
        {
          "output_type": "stream",
          "name": "stderr",
          "text": [
            "100%|██████████| 20.5M/20.5M [00:03<00:00, 7.12MB/s]"
          ]
        },
        {
          "output_type": "stream",
          "name": "stdout",
          "text": [
            "2023-07-17 13:08:56,491 copying /tmp/tmpqr_bmb7h to cache at /root/.flair/embeddings/glove.gensim\n",
            "2023-07-17 13:08:56,526 removing temp file /tmp/tmpqr_bmb7h\n"
          ]
        },
        {
          "output_type": "stream",
          "name": "stderr",
          "text": [
            "\n"
          ]
        },
        {
          "output_type": "stream",
          "name": "stdout",
          "text": [
            "2023-07-17 13:09:05,485 https://flair.informatik.hu-berlin.de/resources/embeddings/flair/news-forward-0.4.1.pt not found in cache, downloading to /tmp/tmpt7g62v8d\n"
          ]
        },
        {
          "output_type": "stream",
          "name": "stderr",
          "text": [
            "100%|██████████| 69.7M/69.7M [00:07<00:00, 10.0MB/s]"
          ]
        },
        {
          "output_type": "stream",
          "name": "stdout",
          "text": [
            "2023-07-17 13:09:13,456 copying /tmp/tmpt7g62v8d to cache at /root/.flair/embeddings/news-forward-0.4.1.pt\n"
          ]
        },
        {
          "output_type": "stream",
          "name": "stderr",
          "text": [
            "\n"
          ]
        },
        {
          "output_type": "stream",
          "name": "stdout",
          "text": [
            "2023-07-17 13:09:13,704 removing temp file /tmp/tmpt7g62v8d\n",
            "2023-07-17 13:09:27,134 https://flair.informatik.hu-berlin.de/resources/embeddings/flair/news-backward-0.4.1.pt not found in cache, downloading to /tmp/tmpv54i87r_\n"
          ]
        },
        {
          "output_type": "stream",
          "name": "stderr",
          "text": [
            "100%|██████████| 69.7M/69.7M [00:07<00:00, 10.3MB/s]"
          ]
        },
        {
          "output_type": "stream",
          "name": "stdout",
          "text": [
            "2023-07-17 13:09:34,920 copying /tmp/tmpv54i87r_ to cache at /root/.flair/embeddings/news-backward-0.4.1.pt\n"
          ]
        },
        {
          "output_type": "stream",
          "name": "stderr",
          "text": [
            "\n"
          ]
        },
        {
          "output_type": "stream",
          "name": "stdout",
          "text": [
            "2023-07-17 13:09:35,017 removing temp file /tmp/tmpv54i87r_\n",
            "2023-07-17 13:09:35,264 SequenceTagger predicts: Dictionary with 17 tags: <unk>, NOUN, PROPN, PART, VERB, PUNCT, AUX, NUM, ADJ, PRON, ADP, ADV, SCONJ, CCONJ, X, DET, INTJ\n",
            "2023-07-17 13:09:35,521 ----------------------------------------------------------------------------------------------------\n",
            "2023-07-17 13:09:35,522 Model: \"SequenceTagger(\n",
            "  (embeddings): StackedEmbeddings(\n",
            "    (list_embedding_0): WordEmbeddings(\n",
            "      'glove'\n",
            "      (embedding): Embedding(400001, 100)\n",
            "    )\n",
            "    (list_embedding_1): FlairEmbeddings(\n",
            "      (lm): LanguageModel(\n",
            "        (drop): Dropout(p=0.05, inplace=False)\n",
            "        (encoder): Embedding(300, 100)\n",
            "        (rnn): LSTM(100, 2048)\n",
            "      )\n",
            "    )\n",
            "    (list_embedding_2): FlairEmbeddings(\n",
            "      (lm): LanguageModel(\n",
            "        (drop): Dropout(p=0.05, inplace=False)\n",
            "        (encoder): Embedding(300, 100)\n",
            "        (rnn): LSTM(100, 2048)\n",
            "      )\n",
            "    )\n",
            "  )\n",
            "  (word_dropout): WordDropout(p=0.05)\n",
            "  (locked_dropout): LockedDropout(p=0.5)\n",
            "  (embedding2nn): Linear(in_features=4196, out_features=4196, bias=True)\n",
            "  (rnn): LSTM(4196, 256, batch_first=True, bidirectional=True)\n",
            "  (linear): Linear(in_features=512, out_features=19, bias=True)\n",
            "  (loss_function): ViterbiLoss()\n",
            "  (crf): CRF()\n",
            ")\"\n",
            "2023-07-17 13:09:35,525 ----------------------------------------------------------------------------------------------------\n",
            "2023-07-17 13:09:35,528 Corpus: \"Corpus: 753 train + 150 dev + 601 test sentences\"\n",
            "2023-07-17 13:09:35,530 ----------------------------------------------------------------------------------------------------\n",
            "2023-07-17 13:09:35,532 Parameters:\n",
            "2023-07-17 13:09:35,533  - learning_rate: \"0.100000\"\n",
            "2023-07-17 13:09:35,534  - mini_batch_size: \"32\"\n",
            "2023-07-17 13:09:35,535  - patience: \"3\"\n",
            "2023-07-17 13:09:35,536  - anneal_factor: \"0.5\"\n",
            "2023-07-17 13:09:35,538  - max_epochs: \"100\"\n",
            "2023-07-17 13:09:35,539  - shuffle: \"True\"\n",
            "2023-07-17 13:09:35,540  - train_with_dev: \"False\"\n",
            "2023-07-17 13:09:35,541  - batch_growth_annealing: \"False\"\n",
            "2023-07-17 13:09:35,542 ----------------------------------------------------------------------------------------------------\n",
            "2023-07-17 13:09:35,543 Model training base path: \"resources/taggers/example-upos\"\n",
            "2023-07-17 13:09:35,544 ----------------------------------------------------------------------------------------------------\n",
            "2023-07-17 13:09:35,545 Device: cuda:0\n",
            "2023-07-17 13:09:35,546 ----------------------------------------------------------------------------------------------------\n",
            "2023-07-17 13:09:35,547 Embeddings storage mode: cpu\n",
            "2023-07-17 13:09:35,549 ----------------------------------------------------------------------------------------------------\n",
            "2023-07-17 13:09:37,020 epoch 1 - iter 2/24 - loss 3.31259021 - time (sec): 1.47 - samples/sec: 1203.81 - lr: 0.100000\n",
            "2023-07-17 13:09:37,956 epoch 1 - iter 4/24 - loss 3.04716355 - time (sec): 2.41 - samples/sec: 1423.50 - lr: 0.100000\n",
            "2023-07-17 13:09:38,814 epoch 1 - iter 6/24 - loss 2.93181976 - time (sec): 3.26 - samples/sec: 1578.77 - lr: 0.100000\n",
            "2023-07-17 13:09:39,793 epoch 1 - iter 8/24 - loss 2.86028135 - time (sec): 4.24 - samples/sec: 1616.92 - lr: 0.100000\n",
            "2023-07-17 13:09:40,863 epoch 1 - iter 10/24 - loss 2.77177815 - time (sec): 5.31 - samples/sec: 1630.98 - lr: 0.100000\n",
            "2023-07-17 13:09:41,867 epoch 1 - iter 12/24 - loss 2.70207380 - time (sec): 6.32 - samples/sec: 1674.32 - lr: 0.100000\n",
            "2023-07-17 13:09:43,306 epoch 1 - iter 14/24 - loss 2.64951611 - time (sec): 7.76 - samples/sec: 1638.79 - lr: 0.100000\n",
            "2023-07-17 13:09:44,483 epoch 1 - iter 16/24 - loss 2.59470057 - time (sec): 8.93 - samples/sec: 1626.30 - lr: 0.100000\n",
            "2023-07-17 13:09:45,767 epoch 1 - iter 18/24 - loss 2.54822948 - time (sec): 10.22 - samples/sec: 1599.82 - lr: 0.100000\n",
            "2023-07-17 13:09:46,887 epoch 1 - iter 20/24 - loss 2.49092477 - time (sec): 11.34 - samples/sec: 1618.11 - lr: 0.100000\n",
            "2023-07-17 13:09:48,218 epoch 1 - iter 22/24 - loss 2.44401921 - time (sec): 12.67 - samples/sec: 1616.63 - lr: 0.100000\n",
            "2023-07-17 13:09:49,277 epoch 1 - iter 24/24 - loss 2.40481677 - time (sec): 13.73 - samples/sec: 1614.40 - lr: 0.100000\n",
            "2023-07-17 13:09:49,278 ----------------------------------------------------------------------------------------------------\n",
            "2023-07-17 13:09:49,283 EPOCH 1 done: loss 2.4048 - lr 0.100000\n"
          ]
        },
        {
          "output_type": "stream",
          "name": "stderr",
          "text": [
            "100%|██████████| 5/5 [00:02<00:00,  2.11it/s]"
          ]
        },
        {
          "output_type": "stream",
          "name": "stdout",
          "text": [
            "2023-07-17 13:09:51,681 Evaluating as a multi-label problem: False\n",
            "2023-07-17 13:09:51,720 DEV : loss 1.7303861379623413 - f1-score (micro avg)  0.4936\n",
            "2023-07-17 13:09:51,742 BAD EPOCHS (no improvement): 0\n",
            "2023-07-17 13:09:51,744 saving best model\n"
          ]
        },
        {
          "output_type": "stream",
          "name": "stderr",
          "text": [
            "\n"
          ]
        },
        {
          "output_type": "stream",
          "name": "stdout",
          "text": [
            "2023-07-17 13:09:53,281 ----------------------------------------------------------------------------------------------------\n",
            "2023-07-17 13:09:53,670 epoch 2 - iter 2/24 - loss 1.90824910 - time (sec): 0.37 - samples/sec: 5432.48 - lr: 0.100000\n",
            "2023-07-17 13:09:54,137 epoch 2 - iter 4/24 - loss 1.87110847 - time (sec): 0.84 - samples/sec: 4572.49 - lr: 0.100000\n",
            "2023-07-17 13:09:54,643 epoch 2 - iter 6/24 - loss 1.83071656 - time (sec): 1.35 - samples/sec: 4301.13 - lr: 0.100000\n",
            "2023-07-17 13:09:55,170 epoch 2 - iter 8/24 - loss 1.79494931 - time (sec): 1.87 - samples/sec: 4129.18 - lr: 0.100000\n",
            "2023-07-17 13:09:55,631 epoch 2 - iter 10/24 - loss 1.76252422 - time (sec): 2.34 - samples/sec: 4140.76 - lr: 0.100000\n",
            "2023-07-17 13:09:56,142 epoch 2 - iter 12/24 - loss 1.73037813 - time (sec): 2.85 - samples/sec: 4057.67 - lr: 0.100000\n",
            "2023-07-17 13:09:56,647 epoch 2 - iter 14/24 - loss 1.71193439 - time (sec): 3.35 - samples/sec: 3984.41 - lr: 0.100000\n",
            "2023-07-17 13:09:57,110 epoch 2 - iter 16/24 - loss 1.69441147 - time (sec): 3.81 - samples/sec: 3945.96 - lr: 0.100000\n",
            "2023-07-17 13:09:57,659 epoch 2 - iter 18/24 - loss 1.66992154 - time (sec): 4.36 - samples/sec: 3867.79 - lr: 0.100000\n",
            "2023-07-17 13:09:58,166 epoch 2 - iter 20/24 - loss 1.65041666 - time (sec): 4.87 - samples/sec: 3854.96 - lr: 0.100000\n",
            "2023-07-17 13:09:58,604 epoch 2 - iter 22/24 - loss 1.62770937 - time (sec): 5.31 - samples/sec: 3917.12 - lr: 0.100000\n",
            "2023-07-17 13:09:58,887 epoch 2 - iter 24/24 - loss 1.61326291 - time (sec): 5.59 - samples/sec: 3962.83 - lr: 0.100000\n",
            "2023-07-17 13:09:58,889 ----------------------------------------------------------------------------------------------------\n",
            "2023-07-17 13:09:58,893 EPOCH 2 done: loss 1.6133 - lr 0.100000\n"
          ]
        },
        {
          "output_type": "stream",
          "name": "stderr",
          "text": [
            "100%|██████████| 5/5 [00:00<00:00,  5.96it/s]"
          ]
        },
        {
          "output_type": "stream",
          "name": "stdout",
          "text": [
            "2023-07-17 13:09:59,752 Evaluating as a multi-label problem: False\n",
            "2023-07-17 13:09:59,787 DEV : loss 1.2217421531677246 - f1-score (micro avg)  0.6521\n",
            "2023-07-17 13:09:59,805 BAD EPOCHS (no improvement): 0\n",
            "2023-07-17 13:09:59,806 saving best model\n"
          ]
        },
        {
          "output_type": "stream",
          "name": "stderr",
          "text": [
            "\n"
          ]
        },
        {
          "output_type": "stream",
          "name": "stdout",
          "text": [
            "2023-07-17 13:10:01,834 ----------------------------------------------------------------------------------------------------\n",
            "2023-07-17 13:10:02,263 epoch 3 - iter 2/24 - loss 1.37397164 - time (sec): 0.43 - samples/sec: 4325.87 - lr: 0.100000\n",
            "2023-07-17 13:10:02,612 epoch 3 - iter 4/24 - loss 1.34588843 - time (sec): 0.78 - samples/sec: 4798.68 - lr: 0.100000\n",
            "2023-07-17 13:10:02,994 epoch 3 - iter 6/24 - loss 1.35265445 - time (sec): 1.16 - samples/sec: 4985.58 - lr: 0.100000\n",
            "2023-07-17 13:10:03,353 epoch 3 - iter 8/24 - loss 1.35377246 - time (sec): 1.52 - samples/sec: 5057.97 - lr: 0.100000\n",
            "2023-07-17 13:10:03,691 epoch 3 - iter 10/24 - loss 1.35079833 - time (sec): 1.85 - samples/sec: 5161.22 - lr: 0.100000\n",
            "2023-07-17 13:10:04,080 epoch 3 - iter 12/24 - loss 1.33441851 - time (sec): 2.24 - samples/sec: 5203.51 - lr: 0.100000\n",
            "2023-07-17 13:10:04,426 epoch 3 - iter 14/24 - loss 1.33619354 - time (sec): 2.59 - samples/sec: 5222.00 - lr: 0.100000\n",
            "2023-07-17 13:10:04,717 epoch 3 - iter 16/24 - loss 1.32258500 - time (sec): 2.88 - samples/sec: 5326.51 - lr: 0.100000\n",
            "2023-07-17 13:10:05,064 epoch 3 - iter 18/24 - loss 1.31348603 - time (sec): 3.23 - samples/sec: 5314.59 - lr: 0.100000\n",
            "2023-07-17 13:10:05,370 epoch 3 - iter 20/24 - loss 1.30437125 - time (sec): 3.53 - samples/sec: 5346.06 - lr: 0.100000\n",
            "2023-07-17 13:10:05,726 epoch 3 - iter 22/24 - loss 1.28722752 - time (sec): 3.89 - samples/sec: 5310.66 - lr: 0.100000\n",
            "2023-07-17 13:10:06,005 epoch 3 - iter 24/24 - loss 1.28636347 - time (sec): 4.17 - samples/sec: 5315.75 - lr: 0.100000\n",
            "2023-07-17 13:10:06,007 ----------------------------------------------------------------------------------------------------\n",
            "2023-07-17 13:10:06,010 EPOCH 3 done: loss 1.2864 - lr 0.100000\n"
          ]
        },
        {
          "output_type": "stream",
          "name": "stderr",
          "text": [
            "100%|██████████| 5/5 [00:00<00:00,  5.86it/s]"
          ]
        },
        {
          "output_type": "stream",
          "name": "stdout",
          "text": [
            "2023-07-17 13:10:06,881 Evaluating as a multi-label problem: False\n",
            "2023-07-17 13:10:06,923 DEV : loss 1.0137251615524292 - f1-score (micro avg)  0.7068\n"
          ]
        },
        {
          "output_type": "stream",
          "name": "stderr",
          "text": [
            "\n"
          ]
        },
        {
          "output_type": "stream",
          "name": "stdout",
          "text": [
            "2023-07-17 13:10:06,943 BAD EPOCHS (no improvement): 0\n",
            "2023-07-17 13:10:06,945 saving best model\n",
            "2023-07-17 13:10:08,638 ----------------------------------------------------------------------------------------------------\n",
            "2023-07-17 13:10:09,208 epoch 4 - iter 2/24 - loss 1.22535266 - time (sec): 0.57 - samples/sec: 3441.17 - lr: 0.100000\n",
            "2023-07-17 13:10:09,677 epoch 4 - iter 4/24 - loss 1.19910286 - time (sec): 1.04 - samples/sec: 3522.25 - lr: 0.100000\n",
            "2023-07-17 13:10:10,203 epoch 4 - iter 6/24 - loss 1.19992465 - time (sec): 1.56 - samples/sec: 3633.02 - lr: 0.100000\n",
            "2023-07-17 13:10:10,695 epoch 4 - iter 8/24 - loss 1.18435895 - time (sec): 2.06 - samples/sec: 3648.28 - lr: 0.100000\n",
            "2023-07-17 13:10:11,154 epoch 4 - iter 10/24 - loss 1.16846021 - time (sec): 2.51 - samples/sec: 3757.36 - lr: 0.100000\n",
            "2023-07-17 13:10:11,550 epoch 4 - iter 12/24 - loss 1.16070381 - time (sec): 2.91 - samples/sec: 3863.16 - lr: 0.100000\n",
            "2023-07-17 13:10:12,275 epoch 4 - iter 14/24 - loss 1.14771311 - time (sec): 3.64 - samples/sec: 3646.05 - lr: 0.100000\n",
            "2023-07-17 13:10:12,694 epoch 4 - iter 16/24 - loss 1.14114844 - time (sec): 4.05 - samples/sec: 3682.16 - lr: 0.100000\n",
            "2023-07-17 13:10:13,716 epoch 4 - iter 18/24 - loss 1.12847149 - time (sec): 5.08 - samples/sec: 3328.73 - lr: 0.100000\n",
            "2023-07-17 13:10:14,254 epoch 4 - iter 20/24 - loss 1.12421458 - time (sec): 5.61 - samples/sec: 3362.78 - lr: 0.100000\n",
            "2023-07-17 13:10:14,723 epoch 4 - iter 22/24 - loss 1.12425638 - time (sec): 6.08 - samples/sec: 3425.44 - lr: 0.100000\n",
            "2023-07-17 13:10:14,973 epoch 4 - iter 24/24 - loss 1.11983462 - time (sec): 6.33 - samples/sec: 3499.11 - lr: 0.100000\n",
            "2023-07-17 13:10:14,974 ----------------------------------------------------------------------------------------------------\n",
            "2023-07-17 13:10:14,979 EPOCH 4 done: loss 1.1198 - lr 0.100000\n"
          ]
        },
        {
          "output_type": "stream",
          "name": "stderr",
          "text": [
            "100%|██████████| 5/5 [00:00<00:00,  5.88it/s]"
          ]
        },
        {
          "output_type": "stream",
          "name": "stdout",
          "text": [
            "2023-07-17 13:10:15,846 Evaluating as a multi-label problem: False\n",
            "2023-07-17 13:10:15,886 DEV : loss 0.8934048414230347 - f1-score (micro avg)  0.7375\n",
            "2023-07-17 13:10:15,905 BAD EPOCHS (no improvement): 0\n"
          ]
        },
        {
          "output_type": "stream",
          "name": "stderr",
          "text": [
            "\n"
          ]
        },
        {
          "output_type": "stream",
          "name": "stdout",
          "text": [
            "2023-07-17 13:10:15,906 saving best model\n",
            "2023-07-17 13:10:17,575 ----------------------------------------------------------------------------------------------------\n",
            "2023-07-17 13:10:17,968 epoch 5 - iter 2/24 - loss 1.08898865 - time (sec): 0.39 - samples/sec: 4633.69 - lr: 0.100000\n",
            "2023-07-17 13:10:18,355 epoch 5 - iter 4/24 - loss 1.07417661 - time (sec): 0.78 - samples/sec: 4894.83 - lr: 0.100000\n",
            "2023-07-17 13:10:18,723 epoch 5 - iter 6/24 - loss 1.07064341 - time (sec): 1.15 - samples/sec: 5079.30 - lr: 0.100000\n",
            "2023-07-17 13:10:19,111 epoch 5 - iter 8/24 - loss 1.05745516 - time (sec): 1.54 - samples/sec: 5053.27 - lr: 0.100000\n",
            "2023-07-17 13:10:19,471 epoch 5 - iter 10/24 - loss 1.05159090 - time (sec): 1.89 - samples/sec: 5071.13 - lr: 0.100000\n",
            "2023-07-17 13:10:19,807 epoch 5 - iter 12/24 - loss 1.03114170 - time (sec): 2.23 - samples/sec: 5218.98 - lr: 0.100000\n",
            "2023-07-17 13:10:20,109 epoch 5 - iter 14/24 - loss 1.02658132 - time (sec): 2.53 - samples/sec: 5276.64 - lr: 0.100000\n",
            "2023-07-17 13:10:20,419 epoch 5 - iter 16/24 - loss 1.02256739 - time (sec): 2.84 - samples/sec: 5408.86 - lr: 0.100000\n",
            "2023-07-17 13:10:20,777 epoch 5 - iter 18/24 - loss 1.01743571 - time (sec): 3.20 - samples/sec: 5364.01 - lr: 0.100000\n",
            "2023-07-17 13:10:21,089 epoch 5 - iter 20/24 - loss 1.01838642 - time (sec): 3.51 - samples/sec: 5389.97 - lr: 0.100000\n",
            "2023-07-17 13:10:21,385 epoch 5 - iter 22/24 - loss 1.02255453 - time (sec): 3.81 - samples/sec: 5454.97 - lr: 0.100000\n",
            "2023-07-17 13:10:21,653 epoch 5 - iter 24/24 - loss 1.02065882 - time (sec): 4.08 - samples/sec: 5435.05 - lr: 0.100000\n",
            "2023-07-17 13:10:21,655 ----------------------------------------------------------------------------------------------------\n",
            "2023-07-17 13:10:21,658 EPOCH 5 done: loss 1.0207 - lr 0.100000\n"
          ]
        },
        {
          "output_type": "stream",
          "name": "stderr",
          "text": [
            "100%|██████████| 5/5 [00:00<00:00,  6.04it/s]"
          ]
        },
        {
          "output_type": "stream",
          "name": "stdout",
          "text": [
            "2023-07-17 13:10:22,511 Evaluating as a multi-label problem: False\n",
            "2023-07-17 13:10:22,548 DEV : loss 0.7840307354927063 - f1-score (micro avg)  0.7759\n"
          ]
        },
        {
          "output_type": "stream",
          "name": "stderr",
          "text": [
            "\n"
          ]
        },
        {
          "output_type": "stream",
          "name": "stdout",
          "text": [
            "2023-07-17 13:10:22,570 BAD EPOCHS (no improvement): 0\n",
            "2023-07-17 13:10:22,573 saving best model\n",
            "2023-07-17 13:10:24,209 ----------------------------------------------------------------------------------------------------\n",
            "2023-07-17 13:10:24,698 epoch 6 - iter 2/24 - loss 0.98988742 - time (sec): 0.49 - samples/sec: 3792.39 - lr: 0.100000\n",
            "2023-07-17 13:10:25,162 epoch 6 - iter 4/24 - loss 0.99140161 - time (sec): 0.95 - samples/sec: 3939.14 - lr: 0.100000\n",
            "2023-07-17 13:10:25,585 epoch 6 - iter 6/24 - loss 0.98875710 - time (sec): 1.37 - samples/sec: 4114.89 - lr: 0.100000\n",
            "2023-07-17 13:10:26,062 epoch 6 - iter 8/24 - loss 0.97668314 - time (sec): 1.85 - samples/sec: 4006.83 - lr: 0.100000\n",
            "2023-07-17 13:10:26,566 epoch 6 - iter 10/24 - loss 0.96708326 - time (sec): 2.35 - samples/sec: 3970.81 - lr: 0.100000\n",
            "2023-07-17 13:10:27,070 epoch 6 - iter 12/24 - loss 0.96278772 - time (sec): 2.86 - samples/sec: 4010.88 - lr: 0.100000\n",
            "2023-07-17 13:10:27,679 epoch 6 - iter 14/24 - loss 0.96206963 - time (sec): 3.47 - samples/sec: 3895.77 - lr: 0.100000\n",
            "2023-07-17 13:10:28,209 epoch 6 - iter 16/24 - loss 0.96206876 - time (sec): 4.00 - samples/sec: 3842.75 - lr: 0.100000\n",
            "2023-07-17 13:10:28,631 epoch 6 - iter 18/24 - loss 0.96503438 - time (sec): 4.42 - samples/sec: 3867.03 - lr: 0.100000\n",
            "2023-07-17 13:10:29,053 epoch 6 - iter 20/24 - loss 0.96369266 - time (sec): 4.84 - samples/sec: 3872.36 - lr: 0.100000\n",
            "2023-07-17 13:10:29,447 epoch 6 - iter 22/24 - loss 0.96344985 - time (sec): 5.24 - samples/sec: 3973.62 - lr: 0.100000\n",
            "2023-07-17 13:10:29,741 epoch 6 - iter 24/24 - loss 0.95555089 - time (sec): 5.53 - samples/sec: 4007.68 - lr: 0.100000\n",
            "2023-07-17 13:10:29,742 ----------------------------------------------------------------------------------------------------\n",
            "2023-07-17 13:10:29,747 EPOCH 6 done: loss 0.9556 - lr 0.100000\n"
          ]
        },
        {
          "output_type": "stream",
          "name": "stderr",
          "text": [
            "100%|██████████| 5/5 [00:00<00:00,  5.92it/s]"
          ]
        },
        {
          "output_type": "stream",
          "name": "stdout",
          "text": [
            "2023-07-17 13:10:30,608 Evaluating as a multi-label problem: False\n",
            "2023-07-17 13:10:30,644 DEV : loss 0.7414391040802002 - f1-score (micro avg)  0.778\n",
            "2023-07-17 13:10:30,663 BAD EPOCHS (no improvement): 0\n",
            "2023-07-17 13:10:30,664 saving best model\n"
          ]
        },
        {
          "output_type": "stream",
          "name": "stderr",
          "text": [
            "\n"
          ]
        },
        {
          "output_type": "stream",
          "name": "stdout",
          "text": [
            "2023-07-17 13:10:32,334 ----------------------------------------------------------------------------------------------------\n",
            "2023-07-17 13:10:32,739 epoch 7 - iter 2/24 - loss 0.89857193 - time (sec): 0.40 - samples/sec: 4475.73 - lr: 0.100000\n",
            "2023-07-17 13:10:33,149 epoch 7 - iter 4/24 - loss 0.90690793 - time (sec): 0.81 - samples/sec: 4654.24 - lr: 0.100000\n",
            "2023-07-17 13:10:33,464 epoch 7 - iter 6/24 - loss 0.92525613 - time (sec): 1.13 - samples/sec: 5095.22 - lr: 0.100000\n",
            "2023-07-17 13:10:33,829 epoch 7 - iter 8/24 - loss 0.93388314 - time (sec): 1.49 - samples/sec: 5208.03 - lr: 0.100000\n",
            "2023-07-17 13:10:34,215 epoch 7 - iter 10/24 - loss 0.93746918 - time (sec): 1.88 - samples/sec: 5121.14 - lr: 0.100000\n",
            "2023-07-17 13:10:34,549 epoch 7 - iter 12/24 - loss 0.93521526 - time (sec): 2.21 - samples/sec: 5217.36 - lr: 0.100000\n",
            "2023-07-17 13:10:34,911 epoch 7 - iter 14/24 - loss 0.92756273 - time (sec): 2.57 - samples/sec: 5167.47 - lr: 0.100000\n",
            "2023-07-17 13:10:35,259 epoch 7 - iter 16/24 - loss 0.92372069 - time (sec): 2.92 - samples/sec: 5190.28 - lr: 0.100000\n",
            "2023-07-17 13:10:35,580 epoch 7 - iter 18/24 - loss 0.91971691 - time (sec): 3.24 - samples/sec: 5226.69 - lr: 0.100000\n",
            "2023-07-17 13:10:35,949 epoch 7 - iter 20/24 - loss 0.90997986 - time (sec): 3.61 - samples/sec: 5216.00 - lr: 0.100000\n",
            "2023-07-17 13:10:36,293 epoch 7 - iter 22/24 - loss 0.91090056 - time (sec): 3.96 - samples/sec: 5257.19 - lr: 0.100000\n",
            "2023-07-17 13:10:36,569 epoch 7 - iter 24/24 - loss 0.90518522 - time (sec): 4.23 - samples/sec: 5236.97 - lr: 0.100000\n",
            "2023-07-17 13:10:36,571 ----------------------------------------------------------------------------------------------------\n",
            "2023-07-17 13:10:36,574 EPOCH 7 done: loss 0.9052 - lr 0.100000\n"
          ]
        },
        {
          "output_type": "stream",
          "name": "stderr",
          "text": [
            "100%|██████████| 5/5 [00:01<00:00,  4.04it/s]"
          ]
        },
        {
          "output_type": "stream",
          "name": "stdout",
          "text": [
            "2023-07-17 13:10:37,831 Evaluating as a multi-label problem: False\n",
            "2023-07-17 13:10:37,875 DEV : loss 0.6704680919647217 - f1-score (micro avg)  0.801\n",
            "2023-07-17 13:10:37,893 BAD EPOCHS (no improvement): 0\n"
          ]
        },
        {
          "output_type": "stream",
          "name": "stderr",
          "text": [
            "\n"
          ]
        },
        {
          "output_type": "stream",
          "name": "stdout",
          "text": [
            "2023-07-17 13:10:37,895 saving best model\n",
            "2023-07-17 13:10:39,519 ----------------------------------------------------------------------------------------------------\n",
            "2023-07-17 13:10:40,117 epoch 8 - iter 2/24 - loss 0.92947113 - time (sec): 0.59 - samples/sec: 3114.60 - lr: 0.100000\n",
            "2023-07-17 13:10:40,680 epoch 8 - iter 4/24 - loss 0.87855160 - time (sec): 1.16 - samples/sec: 3442.83 - lr: 0.100000\n",
            "2023-07-17 13:10:41,152 epoch 8 - iter 6/24 - loss 0.85054721 - time (sec): 1.63 - samples/sec: 3710.28 - lr: 0.100000\n",
            "2023-07-17 13:10:41,595 epoch 8 - iter 8/24 - loss 0.85749523 - time (sec): 2.07 - samples/sec: 3748.45 - lr: 0.100000\n",
            "2023-07-17 13:10:42,133 epoch 8 - iter 10/24 - loss 0.85054718 - time (sec): 2.61 - samples/sec: 3699.55 - lr: 0.100000\n",
            "2023-07-17 13:10:42,678 epoch 8 - iter 12/24 - loss 0.85567832 - time (sec): 3.15 - samples/sec: 3697.23 - lr: 0.100000\n",
            "2023-07-17 13:10:43,119 epoch 8 - iter 14/24 - loss 0.84885702 - time (sec): 3.59 - samples/sec: 3727.22 - lr: 0.100000\n",
            "2023-07-17 13:10:43,571 epoch 8 - iter 16/24 - loss 0.84150433 - time (sec): 4.05 - samples/sec: 3716.75 - lr: 0.100000\n",
            "2023-07-17 13:10:43,997 epoch 8 - iter 18/24 - loss 0.84814667 - time (sec): 4.47 - samples/sec: 3825.58 - lr: 0.100000\n",
            "2023-07-17 13:10:44,360 epoch 8 - iter 20/24 - loss 0.84917538 - time (sec): 4.84 - samples/sec: 3929.85 - lr: 0.100000\n",
            "2023-07-17 13:10:44,728 epoch 8 - iter 22/24 - loss 0.84889528 - time (sec): 5.20 - samples/sec: 4013.49 - lr: 0.100000\n",
            "2023-07-17 13:10:44,974 epoch 8 - iter 24/24 - loss 0.85035081 - time (sec): 5.45 - samples/sec: 4066.47 - lr: 0.100000\n",
            "2023-07-17 13:10:44,975 ----------------------------------------------------------------------------------------------------\n",
            "2023-07-17 13:10:44,979 EPOCH 8 done: loss 0.8504 - lr 0.100000\n"
          ]
        },
        {
          "output_type": "stream",
          "name": "stderr",
          "text": [
            "100%|██████████| 5/5 [00:00<00:00,  6.02it/s]"
          ]
        },
        {
          "output_type": "stream",
          "name": "stdout",
          "text": [
            "2023-07-17 13:10:45,832 Evaluating as a multi-label problem: False\n",
            "2023-07-17 13:10:45,867 DEV : loss 0.6853564977645874 - f1-score (micro avg)  0.802\n",
            "2023-07-17 13:10:45,886 BAD EPOCHS (no improvement): 0\n",
            "2023-07-17 13:10:45,887 saving best model\n"
          ]
        },
        {
          "output_type": "stream",
          "name": "stderr",
          "text": [
            "\n"
          ]
        },
        {
          "output_type": "stream",
          "name": "stdout",
          "text": [
            "2023-07-17 13:10:47,720 ----------------------------------------------------------------------------------------------------\n",
            "2023-07-17 13:10:48,251 epoch 9 - iter 2/24 - loss 0.94965500 - time (sec): 0.53 - samples/sec: 4083.99 - lr: 0.100000\n",
            "2023-07-17 13:10:48,628 epoch 9 - iter 4/24 - loss 0.90071583 - time (sec): 0.90 - samples/sec: 4504.62 - lr: 0.100000\n",
            "2023-07-17 13:10:48,946 epoch 9 - iter 6/24 - loss 0.87302119 - time (sec): 1.22 - samples/sec: 4933.98 - lr: 0.100000\n",
            "2023-07-17 13:10:49,276 epoch 9 - iter 8/24 - loss 0.87512374 - time (sec): 1.55 - samples/sec: 5032.39 - lr: 0.100000\n",
            "2023-07-17 13:10:49,559 epoch 9 - iter 10/24 - loss 0.84688180 - time (sec): 1.83 - samples/sec: 5204.18 - lr: 0.100000\n",
            "2023-07-17 13:10:49,885 epoch 9 - iter 12/24 - loss 0.83547027 - time (sec): 2.16 - samples/sec: 5304.76 - lr: 0.100000\n",
            "2023-07-17 13:10:50,231 epoch 9 - iter 14/24 - loss 0.83012363 - time (sec): 2.51 - samples/sec: 5386.67 - lr: 0.100000\n",
            "2023-07-17 13:10:50,525 epoch 9 - iter 16/24 - loss 0.82177854 - time (sec): 2.80 - samples/sec: 5414.32 - lr: 0.100000\n",
            "2023-07-17 13:10:50,899 epoch 9 - iter 18/24 - loss 0.82234010 - time (sec): 3.17 - samples/sec: 5412.39 - lr: 0.100000\n",
            "2023-07-17 13:10:51,213 epoch 9 - iter 20/24 - loss 0.82083129 - time (sec): 3.49 - samples/sec: 5437.73 - lr: 0.100000\n",
            "2023-07-17 13:10:51,579 epoch 9 - iter 22/24 - loss 0.81164245 - time (sec): 3.85 - samples/sec: 5412.78 - lr: 0.100000\n",
            "2023-07-17 13:10:51,819 epoch 9 - iter 24/24 - loss 0.80946058 - time (sec): 4.09 - samples/sec: 5413.51 - lr: 0.100000\n",
            "2023-07-17 13:10:51,820 ----------------------------------------------------------------------------------------------------\n",
            "2023-07-17 13:10:51,824 EPOCH 9 done: loss 0.8095 - lr 0.100000\n"
          ]
        },
        {
          "output_type": "stream",
          "name": "stderr",
          "text": [
            "100%|██████████| 5/5 [00:00<00:00,  6.03it/s]"
          ]
        },
        {
          "output_type": "stream",
          "name": "stdout",
          "text": [
            "2023-07-17 13:10:52,675 Evaluating as a multi-label problem: False\n",
            "2023-07-17 13:10:52,710 DEV : loss 0.6339242458343506 - f1-score (micro avg)  0.8178\n",
            "2023-07-17 13:10:52,729 BAD EPOCHS (no improvement): 0\n",
            "2023-07-17 13:10:52,730 saving best model\n"
          ]
        },
        {
          "output_type": "stream",
          "name": "stderr",
          "text": [
            "\n"
          ]
        },
        {
          "output_type": "stream",
          "name": "stdout",
          "text": [
            "2023-07-17 13:10:54,388 ----------------------------------------------------------------------------------------------------\n",
            "2023-07-17 13:10:54,939 epoch 10 - iter 2/24 - loss 0.81087997 - time (sec): 0.55 - samples/sec: 3306.81 - lr: 0.100000\n",
            "2023-07-17 13:10:55,444 epoch 10 - iter 4/24 - loss 0.76152238 - time (sec): 1.05 - samples/sec: 3440.64 - lr: 0.100000\n",
            "2023-07-17 13:10:55,993 epoch 10 - iter 6/24 - loss 0.77006194 - time (sec): 1.60 - samples/sec: 3439.61 - lr: 0.100000\n",
            "2023-07-17 13:10:56,526 epoch 10 - iter 8/24 - loss 0.77286756 - time (sec): 2.13 - samples/sec: 3396.41 - lr: 0.100000\n",
            "2023-07-17 13:10:57,063 epoch 10 - iter 10/24 - loss 0.76975272 - time (sec): 2.67 - samples/sec: 3516.67 - lr: 0.100000\n",
            "2023-07-17 13:10:57,523 epoch 10 - iter 12/24 - loss 0.77282719 - time (sec): 3.13 - samples/sec: 3561.04 - lr: 0.100000\n",
            "2023-07-17 13:10:58,099 epoch 10 - iter 14/24 - loss 0.77693802 - time (sec): 3.71 - samples/sec: 3540.86 - lr: 0.100000\n",
            "2023-07-17 13:10:58,547 epoch 10 - iter 16/24 - loss 0.76951449 - time (sec): 4.15 - samples/sec: 3673.62 - lr: 0.100000\n",
            "2023-07-17 13:10:58,911 epoch 10 - iter 18/24 - loss 0.77473168 - time (sec): 4.52 - samples/sec: 3770.01 - lr: 0.100000\n",
            "2023-07-17 13:10:59,223 epoch 10 - iter 20/24 - loss 0.77318149 - time (sec): 4.83 - samples/sec: 3897.74 - lr: 0.100000\n",
            "2023-07-17 13:10:59,573 epoch 10 - iter 22/24 - loss 0.76917014 - time (sec): 5.18 - samples/sec: 3993.21 - lr: 0.100000\n",
            "2023-07-17 13:10:59,891 epoch 10 - iter 24/24 - loss 0.77089233 - time (sec): 5.50 - samples/sec: 4030.27 - lr: 0.100000\n",
            "2023-07-17 13:10:59,893 ----------------------------------------------------------------------------------------------------\n",
            "2023-07-17 13:10:59,895 EPOCH 10 done: loss 0.7709 - lr 0.100000\n"
          ]
        },
        {
          "output_type": "stream",
          "name": "stderr",
          "text": [
            "100%|██████████| 5/5 [00:00<00:00,  5.83it/s]"
          ]
        },
        {
          "output_type": "stream",
          "name": "stdout",
          "text": [
            "2023-07-17 13:11:00,769 Evaluating as a multi-label problem: False\n",
            "2023-07-17 13:11:00,810 DEV : loss 0.597811758518219 - f1-score (micro avg)  0.8183\n"
          ]
        },
        {
          "output_type": "stream",
          "name": "stderr",
          "text": [
            "\n"
          ]
        },
        {
          "output_type": "stream",
          "name": "stdout",
          "text": [
            "2023-07-17 13:11:00,834 BAD EPOCHS (no improvement): 0\n",
            "2023-07-17 13:11:00,836 saving best model\n",
            "2023-07-17 13:11:02,450 ----------------------------------------------------------------------------------------------------\n",
            "2023-07-17 13:11:02,849 epoch 11 - iter 2/24 - loss 0.83422722 - time (sec): 0.40 - samples/sec: 4745.84 - lr: 0.100000\n",
            "2023-07-17 13:11:03,254 epoch 11 - iter 4/24 - loss 0.78206053 - time (sec): 0.80 - samples/sec: 4708.75 - lr: 0.100000\n",
            "2023-07-17 13:11:03,627 epoch 11 - iter 6/24 - loss 0.76726856 - time (sec): 1.18 - samples/sec: 4876.97 - lr: 0.100000\n",
            "2023-07-17 13:11:03,988 epoch 11 - iter 8/24 - loss 0.75362809 - time (sec): 1.54 - samples/sec: 4972.67 - lr: 0.100000\n",
            "2023-07-17 13:11:04,339 epoch 11 - iter 10/24 - loss 0.73635433 - time (sec): 1.89 - samples/sec: 5116.69 - lr: 0.100000\n",
            "2023-07-17 13:11:04,660 epoch 11 - iter 12/24 - loss 0.73667612 - time (sec): 2.21 - samples/sec: 5208.35 - lr: 0.100000\n",
            "2023-07-17 13:11:04,973 epoch 11 - iter 14/24 - loss 0.73756484 - time (sec): 2.52 - samples/sec: 5245.62 - lr: 0.100000\n",
            "2023-07-17 13:11:05,297 epoch 11 - iter 16/24 - loss 0.74497081 - time (sec): 2.84 - samples/sec: 5326.63 - lr: 0.100000\n",
            "2023-07-17 13:11:05,639 epoch 11 - iter 18/24 - loss 0.75243553 - time (sec): 3.19 - samples/sec: 5319.41 - lr: 0.100000\n",
            "2023-07-17 13:11:05,982 epoch 11 - iter 20/24 - loss 0.75508839 - time (sec): 3.53 - samples/sec: 5325.36 - lr: 0.100000\n",
            "2023-07-17 13:11:06,289 epoch 11 - iter 22/24 - loss 0.75840067 - time (sec): 3.84 - samples/sec: 5365.46 - lr: 0.100000\n",
            "2023-07-17 13:11:06,547 epoch 11 - iter 24/24 - loss 0.75610215 - time (sec): 4.09 - samples/sec: 5411.53 - lr: 0.100000\n",
            "2023-07-17 13:11:06,549 ----------------------------------------------------------------------------------------------------\n",
            "2023-07-17 13:11:06,555 EPOCH 11 done: loss 0.7561 - lr 0.100000\n"
          ]
        },
        {
          "output_type": "stream",
          "name": "stderr",
          "text": [
            "100%|██████████| 5/5 [00:00<00:00,  5.86it/s]"
          ]
        },
        {
          "output_type": "stream",
          "name": "stdout",
          "text": [
            "2023-07-17 13:11:07,428 Evaluating as a multi-label problem: False\n",
            "2023-07-17 13:11:07,464 DEV : loss 0.5866298079490662 - f1-score (micro avg)  0.8242\n",
            "2023-07-17 13:11:07,483 BAD EPOCHS (no improvement): 0\n",
            "2023-07-17 13:11:07,485 saving best model\n"
          ]
        },
        {
          "output_type": "stream",
          "name": "stderr",
          "text": [
            "\n"
          ]
        },
        {
          "output_type": "stream",
          "name": "stdout",
          "text": [
            "2023-07-17 13:11:09,511 ----------------------------------------------------------------------------------------------------\n",
            "2023-07-17 13:11:10,072 epoch 12 - iter 2/24 - loss 0.75560899 - time (sec): 0.56 - samples/sec: 3221.70 - lr: 0.100000\n",
            "2023-07-17 13:11:10,597 epoch 12 - iter 4/24 - loss 0.73878587 - time (sec): 1.08 - samples/sec: 3394.78 - lr: 0.100000\n",
            "2023-07-17 13:11:11,144 epoch 12 - iter 6/24 - loss 0.75325579 - time (sec): 1.63 - samples/sec: 3450.69 - lr: 0.100000\n",
            "2023-07-17 13:11:11,568 epoch 12 - iter 8/24 - loss 0.74782571 - time (sec): 2.05 - samples/sec: 3553.82 - lr: 0.100000\n",
            "2023-07-17 13:11:12,127 epoch 12 - iter 10/24 - loss 0.74324412 - time (sec): 2.61 - samples/sec: 3564.28 - lr: 0.100000\n",
            "2023-07-17 13:11:12,648 epoch 12 - iter 12/24 - loss 0.73875592 - time (sec): 3.13 - samples/sec: 3629.66 - lr: 0.100000\n",
            "2023-07-17 13:11:12,976 epoch 12 - iter 14/24 - loss 0.74096210 - time (sec): 3.46 - samples/sec: 3845.86 - lr: 0.100000\n",
            "2023-07-17 13:11:13,282 epoch 12 - iter 16/24 - loss 0.73854947 - time (sec): 3.77 - samples/sec: 3944.24 - lr: 0.100000\n",
            "2023-07-17 13:11:13,612 epoch 12 - iter 18/24 - loss 0.73960778 - time (sec): 4.10 - samples/sec: 4092.62 - lr: 0.100000\n",
            "2023-07-17 13:11:13,978 epoch 12 - iter 20/24 - loss 0.73750920 - time (sec): 4.46 - samples/sec: 4193.96 - lr: 0.100000\n",
            "2023-07-17 13:11:14,369 epoch 12 - iter 22/24 - loss 0.73983773 - time (sec): 4.86 - samples/sec: 4268.05 - lr: 0.100000\n",
            "2023-07-17 13:11:14,627 epoch 12 - iter 24/24 - loss 0.74112916 - time (sec): 5.11 - samples/sec: 4333.58 - lr: 0.100000\n",
            "2023-07-17 13:11:14,629 ----------------------------------------------------------------------------------------------------\n",
            "2023-07-17 13:11:14,633 EPOCH 12 done: loss 0.7411 - lr 0.100000\n"
          ]
        },
        {
          "output_type": "stream",
          "name": "stderr",
          "text": [
            "100%|██████████| 5/5 [00:00<00:00,  6.13it/s]"
          ]
        },
        {
          "output_type": "stream",
          "name": "stdout",
          "text": [
            "2023-07-17 13:11:15,470 Evaluating as a multi-label problem: False\n",
            "2023-07-17 13:11:15,507 DEV : loss 0.5392818450927734 - f1-score (micro avg)  0.8386\n",
            "2023-07-17 13:11:15,527 BAD EPOCHS (no improvement): 0\n",
            "2023-07-17 13:11:15,528 saving best model\n"
          ]
        },
        {
          "output_type": "stream",
          "name": "stderr",
          "text": [
            "\n"
          ]
        },
        {
          "output_type": "stream",
          "name": "stdout",
          "text": [
            "2023-07-17 13:11:17,140 ----------------------------------------------------------------------------------------------------\n",
            "2023-07-17 13:11:17,572 epoch 13 - iter 2/24 - loss 0.72049404 - time (sec): 0.43 - samples/sec: 4576.71 - lr: 0.100000\n",
            "2023-07-17 13:11:17,947 epoch 13 - iter 4/24 - loss 0.71746744 - time (sec): 0.80 - samples/sec: 4779.38 - lr: 0.100000\n",
            "2023-07-17 13:11:18,302 epoch 13 - iter 6/24 - loss 0.71427881 - time (sec): 1.16 - samples/sec: 4872.25 - lr: 0.100000\n",
            "2023-07-17 13:11:18,628 epoch 13 - iter 8/24 - loss 0.71567947 - time (sec): 1.49 - samples/sec: 5068.65 - lr: 0.100000\n",
            "2023-07-17 13:11:18,970 epoch 13 - iter 10/24 - loss 0.71118764 - time (sec): 1.83 - samples/sec: 5119.15 - lr: 0.100000\n",
            "2023-07-17 13:11:19,305 epoch 13 - iter 12/24 - loss 0.71075735 - time (sec): 2.16 - samples/sec: 5169.27 - lr: 0.100000\n",
            "2023-07-17 13:11:19,626 epoch 13 - iter 14/24 - loss 0.71664215 - time (sec): 2.48 - samples/sec: 5345.30 - lr: 0.100000\n",
            "2023-07-17 13:11:19,945 epoch 13 - iter 16/24 - loss 0.71368388 - time (sec): 2.80 - samples/sec: 5420.13 - lr: 0.100000\n",
            "2023-07-17 13:11:20,258 epoch 13 - iter 18/24 - loss 0.71756135 - time (sec): 3.12 - samples/sec: 5451.23 - lr: 0.100000\n",
            "2023-07-17 13:11:20,616 epoch 13 - iter 20/24 - loss 0.71596752 - time (sec): 3.47 - samples/sec: 5472.97 - lr: 0.100000\n",
            "2023-07-17 13:11:20,948 epoch 13 - iter 22/24 - loss 0.71960135 - time (sec): 3.81 - samples/sec: 5486.99 - lr: 0.100000\n",
            "2023-07-17 13:11:21,185 epoch 13 - iter 24/24 - loss 0.71569696 - time (sec): 4.04 - samples/sec: 5482.14 - lr: 0.100000\n",
            "2023-07-17 13:11:21,187 ----------------------------------------------------------------------------------------------------\n",
            "2023-07-17 13:11:21,189 EPOCH 13 done: loss 0.7157 - lr 0.100000\n"
          ]
        },
        {
          "output_type": "stream",
          "name": "stderr",
          "text": [
            "100%|██████████| 5/5 [00:00<00:00,  6.26it/s]"
          ]
        },
        {
          "output_type": "stream",
          "name": "stdout",
          "text": [
            "2023-07-17 13:11:22,005 Evaluating as a multi-label problem: False\n",
            "2023-07-17 13:11:22,043 DEV : loss 0.5331707000732422 - f1-score (micro avg)  0.8431\n",
            "2023-07-17 13:11:22,061 BAD EPOCHS (no improvement): 0\n",
            "2023-07-17 13:11:22,063 saving best model\n"
          ]
        },
        {
          "output_type": "stream",
          "name": "stderr",
          "text": [
            "\n"
          ]
        },
        {
          "output_type": "stream",
          "name": "stdout",
          "text": [
            "2023-07-17 13:11:23,716 ----------------------------------------------------------------------------------------------------\n",
            "2023-07-17 13:11:24,333 epoch 14 - iter 2/24 - loss 0.69050992 - time (sec): 0.61 - samples/sec: 3386.62 - lr: 0.100000\n",
            "2023-07-17 13:11:24,820 epoch 14 - iter 4/24 - loss 0.67218750 - time (sec): 1.10 - samples/sec: 3466.73 - lr: 0.100000\n",
            "2023-07-17 13:11:25,417 epoch 14 - iter 6/24 - loss 0.68345627 - time (sec): 1.69 - samples/sec: 3392.57 - lr: 0.100000\n",
            "2023-07-17 13:11:25,907 epoch 14 - iter 8/24 - loss 0.68744960 - time (sec): 2.18 - samples/sec: 3510.79 - lr: 0.100000\n",
            "2023-07-17 13:11:26,357 epoch 14 - iter 10/24 - loss 0.67660299 - time (sec): 2.63 - samples/sec: 3513.00 - lr: 0.100000\n",
            "2023-07-17 13:11:26,834 epoch 14 - iter 12/24 - loss 0.68485567 - time (sec): 3.11 - samples/sec: 3595.22 - lr: 0.100000\n",
            "2023-07-17 13:11:27,270 epoch 14 - iter 14/24 - loss 0.68942200 - time (sec): 3.55 - samples/sec: 3702.70 - lr: 0.100000\n",
            "2023-07-17 13:11:27,579 epoch 14 - iter 16/24 - loss 0.68535834 - time (sec): 3.86 - samples/sec: 3840.08 - lr: 0.100000\n",
            "2023-07-17 13:11:27,961 epoch 14 - iter 18/24 - loss 0.68540488 - time (sec): 4.24 - samples/sec: 3961.39 - lr: 0.100000\n",
            "2023-07-17 13:11:28,351 epoch 14 - iter 20/24 - loss 0.69374391 - time (sec): 4.63 - samples/sec: 4060.93 - lr: 0.100000\n",
            "2023-07-17 13:11:28,695 epoch 14 - iter 22/24 - loss 0.69827180 - time (sec): 4.97 - samples/sec: 4171.97 - lr: 0.100000\n",
            "2023-07-17 13:11:28,959 epoch 14 - iter 24/24 - loss 0.69546665 - time (sec): 5.24 - samples/sec: 4232.89 - lr: 0.100000\n",
            "2023-07-17 13:11:28,961 ----------------------------------------------------------------------------------------------------\n",
            "2023-07-17 13:11:28,964 EPOCH 14 done: loss 0.6955 - lr 0.100000\n"
          ]
        },
        {
          "output_type": "stream",
          "name": "stderr",
          "text": [
            "100%|██████████| 5/5 [00:00<00:00,  6.02it/s]"
          ]
        },
        {
          "output_type": "stream",
          "name": "stdout",
          "text": [
            "2023-07-17 13:11:29,814 Evaluating as a multi-label problem: False\n",
            "2023-07-17 13:11:29,849 DEV : loss 0.5408832430839539 - f1-score (micro avg)  0.8418\n",
            "2023-07-17 13:11:29,867 BAD EPOCHS (no improvement): 1\n",
            "2023-07-17 13:11:29,869 ----------------------------------------------------------------------------------------------------\n"
          ]
        },
        {
          "output_type": "stream",
          "name": "stderr",
          "text": [
            "\n"
          ]
        },
        {
          "output_type": "stream",
          "name": "stdout",
          "text": [
            "2023-07-17 13:11:30,656 epoch 15 - iter 2/24 - loss 0.64745765 - time (sec): 0.78 - samples/sec: 2460.16 - lr: 0.100000\n",
            "2023-07-17 13:11:30,999 epoch 15 - iter 4/24 - loss 0.69528756 - time (sec): 1.13 - samples/sec: 3385.91 - lr: 0.100000\n",
            "2023-07-17 13:11:31,322 epoch 15 - iter 6/24 - loss 0.70138659 - time (sec): 1.45 - samples/sec: 3784.62 - lr: 0.100000\n",
            "2023-07-17 13:11:31,706 epoch 15 - iter 8/24 - loss 0.69434047 - time (sec): 1.83 - samples/sec: 3994.05 - lr: 0.100000\n",
            "2023-07-17 13:11:32,035 epoch 15 - iter 10/24 - loss 0.68454337 - time (sec): 2.16 - samples/sec: 4221.38 - lr: 0.100000\n",
            "2023-07-17 13:11:32,361 epoch 15 - iter 12/24 - loss 0.69167747 - time (sec): 2.49 - samples/sec: 4385.32 - lr: 0.100000\n",
            "2023-07-17 13:11:32,714 epoch 15 - iter 14/24 - loss 0.70074594 - time (sec): 2.84 - samples/sec: 4523.69 - lr: 0.100000\n",
            "2023-07-17 13:11:33,019 epoch 15 - iter 16/24 - loss 0.69432647 - time (sec): 3.15 - samples/sec: 4733.47 - lr: 0.100000\n",
            "2023-07-17 13:11:33,341 epoch 15 - iter 18/24 - loss 0.68737703 - time (sec): 3.47 - samples/sec: 4827.78 - lr: 0.100000\n",
            "2023-07-17 13:11:33,623 epoch 15 - iter 20/24 - loss 0.68521756 - time (sec): 3.75 - samples/sec: 4938.24 - lr: 0.100000\n",
            "2023-07-17 13:11:33,982 epoch 15 - iter 22/24 - loss 0.67553265 - time (sec): 4.11 - samples/sec: 5019.62 - lr: 0.100000\n",
            "2023-07-17 13:11:34,246 epoch 15 - iter 24/24 - loss 0.67295109 - time (sec): 4.38 - samples/sec: 5064.89 - lr: 0.100000\n",
            "2023-07-17 13:11:34,248 ----------------------------------------------------------------------------------------------------\n",
            "2023-07-17 13:11:34,250 EPOCH 15 done: loss 0.6730 - lr 0.100000\n"
          ]
        },
        {
          "output_type": "stream",
          "name": "stderr",
          "text": [
            "100%|██████████| 5/5 [00:00<00:00,  5.94it/s]"
          ]
        },
        {
          "output_type": "stream",
          "name": "stdout",
          "text": [
            "2023-07-17 13:11:35,110 Evaluating as a multi-label problem: False\n",
            "2023-07-17 13:11:35,148 DEV : loss 0.5332493782043457 - f1-score (micro avg)  0.8383\n"
          ]
        },
        {
          "output_type": "stream",
          "name": "stderr",
          "text": [
            "\n"
          ]
        },
        {
          "output_type": "stream",
          "name": "stdout",
          "text": [
            "2023-07-17 13:11:35,168 BAD EPOCHS (no improvement): 2\n",
            "2023-07-17 13:11:35,171 ----------------------------------------------------------------------------------------------------\n",
            "2023-07-17 13:11:35,570 epoch 16 - iter 2/24 - loss 0.66489020 - time (sec): 0.40 - samples/sec: 5247.61 - lr: 0.100000\n",
            "2023-07-17 13:11:35,948 epoch 16 - iter 4/24 - loss 0.65936194 - time (sec): 0.77 - samples/sec: 5191.34 - lr: 0.100000\n",
            "2023-07-17 13:11:36,336 epoch 16 - iter 6/24 - loss 0.64147230 - time (sec): 1.16 - samples/sec: 5172.13 - lr: 0.100000\n",
            "2023-07-17 13:11:36,686 epoch 16 - iter 8/24 - loss 0.64518375 - time (sec): 1.51 - samples/sec: 5323.44 - lr: 0.100000\n",
            "2023-07-17 13:11:37,044 epoch 16 - iter 10/24 - loss 0.65108620 - time (sec): 1.87 - samples/sec: 5402.21 - lr: 0.100000\n",
            "2023-07-17 13:11:37,473 epoch 16 - iter 12/24 - loss 0.64467715 - time (sec): 2.30 - samples/sec: 5236.93 - lr: 0.100000\n",
            "2023-07-17 13:11:37,924 epoch 16 - iter 14/24 - loss 0.63834557 - time (sec): 2.75 - samples/sec: 5028.52 - lr: 0.100000\n",
            "2023-07-17 13:11:38,447 epoch 16 - iter 16/24 - loss 0.64321665 - time (sec): 3.27 - samples/sec: 4822.13 - lr: 0.100000\n",
            "2023-07-17 13:11:38,956 epoch 16 - iter 18/24 - loss 0.64221358 - time (sec): 3.78 - samples/sec: 4639.78 - lr: 0.100000\n",
            "2023-07-17 13:11:39,399 epoch 16 - iter 20/24 - loss 0.64253980 - time (sec): 4.22 - samples/sec: 4520.22 - lr: 0.100000\n",
            "2023-07-17 13:11:39,866 epoch 16 - iter 22/24 - loss 0.64137429 - time (sec): 4.69 - samples/sec: 4455.09 - lr: 0.100000\n",
            "2023-07-17 13:11:40,207 epoch 16 - iter 24/24 - loss 0.63833397 - time (sec): 5.03 - samples/sec: 4403.17 - lr: 0.100000\n",
            "2023-07-17 13:11:40,215 ----------------------------------------------------------------------------------------------------\n",
            "2023-07-17 13:11:40,217 EPOCH 16 done: loss 0.6383 - lr 0.100000\n"
          ]
        },
        {
          "output_type": "stream",
          "name": "stderr",
          "text": [
            "100%|██████████| 5/5 [00:01<00:00,  3.84it/s]"
          ]
        },
        {
          "output_type": "stream",
          "name": "stdout",
          "text": [
            "2023-07-17 13:11:41,542 Evaluating as a multi-label problem: False\n"
          ]
        },
        {
          "output_type": "stream",
          "name": "stderr",
          "text": [
            "\n"
          ]
        },
        {
          "output_type": "stream",
          "name": "stdout",
          "text": [
            "2023-07-17 13:11:41,580 DEV : loss 0.48541563749313354 - f1-score (micro avg)  0.8546\n",
            "2023-07-17 13:11:41,599 BAD EPOCHS (no improvement): 0\n",
            "2023-07-17 13:11:41,600 saving best model\n",
            "2023-07-17 13:11:43,244 ----------------------------------------------------------------------------------------------------\n",
            "2023-07-17 13:11:43,680 epoch 17 - iter 2/24 - loss 0.57135224 - time (sec): 0.43 - samples/sec: 4091.00 - lr: 0.100000\n",
            "2023-07-17 13:11:44,093 epoch 17 - iter 4/24 - loss 0.62174335 - time (sec): 0.85 - samples/sec: 4415.93 - lr: 0.100000\n",
            "2023-07-17 13:11:44,505 epoch 17 - iter 6/24 - loss 0.62848847 - time (sec): 1.26 - samples/sec: 4558.15 - lr: 0.100000\n",
            "2023-07-17 13:11:44,882 epoch 17 - iter 8/24 - loss 0.63872951 - time (sec): 1.64 - samples/sec: 4699.20 - lr: 0.100000\n",
            "2023-07-17 13:11:45,197 epoch 17 - iter 10/24 - loss 0.63590559 - time (sec): 1.95 - samples/sec: 4815.69 - lr: 0.100000\n",
            "2023-07-17 13:11:45,519 epoch 17 - iter 12/24 - loss 0.64179795 - time (sec): 2.27 - samples/sec: 4964.77 - lr: 0.100000\n",
            "2023-07-17 13:11:45,867 epoch 17 - iter 14/24 - loss 0.63780859 - time (sec): 2.62 - samples/sec: 5023.55 - lr: 0.100000\n",
            "2023-07-17 13:11:46,236 epoch 17 - iter 16/24 - loss 0.64446052 - time (sec): 2.99 - samples/sec: 5058.81 - lr: 0.100000\n",
            "2023-07-17 13:11:46,532 epoch 17 - iter 18/24 - loss 0.63884365 - time (sec): 3.28 - samples/sec: 5186.93 - lr: 0.100000\n",
            "2023-07-17 13:11:46,827 epoch 17 - iter 20/24 - loss 0.63456347 - time (sec): 3.58 - samples/sec: 5259.19 - lr: 0.100000\n",
            "2023-07-17 13:11:47,146 epoch 17 - iter 22/24 - loss 0.63429825 - time (sec): 3.90 - samples/sec: 5296.08 - lr: 0.100000\n",
            "2023-07-17 13:11:47,401 epoch 17 - iter 24/24 - loss 0.63685383 - time (sec): 4.15 - samples/sec: 5334.81 - lr: 0.100000\n",
            "2023-07-17 13:11:47,403 ----------------------------------------------------------------------------------------------------\n",
            "2023-07-17 13:11:47,409 EPOCH 17 done: loss 0.6369 - lr 0.100000\n"
          ]
        },
        {
          "output_type": "stream",
          "name": "stderr",
          "text": [
            "100%|██████████| 5/5 [00:00<00:00,  5.76it/s]"
          ]
        },
        {
          "output_type": "stream",
          "name": "stdout",
          "text": [
            "2023-07-17 13:11:48,296 Evaluating as a multi-label problem: False\n",
            "2023-07-17 13:11:48,332 DEV : loss 0.49273672699928284 - f1-score (micro avg)  0.8525\n"
          ]
        },
        {
          "output_type": "stream",
          "name": "stderr",
          "text": [
            "\n"
          ]
        },
        {
          "output_type": "stream",
          "name": "stdout",
          "text": [
            "2023-07-17 13:11:48,354 BAD EPOCHS (no improvement): 1\n",
            "2023-07-17 13:11:48,355 ----------------------------------------------------------------------------------------------------\n",
            "2023-07-17 13:11:48,762 epoch 18 - iter 2/24 - loss 0.65795542 - time (sec): 0.40 - samples/sec: 4736.27 - lr: 0.100000\n",
            "2023-07-17 13:11:49,141 epoch 18 - iter 4/24 - loss 0.63388362 - time (sec): 0.78 - samples/sec: 4908.30 - lr: 0.100000\n",
            "2023-07-17 13:11:49,427 epoch 18 - iter 6/24 - loss 0.61310216 - time (sec): 1.07 - samples/sec: 5202.70 - lr: 0.100000\n",
            "2023-07-17 13:11:49,756 epoch 18 - iter 8/24 - loss 0.62821902 - time (sec): 1.40 - samples/sec: 5324.15 - lr: 0.100000\n",
            "2023-07-17 13:11:50,134 epoch 18 - iter 10/24 - loss 0.62516616 - time (sec): 1.78 - samples/sec: 5277.04 - lr: 0.100000\n",
            "2023-07-17 13:11:50,436 epoch 18 - iter 12/24 - loss 0.63047307 - time (sec): 2.08 - samples/sec: 5391.33 - lr: 0.100000\n",
            "2023-07-17 13:11:50,792 epoch 18 - iter 14/24 - loss 0.63152251 - time (sec): 2.43 - samples/sec: 5406.38 - lr: 0.100000\n",
            "2023-07-17 13:11:51,137 epoch 18 - iter 16/24 - loss 0.62942962 - time (sec): 2.78 - samples/sec: 5407.91 - lr: 0.100000\n",
            "2023-07-17 13:11:51,489 epoch 18 - iter 18/24 - loss 0.62894902 - time (sec): 3.13 - samples/sec: 5388.50 - lr: 0.100000\n",
            "2023-07-17 13:11:51,892 epoch 18 - iter 20/24 - loss 0.62632287 - time (sec): 3.53 - samples/sec: 5286.40 - lr: 0.100000\n",
            "2023-07-17 13:11:52,370 epoch 18 - iter 22/24 - loss 0.62537544 - time (sec): 4.01 - samples/sec: 5172.79 - lr: 0.100000\n",
            "2023-07-17 13:11:52,722 epoch 18 - iter 24/24 - loss 0.62613875 - time (sec): 4.36 - samples/sec: 5077.28 - lr: 0.100000\n",
            "2023-07-17 13:11:52,727 ----------------------------------------------------------------------------------------------------\n",
            "2023-07-17 13:11:52,731 EPOCH 18 done: loss 0.6261 - lr 0.100000\n"
          ]
        },
        {
          "output_type": "stream",
          "name": "stderr",
          "text": [
            "100%|██████████| 5/5 [00:01<00:00,  4.04it/s]"
          ]
        },
        {
          "output_type": "stream",
          "name": "stdout",
          "text": [
            "2023-07-17 13:11:53,988 Evaluating as a multi-label problem: False\n",
            "2023-07-17 13:11:54,050 DEV : loss 0.4865993559360504 - f1-score (micro avg)  0.8495\n",
            "2023-07-17 13:11:54,086 BAD EPOCHS (no improvement): 2\n",
            "2023-07-17 13:11:54,090 ----------------------------------------------------------------------------------------------------\n"
          ]
        },
        {
          "output_type": "stream",
          "name": "stderr",
          "text": [
            "\n"
          ]
        },
        {
          "output_type": "stream",
          "name": "stdout",
          "text": [
            "2023-07-17 13:11:54,596 epoch 19 - iter 2/24 - loss 0.52791765 - time (sec): 0.50 - samples/sec: 3365.15 - lr: 0.100000\n",
            "2023-07-17 13:11:55,185 epoch 19 - iter 4/24 - loss 0.60275976 - time (sec): 1.09 - samples/sec: 3419.71 - lr: 0.100000\n",
            "2023-07-17 13:11:55,766 epoch 19 - iter 6/24 - loss 0.59094762 - time (sec): 1.67 - samples/sec: 3358.79 - lr: 0.100000\n",
            "2023-07-17 13:11:56,171 epoch 19 - iter 8/24 - loss 0.59509061 - time (sec): 2.08 - samples/sec: 3616.98 - lr: 0.100000\n",
            "2023-07-17 13:11:56,510 epoch 19 - iter 10/24 - loss 0.59902622 - time (sec): 2.42 - samples/sec: 3868.73 - lr: 0.100000\n",
            "2023-07-17 13:11:56,849 epoch 19 - iter 12/24 - loss 0.61209370 - time (sec): 2.76 - samples/sec: 4062.33 - lr: 0.100000\n",
            "2023-07-17 13:11:57,186 epoch 19 - iter 14/24 - loss 0.61067222 - time (sec): 3.09 - samples/sec: 4262.00 - lr: 0.100000\n",
            "2023-07-17 13:11:57,530 epoch 19 - iter 16/24 - loss 0.61165968 - time (sec): 3.44 - samples/sec: 4366.26 - lr: 0.100000\n",
            "2023-07-17 13:11:57,861 epoch 19 - iter 18/24 - loss 0.61023508 - time (sec): 3.77 - samples/sec: 4462.98 - lr: 0.100000\n",
            "2023-07-17 13:11:58,169 epoch 19 - iter 20/24 - loss 0.60992266 - time (sec): 4.07 - samples/sec: 4609.43 - lr: 0.100000\n",
            "2023-07-17 13:11:58,521 epoch 19 - iter 22/24 - loss 0.60543250 - time (sec): 4.43 - samples/sec: 4682.95 - lr: 0.100000\n",
            "2023-07-17 13:11:58,814 epoch 19 - iter 24/24 - loss 0.60778233 - time (sec): 4.72 - samples/sec: 4695.76 - lr: 0.100000\n",
            "2023-07-17 13:11:58,815 ----------------------------------------------------------------------------------------------------\n",
            "2023-07-17 13:11:58,821 EPOCH 19 done: loss 0.6078 - lr 0.100000\n"
          ]
        },
        {
          "output_type": "stream",
          "name": "stderr",
          "text": [
            "100%|██████████| 5/5 [00:00<00:00,  6.07it/s]"
          ]
        },
        {
          "output_type": "stream",
          "name": "stdout",
          "text": [
            "2023-07-17 13:11:59,664 Evaluating as a multi-label problem: False\n",
            "2023-07-17 13:11:59,700 DEV : loss 0.46543729305267334 - f1-score (micro avg)  0.8631\n",
            "2023-07-17 13:11:59,719 BAD EPOCHS (no improvement): 0\n",
            "2023-07-17 13:11:59,721 saving best model\n"
          ]
        },
        {
          "output_type": "stream",
          "name": "stderr",
          "text": [
            "\n"
          ]
        },
        {
          "output_type": "stream",
          "name": "stdout",
          "text": [
            "2023-07-17 13:12:01,365 ----------------------------------------------------------------------------------------------------\n",
            "2023-07-17 13:12:01,781 epoch 20 - iter 2/24 - loss 0.60164845 - time (sec): 0.40 - samples/sec: 4720.54 - lr: 0.100000\n",
            "2023-07-17 13:12:02,140 epoch 20 - iter 4/24 - loss 0.56517762 - time (sec): 0.76 - samples/sec: 4949.69 - lr: 0.100000\n",
            "2023-07-17 13:12:02,527 epoch 20 - iter 6/24 - loss 0.58698025 - time (sec): 1.15 - samples/sec: 5049.18 - lr: 0.100000\n",
            "2023-07-17 13:12:02,916 epoch 20 - iter 8/24 - loss 0.59066235 - time (sec): 1.53 - samples/sec: 4969.90 - lr: 0.100000\n",
            "2023-07-17 13:12:03,273 epoch 20 - iter 10/24 - loss 0.58642380 - time (sec): 1.89 - samples/sec: 4955.34 - lr: 0.100000\n",
            "2023-07-17 13:12:03,633 epoch 20 - iter 12/24 - loss 0.59302234 - time (sec): 2.25 - samples/sec: 5032.35 - lr: 0.100000\n",
            "2023-07-17 13:12:03,981 epoch 20 - iter 14/24 - loss 0.59328826 - time (sec): 2.60 - samples/sec: 5053.12 - lr: 0.100000\n",
            "2023-07-17 13:12:04,317 epoch 20 - iter 16/24 - loss 0.58672734 - time (sec): 2.94 - samples/sec: 5131.87 - lr: 0.100000\n",
            "2023-07-17 13:12:04,599 epoch 20 - iter 18/24 - loss 0.59588784 - time (sec): 3.22 - samples/sec: 5189.63 - lr: 0.100000\n",
            "2023-07-17 13:12:04,941 epoch 20 - iter 20/24 - loss 0.59786467 - time (sec): 3.56 - samples/sec: 5229.90 - lr: 0.100000\n",
            "2023-07-17 13:12:05,305 epoch 20 - iter 22/24 - loss 0.60018984 - time (sec): 3.92 - samples/sec: 5271.05 - lr: 0.100000\n",
            "2023-07-17 13:12:05,599 epoch 20 - iter 24/24 - loss 0.60264034 - time (sec): 4.22 - samples/sec: 5253.90 - lr: 0.100000\n",
            "2023-07-17 13:12:05,601 ----------------------------------------------------------------------------------------------------\n",
            "2023-07-17 13:12:05,607 EPOCH 20 done: loss 0.6026 - lr 0.100000\n"
          ]
        },
        {
          "output_type": "stream",
          "name": "stderr",
          "text": [
            "100%|██████████| 5/5 [00:01<00:00,  4.61it/s]\n"
          ]
        },
        {
          "output_type": "stream",
          "name": "stdout",
          "text": [
            "2023-07-17 13:12:06,719 Evaluating as a multi-label problem: False\n",
            "2023-07-17 13:12:06,772 DEV : loss 0.45196589827537537 - f1-score (micro avg)  0.8613\n",
            "2023-07-17 13:12:06,807 BAD EPOCHS (no improvement): 1\n",
            "2023-07-17 13:12:06,809 ----------------------------------------------------------------------------------------------------\n",
            "2023-07-17 13:12:07,193 epoch 21 - iter 2/24 - loss 0.54698354 - time (sec): 0.38 - samples/sec: 4635.38 - lr: 0.100000\n",
            "2023-07-17 13:12:07,663 epoch 21 - iter 4/24 - loss 0.58630720 - time (sec): 0.85 - samples/sec: 4179.79 - lr: 0.100000\n",
            "2023-07-17 13:12:08,152 epoch 21 - iter 6/24 - loss 0.58485845 - time (sec): 1.33 - samples/sec: 4077.20 - lr: 0.100000\n",
            "2023-07-17 13:12:08,610 epoch 21 - iter 8/24 - loss 0.59272571 - time (sec): 1.79 - samples/sec: 4023.56 - lr: 0.100000\n",
            "2023-07-17 13:12:09,146 epoch 21 - iter 10/24 - loss 0.58425266 - time (sec): 2.33 - samples/sec: 3871.85 - lr: 0.100000\n",
            "2023-07-17 13:12:09,660 epoch 21 - iter 12/24 - loss 0.58535960 - time (sec): 2.84 - samples/sec: 3865.86 - lr: 0.100000\n",
            "2023-07-17 13:12:10,141 epoch 21 - iter 14/24 - loss 0.58179618 - time (sec): 3.32 - samples/sec: 3872.78 - lr: 0.100000\n",
            "2023-07-17 13:12:10,623 epoch 21 - iter 16/24 - loss 0.57400376 - time (sec): 3.81 - samples/sec: 3931.90 - lr: 0.100000\n",
            "2023-07-17 13:12:10,997 epoch 21 - iter 18/24 - loss 0.58181005 - time (sec): 4.18 - samples/sec: 4018.50 - lr: 0.100000\n",
            "2023-07-17 13:12:11,343 epoch 21 - iter 20/24 - loss 0.58215863 - time (sec): 4.53 - samples/sec: 4088.04 - lr: 0.100000\n",
            "2023-07-17 13:12:11,747 epoch 21 - iter 22/24 - loss 0.58960090 - time (sec): 4.93 - samples/sec: 4195.40 - lr: 0.100000\n",
            "2023-07-17 13:12:12,063 epoch 21 - iter 24/24 - loss 0.58681506 - time (sec): 5.25 - samples/sec: 4223.93 - lr: 0.100000\n",
            "2023-07-17 13:12:12,065 ----------------------------------------------------------------------------------------------------\n",
            "2023-07-17 13:12:12,072 EPOCH 21 done: loss 0.5868 - lr 0.100000\n"
          ]
        },
        {
          "output_type": "stream",
          "name": "stderr",
          "text": [
            "100%|██████████| 5/5 [00:00<00:00,  6.04it/s]"
          ]
        },
        {
          "output_type": "stream",
          "name": "stdout",
          "text": [
            "2023-07-17 13:12:12,919 Evaluating as a multi-label problem: False\n",
            "2023-07-17 13:12:12,955 DEV : loss 0.4447786211967468 - f1-score (micro avg)  0.8706\n",
            "2023-07-17 13:12:12,973 BAD EPOCHS (no improvement): 0\n",
            "2023-07-17 13:12:12,975 saving best model\n"
          ]
        },
        {
          "output_type": "stream",
          "name": "stderr",
          "text": [
            "\n"
          ]
        },
        {
          "output_type": "stream",
          "name": "stdout",
          "text": [
            "2023-07-17 13:12:14,822 ----------------------------------------------------------------------------------------------------\n",
            "2023-07-17 13:12:15,214 epoch 22 - iter 2/24 - loss 0.57245473 - time (sec): 0.39 - samples/sec: 4794.21 - lr: 0.100000\n",
            "2023-07-17 13:12:15,624 epoch 22 - iter 4/24 - loss 0.61781397 - time (sec): 0.80 - samples/sec: 4818.43 - lr: 0.100000\n",
            "2023-07-17 13:12:15,986 epoch 22 - iter 6/24 - loss 0.61085775 - time (sec): 1.16 - samples/sec: 4929.19 - lr: 0.100000\n",
            "2023-07-17 13:12:16,351 epoch 22 - iter 8/24 - loss 0.60112538 - time (sec): 1.53 - samples/sec: 5037.24 - lr: 0.100000\n",
            "2023-07-17 13:12:16,687 epoch 22 - iter 10/24 - loss 0.59170117 - time (sec): 1.86 - samples/sec: 5112.31 - lr: 0.100000\n",
            "2023-07-17 13:12:16,992 epoch 22 - iter 12/24 - loss 0.59142832 - time (sec): 2.17 - samples/sec: 5243.22 - lr: 0.100000\n",
            "2023-07-17 13:12:17,298 epoch 22 - iter 14/24 - loss 0.58561360 - time (sec): 2.47 - samples/sec: 5268.21 - lr: 0.100000\n",
            "2023-07-17 13:12:17,692 epoch 22 - iter 16/24 - loss 0.58352300 - time (sec): 2.87 - samples/sec: 5245.16 - lr: 0.100000\n",
            "2023-07-17 13:12:18,039 epoch 22 - iter 18/24 - loss 0.58314054 - time (sec): 3.22 - samples/sec: 5274.10 - lr: 0.100000\n",
            "2023-07-17 13:12:18,343 epoch 22 - iter 20/24 - loss 0.57986187 - time (sec): 3.52 - samples/sec: 5314.03 - lr: 0.100000\n",
            "2023-07-17 13:12:18,661 epoch 22 - iter 22/24 - loss 0.57627219 - time (sec): 3.84 - samples/sec: 5371.10 - lr: 0.100000\n",
            "2023-07-17 13:12:18,953 epoch 22 - iter 24/24 - loss 0.57571043 - time (sec): 4.13 - samples/sec: 5366.27 - lr: 0.100000\n",
            "2023-07-17 13:12:18,955 ----------------------------------------------------------------------------------------------------\n",
            "2023-07-17 13:12:18,958 EPOCH 22 done: loss 0.5757 - lr 0.100000\n"
          ]
        },
        {
          "output_type": "stream",
          "name": "stderr",
          "text": [
            "100%|██████████| 5/5 [00:01<00:00,  4.01it/s]"
          ]
        },
        {
          "output_type": "stream",
          "name": "stdout",
          "text": [
            "2023-07-17 13:12:20,224 Evaluating as a multi-label problem: False\n",
            "2023-07-17 13:12:20,260 DEV : loss 0.4610418379306793 - f1-score (micro avg)  0.8658\n",
            "2023-07-17 13:12:20,279 BAD EPOCHS (no improvement): 1\n",
            "2023-07-17 13:12:20,281 ----------------------------------------------------------------------------------------------------\n"
          ]
        },
        {
          "output_type": "stream",
          "name": "stderr",
          "text": [
            "\n"
          ]
        },
        {
          "output_type": "stream",
          "name": "stdout",
          "text": [
            "2023-07-17 13:12:20,784 epoch 23 - iter 2/24 - loss 0.54842277 - time (sec): 0.50 - samples/sec: 3982.15 - lr: 0.100000\n",
            "2023-07-17 13:12:21,179 epoch 23 - iter 4/24 - loss 0.57508871 - time (sec): 0.90 - samples/sec: 4058.65 - lr: 0.100000\n",
            "2023-07-17 13:12:21,673 epoch 23 - iter 6/24 - loss 0.55407771 - time (sec): 1.39 - samples/sec: 3883.16 - lr: 0.100000\n",
            "2023-07-17 13:12:22,191 epoch 23 - iter 8/24 - loss 0.57472803 - time (sec): 1.91 - samples/sec: 3813.57 - lr: 0.100000\n",
            "2023-07-17 13:12:22,685 epoch 23 - iter 10/24 - loss 0.58384279 - time (sec): 2.40 - samples/sec: 3855.11 - lr: 0.100000\n",
            "2023-07-17 13:12:23,202 epoch 23 - iter 12/24 - loss 0.57228908 - time (sec): 2.92 - samples/sec: 3786.39 - lr: 0.100000\n",
            "2023-07-17 13:12:23,662 epoch 23 - iter 14/24 - loss 0.56364233 - time (sec): 3.38 - samples/sec: 3830.80 - lr: 0.100000\n",
            "2023-07-17 13:12:24,230 epoch 23 - iter 16/24 - loss 0.57198409 - time (sec): 3.95 - samples/sec: 3839.02 - lr: 0.100000\n",
            "2023-07-17 13:12:24,677 epoch 23 - iter 18/24 - loss 0.56904978 - time (sec): 4.39 - samples/sec: 3848.33 - lr: 0.100000\n",
            "2023-07-17 13:12:25,067 epoch 23 - iter 20/24 - loss 0.56642767 - time (sec): 4.78 - samples/sec: 3935.30 - lr: 0.100000\n",
            "2023-07-17 13:12:25,430 epoch 23 - iter 22/24 - loss 0.56795081 - time (sec): 5.15 - samples/sec: 4023.07 - lr: 0.100000\n",
            "2023-07-17 13:12:25,726 epoch 23 - iter 24/24 - loss 0.56708341 - time (sec): 5.44 - samples/sec: 4070.98 - lr: 0.100000\n",
            "2023-07-17 13:12:25,727 ----------------------------------------------------------------------------------------------------\n",
            "2023-07-17 13:12:25,731 EPOCH 23 done: loss 0.5671 - lr 0.100000\n"
          ]
        },
        {
          "output_type": "stream",
          "name": "stderr",
          "text": [
            "100%|██████████| 5/5 [00:00<00:00,  6.01it/s]"
          ]
        },
        {
          "output_type": "stream",
          "name": "stdout",
          "text": [
            "2023-07-17 13:12:26,582 Evaluating as a multi-label problem: False\n",
            "2023-07-17 13:12:26,617 DEV : loss 0.4446919858455658 - f1-score (micro avg)  0.8666\n",
            "2023-07-17 13:12:26,640 BAD EPOCHS (no improvement): 2\n",
            "2023-07-17 13:12:26,642 ----------------------------------------------------------------------------------------------------\n"
          ]
        },
        {
          "output_type": "stream",
          "name": "stderr",
          "text": [
            "\n"
          ]
        },
        {
          "output_type": "stream",
          "name": "stdout",
          "text": [
            "2023-07-17 13:12:27,055 epoch 24 - iter 2/24 - loss 0.58201458 - time (sec): 0.41 - samples/sec: 4974.49 - lr: 0.100000\n",
            "2023-07-17 13:12:27,375 epoch 24 - iter 4/24 - loss 0.56225302 - time (sec): 0.73 - samples/sec: 5296.26 - lr: 0.100000\n",
            "2023-07-17 13:12:27,715 epoch 24 - iter 6/24 - loss 0.56507952 - time (sec): 1.07 - samples/sec: 5453.68 - lr: 0.100000\n",
            "2023-07-17 13:12:28,088 epoch 24 - iter 8/24 - loss 0.56775004 - time (sec): 1.44 - samples/sec: 5416.61 - lr: 0.100000\n",
            "2023-07-17 13:12:28,395 epoch 24 - iter 10/24 - loss 0.56514158 - time (sec): 1.75 - samples/sec: 5438.08 - lr: 0.100000\n",
            "2023-07-17 13:12:28,751 epoch 24 - iter 12/24 - loss 0.55299645 - time (sec): 2.11 - samples/sec: 5601.93 - lr: 0.100000\n",
            "2023-07-17 13:12:29,070 epoch 24 - iter 14/24 - loss 0.55201176 - time (sec): 2.43 - samples/sec: 5693.52 - lr: 0.100000\n",
            "2023-07-17 13:12:29,377 epoch 24 - iter 16/24 - loss 0.54936305 - time (sec): 2.73 - samples/sec: 5724.55 - lr: 0.100000\n",
            "2023-07-17 13:12:29,684 epoch 24 - iter 18/24 - loss 0.54720139 - time (sec): 3.04 - samples/sec: 5699.24 - lr: 0.100000\n",
            "2023-07-17 13:12:29,961 epoch 24 - iter 20/24 - loss 0.55070650 - time (sec): 3.32 - samples/sec: 5757.49 - lr: 0.100000\n",
            "2023-07-17 13:12:30,259 epoch 24 - iter 22/24 - loss 0.55043712 - time (sec): 3.62 - samples/sec: 5754.28 - lr: 0.100000\n",
            "2023-07-17 13:12:30,523 epoch 24 - iter 24/24 - loss 0.55286097 - time (sec): 3.88 - samples/sec: 5711.94 - lr: 0.100000\n",
            "2023-07-17 13:12:30,525 ----------------------------------------------------------------------------------------------------\n",
            "2023-07-17 13:12:30,529 EPOCH 24 done: loss 0.5529 - lr 0.100000\n"
          ]
        },
        {
          "output_type": "stream",
          "name": "stderr",
          "text": [
            "100%|██████████| 5/5 [00:00<00:00,  6.15it/s]"
          ]
        },
        {
          "output_type": "stream",
          "name": "stdout",
          "text": [
            "2023-07-17 13:12:31,363 Evaluating as a multi-label problem: False\n",
            "2023-07-17 13:12:31,397 DEV : loss 0.4334363639354706 - f1-score (micro avg)  0.8746\n",
            "2023-07-17 13:12:31,418 BAD EPOCHS (no improvement): 0\n",
            "2023-07-17 13:12:31,424 saving best model\n"
          ]
        },
        {
          "output_type": "stream",
          "name": "stderr",
          "text": [
            "\n"
          ]
        },
        {
          "output_type": "stream",
          "name": "stdout",
          "text": [
            "2023-07-17 13:12:33,023 ----------------------------------------------------------------------------------------------------\n",
            "2023-07-17 13:12:33,425 epoch 25 - iter 2/24 - loss 0.58153980 - time (sec): 0.40 - samples/sec: 4664.29 - lr: 0.100000\n",
            "2023-07-17 13:12:33,829 epoch 25 - iter 4/24 - loss 0.57246554 - time (sec): 0.80 - samples/sec: 4638.16 - lr: 0.100000\n",
            "2023-07-17 13:12:34,143 epoch 25 - iter 6/24 - loss 0.56970888 - time (sec): 1.11 - samples/sec: 4996.66 - lr: 0.100000\n",
            "2023-07-17 13:12:34,533 epoch 25 - iter 8/24 - loss 0.56880144 - time (sec): 1.51 - samples/sec: 5018.63 - lr: 0.100000\n",
            "2023-07-17 13:12:34,911 epoch 25 - iter 10/24 - loss 0.56751106 - time (sec): 1.88 - samples/sec: 5069.56 - lr: 0.100000\n",
            "2023-07-17 13:12:35,376 epoch 25 - iter 12/24 - loss 0.56523047 - time (sec): 2.35 - samples/sec: 4923.19 - lr: 0.100000\n",
            "2023-07-17 13:12:35,805 epoch 25 - iter 14/24 - loss 0.56182560 - time (sec): 2.78 - samples/sec: 4819.80 - lr: 0.100000\n",
            "2023-07-17 13:12:36,299 epoch 25 - iter 16/24 - loss 0.56206668 - time (sec): 3.27 - samples/sec: 4633.04 - lr: 0.100000\n",
            "2023-07-17 13:12:36,792 epoch 25 - iter 18/24 - loss 0.55609331 - time (sec): 3.76 - samples/sec: 4542.08 - lr: 0.100000\n",
            "2023-07-17 13:12:37,289 epoch 25 - iter 20/24 - loss 0.55248070 - time (sec): 4.26 - samples/sec: 4446.45 - lr: 0.100000\n",
            "2023-07-17 13:12:37,820 epoch 25 - iter 22/24 - loss 0.54858171 - time (sec): 4.79 - samples/sec: 4325.83 - lr: 0.100000\n",
            "2023-07-17 13:12:38,260 epoch 25 - iter 24/24 - loss 0.54585420 - time (sec): 5.23 - samples/sec: 4235.11 - lr: 0.100000\n",
            "2023-07-17 13:12:38,263 ----------------------------------------------------------------------------------------------------\n",
            "2023-07-17 13:12:38,266 EPOCH 25 done: loss 0.5459 - lr 0.100000\n"
          ]
        },
        {
          "output_type": "stream",
          "name": "stderr",
          "text": [
            "100%|██████████| 5/5 [00:01<00:00,  4.23it/s]"
          ]
        },
        {
          "output_type": "stream",
          "name": "stdout",
          "text": [
            "2023-07-17 13:12:39,468 Evaluating as a multi-label problem: False\n",
            "2023-07-17 13:12:39,512 DEV : loss 0.42759639024734497 - f1-score (micro avg)  0.8767\n"
          ]
        },
        {
          "output_type": "stream",
          "name": "stderr",
          "text": [
            "\n"
          ]
        },
        {
          "output_type": "stream",
          "name": "stdout",
          "text": [
            "2023-07-17 13:12:39,536 BAD EPOCHS (no improvement): 0\n",
            "2023-07-17 13:12:39,537 saving best model\n",
            "2023-07-17 13:12:41,117 ----------------------------------------------------------------------------------------------------\n",
            "2023-07-17 13:12:41,528 epoch 26 - iter 2/24 - loss 0.49678642 - time (sec): 0.41 - samples/sec: 4688.53 - lr: 0.100000\n",
            "2023-07-17 13:12:41,923 epoch 26 - iter 4/24 - loss 0.51163409 - time (sec): 0.80 - samples/sec: 4718.32 - lr: 0.100000\n",
            "2023-07-17 13:12:42,263 epoch 26 - iter 6/24 - loss 0.51355058 - time (sec): 1.14 - samples/sec: 4949.80 - lr: 0.100000\n",
            "2023-07-17 13:12:42,667 epoch 26 - iter 8/24 - loss 0.52266827 - time (sec): 1.55 - samples/sec: 4996.99 - lr: 0.100000\n",
            "2023-07-17 13:12:42,969 epoch 26 - iter 10/24 - loss 0.53427344 - time (sec): 1.85 - samples/sec: 5183.33 - lr: 0.100000\n",
            "2023-07-17 13:12:43,340 epoch 26 - iter 12/24 - loss 0.53527143 - time (sec): 2.22 - samples/sec: 5243.22 - lr: 0.100000\n",
            "2023-07-17 13:12:43,694 epoch 26 - iter 14/24 - loss 0.53944341 - time (sec): 2.57 - samples/sec: 5271.62 - lr: 0.100000\n",
            "2023-07-17 13:12:43,985 epoch 26 - iter 16/24 - loss 0.54282712 - time (sec): 2.87 - samples/sec: 5388.46 - lr: 0.100000\n",
            "2023-07-17 13:12:44,317 epoch 26 - iter 18/24 - loss 0.54194203 - time (sec): 3.20 - samples/sec: 5391.25 - lr: 0.100000\n",
            "2023-07-17 13:12:44,645 epoch 26 - iter 20/24 - loss 0.54066486 - time (sec): 3.53 - samples/sec: 5436.84 - lr: 0.100000\n",
            "2023-07-17 13:12:44,969 epoch 26 - iter 22/24 - loss 0.54054100 - time (sec): 3.85 - samples/sec: 5395.62 - lr: 0.100000\n",
            "2023-07-17 13:12:45,232 epoch 26 - iter 24/24 - loss 0.53784367 - time (sec): 4.11 - samples/sec: 5387.91 - lr: 0.100000\n",
            "2023-07-17 13:12:45,235 ----------------------------------------------------------------------------------------------------\n",
            "2023-07-17 13:12:45,241 EPOCH 26 done: loss 0.5378 - lr 0.100000\n"
          ]
        },
        {
          "output_type": "stream",
          "name": "stderr",
          "text": [
            "100%|██████████| 5/5 [00:00<00:00,  6.07it/s]"
          ]
        },
        {
          "output_type": "stream",
          "name": "stdout",
          "text": [
            "2023-07-17 13:12:46,084 Evaluating as a multi-label problem: False\n",
            "2023-07-17 13:12:46,119 DEV : loss 0.42124664783477783 - f1-score (micro avg)  0.8762\n",
            "2023-07-17 13:12:46,137 BAD EPOCHS (no improvement): 1\n",
            "2023-07-17 13:12:46,139 ----------------------------------------------------------------------------------------------------\n"
          ]
        },
        {
          "output_type": "stream",
          "name": "stderr",
          "text": [
            "\n"
          ]
        },
        {
          "output_type": "stream",
          "name": "stdout",
          "text": [
            "2023-07-17 13:12:46,464 epoch 27 - iter 2/24 - loss 0.51784915 - time (sec): 0.32 - samples/sec: 5563.48 - lr: 0.100000\n",
            "2023-07-17 13:12:46,853 epoch 27 - iter 4/24 - loss 0.51767656 - time (sec): 0.71 - samples/sec: 5079.36 - lr: 0.100000\n",
            "2023-07-17 13:12:47,211 epoch 27 - iter 6/24 - loss 0.54629267 - time (sec): 1.07 - samples/sec: 5168.64 - lr: 0.100000\n",
            "2023-07-17 13:12:47,568 epoch 27 - iter 8/24 - loss 0.53815205 - time (sec): 1.43 - samples/sec: 5290.04 - lr: 0.100000\n",
            "2023-07-17 13:12:47,902 epoch 27 - iter 10/24 - loss 0.52803380 - time (sec): 1.76 - samples/sec: 5373.35 - lr: 0.100000\n",
            "2023-07-17 13:12:48,244 epoch 27 - iter 12/24 - loss 0.52512351 - time (sec): 2.10 - samples/sec: 5451.80 - lr: 0.100000\n",
            "2023-07-17 13:12:48,528 epoch 27 - iter 14/24 - loss 0.52270346 - time (sec): 2.39 - samples/sec: 5497.56 - lr: 0.100000\n",
            "2023-07-17 13:12:48,851 epoch 27 - iter 16/24 - loss 0.52087686 - time (sec): 2.71 - samples/sec: 5529.75 - lr: 0.100000\n",
            "2023-07-17 13:12:49,233 epoch 27 - iter 18/24 - loss 0.52284062 - time (sec): 3.09 - samples/sec: 5474.05 - lr: 0.100000\n",
            "2023-07-17 13:12:49,674 epoch 27 - iter 20/24 - loss 0.52999657 - time (sec): 3.53 - samples/sec: 5326.91 - lr: 0.100000\n",
            "2023-07-17 13:12:50,095 epoch 27 - iter 22/24 - loss 0.53045690 - time (sec): 3.95 - samples/sec: 5209.85 - lr: 0.100000\n",
            "2023-07-17 13:12:50,473 epoch 27 - iter 24/24 - loss 0.53021694 - time (sec): 4.33 - samples/sec: 5115.58 - lr: 0.100000\n",
            "2023-07-17 13:12:50,479 ----------------------------------------------------------------------------------------------------\n",
            "2023-07-17 13:12:50,481 EPOCH 27 done: loss 0.5302 - lr 0.100000\n"
          ]
        },
        {
          "output_type": "stream",
          "name": "stderr",
          "text": [
            "100%|██████████| 5/5 [00:02<00:00,  2.26it/s]"
          ]
        },
        {
          "output_type": "stream",
          "name": "stdout",
          "text": [
            "2023-07-17 13:12:52,722 Evaluating as a multi-label problem: False\n",
            "2023-07-17 13:12:52,779 DEV : loss 0.4269176423549652 - f1-score (micro avg)  0.8709\n",
            "2023-07-17 13:12:52,810 BAD EPOCHS (no improvement): 2\n",
            "2023-07-17 13:12:52,812 ----------------------------------------------------------------------------------------------------\n"
          ]
        },
        {
          "output_type": "stream",
          "name": "stderr",
          "text": [
            "\n"
          ]
        },
        {
          "output_type": "stream",
          "name": "stdout",
          "text": [
            "2023-07-17 13:12:53,395 epoch 28 - iter 2/24 - loss 0.49205111 - time (sec): 0.58 - samples/sec: 3273.06 - lr: 0.100000\n",
            "2023-07-17 13:12:53,941 epoch 28 - iter 4/24 - loss 0.51455016 - time (sec): 1.13 - samples/sec: 3461.62 - lr: 0.100000\n",
            "2023-07-17 13:12:54,336 epoch 28 - iter 6/24 - loss 0.53099002 - time (sec): 1.52 - samples/sec: 3789.41 - lr: 0.100000\n",
            "2023-07-17 13:12:54,669 epoch 28 - iter 8/24 - loss 0.53034718 - time (sec): 1.85 - samples/sec: 4148.99 - lr: 0.100000\n",
            "2023-07-17 13:12:55,030 epoch 28 - iter 10/24 - loss 0.52884030 - time (sec): 2.22 - samples/sec: 4337.88 - lr: 0.100000\n",
            "2023-07-17 13:12:55,418 epoch 28 - iter 12/24 - loss 0.52141995 - time (sec): 2.60 - samples/sec: 4421.78 - lr: 0.100000\n",
            "2023-07-17 13:12:55,823 epoch 28 - iter 14/24 - loss 0.51897680 - time (sec): 3.01 - samples/sec: 4568.92 - lr: 0.100000\n",
            "2023-07-17 13:12:56,145 epoch 28 - iter 16/24 - loss 0.51584328 - time (sec): 3.33 - samples/sec: 4670.50 - lr: 0.100000\n",
            "2023-07-17 13:12:56,444 epoch 28 - iter 18/24 - loss 0.51295584 - time (sec): 3.63 - samples/sec: 4773.32 - lr: 0.100000\n",
            "2023-07-17 13:12:56,760 epoch 28 - iter 20/24 - loss 0.51683917 - time (sec): 3.95 - samples/sec: 4808.77 - lr: 0.100000\n",
            "2023-07-17 13:12:57,053 epoch 28 - iter 22/24 - loss 0.51804998 - time (sec): 4.24 - samples/sec: 4900.70 - lr: 0.100000\n",
            "2023-07-17 13:12:57,347 epoch 28 - iter 24/24 - loss 0.51885332 - time (sec): 4.53 - samples/sec: 4888.86 - lr: 0.100000\n",
            "2023-07-17 13:12:57,349 ----------------------------------------------------------------------------------------------------\n",
            "2023-07-17 13:12:57,352 EPOCH 28 done: loss 0.5189 - lr 0.100000\n"
          ]
        },
        {
          "output_type": "stream",
          "name": "stderr",
          "text": [
            "100%|██████████| 5/5 [00:00<00:00,  6.00it/s]"
          ]
        },
        {
          "output_type": "stream",
          "name": "stdout",
          "text": [
            "2023-07-17 13:12:58,203 Evaluating as a multi-label problem: False\n",
            "2023-07-17 13:12:58,240 DEV : loss 0.4041156470775604 - f1-score (micro avg)  0.8754\n",
            "2023-07-17 13:12:58,259 BAD EPOCHS (no improvement): 3\n",
            "2023-07-17 13:12:58,260 ----------------------------------------------------------------------------------------------------\n"
          ]
        },
        {
          "output_type": "stream",
          "name": "stderr",
          "text": [
            "\n"
          ]
        },
        {
          "output_type": "stream",
          "name": "stdout",
          "text": [
            "2023-07-17 13:12:58,640 epoch 29 - iter 2/24 - loss 0.47258664 - time (sec): 0.38 - samples/sec: 4994.18 - lr: 0.100000\n",
            "2023-07-17 13:12:59,005 epoch 29 - iter 4/24 - loss 0.47307911 - time (sec): 0.74 - samples/sec: 4956.04 - lr: 0.100000\n",
            "2023-07-17 13:12:59,351 epoch 29 - iter 6/24 - loss 0.47438297 - time (sec): 1.09 - samples/sec: 5267.02 - lr: 0.100000\n",
            "2023-07-17 13:12:59,646 epoch 29 - iter 8/24 - loss 0.48412367 - time (sec): 1.38 - samples/sec: 5378.99 - lr: 0.100000\n",
            "2023-07-17 13:12:59,956 epoch 29 - iter 10/24 - loss 0.49184939 - time (sec): 1.69 - samples/sec: 5524.09 - lr: 0.100000\n",
            "2023-07-17 13:13:00,298 epoch 29 - iter 12/24 - loss 0.49844131 - time (sec): 2.03 - samples/sec: 5551.65 - lr: 0.100000\n",
            "2023-07-17 13:13:00,694 epoch 29 - iter 14/24 - loss 0.49854957 - time (sec): 2.43 - samples/sec: 5476.72 - lr: 0.100000\n",
            "2023-07-17 13:13:01,004 epoch 29 - iter 16/24 - loss 0.50559272 - time (sec): 2.74 - samples/sec: 5542.00 - lr: 0.100000\n",
            "2023-07-17 13:13:01,315 epoch 29 - iter 18/24 - loss 0.50414649 - time (sec): 3.05 - samples/sec: 5535.45 - lr: 0.100000\n",
            "2023-07-17 13:13:01,692 epoch 29 - iter 20/24 - loss 0.50631326 - time (sec): 3.43 - samples/sec: 5535.93 - lr: 0.100000\n",
            "2023-07-17 13:13:02,007 epoch 29 - iter 22/24 - loss 0.50708109 - time (sec): 3.74 - samples/sec: 5565.12 - lr: 0.100000\n",
            "2023-07-17 13:13:02,250 epoch 29 - iter 24/24 - loss 0.50941532 - time (sec): 3.99 - samples/sec: 5559.54 - lr: 0.100000\n",
            "2023-07-17 13:13:02,251 ----------------------------------------------------------------------------------------------------\n",
            "2023-07-17 13:13:02,257 EPOCH 29 done: loss 0.5094 - lr 0.100000\n"
          ]
        },
        {
          "output_type": "stream",
          "name": "stderr",
          "text": [
            "100%|██████████| 5/5 [00:01<00:00,  4.01it/s]"
          ]
        },
        {
          "output_type": "stream",
          "name": "stdout",
          "text": [
            "2023-07-17 13:13:03,519 Evaluating as a multi-label problem: False\n",
            "2023-07-17 13:13:03,557 DEV : loss 0.39952269196510315 - f1-score (micro avg)  0.8797\n",
            "2023-07-17 13:13:03,581 BAD EPOCHS (no improvement): 0\n",
            "2023-07-17 13:13:03,583 saving best model\n"
          ]
        },
        {
          "output_type": "stream",
          "name": "stderr",
          "text": [
            "\n"
          ]
        },
        {
          "output_type": "stream",
          "name": "stdout",
          "text": [
            "2023-07-17 13:13:05,367 ----------------------------------------------------------------------------------------------------\n",
            "2023-07-17 13:13:05,923 epoch 30 - iter 2/24 - loss 0.50901836 - time (sec): 0.55 - samples/sec: 3482.52 - lr: 0.100000\n",
            "2023-07-17 13:13:06,395 epoch 30 - iter 4/24 - loss 0.48038958 - time (sec): 1.02 - samples/sec: 3589.82 - lr: 0.100000\n",
            "2023-07-17 13:13:06,965 epoch 30 - iter 6/24 - loss 0.49434073 - time (sec): 1.59 - samples/sec: 3539.80 - lr: 0.100000\n",
            "2023-07-17 13:13:07,541 epoch 30 - iter 8/24 - loss 0.50045660 - time (sec): 2.17 - samples/sec: 3514.64 - lr: 0.100000\n",
            "2023-07-17 13:13:08,040 epoch 30 - iter 10/24 - loss 0.49069180 - time (sec): 2.67 - samples/sec: 3492.44 - lr: 0.100000\n",
            "2023-07-17 13:13:08,554 epoch 30 - iter 12/24 - loss 0.49145147 - time (sec): 3.18 - samples/sec: 3484.18 - lr: 0.100000\n",
            "2023-07-17 13:13:08,932 epoch 30 - iter 14/24 - loss 0.50038501 - time (sec): 3.56 - samples/sec: 3648.50 - lr: 0.100000\n",
            "2023-07-17 13:13:09,303 epoch 30 - iter 16/24 - loss 0.51058058 - time (sec): 3.93 - samples/sec: 3808.03 - lr: 0.100000\n",
            "2023-07-17 13:13:09,652 epoch 30 - iter 18/24 - loss 0.51344817 - time (sec): 4.28 - samples/sec: 3991.26 - lr: 0.100000\n",
            "2023-07-17 13:13:09,992 epoch 30 - iter 20/24 - loss 0.50852834 - time (sec): 4.62 - samples/sec: 4075.61 - lr: 0.100000\n",
            "2023-07-17 13:13:10,333 epoch 30 - iter 22/24 - loss 0.50499869 - time (sec): 4.96 - samples/sec: 4180.94 - lr: 0.100000\n",
            "2023-07-17 13:13:10,636 epoch 30 - iter 24/24 - loss 0.50787200 - time (sec): 5.26 - samples/sec: 4209.08 - lr: 0.100000\n",
            "2023-07-17 13:13:10,638 ----------------------------------------------------------------------------------------------------\n",
            "2023-07-17 13:13:10,640 EPOCH 30 done: loss 0.5079 - lr 0.100000\n"
          ]
        },
        {
          "output_type": "stream",
          "name": "stderr",
          "text": [
            "100%|██████████| 5/5 [00:00<00:00,  5.89it/s]"
          ]
        },
        {
          "output_type": "stream",
          "name": "stdout",
          "text": [
            "2023-07-17 13:13:11,507 Evaluating as a multi-label problem: False\n",
            "2023-07-17 13:13:11,541 DEV : loss 0.40157550573349 - f1-score (micro avg)  0.8773\n",
            "2023-07-17 13:13:11,559 BAD EPOCHS (no improvement): 1\n",
            "2023-07-17 13:13:11,560 ----------------------------------------------------------------------------------------------------\n"
          ]
        },
        {
          "output_type": "stream",
          "name": "stderr",
          "text": [
            "\n"
          ]
        },
        {
          "output_type": "stream",
          "name": "stdout",
          "text": [
            "2023-07-17 13:13:11,857 epoch 31 - iter 2/24 - loss 0.43677872 - time (sec): 0.29 - samples/sec: 5601.12 - lr: 0.100000\n",
            "2023-07-17 13:13:12,236 epoch 31 - iter 4/24 - loss 0.49389541 - time (sec): 0.67 - samples/sec: 5395.85 - lr: 0.100000\n",
            "2023-07-17 13:13:12,574 epoch 31 - iter 6/24 - loss 0.51088590 - time (sec): 1.01 - samples/sec: 5447.15 - lr: 0.100000\n",
            "2023-07-17 13:13:12,912 epoch 31 - iter 8/24 - loss 0.50812629 - time (sec): 1.35 - samples/sec: 5628.96 - lr: 0.100000\n",
            "2023-07-17 13:13:13,205 epoch 31 - iter 10/24 - loss 0.50825160 - time (sec): 1.64 - samples/sec: 5699.65 - lr: 0.100000\n",
            "2023-07-17 13:13:13,557 epoch 31 - iter 12/24 - loss 0.50603629 - time (sec): 1.99 - samples/sec: 5618.46 - lr: 0.100000\n",
            "2023-07-17 13:13:13,856 epoch 31 - iter 14/24 - loss 0.50698960 - time (sec): 2.29 - samples/sec: 5680.34 - lr: 0.100000\n",
            "2023-07-17 13:13:14,249 epoch 31 - iter 16/24 - loss 0.50279436 - time (sec): 2.69 - samples/sec: 5631.48 - lr: 0.100000\n",
            "2023-07-17 13:13:14,580 epoch 31 - iter 18/24 - loss 0.50327375 - time (sec): 3.02 - samples/sec: 5626.75 - lr: 0.100000\n",
            "2023-07-17 13:13:14,918 epoch 31 - iter 20/24 - loss 0.50716104 - time (sec): 3.35 - samples/sec: 5626.41 - lr: 0.100000\n",
            "2023-07-17 13:13:15,257 epoch 31 - iter 22/24 - loss 0.50822652 - time (sec): 3.69 - samples/sec: 5621.32 - lr: 0.100000\n",
            "2023-07-17 13:13:15,506 epoch 31 - iter 24/24 - loss 0.50540102 - time (sec): 3.94 - samples/sec: 5621.46 - lr: 0.100000\n",
            "2023-07-17 13:13:15,508 ----------------------------------------------------------------------------------------------------\n",
            "2023-07-17 13:13:15,510 EPOCH 31 done: loss 0.5054 - lr 0.100000\n"
          ]
        },
        {
          "output_type": "stream",
          "name": "stderr",
          "text": [
            "100%|██████████| 5/5 [00:00<00:00,  5.71it/s]"
          ]
        },
        {
          "output_type": "stream",
          "name": "stdout",
          "text": [
            "2023-07-17 13:13:16,407 Evaluating as a multi-label problem: False\n",
            "2023-07-17 13:13:16,448 DEV : loss 0.40355101227760315 - f1-score (micro avg)  0.8797\n"
          ]
        },
        {
          "output_type": "stream",
          "name": "stderr",
          "text": [
            "\n"
          ]
        },
        {
          "output_type": "stream",
          "name": "stdout",
          "text": [
            "2023-07-17 13:13:16,473 BAD EPOCHS (no improvement): 2\n",
            "2023-07-17 13:13:16,476 ----------------------------------------------------------------------------------------------------\n",
            "2023-07-17 13:13:16,845 epoch 32 - iter 2/24 - loss 0.43888249 - time (sec): 0.37 - samples/sec: 5038.00 - lr: 0.100000\n",
            "2023-07-17 13:13:17,260 epoch 32 - iter 4/24 - loss 0.47408166 - time (sec): 0.78 - samples/sec: 4945.91 - lr: 0.100000\n",
            "2023-07-17 13:13:17,593 epoch 32 - iter 6/24 - loss 0.46591561 - time (sec): 1.11 - samples/sec: 5280.97 - lr: 0.100000\n",
            "2023-07-17 13:13:17,919 epoch 32 - iter 8/24 - loss 0.48282676 - time (sec): 1.44 - samples/sec: 5275.51 - lr: 0.100000\n",
            "2023-07-17 13:13:18,277 epoch 32 - iter 10/24 - loss 0.47000533 - time (sec): 1.80 - samples/sec: 5204.11 - lr: 0.100000\n",
            "2023-07-17 13:13:18,718 epoch 32 - iter 12/24 - loss 0.47832713 - time (sec): 2.24 - samples/sec: 5148.94 - lr: 0.100000\n",
            "2023-07-17 13:13:19,147 epoch 32 - iter 14/24 - loss 0.48146265 - time (sec): 2.67 - samples/sec: 4951.30 - lr: 0.100000\n",
            "2023-07-17 13:13:19,547 epoch 32 - iter 16/24 - loss 0.48597343 - time (sec): 3.07 - samples/sec: 4898.60 - lr: 0.100000\n",
            "2023-07-17 13:13:19,981 epoch 32 - iter 18/24 - loss 0.48442949 - time (sec): 3.50 - samples/sec: 4828.72 - lr: 0.100000\n",
            "2023-07-17 13:13:20,416 epoch 32 - iter 20/24 - loss 0.48664988 - time (sec): 3.94 - samples/sec: 4744.01 - lr: 0.100000\n",
            "2023-07-17 13:13:20,938 epoch 32 - iter 22/24 - loss 0.48727184 - time (sec): 4.46 - samples/sec: 4610.64 - lr: 0.100000\n",
            "2023-07-17 13:13:21,400 epoch 32 - iter 24/24 - loss 0.49307287 - time (sec): 4.92 - samples/sec: 4503.37 - lr: 0.100000\n",
            "2023-07-17 13:13:21,404 ----------------------------------------------------------------------------------------------------\n",
            "2023-07-17 13:13:21,409 EPOCH 32 done: loss 0.4931 - lr 0.100000\n"
          ]
        },
        {
          "output_type": "stream",
          "name": "stderr",
          "text": [
            "100%|██████████| 5/5 [00:01<00:00,  3.68it/s]"
          ]
        },
        {
          "output_type": "stream",
          "name": "stdout",
          "text": [
            "2023-07-17 13:13:22,788 Evaluating as a multi-label problem: False\n",
            "2023-07-17 13:13:22,845 DEV : loss 0.39989492297172546 - f1-score (micro avg)  0.8861\n",
            "2023-07-17 13:13:22,875 BAD EPOCHS (no improvement): 0\n",
            "2023-07-17 13:13:22,877 saving best model\n"
          ]
        },
        {
          "output_type": "stream",
          "name": "stderr",
          "text": [
            "\n"
          ]
        },
        {
          "output_type": "stream",
          "name": "stdout",
          "text": [
            "2023-07-17 13:13:24,502 ----------------------------------------------------------------------------------------------------\n",
            "2023-07-17 13:13:24,871 epoch 33 - iter 2/24 - loss 0.47245084 - time (sec): 0.35 - samples/sec: 4726.01 - lr: 0.100000\n",
            "2023-07-17 13:13:25,291 epoch 33 - iter 4/24 - loss 0.49795997 - time (sec): 0.77 - samples/sec: 4544.61 - lr: 0.100000\n",
            "2023-07-17 13:13:25,649 epoch 33 - iter 6/24 - loss 0.48305117 - time (sec): 1.13 - samples/sec: 4750.74 - lr: 0.100000\n",
            "2023-07-17 13:13:26,004 epoch 33 - iter 8/24 - loss 0.48151022 - time (sec): 1.48 - samples/sec: 4849.21 - lr: 0.100000\n",
            "2023-07-17 13:13:26,368 epoch 33 - iter 10/24 - loss 0.48159999 - time (sec): 1.85 - samples/sec: 4931.57 - lr: 0.100000\n",
            "2023-07-17 13:13:26,729 epoch 33 - iter 12/24 - loss 0.47943964 - time (sec): 2.21 - samples/sec: 5101.50 - lr: 0.100000\n",
            "2023-07-17 13:13:27,083 epoch 33 - iter 14/24 - loss 0.47851192 - time (sec): 2.56 - samples/sec: 5188.11 - lr: 0.100000\n",
            "2023-07-17 13:13:27,424 epoch 33 - iter 16/24 - loss 0.48159601 - time (sec): 2.90 - samples/sec: 5216.65 - lr: 0.100000\n",
            "2023-07-17 13:13:27,759 epoch 33 - iter 18/24 - loss 0.48086373 - time (sec): 3.24 - samples/sec: 5194.90 - lr: 0.100000\n",
            "2023-07-17 13:13:28,086 epoch 33 - iter 20/24 - loss 0.48091978 - time (sec): 3.57 - samples/sec: 5291.43 - lr: 0.100000\n",
            "2023-07-17 13:13:28,430 epoch 33 - iter 22/24 - loss 0.48024210 - time (sec): 3.91 - samples/sec: 5324.36 - lr: 0.100000\n",
            "2023-07-17 13:13:28,698 epoch 33 - iter 24/24 - loss 0.48185171 - time (sec): 4.18 - samples/sec: 5303.20 - lr: 0.100000\n",
            "2023-07-17 13:13:28,699 ----------------------------------------------------------------------------------------------------\n",
            "2023-07-17 13:13:28,704 EPOCH 33 done: loss 0.4819 - lr 0.100000\n"
          ]
        },
        {
          "output_type": "stream",
          "name": "stderr",
          "text": [
            "100%|██████████| 5/5 [00:00<00:00,  5.99it/s]"
          ]
        },
        {
          "output_type": "stream",
          "name": "stdout",
          "text": [
            "2023-07-17 13:13:29,559 Evaluating as a multi-label problem: False\n",
            "2023-07-17 13:13:29,595 DEV : loss 0.4079992175102234 - f1-score (micro avg)  0.8802\n",
            "2023-07-17 13:13:29,614 BAD EPOCHS (no improvement): 1\n"
          ]
        },
        {
          "output_type": "stream",
          "name": "stderr",
          "text": [
            "\n"
          ]
        },
        {
          "output_type": "stream",
          "name": "stdout",
          "text": [
            "2023-07-17 13:13:29,617 ----------------------------------------------------------------------------------------------------\n",
            "2023-07-17 13:13:30,012 epoch 34 - iter 2/24 - loss 0.51111907 - time (sec): 0.39 - samples/sec: 5186.21 - lr: 0.100000\n",
            "2023-07-17 13:13:30,411 epoch 34 - iter 4/24 - loss 0.50489198 - time (sec): 0.79 - samples/sec: 5267.12 - lr: 0.100000\n",
            "2023-07-17 13:13:30,758 epoch 34 - iter 6/24 - loss 0.48759043 - time (sec): 1.14 - samples/sec: 5375.99 - lr: 0.100000\n",
            "2023-07-17 13:13:31,119 epoch 34 - iter 8/24 - loss 0.47817278 - time (sec): 1.50 - samples/sec: 5378.45 - lr: 0.100000\n",
            "2023-07-17 13:13:31,522 epoch 34 - iter 10/24 - loss 0.47418976 - time (sec): 1.90 - samples/sec: 5273.99 - lr: 0.100000\n",
            "2023-07-17 13:13:31,886 epoch 34 - iter 12/24 - loss 0.47019924 - time (sec): 2.26 - samples/sec: 5251.32 - lr: 0.100000\n",
            "2023-07-17 13:13:32,205 epoch 34 - iter 14/24 - loss 0.46790579 - time (sec): 2.58 - samples/sec: 5251.19 - lr: 0.100000\n",
            "2023-07-17 13:13:32,479 epoch 34 - iter 16/24 - loss 0.46470669 - time (sec): 2.86 - samples/sec: 5335.62 - lr: 0.100000\n",
            "2023-07-17 13:13:32,786 epoch 34 - iter 18/24 - loss 0.46279806 - time (sec): 3.16 - samples/sec: 5390.67 - lr: 0.100000\n",
            "2023-07-17 13:13:33,162 epoch 34 - iter 20/24 - loss 0.46205843 - time (sec): 3.54 - samples/sec: 5358.51 - lr: 0.100000\n",
            "2023-07-17 13:13:33,618 epoch 34 - iter 22/24 - loss 0.46589244 - time (sec): 4.00 - samples/sec: 5218.27 - lr: 0.100000\n",
            "2023-07-17 13:13:34,020 epoch 34 - iter 24/24 - loss 0.46970220 - time (sec): 4.40 - samples/sec: 5038.07 - lr: 0.100000\n",
            "2023-07-17 13:13:34,027 ----------------------------------------------------------------------------------------------------\n",
            "2023-07-17 13:13:34,032 EPOCH 34 done: loss 0.4697 - lr 0.100000\n"
          ]
        },
        {
          "output_type": "stream",
          "name": "stderr",
          "text": [
            "100%|██████████| 5/5 [00:01<00:00,  4.01it/s]"
          ]
        },
        {
          "output_type": "stream",
          "name": "stdout",
          "text": [
            "2023-07-17 13:13:35,297 Evaluating as a multi-label problem: False\n",
            "2023-07-17 13:13:35,352 DEV : loss 0.38414379954338074 - f1-score (micro avg)  0.8869\n",
            "2023-07-17 13:13:35,384 BAD EPOCHS (no improvement): 0\n",
            "2023-07-17 13:13:35,388 saving best model\n"
          ]
        },
        {
          "output_type": "stream",
          "name": "stderr",
          "text": [
            "\n"
          ]
        },
        {
          "output_type": "stream",
          "name": "stdout",
          "text": [
            "2023-07-17 13:13:37,463 ----------------------------------------------------------------------------------------------------\n",
            "2023-07-17 13:13:37,965 epoch 35 - iter 2/24 - loss 0.51804247 - time (sec): 0.50 - samples/sec: 3756.21 - lr: 0.100000\n",
            "2023-07-17 13:13:38,313 epoch 35 - iter 4/24 - loss 0.50959899 - time (sec): 0.85 - samples/sec: 4416.05 - lr: 0.100000\n",
            "2023-07-17 13:13:38,688 epoch 35 - iter 6/24 - loss 0.48936736 - time (sec): 1.22 - samples/sec: 4595.01 - lr: 0.100000\n",
            "2023-07-17 13:13:39,029 epoch 35 - iter 8/24 - loss 0.47668211 - time (sec): 1.56 - samples/sec: 4847.26 - lr: 0.100000\n",
            "2023-07-17 13:13:39,339 epoch 35 - iter 10/24 - loss 0.47671429 - time (sec): 1.87 - samples/sec: 5029.47 - lr: 0.100000\n",
            "2023-07-17 13:13:39,709 epoch 35 - iter 12/24 - loss 0.47154060 - time (sec): 2.24 - samples/sec: 5067.95 - lr: 0.100000\n",
            "2023-07-17 13:13:40,049 epoch 35 - iter 14/24 - loss 0.46422207 - time (sec): 2.58 - samples/sec: 5080.62 - lr: 0.100000\n",
            "2023-07-17 13:13:40,404 epoch 35 - iter 16/24 - loss 0.46788152 - time (sec): 2.94 - samples/sec: 5117.86 - lr: 0.100000\n",
            "2023-07-17 13:13:40,757 epoch 35 - iter 18/24 - loss 0.46965188 - time (sec): 3.29 - samples/sec: 5167.71 - lr: 0.100000\n",
            "2023-07-17 13:13:41,075 epoch 35 - iter 20/24 - loss 0.46342757 - time (sec): 3.61 - samples/sec: 5217.79 - lr: 0.100000\n",
            "2023-07-17 13:13:41,373 epoch 35 - iter 22/24 - loss 0.46447812 - time (sec): 3.91 - samples/sec: 5276.19 - lr: 0.100000\n",
            "2023-07-17 13:13:41,644 epoch 35 - iter 24/24 - loss 0.46608627 - time (sec): 4.18 - samples/sec: 5304.01 - lr: 0.100000\n",
            "2023-07-17 13:13:41,648 ----------------------------------------------------------------------------------------------------\n",
            "2023-07-17 13:13:41,650 EPOCH 35 done: loss 0.4661 - lr 0.100000\n"
          ]
        },
        {
          "output_type": "stream",
          "name": "stderr",
          "text": [
            "100%|██████████| 5/5 [00:00<00:00,  6.07it/s]"
          ]
        },
        {
          "output_type": "stream",
          "name": "stdout",
          "text": [
            "2023-07-17 13:13:42,494 Evaluating as a multi-label problem: False\n",
            "2023-07-17 13:13:42,528 DEV : loss 0.378805011510849 - f1-score (micro avg)  0.8869\n",
            "2023-07-17 13:13:42,549 BAD EPOCHS (no improvement): 0\n",
            "2023-07-17 13:13:42,550 ----------------------------------------------------------------------------------------------------\n"
          ]
        },
        {
          "output_type": "stream",
          "name": "stderr",
          "text": [
            "\n"
          ]
        },
        {
          "output_type": "stream",
          "name": "stdout",
          "text": [
            "2023-07-17 13:13:42,906 epoch 36 - iter 2/24 - loss 0.47012291 - time (sec): 0.35 - samples/sec: 5627.72 - lr: 0.100000\n",
            "2023-07-17 13:13:43,295 epoch 36 - iter 4/24 - loss 0.44256989 - time (sec): 0.74 - samples/sec: 5405.69 - lr: 0.100000\n",
            "2023-07-17 13:13:43,610 epoch 36 - iter 6/24 - loss 0.45143994 - time (sec): 1.06 - samples/sec: 5477.53 - lr: 0.100000\n",
            "2023-07-17 13:13:43,935 epoch 36 - iter 8/24 - loss 0.46329698 - time (sec): 1.38 - samples/sec: 5497.17 - lr: 0.100000\n",
            "2023-07-17 13:13:44,265 epoch 36 - iter 10/24 - loss 0.46001622 - time (sec): 1.71 - samples/sec: 5597.96 - lr: 0.100000\n",
            "2023-07-17 13:13:44,602 epoch 36 - iter 12/24 - loss 0.45866937 - time (sec): 2.05 - samples/sec: 5525.49 - lr: 0.100000\n",
            "2023-07-17 13:13:44,916 epoch 36 - iter 14/24 - loss 0.45854637 - time (sec): 2.37 - samples/sec: 5518.66 - lr: 0.100000\n",
            "2023-07-17 13:13:45,249 epoch 36 - iter 16/24 - loss 0.46015957 - time (sec): 2.70 - samples/sec: 5515.13 - lr: 0.100000\n",
            "2023-07-17 13:13:45,607 epoch 36 - iter 18/24 - loss 0.46224190 - time (sec): 3.06 - samples/sec: 5512.71 - lr: 0.100000\n",
            "2023-07-17 13:13:45,952 epoch 36 - iter 20/24 - loss 0.46215517 - time (sec): 3.40 - samples/sec: 5542.75 - lr: 0.100000\n",
            "2023-07-17 13:13:46,273 epoch 36 - iter 22/24 - loss 0.46325535 - time (sec): 3.72 - samples/sec: 5556.50 - lr: 0.100000\n",
            "2023-07-17 13:13:46,553 epoch 36 - iter 24/24 - loss 0.46115899 - time (sec): 4.00 - samples/sec: 5538.08 - lr: 0.100000\n",
            "2023-07-17 13:13:46,554 ----------------------------------------------------------------------------------------------------\n",
            "2023-07-17 13:13:46,559 EPOCH 36 done: loss 0.4612 - lr 0.100000\n"
          ]
        },
        {
          "output_type": "stream",
          "name": "stderr",
          "text": [
            "100%|██████████| 5/5 [00:00<00:00,  6.06it/s]"
          ]
        },
        {
          "output_type": "stream",
          "name": "stdout",
          "text": [
            "2023-07-17 13:13:47,405 Evaluating as a multi-label problem: False\n",
            "2023-07-17 13:13:47,441 DEV : loss 0.3711771070957184 - f1-score (micro avg)  0.8917\n",
            "2023-07-17 13:13:47,461 BAD EPOCHS (no improvement): 0\n",
            "2023-07-17 13:13:47,462 saving best model\n"
          ]
        },
        {
          "output_type": "stream",
          "name": "stderr",
          "text": [
            "\n"
          ]
        },
        {
          "output_type": "stream",
          "name": "stdout",
          "text": [
            "2023-07-17 13:13:49,504 ----------------------------------------------------------------------------------------------------\n",
            "2023-07-17 13:13:50,588 epoch 37 - iter 2/24 - loss 0.46475678 - time (sec): 1.08 - samples/sec: 1817.84 - lr: 0.100000\n",
            "2023-07-17 13:13:51,169 epoch 37 - iter 4/24 - loss 0.45825508 - time (sec): 1.66 - samples/sec: 2394.26 - lr: 0.100000\n",
            "2023-07-17 13:13:51,662 epoch 37 - iter 6/24 - loss 0.47483305 - time (sec): 2.16 - samples/sec: 2734.05 - lr: 0.100000\n",
            "2023-07-17 13:13:52,122 epoch 37 - iter 8/24 - loss 0.46256937 - time (sec): 2.62 - samples/sec: 2888.52 - lr: 0.100000\n",
            "2023-07-17 13:13:52,517 epoch 37 - iter 10/24 - loss 0.45385110 - time (sec): 3.01 - samples/sec: 3104.24 - lr: 0.100000\n",
            "2023-07-17 13:13:52,890 epoch 37 - iter 12/24 - loss 0.45999574 - time (sec): 3.38 - samples/sec: 3379.69 - lr: 0.100000\n",
            "2023-07-17 13:13:53,260 epoch 37 - iter 14/24 - loss 0.45884609 - time (sec): 3.75 - samples/sec: 3584.31 - lr: 0.100000\n",
            "2023-07-17 13:13:53,651 epoch 37 - iter 16/24 - loss 0.45346398 - time (sec): 4.14 - samples/sec: 3681.58 - lr: 0.100000\n",
            "2023-07-17 13:13:53,959 epoch 37 - iter 18/24 - loss 0.45656570 - time (sec): 4.45 - samples/sec: 3821.41 - lr: 0.100000\n",
            "2023-07-17 13:13:54,301 epoch 37 - iter 20/24 - loss 0.45444362 - time (sec): 4.79 - samples/sec: 3926.76 - lr: 0.100000\n",
            "2023-07-17 13:13:54,599 epoch 37 - iter 22/24 - loss 0.45610640 - time (sec): 5.09 - samples/sec: 4051.91 - lr: 0.100000\n",
            "2023-07-17 13:13:54,894 epoch 37 - iter 24/24 - loss 0.45589738 - time (sec): 5.39 - samples/sec: 4113.84 - lr: 0.100000\n",
            "2023-07-17 13:13:54,895 ----------------------------------------------------------------------------------------------------\n",
            "2023-07-17 13:13:54,900 EPOCH 37 done: loss 0.4559 - lr 0.100000\n"
          ]
        },
        {
          "output_type": "stream",
          "name": "stderr",
          "text": [
            "100%|██████████| 5/5 [00:00<00:00,  6.00it/s]"
          ]
        },
        {
          "output_type": "stream",
          "name": "stdout",
          "text": [
            "2023-07-17 13:13:55,757 Evaluating as a multi-label problem: False\n",
            "2023-07-17 13:13:55,796 DEV : loss 0.39377522468566895 - f1-score (micro avg)  0.8847\n"
          ]
        },
        {
          "output_type": "stream",
          "name": "stderr",
          "text": [
            "\n"
          ]
        },
        {
          "output_type": "stream",
          "name": "stdout",
          "text": [
            "2023-07-17 13:13:55,815 BAD EPOCHS (no improvement): 1\n",
            "2023-07-17 13:13:55,817 ----------------------------------------------------------------------------------------------------\n",
            "2023-07-17 13:13:56,144 epoch 38 - iter 2/24 - loss 0.45325293 - time (sec): 0.33 - samples/sec: 6020.31 - lr: 0.100000\n",
            "2023-07-17 13:13:56,505 epoch 38 - iter 4/24 - loss 0.44384713 - time (sec): 0.69 - samples/sec: 5460.75 - lr: 0.100000\n",
            "2023-07-17 13:13:56,896 epoch 38 - iter 6/24 - loss 0.44595269 - time (sec): 1.08 - samples/sec: 5358.46 - lr: 0.100000\n",
            "2023-07-17 13:13:57,249 epoch 38 - iter 8/24 - loss 0.45591469 - time (sec): 1.43 - samples/sec: 5389.07 - lr: 0.100000\n",
            "2023-07-17 13:13:57,555 epoch 38 - iter 10/24 - loss 0.45957408 - time (sec): 1.74 - samples/sec: 5462.86 - lr: 0.100000\n",
            "2023-07-17 13:13:57,911 epoch 38 - iter 12/24 - loss 0.45450357 - time (sec): 2.09 - samples/sec: 5474.62 - lr: 0.100000\n",
            "2023-07-17 13:13:58,270 epoch 38 - iter 14/24 - loss 0.45573744 - time (sec): 2.45 - samples/sec: 5459.09 - lr: 0.100000\n",
            "2023-07-17 13:13:58,586 epoch 38 - iter 16/24 - loss 0.45308401 - time (sec): 2.77 - samples/sec: 5435.21 - lr: 0.100000\n",
            "2023-07-17 13:13:58,960 epoch 38 - iter 18/24 - loss 0.45272585 - time (sec): 3.14 - samples/sec: 5417.78 - lr: 0.100000\n",
            "2023-07-17 13:13:59,264 epoch 38 - iter 20/24 - loss 0.45515185 - time (sec): 3.45 - samples/sec: 5503.87 - lr: 0.100000\n",
            "2023-07-17 13:13:59,579 epoch 38 - iter 22/24 - loss 0.45944422 - time (sec): 3.76 - samples/sec: 5547.96 - lr: 0.100000\n",
            "2023-07-17 13:13:59,832 epoch 38 - iter 24/24 - loss 0.45937853 - time (sec): 4.01 - samples/sec: 5520.85 - lr: 0.100000\n",
            "2023-07-17 13:13:59,834 ----------------------------------------------------------------------------------------------------\n",
            "2023-07-17 13:13:59,840 EPOCH 38 done: loss 0.4594 - lr 0.100000\n"
          ]
        },
        {
          "output_type": "stream",
          "name": "stderr",
          "text": [
            "100%|██████████| 5/5 [00:00<00:00,  6.05it/s]"
          ]
        },
        {
          "output_type": "stream",
          "name": "stdout",
          "text": [
            "2023-07-17 13:14:00,685 Evaluating as a multi-label problem: False\n",
            "2023-07-17 13:14:00,721 DEV : loss 0.372745156288147 - f1-score (micro avg)  0.8935\n",
            "2023-07-17 13:14:00,740 BAD EPOCHS (no improvement): 0\n",
            "2023-07-17 13:14:00,741 saving best model\n"
          ]
        },
        {
          "output_type": "stream",
          "name": "stderr",
          "text": [
            "\n"
          ]
        },
        {
          "output_type": "stream",
          "name": "stdout",
          "text": [
            "2023-07-17 13:14:03,979 ----------------------------------------------------------------------------------------------------\n",
            "2023-07-17 13:14:04,623 epoch 39 - iter 2/24 - loss 0.42717598 - time (sec): 0.64 - samples/sec: 2768.21 - lr: 0.100000\n",
            "2023-07-17 13:14:05,162 epoch 39 - iter 4/24 - loss 0.42321771 - time (sec): 1.18 - samples/sec: 3193.96 - lr: 0.100000\n",
            "2023-07-17 13:14:05,650 epoch 39 - iter 6/24 - loss 0.43322300 - time (sec): 1.67 - samples/sec: 3439.70 - lr: 0.100000\n",
            "2023-07-17 13:14:06,093 epoch 39 - iter 8/24 - loss 0.43170727 - time (sec): 2.11 - samples/sec: 3674.93 - lr: 0.100000\n",
            "2023-07-17 13:14:06,429 epoch 39 - iter 10/24 - loss 0.43546601 - time (sec): 2.44 - samples/sec: 3909.65 - lr: 0.100000\n",
            "2023-07-17 13:14:06,836 epoch 39 - iter 12/24 - loss 0.42918119 - time (sec): 2.85 - samples/sec: 4084.66 - lr: 0.100000\n",
            "2023-07-17 13:14:07,188 epoch 39 - iter 14/24 - loss 0.42808493 - time (sec): 3.20 - samples/sec: 4163.14 - lr: 0.100000\n",
            "2023-07-17 13:14:07,534 epoch 39 - iter 16/24 - loss 0.43331798 - time (sec): 3.55 - samples/sec: 4284.18 - lr: 0.100000\n",
            "2023-07-17 13:14:07,841 epoch 39 - iter 18/24 - loss 0.43699712 - time (sec): 3.86 - samples/sec: 4455.82 - lr: 0.100000\n",
            "2023-07-17 13:14:08,154 epoch 39 - iter 20/24 - loss 0.44076470 - time (sec): 4.17 - samples/sec: 4558.27 - lr: 0.100000\n",
            "2023-07-17 13:14:08,479 epoch 39 - iter 22/24 - loss 0.44211177 - time (sec): 4.49 - samples/sec: 4627.51 - lr: 0.100000\n",
            "2023-07-17 13:14:08,791 epoch 39 - iter 24/24 - loss 0.44317691 - time (sec): 4.81 - samples/sec: 4609.73 - lr: 0.100000\n",
            "2023-07-17 13:14:08,794 ----------------------------------------------------------------------------------------------------\n",
            "2023-07-17 13:14:08,796 EPOCH 39 done: loss 0.4432 - lr 0.100000\n"
          ]
        },
        {
          "output_type": "stream",
          "name": "stderr",
          "text": [
            "100%|██████████| 5/5 [00:00<00:00,  5.86it/s]"
          ]
        },
        {
          "output_type": "stream",
          "name": "stdout",
          "text": [
            "2023-07-17 13:14:09,667 Evaluating as a multi-label problem: False\n",
            "2023-07-17 13:14:09,704 DEV : loss 0.3782918453216553 - f1-score (micro avg)  0.8879\n",
            "2023-07-17 13:14:09,724 BAD EPOCHS (no improvement): 1\n"
          ]
        },
        {
          "output_type": "stream",
          "name": "stderr",
          "text": [
            "\n"
          ]
        },
        {
          "output_type": "stream",
          "name": "stdout",
          "text": [
            "2023-07-17 13:14:09,726 ----------------------------------------------------------------------------------------------------\n",
            "2023-07-17 13:14:10,118 epoch 40 - iter 2/24 - loss 0.49288390 - time (sec): 0.39 - samples/sec: 5628.47 - lr: 0.100000\n",
            "2023-07-17 13:14:10,443 epoch 40 - iter 4/24 - loss 0.47039115 - time (sec): 0.71 - samples/sec: 5704.08 - lr: 0.100000\n",
            "2023-07-17 13:14:10,742 epoch 40 - iter 6/24 - loss 0.47920007 - time (sec): 1.01 - samples/sec: 5910.61 - lr: 0.100000\n",
            "2023-07-17 13:14:11,012 epoch 40 - iter 8/24 - loss 0.47163555 - time (sec): 1.28 - samples/sec: 5955.37 - lr: 0.100000\n",
            "2023-07-17 13:14:11,317 epoch 40 - iter 10/24 - loss 0.46803242 - time (sec): 1.59 - samples/sec: 5910.15 - lr: 0.100000\n",
            "2023-07-17 13:14:11,705 epoch 40 - iter 12/24 - loss 0.46587765 - time (sec): 1.98 - samples/sec: 5768.99 - lr: 0.100000\n",
            "2023-07-17 13:14:12,023 epoch 40 - iter 14/24 - loss 0.46152344 - time (sec): 2.29 - samples/sec: 5727.96 - lr: 0.100000\n",
            "2023-07-17 13:14:12,369 epoch 40 - iter 16/24 - loss 0.45466758 - time (sec): 2.64 - samples/sec: 5788.27 - lr: 0.100000\n",
            "2023-07-17 13:14:12,667 epoch 40 - iter 18/24 - loss 0.45011679 - time (sec): 2.94 - samples/sec: 5830.21 - lr: 0.100000\n",
            "2023-07-17 13:14:13,023 epoch 40 - iter 20/24 - loss 0.44639107 - time (sec): 3.29 - samples/sec: 5780.32 - lr: 0.100000\n",
            "2023-07-17 13:14:13,323 epoch 40 - iter 22/24 - loss 0.44517791 - time (sec): 3.59 - samples/sec: 5820.48 - lr: 0.100000\n",
            "2023-07-17 13:14:13,556 epoch 40 - iter 24/24 - loss 0.44334017 - time (sec): 3.83 - samples/sec: 5789.14 - lr: 0.100000\n",
            "2023-07-17 13:14:13,558 ----------------------------------------------------------------------------------------------------\n",
            "2023-07-17 13:14:13,565 EPOCH 40 done: loss 0.4433 - lr 0.100000\n"
          ]
        },
        {
          "output_type": "stream",
          "name": "stderr",
          "text": [
            "100%|██████████| 5/5 [00:00<00:00,  6.18it/s]"
          ]
        },
        {
          "output_type": "stream",
          "name": "stdout",
          "text": [
            "2023-07-17 13:14:14,393 Evaluating as a multi-label problem: False\n",
            "2023-07-17 13:14:14,454 DEV : loss 0.37303319573402405 - f1-score (micro avg)  0.8911\n"
          ]
        },
        {
          "output_type": "stream",
          "name": "stderr",
          "text": [
            "\n"
          ]
        },
        {
          "output_type": "stream",
          "name": "stdout",
          "text": [
            "2023-07-17 13:14:14,478 BAD EPOCHS (no improvement): 2\n",
            "2023-07-17 13:14:14,480 ----------------------------------------------------------------------------------------------------\n",
            "2023-07-17 13:14:14,817 epoch 41 - iter 2/24 - loss 0.42973418 - time (sec): 0.34 - samples/sec: 5760.00 - lr: 0.100000\n",
            "2023-07-17 13:14:15,151 epoch 41 - iter 4/24 - loss 0.43393656 - time (sec): 0.67 - samples/sec: 5904.62 - lr: 0.100000\n",
            "2023-07-17 13:14:15,555 epoch 41 - iter 6/24 - loss 0.42844955 - time (sec): 1.07 - samples/sec: 5721.48 - lr: 0.100000\n",
            "2023-07-17 13:14:15,907 epoch 41 - iter 8/24 - loss 0.42246876 - time (sec): 1.43 - samples/sec: 5648.51 - lr: 0.100000\n",
            "2023-07-17 13:14:16,289 epoch 41 - iter 10/24 - loss 0.42199666 - time (sec): 1.81 - samples/sec: 5425.86 - lr: 0.100000\n",
            "2023-07-17 13:14:16,764 epoch 41 - iter 12/24 - loss 0.42894673 - time (sec): 2.28 - samples/sec: 5126.50 - lr: 0.100000\n",
            "2023-07-17 13:14:17,189 epoch 41 - iter 14/24 - loss 0.42803109 - time (sec): 2.71 - samples/sec: 4967.93 - lr: 0.100000\n",
            "2023-07-17 13:14:17,640 epoch 41 - iter 16/24 - loss 0.43573285 - time (sec): 3.16 - samples/sec: 4840.39 - lr: 0.100000\n",
            "2023-07-17 13:14:18,101 epoch 41 - iter 18/24 - loss 0.44204347 - time (sec): 3.62 - samples/sec: 4734.26 - lr: 0.100000\n",
            "2023-07-17 13:14:18,620 epoch 41 - iter 20/24 - loss 0.44367049 - time (sec): 4.14 - samples/sec: 4633.94 - lr: 0.100000\n",
            "2023-07-17 13:14:19,044 epoch 41 - iter 22/24 - loss 0.44333930 - time (sec): 4.56 - samples/sec: 4578.77 - lr: 0.100000\n",
            "2023-07-17 13:14:19,464 epoch 41 - iter 24/24 - loss 0.44550233 - time (sec): 4.98 - samples/sec: 4447.10 - lr: 0.100000\n",
            "2023-07-17 13:14:19,467 ----------------------------------------------------------------------------------------------------\n",
            "2023-07-17 13:14:19,471 EPOCH 41 done: loss 0.4455 - lr 0.100000\n"
          ]
        },
        {
          "output_type": "stream",
          "name": "stderr",
          "text": [
            "100%|██████████| 5/5 [00:01<00:00,  4.63it/s]"
          ]
        },
        {
          "output_type": "stream",
          "name": "stdout",
          "text": [
            "2023-07-17 13:14:20,571 Evaluating as a multi-label problem: False\n",
            "2023-07-17 13:14:20,607 DEV : loss 0.3617585599422455 - f1-score (micro avg)  0.8954\n"
          ]
        },
        {
          "output_type": "stream",
          "name": "stderr",
          "text": [
            "\n"
          ]
        },
        {
          "output_type": "stream",
          "name": "stdout",
          "text": [
            "2023-07-17 13:14:20,638 BAD EPOCHS (no improvement): 0\n",
            "2023-07-17 13:14:20,640 saving best model\n",
            "2023-07-17 13:14:22,225 ----------------------------------------------------------------------------------------------------\n",
            "2023-07-17 13:14:22,671 epoch 42 - iter 2/24 - loss 0.44251727 - time (sec): 0.44 - samples/sec: 4346.57 - lr: 0.100000\n",
            "2023-07-17 13:14:23,049 epoch 42 - iter 4/24 - loss 0.45652178 - time (sec): 0.82 - samples/sec: 4843.75 - lr: 0.100000\n",
            "2023-07-17 13:14:23,413 epoch 42 - iter 6/24 - loss 0.45081803 - time (sec): 1.19 - samples/sec: 4881.45 - lr: 0.100000\n",
            "2023-07-17 13:14:23,720 epoch 42 - iter 8/24 - loss 0.43543313 - time (sec): 1.49 - samples/sec: 5093.20 - lr: 0.100000\n",
            "2023-07-17 13:14:24,049 epoch 42 - iter 10/24 - loss 0.44431596 - time (sec): 1.82 - samples/sec: 5124.72 - lr: 0.100000\n",
            "2023-07-17 13:14:24,400 epoch 42 - iter 12/24 - loss 0.44099257 - time (sec): 2.17 - samples/sec: 5131.83 - lr: 0.100000\n",
            "2023-07-17 13:14:24,717 epoch 42 - iter 14/24 - loss 0.42757685 - time (sec): 2.49 - samples/sec: 5220.67 - lr: 0.100000\n",
            "2023-07-17 13:14:25,072 epoch 42 - iter 16/24 - loss 0.42059801 - time (sec): 2.85 - samples/sec: 5261.72 - lr: 0.100000\n",
            "2023-07-17 13:14:25,395 epoch 42 - iter 18/24 - loss 0.41398600 - time (sec): 3.17 - samples/sec: 5370.77 - lr: 0.100000\n",
            "2023-07-17 13:14:25,701 epoch 42 - iter 20/24 - loss 0.42048253 - time (sec): 3.47 - samples/sec: 5452.54 - lr: 0.100000\n",
            "2023-07-17 13:14:26,040 epoch 42 - iter 22/24 - loss 0.42608377 - time (sec): 3.81 - samples/sec: 5465.06 - lr: 0.100000\n",
            "2023-07-17 13:14:26,297 epoch 42 - iter 24/24 - loss 0.42853310 - time (sec): 4.07 - samples/sec: 5444.10 - lr: 0.100000\n",
            "2023-07-17 13:14:26,299 ----------------------------------------------------------------------------------------------------\n",
            "2023-07-17 13:14:26,301 EPOCH 42 done: loss 0.4285 - lr 0.100000\n"
          ]
        },
        {
          "output_type": "stream",
          "name": "stderr",
          "text": [
            "100%|██████████| 5/5 [00:00<00:00,  6.07it/s]"
          ]
        },
        {
          "output_type": "stream",
          "name": "stdout",
          "text": [
            "2023-07-17 13:14:27,142 Evaluating as a multi-label problem: False\n",
            "2023-07-17 13:14:27,178 DEV : loss 0.36160755157470703 - f1-score (micro avg)  0.8967\n",
            "2023-07-17 13:14:27,197 BAD EPOCHS (no improvement): 0\n",
            "2023-07-17 13:14:27,199 saving best model\n"
          ]
        },
        {
          "output_type": "stream",
          "name": "stderr",
          "text": [
            "\n"
          ]
        },
        {
          "output_type": "stream",
          "name": "stdout",
          "text": [
            "2023-07-17 13:14:29,907 ----------------------------------------------------------------------------------------------------\n",
            "2023-07-17 13:14:30,350 epoch 43 - iter 2/24 - loss 0.43601975 - time (sec): 0.44 - samples/sec: 4452.33 - lr: 0.100000\n",
            "2023-07-17 13:14:30,861 epoch 43 - iter 4/24 - loss 0.43868283 - time (sec): 0.95 - samples/sec: 4088.41 - lr: 0.100000\n",
            "2023-07-17 13:14:31,276 epoch 43 - iter 6/24 - loss 0.45306113 - time (sec): 1.37 - samples/sec: 4215.30 - lr: 0.100000\n",
            "2023-07-17 13:14:31,731 epoch 43 - iter 8/24 - loss 0.44200570 - time (sec): 1.82 - samples/sec: 4158.56 - lr: 0.100000\n",
            "2023-07-17 13:14:32,203 epoch 43 - iter 10/24 - loss 0.43912491 - time (sec): 2.29 - samples/sec: 4158.17 - lr: 0.100000\n",
            "2023-07-17 13:14:32,718 epoch 43 - iter 12/24 - loss 0.42797558 - time (sec): 2.81 - samples/sec: 4080.40 - lr: 0.100000\n",
            "2023-07-17 13:14:33,188 epoch 43 - iter 14/24 - loss 0.42352659 - time (sec): 3.28 - samples/sec: 4044.07 - lr: 0.100000\n",
            "2023-07-17 13:14:33,683 epoch 43 - iter 16/24 - loss 0.42452684 - time (sec): 3.78 - samples/sec: 3997.07 - lr: 0.100000\n",
            "2023-07-17 13:14:34,220 epoch 43 - iter 18/24 - loss 0.42516710 - time (sec): 4.31 - samples/sec: 3923.70 - lr: 0.100000\n",
            "2023-07-17 13:14:34,679 epoch 43 - iter 20/24 - loss 0.42416541 - time (sec): 4.77 - samples/sec: 3916.04 - lr: 0.100000\n",
            "2023-07-17 13:14:35,086 epoch 43 - iter 22/24 - loss 0.42005004 - time (sec): 5.18 - samples/sec: 3975.03 - lr: 0.100000\n",
            "2023-07-17 13:14:35,378 epoch 43 - iter 24/24 - loss 0.42561956 - time (sec): 5.47 - samples/sec: 4051.70 - lr: 0.100000\n",
            "2023-07-17 13:14:35,379 ----------------------------------------------------------------------------------------------------\n",
            "2023-07-17 13:14:35,385 EPOCH 43 done: loss 0.4256 - lr 0.100000\n"
          ]
        },
        {
          "output_type": "stream",
          "name": "stderr",
          "text": [
            "100%|██████████| 5/5 [00:00<00:00,  5.94it/s]"
          ]
        },
        {
          "output_type": "stream",
          "name": "stdout",
          "text": [
            "2023-07-17 13:14:36,245 Evaluating as a multi-label problem: False\n",
            "2023-07-17 13:14:36,281 DEV : loss 0.3671795427799225 - f1-score (micro avg)  0.8895\n",
            "2023-07-17 13:14:36,299 BAD EPOCHS (no improvement): 1\n",
            "2023-07-17 13:14:36,301 ----------------------------------------------------------------------------------------------------\n"
          ]
        },
        {
          "output_type": "stream",
          "name": "stderr",
          "text": [
            "\n"
          ]
        },
        {
          "output_type": "stream",
          "name": "stdout",
          "text": [
            "2023-07-17 13:14:36,727 epoch 44 - iter 2/24 - loss 0.44209456 - time (sec): 0.42 - samples/sec: 4926.68 - lr: 0.100000\n",
            "2023-07-17 13:14:37,071 epoch 44 - iter 4/24 - loss 0.41369613 - time (sec): 0.77 - samples/sec: 5114.31 - lr: 0.100000\n",
            "2023-07-17 13:14:37,405 epoch 44 - iter 6/24 - loss 0.41300681 - time (sec): 1.10 - samples/sec: 5013.21 - lr: 0.100000\n",
            "2023-07-17 13:14:37,773 epoch 44 - iter 8/24 - loss 0.40032375 - time (sec): 1.47 - samples/sec: 4985.63 - lr: 0.100000\n",
            "2023-07-17 13:14:38,115 epoch 44 - iter 10/24 - loss 0.40016944 - time (sec): 1.81 - samples/sec: 5053.26 - lr: 0.100000\n",
            "2023-07-17 13:14:38,406 epoch 44 - iter 12/24 - loss 0.40672152 - time (sec): 2.10 - samples/sec: 5220.75 - lr: 0.100000\n",
            "2023-07-17 13:14:38,701 epoch 44 - iter 14/24 - loss 0.41433417 - time (sec): 2.40 - samples/sec: 5383.84 - lr: 0.100000\n",
            "2023-07-17 13:14:39,047 epoch 44 - iter 16/24 - loss 0.42337488 - time (sec): 2.74 - samples/sec: 5438.37 - lr: 0.100000\n",
            "2023-07-17 13:14:39,394 epoch 44 - iter 18/24 - loss 0.42129319 - time (sec): 3.09 - samples/sec: 5466.48 - lr: 0.100000\n",
            "2023-07-17 13:14:39,702 epoch 44 - iter 20/24 - loss 0.42249475 - time (sec): 3.40 - samples/sec: 5528.10 - lr: 0.100000\n",
            "2023-07-17 13:14:40,040 epoch 44 - iter 22/24 - loss 0.42077003 - time (sec): 3.74 - samples/sec: 5564.55 - lr: 0.100000\n",
            "2023-07-17 13:14:40,302 epoch 44 - iter 24/24 - loss 0.41888769 - time (sec): 4.00 - samples/sec: 5540.53 - lr: 0.100000\n",
            "2023-07-17 13:14:40,304 ----------------------------------------------------------------------------------------------------\n",
            "2023-07-17 13:14:40,309 EPOCH 44 done: loss 0.4189 - lr 0.100000\n"
          ]
        },
        {
          "output_type": "stream",
          "name": "stderr",
          "text": [
            "100%|██████████| 5/5 [00:01<00:00,  4.01it/s]"
          ]
        },
        {
          "output_type": "stream",
          "name": "stdout",
          "text": [
            "2023-07-17 13:14:41,577 Evaluating as a multi-label problem: False\n",
            "2023-07-17 13:14:41,614 DEV : loss 0.3645848035812378 - f1-score (micro avg)  0.8946\n"
          ]
        },
        {
          "output_type": "stream",
          "name": "stderr",
          "text": [
            "\n"
          ]
        },
        {
          "output_type": "stream",
          "name": "stdout",
          "text": [
            "2023-07-17 13:14:41,637 BAD EPOCHS (no improvement): 2\n",
            "2023-07-17 13:14:41,639 ----------------------------------------------------------------------------------------------------\n",
            "2023-07-17 13:14:41,996 epoch 45 - iter 2/24 - loss 0.41893111 - time (sec): 0.36 - samples/sec: 5225.13 - lr: 0.100000\n",
            "2023-07-17 13:14:42,378 epoch 45 - iter 4/24 - loss 0.42009006 - time (sec): 0.74 - samples/sec: 5162.40 - lr: 0.100000\n",
            "2023-07-17 13:14:42,741 epoch 45 - iter 6/24 - loss 0.41534128 - time (sec): 1.10 - samples/sec: 5268.57 - lr: 0.100000\n",
            "2023-07-17 13:14:43,104 epoch 45 - iter 8/24 - loss 0.41975471 - time (sec): 1.46 - samples/sec: 5228.89 - lr: 0.100000\n",
            "2023-07-17 13:14:43,450 epoch 45 - iter 10/24 - loss 0.41584778 - time (sec): 1.81 - samples/sec: 5354.43 - lr: 0.100000\n",
            "2023-07-17 13:14:43,783 epoch 45 - iter 12/24 - loss 0.41743017 - time (sec): 2.14 - samples/sec: 5411.11 - lr: 0.100000\n",
            "2023-07-17 13:14:44,091 epoch 45 - iter 14/24 - loss 0.41333974 - time (sec): 2.45 - samples/sec: 5486.79 - lr: 0.100000\n",
            "2023-07-17 13:14:44,416 epoch 45 - iter 16/24 - loss 0.41108029 - time (sec): 2.78 - samples/sec: 5446.74 - lr: 0.100000\n",
            "2023-07-17 13:14:44,830 epoch 45 - iter 18/24 - loss 0.41015706 - time (sec): 3.19 - samples/sec: 5318.66 - lr: 0.100000\n",
            "2023-07-17 13:14:45,333 epoch 45 - iter 20/24 - loss 0.41001475 - time (sec): 3.69 - samples/sec: 5086.75 - lr: 0.100000\n",
            "2023-07-17 13:14:45,802 epoch 45 - iter 22/24 - loss 0.41218814 - time (sec): 4.16 - samples/sec: 4992.82 - lr: 0.100000\n",
            "2023-07-17 13:14:46,148 epoch 45 - iter 24/24 - loss 0.41152152 - time (sec): 4.51 - samples/sec: 4916.28 - lr: 0.100000\n",
            "2023-07-17 13:14:46,150 ----------------------------------------------------------------------------------------------------\n",
            "2023-07-17 13:14:46,152 EPOCH 45 done: loss 0.4115 - lr 0.100000\n"
          ]
        },
        {
          "output_type": "stream",
          "name": "stderr",
          "text": [
            "100%|██████████| 5/5 [00:01<00:00,  3.91it/s]"
          ]
        },
        {
          "output_type": "stream",
          "name": "stdout",
          "text": [
            "2023-07-17 13:14:47,454 Evaluating as a multi-label problem: False\n",
            "2023-07-17 13:14:47,514 DEV : loss 0.3563861548900604 - f1-score (micro avg)  0.8943\n",
            "2023-07-17 13:14:47,549 BAD EPOCHS (no improvement): 3\n",
            "2023-07-17 13:14:47,554 ----------------------------------------------------------------------------------------------------\n"
          ]
        },
        {
          "output_type": "stream",
          "name": "stderr",
          "text": [
            "\n"
          ]
        },
        {
          "output_type": "stream",
          "name": "stdout",
          "text": [
            "2023-07-17 13:14:48,122 epoch 46 - iter 2/24 - loss 0.42648094 - time (sec): 0.57 - samples/sec: 3556.51 - lr: 0.100000\n",
            "2023-07-17 13:14:48,666 epoch 46 - iter 4/24 - loss 0.43329874 - time (sec): 1.11 - samples/sec: 3617.16 - lr: 0.100000\n",
            "2023-07-17 13:14:49,103 epoch 46 - iter 6/24 - loss 0.43322971 - time (sec): 1.55 - samples/sec: 3816.06 - lr: 0.100000\n",
            "2023-07-17 13:14:49,466 epoch 46 - iter 8/24 - loss 0.41662094 - time (sec): 1.91 - samples/sec: 4088.83 - lr: 0.100000\n",
            "2023-07-17 13:14:49,849 epoch 46 - iter 10/24 - loss 0.41605878 - time (sec): 2.29 - samples/sec: 4209.56 - lr: 0.100000\n",
            "2023-07-17 13:14:50,225 epoch 46 - iter 12/24 - loss 0.42290025 - time (sec): 2.67 - samples/sec: 4328.93 - lr: 0.100000\n",
            "2023-07-17 13:14:50,594 epoch 46 - iter 14/24 - loss 0.41834833 - time (sec): 3.04 - samples/sec: 4363.50 - lr: 0.100000\n",
            "2023-07-17 13:14:50,949 epoch 46 - iter 16/24 - loss 0.41926484 - time (sec): 3.39 - samples/sec: 4439.03 - lr: 0.100000\n",
            "2023-07-17 13:14:51,309 epoch 46 - iter 18/24 - loss 0.41376352 - time (sec): 3.75 - samples/sec: 4549.01 - lr: 0.100000\n",
            "2023-07-17 13:14:51,589 epoch 46 - iter 20/24 - loss 0.40758451 - time (sec): 4.03 - samples/sec: 4656.90 - lr: 0.100000\n",
            "2023-07-17 13:14:51,907 epoch 46 - iter 22/24 - loss 0.40918207 - time (sec): 4.35 - samples/sec: 4751.93 - lr: 0.100000\n",
            "2023-07-17 13:14:52,170 epoch 46 - iter 24/24 - loss 0.40965043 - time (sec): 4.61 - samples/sec: 4802.95 - lr: 0.100000\n",
            "2023-07-17 13:14:52,171 ----------------------------------------------------------------------------------------------------\n",
            "2023-07-17 13:14:52,176 EPOCH 46 done: loss 0.4097 - lr 0.100000\n"
          ]
        },
        {
          "output_type": "stream",
          "name": "stderr",
          "text": [
            "100%|██████████| 5/5 [00:00<00:00,  5.90it/s]"
          ]
        },
        {
          "output_type": "stream",
          "name": "stdout",
          "text": [
            "2023-07-17 13:14:53,049 Evaluating as a multi-label problem: False\n",
            "2023-07-17 13:14:53,085 DEV : loss 0.3725084364414215 - f1-score (micro avg)  0.8949\n"
          ]
        },
        {
          "output_type": "stream",
          "name": "stderr",
          "text": [
            "\n"
          ]
        },
        {
          "output_type": "stream",
          "name": "stdout",
          "text": [
            "2023-07-17 13:14:53,103 Epoch    46: reducing learning rate of group 0 to 5.0000e-02.\n",
            "2023-07-17 13:14:53,105 BAD EPOCHS (no improvement): 4\n",
            "2023-07-17 13:14:53,109 ----------------------------------------------------------------------------------------------------\n",
            "2023-07-17 13:14:53,486 epoch 47 - iter 2/24 - loss 0.37693531 - time (sec): 0.38 - samples/sec: 4818.01 - lr: 0.050000\n",
            "2023-07-17 13:14:53,850 epoch 47 - iter 4/24 - loss 0.38082479 - time (sec): 0.74 - samples/sec: 5190.97 - lr: 0.050000\n",
            "2023-07-17 13:14:54,197 epoch 47 - iter 6/24 - loss 0.39618570 - time (sec): 1.09 - samples/sec: 5280.09 - lr: 0.050000\n",
            "2023-07-17 13:14:54,518 epoch 47 - iter 8/24 - loss 0.39406819 - time (sec): 1.41 - samples/sec: 5308.88 - lr: 0.050000\n",
            "2023-07-17 13:14:54,865 epoch 47 - iter 10/24 - loss 0.38116818 - time (sec): 1.75 - samples/sec: 5310.17 - lr: 0.050000\n",
            "2023-07-17 13:14:55,216 epoch 47 - iter 12/24 - loss 0.38460337 - time (sec): 2.11 - samples/sec: 5378.43 - lr: 0.050000\n",
            "2023-07-17 13:14:55,566 epoch 47 - iter 14/24 - loss 0.39265287 - time (sec): 2.46 - samples/sec: 5444.99 - lr: 0.050000\n",
            "2023-07-17 13:14:55,927 epoch 47 - iter 16/24 - loss 0.39612489 - time (sec): 2.82 - samples/sec: 5441.76 - lr: 0.050000\n",
            "2023-07-17 13:14:56,219 epoch 47 - iter 18/24 - loss 0.39230336 - time (sec): 3.11 - samples/sec: 5492.33 - lr: 0.050000\n",
            "2023-07-17 13:14:56,528 epoch 47 - iter 20/24 - loss 0.38865271 - time (sec): 3.42 - samples/sec: 5554.50 - lr: 0.050000\n",
            "2023-07-17 13:14:56,830 epoch 47 - iter 22/24 - loss 0.38405593 - time (sec): 3.72 - samples/sec: 5557.51 - lr: 0.050000\n",
            "2023-07-17 13:14:57,085 epoch 47 - iter 24/24 - loss 0.38611049 - time (sec): 3.97 - samples/sec: 5576.09 - lr: 0.050000\n",
            "2023-07-17 13:14:57,086 ----------------------------------------------------------------------------------------------------\n",
            "2023-07-17 13:14:57,092 EPOCH 47 done: loss 0.3861 - lr 0.050000\n"
          ]
        },
        {
          "output_type": "stream",
          "name": "stderr",
          "text": [
            "100%|██████████| 5/5 [00:00<00:00,  5.78it/s]"
          ]
        },
        {
          "output_type": "stream",
          "name": "stdout",
          "text": [
            "2023-07-17 13:14:57,978 Evaluating as a multi-label problem: False\n",
            "2023-07-17 13:14:58,014 DEV : loss 0.34660881757736206 - f1-score (micro avg)  0.8973\n",
            "2023-07-17 13:14:58,038 BAD EPOCHS (no improvement): 0\n"
          ]
        },
        {
          "output_type": "stream",
          "name": "stderr",
          "text": [
            "\n"
          ]
        },
        {
          "output_type": "stream",
          "name": "stdout",
          "text": [
            "2023-07-17 13:14:58,039 saving best model\n",
            "2023-07-17 13:14:59,660 ----------------------------------------------------------------------------------------------------\n",
            "2023-07-17 13:15:00,206 epoch 48 - iter 2/24 - loss 0.40936614 - time (sec): 0.54 - samples/sec: 3483.91 - lr: 0.050000\n",
            "2023-07-17 13:15:00,709 epoch 48 - iter 4/24 - loss 0.41832195 - time (sec): 1.05 - samples/sec: 3583.29 - lr: 0.050000\n",
            "2023-07-17 13:15:01,156 epoch 48 - iter 6/24 - loss 0.40295662 - time (sec): 1.49 - samples/sec: 3703.55 - lr: 0.050000\n",
            "2023-07-17 13:15:01,638 epoch 48 - iter 8/24 - loss 0.40357941 - time (sec): 1.98 - samples/sec: 3692.02 - lr: 0.050000\n",
            "2023-07-17 13:15:02,225 epoch 48 - iter 10/24 - loss 0.39937491 - time (sec): 2.56 - samples/sec: 3644.27 - lr: 0.050000\n",
            "2023-07-17 13:15:02,740 epoch 48 - iter 12/24 - loss 0.39553457 - time (sec): 3.08 - samples/sec: 3658.46 - lr: 0.050000\n",
            "2023-07-17 13:15:03,277 epoch 48 - iter 14/24 - loss 0.39998966 - time (sec): 3.62 - samples/sec: 3650.66 - lr: 0.050000\n",
            "2023-07-17 13:15:03,679 epoch 48 - iter 16/24 - loss 0.39461579 - time (sec): 4.02 - samples/sec: 3761.62 - lr: 0.050000\n",
            "2023-07-17 13:15:04,064 epoch 48 - iter 18/24 - loss 0.39182563 - time (sec): 4.40 - samples/sec: 3840.14 - lr: 0.050000\n",
            "2023-07-17 13:15:04,387 epoch 48 - iter 20/24 - loss 0.39432860 - time (sec): 4.73 - samples/sec: 3961.02 - lr: 0.050000\n",
            "2023-07-17 13:15:04,718 epoch 48 - iter 22/24 - loss 0.39262184 - time (sec): 5.06 - samples/sec: 4104.68 - lr: 0.050000\n",
            "2023-07-17 13:15:05,012 epoch 48 - iter 24/24 - loss 0.39151847 - time (sec): 5.35 - samples/sec: 4141.86 - lr: 0.050000\n",
            "2023-07-17 13:15:05,014 ----------------------------------------------------------------------------------------------------\n",
            "2023-07-17 13:15:05,020 EPOCH 48 done: loss 0.3915 - lr 0.050000\n"
          ]
        },
        {
          "output_type": "stream",
          "name": "stderr",
          "text": [
            "100%|██████████| 5/5 [00:00<00:00,  6.12it/s]"
          ]
        },
        {
          "output_type": "stream",
          "name": "stdout",
          "text": [
            "2023-07-17 13:15:05,859 Evaluating as a multi-label problem: False\n",
            "2023-07-17 13:15:05,901 DEV : loss 0.343548983335495 - f1-score (micro avg)  0.9013\n"
          ]
        },
        {
          "output_type": "stream",
          "name": "stderr",
          "text": [
            "\n"
          ]
        },
        {
          "output_type": "stream",
          "name": "stdout",
          "text": [
            "2023-07-17 13:15:05,928 BAD EPOCHS (no improvement): 0\n",
            "2023-07-17 13:15:05,930 saving best model\n",
            "2023-07-17 13:15:07,542 ----------------------------------------------------------------------------------------------------\n",
            "2023-07-17 13:15:07,953 epoch 49 - iter 2/24 - loss 0.36097360 - time (sec): 0.41 - samples/sec: 4268.87 - lr: 0.050000\n",
            "2023-07-17 13:15:08,285 epoch 49 - iter 4/24 - loss 0.37738002 - time (sec): 0.74 - samples/sec: 4685.21 - lr: 0.050000\n",
            "2023-07-17 13:15:08,645 epoch 49 - iter 6/24 - loss 0.39298186 - time (sec): 1.10 - samples/sec: 5019.65 - lr: 0.050000\n",
            "2023-07-17 13:15:09,035 epoch 49 - iter 8/24 - loss 0.38467344 - time (sec): 1.49 - samples/sec: 4950.78 - lr: 0.050000\n",
            "2023-07-17 13:15:09,362 epoch 49 - iter 10/24 - loss 0.38227520 - time (sec): 1.82 - samples/sec: 5096.79 - lr: 0.050000\n",
            "2023-07-17 13:15:09,722 epoch 49 - iter 12/24 - loss 0.38139764 - time (sec): 2.18 - samples/sec: 5207.51 - lr: 0.050000\n",
            "2023-07-17 13:15:10,070 epoch 49 - iter 14/24 - loss 0.38278032 - time (sec): 2.53 - samples/sec: 5239.56 - lr: 0.050000\n",
            "2023-07-17 13:15:10,414 epoch 49 - iter 16/24 - loss 0.38525637 - time (sec): 2.87 - samples/sec: 5308.89 - lr: 0.050000\n",
            "2023-07-17 13:15:10,770 epoch 49 - iter 18/24 - loss 0.38530942 - time (sec): 3.23 - samples/sec: 5344.96 - lr: 0.050000\n",
            "2023-07-17 13:15:11,051 epoch 49 - iter 20/24 - loss 0.38064207 - time (sec): 3.51 - samples/sec: 5381.73 - lr: 0.050000\n",
            "2023-07-17 13:15:11,348 epoch 49 - iter 22/24 - loss 0.38109975 - time (sec): 3.80 - samples/sec: 5403.03 - lr: 0.050000\n",
            "2023-07-17 13:15:11,638 epoch 49 - iter 24/24 - loss 0.37671004 - time (sec): 4.09 - samples/sec: 5413.07 - lr: 0.050000\n",
            "2023-07-17 13:15:11,642 ----------------------------------------------------------------------------------------------------\n",
            "2023-07-17 13:15:11,644 EPOCH 49 done: loss 0.3767 - lr 0.050000\n"
          ]
        },
        {
          "output_type": "stream",
          "name": "stderr",
          "text": [
            "100%|██████████| 5/5 [00:00<00:00,  6.04it/s]"
          ]
        },
        {
          "output_type": "stream",
          "name": "stdout",
          "text": [
            "2023-07-17 13:15:12,494 Evaluating as a multi-label problem: False\n",
            "2023-07-17 13:15:12,531 DEV : loss 0.34215331077575684 - f1-score (micro avg)  0.8991\n"
          ]
        },
        {
          "output_type": "stream",
          "name": "stderr",
          "text": [
            "\n"
          ]
        },
        {
          "output_type": "stream",
          "name": "stdout",
          "text": [
            "2023-07-17 13:15:12,551 BAD EPOCHS (no improvement): 1\n",
            "2023-07-17 13:15:12,554 ----------------------------------------------------------------------------------------------------\n",
            "2023-07-17 13:15:12,930 epoch 50 - iter 2/24 - loss 0.38957872 - time (sec): 0.37 - samples/sec: 5143.86 - lr: 0.050000\n",
            "2023-07-17 13:15:13,276 epoch 50 - iter 4/24 - loss 0.39036432 - time (sec): 0.72 - samples/sec: 5386.32 - lr: 0.050000\n",
            "2023-07-17 13:15:13,706 epoch 50 - iter 6/24 - loss 0.38517185 - time (sec): 1.15 - samples/sec: 5120.54 - lr: 0.050000\n",
            "2023-07-17 13:15:14,127 epoch 50 - iter 8/24 - loss 0.38612543 - time (sec): 1.57 - samples/sec: 4946.07 - lr: 0.050000\n",
            "2023-07-17 13:15:14,626 epoch 50 - iter 10/24 - loss 0.38677430 - time (sec): 2.06 - samples/sec: 4631.52 - lr: 0.050000\n",
            "2023-07-17 13:15:15,056 epoch 50 - iter 12/24 - loss 0.37684995 - time (sec): 2.50 - samples/sec: 4566.67 - lr: 0.050000\n",
            "2023-07-17 13:15:15,543 epoch 50 - iter 14/24 - loss 0.37797446 - time (sec): 2.98 - samples/sec: 4469.41 - lr: 0.050000\n",
            "2023-07-17 13:15:16,049 epoch 50 - iter 16/24 - loss 0.38041229 - time (sec): 3.49 - samples/sec: 4348.47 - lr: 0.050000\n",
            "2023-07-17 13:15:16,531 epoch 50 - iter 18/24 - loss 0.37624931 - time (sec): 3.97 - samples/sec: 4260.26 - lr: 0.050000\n",
            "2023-07-17 13:15:17,052 epoch 50 - iter 20/24 - loss 0.37670349 - time (sec): 4.49 - samples/sec: 4184.80 - lr: 0.050000\n",
            "2023-07-17 13:15:17,567 epoch 50 - iter 22/24 - loss 0.37552772 - time (sec): 5.01 - samples/sec: 4115.56 - lr: 0.050000\n",
            "2023-07-17 13:15:17,971 epoch 50 - iter 24/24 - loss 0.37411124 - time (sec): 5.41 - samples/sec: 4095.61 - lr: 0.050000\n",
            "2023-07-17 13:15:17,973 ----------------------------------------------------------------------------------------------------\n",
            "2023-07-17 13:15:17,979 EPOCH 50 done: loss 0.3741 - lr 0.050000\n"
          ]
        },
        {
          "output_type": "stream",
          "name": "stderr",
          "text": [
            "100%|██████████| 5/5 [00:00<00:00,  5.77it/s]"
          ]
        },
        {
          "output_type": "stream",
          "name": "stdout",
          "text": [
            "2023-07-17 13:15:18,865 Evaluating as a multi-label problem: False\n",
            "2023-07-17 13:15:18,902 DEV : loss 0.3454987108707428 - f1-score (micro avg)  0.8994\n"
          ]
        },
        {
          "output_type": "stream",
          "name": "stderr",
          "text": [
            "\n"
          ]
        },
        {
          "output_type": "stream",
          "name": "stdout",
          "text": [
            "2023-07-17 13:15:18,931 BAD EPOCHS (no improvement): 2\n",
            "2023-07-17 13:15:18,933 ----------------------------------------------------------------------------------------------------\n",
            "2023-07-17 13:15:19,313 epoch 51 - iter 2/24 - loss 0.40399932 - time (sec): 0.38 - samples/sec: 5051.32 - lr: 0.050000\n",
            "2023-07-17 13:15:19,661 epoch 51 - iter 4/24 - loss 0.37105617 - time (sec): 0.73 - samples/sec: 5312.07 - lr: 0.050000\n",
            "2023-07-17 13:15:19,989 epoch 51 - iter 6/24 - loss 0.38452845 - time (sec): 1.05 - samples/sec: 5215.35 - lr: 0.050000\n",
            "2023-07-17 13:15:20,334 epoch 51 - iter 8/24 - loss 0.38458732 - time (sec): 1.40 - samples/sec: 5321.45 - lr: 0.050000\n",
            "2023-07-17 13:15:20,633 epoch 51 - iter 10/24 - loss 0.37963799 - time (sec): 1.70 - samples/sec: 5455.60 - lr: 0.050000\n",
            "2023-07-17 13:15:20,957 epoch 51 - iter 12/24 - loss 0.37628027 - time (sec): 2.02 - samples/sec: 5418.87 - lr: 0.050000\n",
            "2023-07-17 13:15:21,322 epoch 51 - iter 14/24 - loss 0.37409443 - time (sec): 2.39 - samples/sec: 5452.32 - lr: 0.050000\n",
            "2023-07-17 13:15:21,717 epoch 51 - iter 16/24 - loss 0.37255356 - time (sec): 2.78 - samples/sec: 5369.81 - lr: 0.050000\n",
            "2023-07-17 13:15:22,071 epoch 51 - iter 18/24 - loss 0.37144335 - time (sec): 3.14 - samples/sec: 5354.57 - lr: 0.050000\n",
            "2023-07-17 13:15:22,444 epoch 51 - iter 20/24 - loss 0.37041742 - time (sec): 3.51 - samples/sec: 5395.49 - lr: 0.050000\n",
            "2023-07-17 13:15:22,764 epoch 51 - iter 22/24 - loss 0.37278485 - time (sec): 3.83 - samples/sec: 5423.89 - lr: 0.050000\n",
            "2023-07-17 13:15:23,027 epoch 51 - iter 24/24 - loss 0.37151569 - time (sec): 4.09 - samples/sec: 5414.69 - lr: 0.050000\n",
            "2023-07-17 13:15:23,029 ----------------------------------------------------------------------------------------------------\n",
            "2023-07-17 13:15:23,034 EPOCH 51 done: loss 0.3715 - lr 0.050000\n"
          ]
        },
        {
          "output_type": "stream",
          "name": "stderr",
          "text": [
            "100%|██████████| 5/5 [00:01<00:00,  3.93it/s]"
          ]
        },
        {
          "output_type": "stream",
          "name": "stdout",
          "text": [
            "2023-07-17 13:15:24,334 Evaluating as a multi-label problem: False\n",
            "2023-07-17 13:15:24,373 DEV : loss 0.3479200601577759 - f1-score (micro avg)  0.901\n"
          ]
        },
        {
          "output_type": "stream",
          "name": "stderr",
          "text": [
            "\n"
          ]
        },
        {
          "output_type": "stream",
          "name": "stdout",
          "text": [
            "2023-07-17 13:15:24,400 BAD EPOCHS (no improvement): 3\n",
            "2023-07-17 13:15:24,402 ----------------------------------------------------------------------------------------------------\n",
            "2023-07-17 13:15:24,778 epoch 52 - iter 2/24 - loss 0.32822805 - time (sec): 0.37 - samples/sec: 4543.82 - lr: 0.050000\n",
            "2023-07-17 13:15:25,120 epoch 52 - iter 4/24 - loss 0.37232909 - time (sec): 0.72 - samples/sec: 4817.69 - lr: 0.050000\n",
            "2023-07-17 13:15:25,470 epoch 52 - iter 6/24 - loss 0.37717475 - time (sec): 1.07 - samples/sec: 4973.64 - lr: 0.050000\n",
            "2023-07-17 13:15:25,845 epoch 52 - iter 8/24 - loss 0.37578024 - time (sec): 1.44 - samples/sec: 5023.25 - lr: 0.050000\n",
            "2023-07-17 13:15:26,226 epoch 52 - iter 10/24 - loss 0.36426287 - time (sec): 1.82 - samples/sec: 5136.78 - lr: 0.050000\n",
            "2023-07-17 13:15:26,555 epoch 52 - iter 12/24 - loss 0.36602807 - time (sec): 2.15 - samples/sec: 5162.41 - lr: 0.050000\n",
            "2023-07-17 13:15:26,885 epoch 52 - iter 14/24 - loss 0.36183278 - time (sec): 2.48 - samples/sec: 5274.55 - lr: 0.050000\n",
            "2023-07-17 13:15:27,186 epoch 52 - iter 16/24 - loss 0.36107761 - time (sec): 2.78 - samples/sec: 5339.22 - lr: 0.050000\n",
            "2023-07-17 13:15:27,574 epoch 52 - iter 18/24 - loss 0.35587631 - time (sec): 3.17 - samples/sec: 5341.59 - lr: 0.050000\n",
            "2023-07-17 13:15:27,881 epoch 52 - iter 20/24 - loss 0.35759266 - time (sec): 3.48 - samples/sec: 5372.53 - lr: 0.050000\n",
            "2023-07-17 13:15:28,322 epoch 52 - iter 22/24 - loss 0.36146533 - time (sec): 3.92 - samples/sec: 5271.28 - lr: 0.050000\n",
            "2023-07-17 13:15:28,688 epoch 52 - iter 24/24 - loss 0.36335599 - time (sec): 4.28 - samples/sec: 5171.81 - lr: 0.050000\n",
            "2023-07-17 13:15:28,691 ----------------------------------------------------------------------------------------------------\n",
            "2023-07-17 13:15:28,697 EPOCH 52 done: loss 0.3634 - lr 0.050000\n"
          ]
        },
        {
          "output_type": "stream",
          "name": "stderr",
          "text": [
            "100%|██████████| 5/5 [00:01<00:00,  3.94it/s]"
          ]
        },
        {
          "output_type": "stream",
          "name": "stdout",
          "text": [
            "2023-07-17 13:15:29,993 Evaluating as a multi-label problem: False\n",
            "2023-07-17 13:15:30,048 DEV : loss 0.3380509912967682 - f1-score (micro avg)  0.9026\n",
            "2023-07-17 13:15:30,079 BAD EPOCHS (no improvement): 0\n",
            "2023-07-17 13:15:30,081 saving best model\n"
          ]
        },
        {
          "output_type": "stream",
          "name": "stderr",
          "text": [
            "\n"
          ]
        },
        {
          "output_type": "stream",
          "name": "stdout",
          "text": [
            "2023-07-17 13:15:35,578 ----------------------------------------------------------------------------------------------------\n",
            "2023-07-17 13:15:36,050 epoch 53 - iter 2/24 - loss 0.37837678 - time (sec): 0.47 - samples/sec: 4551.17 - lr: 0.050000\n",
            "2023-07-17 13:15:36,395 epoch 53 - iter 4/24 - loss 0.36192455 - time (sec): 0.81 - samples/sec: 5013.85 - lr: 0.050000\n",
            "2023-07-17 13:15:36,733 epoch 53 - iter 6/24 - loss 0.36876338 - time (sec): 1.15 - samples/sec: 5111.13 - lr: 0.050000\n",
            "2023-07-17 13:15:37,088 epoch 53 - iter 8/24 - loss 0.36518642 - time (sec): 1.51 - samples/sec: 5141.87 - lr: 0.050000\n",
            "2023-07-17 13:15:37,419 epoch 53 - iter 10/24 - loss 0.36356567 - time (sec): 1.84 - samples/sec: 5270.30 - lr: 0.050000\n",
            "2023-07-17 13:15:37,736 epoch 53 - iter 12/24 - loss 0.36765658 - time (sec): 2.15 - samples/sec: 5312.05 - lr: 0.050000\n",
            "2023-07-17 13:15:38,056 epoch 53 - iter 14/24 - loss 0.36687788 - time (sec): 2.47 - samples/sec: 5335.49 - lr: 0.050000\n",
            "2023-07-17 13:15:38,377 epoch 53 - iter 16/24 - loss 0.36541040 - time (sec): 2.80 - samples/sec: 5380.03 - lr: 0.050000\n",
            "2023-07-17 13:15:38,725 epoch 53 - iter 18/24 - loss 0.36785100 - time (sec): 3.14 - samples/sec: 5404.63 - lr: 0.050000\n",
            "2023-07-17 13:15:39,105 epoch 53 - iter 20/24 - loss 0.36877707 - time (sec): 3.52 - samples/sec: 5384.60 - lr: 0.050000\n",
            "2023-07-17 13:15:39,473 epoch 53 - iter 22/24 - loss 0.36564493 - time (sec): 3.89 - samples/sec: 5328.63 - lr: 0.050000\n",
            "2023-07-17 13:15:39,740 epoch 53 - iter 24/24 - loss 0.36489765 - time (sec): 4.16 - samples/sec: 5329.20 - lr: 0.050000\n",
            "2023-07-17 13:15:39,742 ----------------------------------------------------------------------------------------------------\n",
            "2023-07-17 13:15:39,744 EPOCH 53 done: loss 0.3649 - lr 0.050000\n"
          ]
        },
        {
          "output_type": "stream",
          "name": "stderr",
          "text": [
            "100%|██████████| 5/5 [00:00<00:00,  5.98it/s]"
          ]
        },
        {
          "output_type": "stream",
          "name": "stdout",
          "text": [
            "2023-07-17 13:15:40,600 Evaluating as a multi-label problem: False\n",
            "2023-07-17 13:15:40,641 DEV : loss 0.3454277217388153 - f1-score (micro avg)  0.9021\n"
          ]
        },
        {
          "output_type": "stream",
          "name": "stderr",
          "text": [
            "\n"
          ]
        },
        {
          "output_type": "stream",
          "name": "stdout",
          "text": [
            "2023-07-17 13:15:40,661 BAD EPOCHS (no improvement): 1\n",
            "2023-07-17 13:15:40,662 ----------------------------------------------------------------------------------------------------\n",
            "2023-07-17 13:15:41,031 epoch 54 - iter 2/24 - loss 0.33884153 - time (sec): 0.37 - samples/sec: 5302.51 - lr: 0.050000\n",
            "2023-07-17 13:15:41,364 epoch 54 - iter 4/24 - loss 0.35048548 - time (sec): 0.70 - samples/sec: 5186.22 - lr: 0.050000\n",
            "2023-07-17 13:15:41,722 epoch 54 - iter 6/24 - loss 0.35106040 - time (sec): 1.06 - samples/sec: 5318.28 - lr: 0.050000\n",
            "2023-07-17 13:15:42,060 epoch 54 - iter 8/24 - loss 0.34700354 - time (sec): 1.39 - samples/sec: 5331.38 - lr: 0.050000\n",
            "2023-07-17 13:15:42,394 epoch 54 - iter 10/24 - loss 0.34047835 - time (sec): 1.73 - samples/sec: 5323.36 - lr: 0.050000\n",
            "2023-07-17 13:15:42,869 epoch 54 - iter 12/24 - loss 0.33989688 - time (sec): 2.20 - samples/sec: 5104.17 - lr: 0.050000\n",
            "2023-07-17 13:15:43,294 epoch 54 - iter 14/24 - loss 0.34862132 - time (sec): 2.63 - samples/sec: 4959.82 - lr: 0.050000\n",
            "2023-07-17 13:15:43,781 epoch 54 - iter 16/24 - loss 0.35095705 - time (sec): 3.12 - samples/sec: 4863.40 - lr: 0.050000\n",
            "2023-07-17 13:15:44,295 epoch 54 - iter 18/24 - loss 0.35335390 - time (sec): 3.63 - samples/sec: 4724.08 - lr: 0.050000\n",
            "2023-07-17 13:15:44,840 epoch 54 - iter 20/24 - loss 0.35204189 - time (sec): 4.18 - samples/sec: 4589.68 - lr: 0.050000\n",
            "2023-07-17 13:15:45,237 epoch 54 - iter 22/24 - loss 0.35154118 - time (sec): 4.57 - samples/sec: 4539.44 - lr: 0.050000\n",
            "2023-07-17 13:15:45,640 epoch 54 - iter 24/24 - loss 0.35372801 - time (sec): 4.98 - samples/sec: 4454.26 - lr: 0.050000\n",
            "2023-07-17 13:15:45,645 ----------------------------------------------------------------------------------------------------\n",
            "2023-07-17 13:15:45,647 EPOCH 54 done: loss 0.3537 - lr 0.050000\n"
          ]
        },
        {
          "output_type": "stream",
          "name": "stderr",
          "text": [
            "100%|██████████| 5/5 [00:01<00:00,  3.95it/s]"
          ]
        },
        {
          "output_type": "stream",
          "name": "stdout",
          "text": [
            "2023-07-17 13:15:46,934 Evaluating as a multi-label problem: False\n",
            "2023-07-17 13:15:46,978 DEV : loss 0.34244996309280396 - f1-score (micro avg)  0.9021\n"
          ]
        },
        {
          "output_type": "stream",
          "name": "stderr",
          "text": [
            "\n"
          ]
        },
        {
          "output_type": "stream",
          "name": "stdout",
          "text": [
            "2023-07-17 13:15:47,002 BAD EPOCHS (no improvement): 2\n",
            "2023-07-17 13:15:47,003 ----------------------------------------------------------------------------------------------------\n",
            "2023-07-17 13:15:47,438 epoch 55 - iter 2/24 - loss 0.39376417 - time (sec): 0.43 - samples/sec: 4445.71 - lr: 0.050000\n",
            "2023-07-17 13:15:47,825 epoch 55 - iter 4/24 - loss 0.37796285 - time (sec): 0.82 - samples/sec: 4676.45 - lr: 0.050000\n",
            "2023-07-17 13:15:48,212 epoch 55 - iter 6/24 - loss 0.36112031 - time (sec): 1.21 - samples/sec: 4861.36 - lr: 0.050000\n",
            "2023-07-17 13:15:48,578 epoch 55 - iter 8/24 - loss 0.36607383 - time (sec): 1.57 - samples/sec: 4928.44 - lr: 0.050000\n",
            "2023-07-17 13:15:48,917 epoch 55 - iter 10/24 - loss 0.35707542 - time (sec): 1.91 - samples/sec: 5056.89 - lr: 0.050000\n",
            "2023-07-17 13:15:49,204 epoch 55 - iter 12/24 - loss 0.35496164 - time (sec): 2.20 - samples/sec: 5193.21 - lr: 0.050000\n",
            "2023-07-17 13:15:49,519 epoch 55 - iter 14/24 - loss 0.35560009 - time (sec): 2.51 - samples/sec: 5283.82 - lr: 0.050000\n",
            "2023-07-17 13:15:49,817 epoch 55 - iter 16/24 - loss 0.35818251 - time (sec): 2.81 - samples/sec: 5379.86 - lr: 0.050000\n",
            "2023-07-17 13:15:50,102 epoch 55 - iter 18/24 - loss 0.35457663 - time (sec): 3.09 - samples/sec: 5467.13 - lr: 0.050000\n",
            "2023-07-17 13:15:50,480 epoch 55 - iter 20/24 - loss 0.35829895 - time (sec): 3.47 - samples/sec: 5411.96 - lr: 0.050000\n",
            "2023-07-17 13:15:50,804 epoch 55 - iter 22/24 - loss 0.36274796 - time (sec): 3.80 - samples/sec: 5457.39 - lr: 0.050000\n",
            "2023-07-17 13:15:51,073 epoch 55 - iter 24/24 - loss 0.36365799 - time (sec): 4.07 - samples/sec: 5450.09 - lr: 0.050000\n",
            "2023-07-17 13:15:51,074 ----------------------------------------------------------------------------------------------------\n",
            "2023-07-17 13:15:51,078 EPOCH 55 done: loss 0.3637 - lr 0.050000\n"
          ]
        },
        {
          "output_type": "stream",
          "name": "stderr",
          "text": [
            "100%|██████████| 5/5 [00:00<00:00,  5.87it/s]"
          ]
        },
        {
          "output_type": "stream",
          "name": "stdout",
          "text": [
            "2023-07-17 13:15:51,947 Evaluating as a multi-label problem: False\n",
            "2023-07-17 13:15:51,983 DEV : loss 0.3350878059864044 - f1-score (micro avg)  0.9007\n"
          ]
        },
        {
          "output_type": "stream",
          "name": "stderr",
          "text": [
            "\n"
          ]
        },
        {
          "output_type": "stream",
          "name": "stdout",
          "text": [
            "2023-07-17 13:15:52,002 BAD EPOCHS (no improvement): 3\n",
            "2023-07-17 13:15:52,005 ----------------------------------------------------------------------------------------------------\n",
            "2023-07-17 13:15:52,341 epoch 56 - iter 2/24 - loss 0.34879383 - time (sec): 0.33 - samples/sec: 5598.00 - lr: 0.050000\n",
            "2023-07-17 13:15:52,754 epoch 56 - iter 4/24 - loss 0.33946454 - time (sec): 0.75 - samples/sec: 5286.25 - lr: 0.050000\n",
            "2023-07-17 13:15:53,128 epoch 56 - iter 6/24 - loss 0.34111833 - time (sec): 1.12 - samples/sec: 5140.59 - lr: 0.050000\n",
            "2023-07-17 13:15:53,490 epoch 56 - iter 8/24 - loss 0.33707830 - time (sec): 1.48 - samples/sec: 5190.17 - lr: 0.050000\n",
            "2023-07-17 13:15:53,801 epoch 56 - iter 10/24 - loss 0.33427552 - time (sec): 1.79 - samples/sec: 5270.97 - lr: 0.050000\n",
            "2023-07-17 13:15:54,134 epoch 56 - iter 12/24 - loss 0.33823930 - time (sec): 2.13 - samples/sec: 5289.71 - lr: 0.050000\n",
            "2023-07-17 13:15:54,476 epoch 56 - iter 14/24 - loss 0.33858190 - time (sec): 2.47 - samples/sec: 5329.74 - lr: 0.050000\n",
            "2023-07-17 13:15:54,844 epoch 56 - iter 16/24 - loss 0.34255882 - time (sec): 2.84 - samples/sec: 5337.31 - lr: 0.050000\n",
            "2023-07-17 13:15:55,217 epoch 56 - iter 18/24 - loss 0.34932999 - time (sec): 3.21 - samples/sec: 5307.07 - lr: 0.050000\n",
            "2023-07-17 13:15:55,563 epoch 56 - iter 20/24 - loss 0.35441107 - time (sec): 3.56 - samples/sec: 5384.19 - lr: 0.050000\n",
            "2023-07-17 13:15:55,851 epoch 56 - iter 22/24 - loss 0.35280342 - time (sec): 3.84 - samples/sec: 5417.51 - lr: 0.050000\n",
            "2023-07-17 13:15:56,136 epoch 56 - iter 24/24 - loss 0.35222007 - time (sec): 4.13 - samples/sec: 5368.56 - lr: 0.050000\n",
            "2023-07-17 13:15:56,138 ----------------------------------------------------------------------------------------------------\n",
            "2023-07-17 13:15:56,140 EPOCH 56 done: loss 0.3522 - lr 0.050000\n"
          ]
        },
        {
          "output_type": "stream",
          "name": "stderr",
          "text": [
            "100%|██████████| 5/5 [00:00<00:00,  5.14it/s]\n"
          ]
        },
        {
          "output_type": "stream",
          "name": "stdout",
          "text": [
            "2023-07-17 13:15:57,139 Evaluating as a multi-label problem: False\n",
            "2023-07-17 13:15:57,209 DEV : loss 0.3458186686038971 - f1-score (micro avg)  0.9013\n",
            "2023-07-17 13:15:57,245 Epoch    56: reducing learning rate of group 0 to 2.5000e-02.\n",
            "2023-07-17 13:15:57,249 BAD EPOCHS (no improvement): 4\n",
            "2023-07-17 13:15:57,252 ----------------------------------------------------------------------------------------------------\n",
            "2023-07-17 13:15:57,716 epoch 57 - iter 2/24 - loss 0.31867504 - time (sec): 0.46 - samples/sec: 4211.38 - lr: 0.025000\n",
            "2023-07-17 13:15:58,200 epoch 57 - iter 4/24 - loss 0.32751167 - time (sec): 0.95 - samples/sec: 4070.85 - lr: 0.025000\n",
            "2023-07-17 13:15:58,720 epoch 57 - iter 6/24 - loss 0.31858221 - time (sec): 1.47 - samples/sec: 3899.62 - lr: 0.025000\n",
            "2023-07-17 13:15:59,226 epoch 57 - iter 8/24 - loss 0.32324985 - time (sec): 1.97 - samples/sec: 3939.68 - lr: 0.025000\n",
            "2023-07-17 13:15:59,700 epoch 57 - iter 10/24 - loss 0.32895411 - time (sec): 2.45 - samples/sec: 3941.39 - lr: 0.025000\n",
            "2023-07-17 13:16:00,266 epoch 57 - iter 12/24 - loss 0.33540098 - time (sec): 3.01 - samples/sec: 3932.19 - lr: 0.025000\n",
            "2023-07-17 13:16:00,717 epoch 57 - iter 14/24 - loss 0.33895590 - time (sec): 3.46 - samples/sec: 3945.75 - lr: 0.025000\n",
            "2023-07-17 13:16:01,216 epoch 57 - iter 16/24 - loss 0.34075201 - time (sec): 3.96 - samples/sec: 3853.37 - lr: 0.025000\n",
            "2023-07-17 13:16:01,679 epoch 57 - iter 18/24 - loss 0.33867977 - time (sec): 4.43 - samples/sec: 3860.30 - lr: 0.025000\n",
            "2023-07-17 13:16:02,050 epoch 57 - iter 20/24 - loss 0.34141021 - time (sec): 4.80 - samples/sec: 3925.83 - lr: 0.025000\n",
            "2023-07-17 13:16:02,401 epoch 57 - iter 22/24 - loss 0.34386730 - time (sec): 5.15 - samples/sec: 4028.64 - lr: 0.025000\n",
            "2023-07-17 13:16:02,652 epoch 57 - iter 24/24 - loss 0.34428819 - time (sec): 5.40 - samples/sec: 4104.58 - lr: 0.025000\n",
            "2023-07-17 13:16:02,654 ----------------------------------------------------------------------------------------------------\n",
            "2023-07-17 13:16:02,660 EPOCH 57 done: loss 0.3443 - lr 0.025000\n"
          ]
        },
        {
          "output_type": "stream",
          "name": "stderr",
          "text": [
            "100%|██████████| 5/5 [00:00<00:00,  5.79it/s]"
          ]
        },
        {
          "output_type": "stream",
          "name": "stdout",
          "text": [
            "2023-07-17 13:16:03,545 Evaluating as a multi-label problem: False\n",
            "2023-07-17 13:16:03,584 DEV : loss 0.3336844742298126 - f1-score (micro avg)  0.905\n"
          ]
        },
        {
          "output_type": "stream",
          "name": "stderr",
          "text": [
            "\n"
          ]
        },
        {
          "output_type": "stream",
          "name": "stdout",
          "text": [
            "2023-07-17 13:16:03,609 BAD EPOCHS (no improvement): 0\n",
            "2023-07-17 13:16:03,611 saving best model\n",
            "2023-07-17 13:16:05,251 ----------------------------------------------------------------------------------------------------\n",
            "2023-07-17 13:16:05,671 epoch 58 - iter 2/24 - loss 0.32085867 - time (sec): 0.42 - samples/sec: 4595.32 - lr: 0.025000\n",
            "2023-07-17 13:16:06,092 epoch 58 - iter 4/24 - loss 0.33278302 - time (sec): 0.84 - samples/sec: 4839.51 - lr: 0.025000\n",
            "2023-07-17 13:16:06,492 epoch 58 - iter 6/24 - loss 0.33987222 - time (sec): 1.24 - samples/sec: 4852.78 - lr: 0.025000\n",
            "2023-07-17 13:16:06,867 epoch 58 - iter 8/24 - loss 0.33250569 - time (sec): 1.61 - samples/sec: 4959.96 - lr: 0.025000\n",
            "2023-07-17 13:16:07,238 epoch 58 - iter 10/24 - loss 0.33453117 - time (sec): 1.99 - samples/sec: 4991.29 - lr: 0.025000\n",
            "2023-07-17 13:16:07,529 epoch 58 - iter 12/24 - loss 0.33910864 - time (sec): 2.28 - samples/sec: 5106.69 - lr: 0.025000\n",
            "2023-07-17 13:16:07,899 epoch 58 - iter 14/24 - loss 0.34373211 - time (sec): 2.65 - samples/sec: 5104.89 - lr: 0.025000\n",
            "2023-07-17 13:16:08,203 epoch 58 - iter 16/24 - loss 0.34320407 - time (sec): 2.95 - samples/sec: 5184.07 - lr: 0.025000\n",
            "2023-07-17 13:16:08,536 epoch 58 - iter 18/24 - loss 0.34478300 - time (sec): 3.28 - samples/sec: 5182.68 - lr: 0.025000\n",
            "2023-07-17 13:16:08,877 epoch 58 - iter 20/24 - loss 0.34365031 - time (sec): 3.62 - samples/sec: 5194.07 - lr: 0.025000\n",
            "2023-07-17 13:16:09,180 epoch 58 - iter 22/24 - loss 0.34197605 - time (sec): 3.93 - samples/sec: 5239.17 - lr: 0.025000\n",
            "2023-07-17 13:16:09,502 epoch 58 - iter 24/24 - loss 0.34079451 - time (sec): 4.25 - samples/sec: 5214.43 - lr: 0.025000\n",
            "2023-07-17 13:16:09,504 ----------------------------------------------------------------------------------------------------\n",
            "2023-07-17 13:16:09,506 EPOCH 58 done: loss 0.3408 - lr 0.025000\n"
          ]
        },
        {
          "output_type": "stream",
          "name": "stderr",
          "text": [
            "100%|██████████| 5/5 [00:00<00:00,  5.72it/s]"
          ]
        },
        {
          "output_type": "stream",
          "name": "stdout",
          "text": [
            "2023-07-17 13:16:10,399 Evaluating as a multi-label problem: False\n",
            "2023-07-17 13:16:10,437 DEV : loss 0.3338078260421753 - f1-score (micro avg)  0.9042\n"
          ]
        },
        {
          "output_type": "stream",
          "name": "stderr",
          "text": [
            "\n"
          ]
        },
        {
          "output_type": "stream",
          "name": "stdout",
          "text": [
            "2023-07-17 13:16:10,461 BAD EPOCHS (no improvement): 1\n",
            "2023-07-17 13:16:10,463 ----------------------------------------------------------------------------------------------------\n",
            "2023-07-17 13:16:11,272 epoch 59 - iter 2/24 - loss 0.32571008 - time (sec): 0.81 - samples/sec: 2033.10 - lr: 0.025000\n",
            "2023-07-17 13:16:11,731 epoch 59 - iter 4/24 - loss 0.29845666 - time (sec): 1.27 - samples/sec: 2749.79 - lr: 0.025000\n",
            "2023-07-17 13:16:12,194 epoch 59 - iter 6/24 - loss 0.30122685 - time (sec): 1.73 - samples/sec: 3082.21 - lr: 0.025000\n",
            "2023-07-17 13:16:12,761 epoch 59 - iter 8/24 - loss 0.31060283 - time (sec): 2.30 - samples/sec: 3142.11 - lr: 0.025000\n",
            "2023-07-17 13:16:13,306 epoch 59 - iter 10/24 - loss 0.31751015 - time (sec): 2.84 - samples/sec: 3255.77 - lr: 0.025000\n",
            "2023-07-17 13:16:13,792 epoch 59 - iter 12/24 - loss 0.31921239 - time (sec): 3.33 - samples/sec: 3327.92 - lr: 0.025000\n",
            "2023-07-17 13:16:14,352 epoch 59 - iter 14/24 - loss 0.32783347 - time (sec): 3.89 - samples/sec: 3326.49 - lr: 0.025000\n",
            "2023-07-17 13:16:14,881 epoch 59 - iter 16/24 - loss 0.33214757 - time (sec): 4.42 - samples/sec: 3375.02 - lr: 0.025000\n",
            "2023-07-17 13:16:15,421 epoch 59 - iter 18/24 - loss 0.33484270 - time (sec): 4.96 - samples/sec: 3400.37 - lr: 0.025000\n",
            "2023-07-17 13:16:15,923 epoch 59 - iter 20/24 - loss 0.33547459 - time (sec): 5.46 - samples/sec: 3443.88 - lr: 0.025000\n",
            "2023-07-17 13:16:16,279 epoch 59 - iter 22/24 - loss 0.33986883 - time (sec): 5.82 - samples/sec: 3555.42 - lr: 0.025000\n",
            "2023-07-17 13:16:16,606 epoch 59 - iter 24/24 - loss 0.34138587 - time (sec): 6.14 - samples/sec: 3607.93 - lr: 0.025000\n",
            "2023-07-17 13:16:16,609 ----------------------------------------------------------------------------------------------------\n",
            "2023-07-17 13:16:16,611 EPOCH 59 done: loss 0.3414 - lr 0.025000\n"
          ]
        },
        {
          "output_type": "stream",
          "name": "stderr",
          "text": [
            "100%|██████████| 5/5 [00:00<00:00,  5.60it/s]"
          ]
        },
        {
          "output_type": "stream",
          "name": "stdout",
          "text": [
            "2023-07-17 13:16:17,523 Evaluating as a multi-label problem: False\n",
            "2023-07-17 13:16:17,558 DEV : loss 0.33539578318595886 - f1-score (micro avg)  0.9021\n"
          ]
        },
        {
          "output_type": "stream",
          "name": "stderr",
          "text": [
            "\n"
          ]
        },
        {
          "output_type": "stream",
          "name": "stdout",
          "text": [
            "2023-07-17 13:16:17,581 BAD EPOCHS (no improvement): 2\n",
            "2023-07-17 13:16:17,583 ----------------------------------------------------------------------------------------------------\n",
            "2023-07-17 13:16:17,958 epoch 60 - iter 2/24 - loss 0.33796336 - time (sec): 0.37 - samples/sec: 5085.24 - lr: 0.025000\n",
            "2023-07-17 13:16:18,278 epoch 60 - iter 4/24 - loss 0.34454254 - time (sec): 0.69 - samples/sec: 5260.17 - lr: 0.025000\n",
            "2023-07-17 13:16:18,626 epoch 60 - iter 6/24 - loss 0.32509454 - time (sec): 1.04 - samples/sec: 5422.43 - lr: 0.025000\n",
            "2023-07-17 13:16:18,991 epoch 60 - iter 8/24 - loss 0.34243613 - time (sec): 1.41 - samples/sec: 5343.92 - lr: 0.025000\n",
            "2023-07-17 13:16:19,370 epoch 60 - iter 10/24 - loss 0.33726161 - time (sec): 1.78 - samples/sec: 5365.87 - lr: 0.025000\n",
            "2023-07-17 13:16:19,691 epoch 60 - iter 12/24 - loss 0.33946788 - time (sec): 2.11 - samples/sec: 5464.10 - lr: 0.025000\n",
            "2023-07-17 13:16:19,992 epoch 60 - iter 14/24 - loss 0.33797539 - time (sec): 2.41 - samples/sec: 5468.04 - lr: 0.025000\n",
            "2023-07-17 13:16:20,356 epoch 60 - iter 16/24 - loss 0.33551635 - time (sec): 2.77 - samples/sec: 5473.53 - lr: 0.025000\n",
            "2023-07-17 13:16:20,726 epoch 60 - iter 18/24 - loss 0.33033745 - time (sec): 3.14 - samples/sec: 5463.60 - lr: 0.025000\n",
            "2023-07-17 13:16:21,034 epoch 60 - iter 20/24 - loss 0.33215837 - time (sec): 3.45 - samples/sec: 5482.65 - lr: 0.025000\n",
            "2023-07-17 13:16:21,379 epoch 60 - iter 22/24 - loss 0.33265334 - time (sec): 3.79 - samples/sec: 5510.87 - lr: 0.025000\n",
            "2023-07-17 13:16:21,641 epoch 60 - iter 24/24 - loss 0.33403375 - time (sec): 4.06 - samples/sec: 5464.00 - lr: 0.025000\n",
            "2023-07-17 13:16:21,643 ----------------------------------------------------------------------------------------------------\n",
            "2023-07-17 13:16:21,647 EPOCH 60 done: loss 0.3340 - lr 0.025000\n"
          ]
        },
        {
          "output_type": "stream",
          "name": "stderr",
          "text": [
            "100%|██████████| 5/5 [00:00<00:00,  5.92it/s]"
          ]
        },
        {
          "output_type": "stream",
          "name": "stdout",
          "text": [
            "2023-07-17 13:16:22,511 Evaluating as a multi-label problem: False\n",
            "2023-07-17 13:16:22,548 DEV : loss 0.33722683787345886 - f1-score (micro avg)  0.9047\n"
          ]
        },
        {
          "output_type": "stream",
          "name": "stderr",
          "text": [
            "\n"
          ]
        },
        {
          "output_type": "stream",
          "name": "stdout",
          "text": [
            "2023-07-17 13:16:22,568 BAD EPOCHS (no improvement): 3\n",
            "2023-07-17 13:16:22,569 ----------------------------------------------------------------------------------------------------\n",
            "2023-07-17 13:16:22,930 epoch 61 - iter 2/24 - loss 0.34230350 - time (sec): 0.35 - samples/sec: 5561.57 - lr: 0.025000\n",
            "2023-07-17 13:16:23,229 epoch 61 - iter 4/24 - loss 0.34999305 - time (sec): 0.65 - samples/sec: 5803.26 - lr: 0.025000\n",
            "2023-07-17 13:16:23,574 epoch 61 - iter 6/24 - loss 0.33631260 - time (sec): 1.00 - samples/sec: 5594.17 - lr: 0.025000\n",
            "2023-07-17 13:16:23,951 epoch 61 - iter 8/24 - loss 0.34147868 - time (sec): 1.38 - samples/sec: 5491.82 - lr: 0.025000\n",
            "2023-07-17 13:16:24,272 epoch 61 - iter 10/24 - loss 0.33766892 - time (sec): 1.70 - samples/sec: 5490.84 - lr: 0.025000\n",
            "2023-07-17 13:16:24,569 epoch 61 - iter 12/24 - loss 0.33290441 - time (sec): 1.99 - samples/sec: 5564.45 - lr: 0.025000\n",
            "2023-07-17 13:16:24,871 epoch 61 - iter 14/24 - loss 0.32910240 - time (sec): 2.30 - samples/sec: 5618.42 - lr: 0.025000\n",
            "2023-07-17 13:16:25,164 epoch 61 - iter 16/24 - loss 0.33353973 - time (sec): 2.59 - samples/sec: 5684.78 - lr: 0.025000\n",
            "2023-07-17 13:16:25,480 epoch 61 - iter 18/24 - loss 0.33145117 - time (sec): 2.90 - samples/sec: 5710.03 - lr: 0.025000\n",
            "2023-07-17 13:16:25,864 epoch 61 - iter 20/24 - loss 0.33675298 - time (sec): 3.29 - samples/sec: 5628.17 - lr: 0.025000\n",
            "2023-07-17 13:16:26,394 epoch 61 - iter 22/24 - loss 0.33941242 - time (sec): 3.82 - samples/sec: 5437.86 - lr: 0.025000\n",
            "2023-07-17 13:16:26,744 epoch 61 - iter 24/24 - loss 0.33807461 - time (sec): 4.17 - samples/sec: 5316.30 - lr: 0.025000\n",
            "2023-07-17 13:16:26,751 ----------------------------------------------------------------------------------------------------\n",
            "2023-07-17 13:16:26,752 EPOCH 61 done: loss 0.3381 - lr 0.025000\n"
          ]
        },
        {
          "output_type": "stream",
          "name": "stderr",
          "text": [
            "100%|██████████| 5/5 [00:01<00:00,  3.88it/s]"
          ]
        },
        {
          "output_type": "stream",
          "name": "stdout",
          "text": [
            "2023-07-17 13:16:28,068 Evaluating as a multi-label problem: False\n",
            "2023-07-17 13:16:28,122 DEV : loss 0.3344517946243286 - f1-score (micro avg)  0.9042\n",
            "2023-07-17 13:16:28,152 Epoch    61: reducing learning rate of group 0 to 1.2500e-02.\n",
            "2023-07-17 13:16:28,154 BAD EPOCHS (no improvement): 4\n",
            "2023-07-17 13:16:28,156 ----------------------------------------------------------------------------------------------------\n"
          ]
        },
        {
          "output_type": "stream",
          "name": "stderr",
          "text": [
            "\n"
          ]
        },
        {
          "output_type": "stream",
          "name": "stdout",
          "text": [
            "2023-07-17 13:16:28,631 epoch 62 - iter 2/24 - loss 0.28205184 - time (sec): 0.47 - samples/sec: 3773.96 - lr: 0.012500\n",
            "2023-07-17 13:16:29,124 epoch 62 - iter 4/24 - loss 0.29459573 - time (sec): 0.97 - samples/sec: 3795.52 - lr: 0.012500\n",
            "2023-07-17 13:16:29,695 epoch 62 - iter 6/24 - loss 0.30366035 - time (sec): 1.54 - samples/sec: 3629.61 - lr: 0.012500\n",
            "2023-07-17 13:16:30,340 epoch 62 - iter 8/24 - loss 0.32975421 - time (sec): 2.18 - samples/sec: 3533.71 - lr: 0.012500\n",
            "2023-07-17 13:16:30,686 epoch 62 - iter 10/24 - loss 0.32266184 - time (sec): 2.53 - samples/sec: 3683.59 - lr: 0.012500\n",
            "2023-07-17 13:16:31,028 epoch 62 - iter 12/24 - loss 0.32513773 - time (sec): 2.87 - samples/sec: 3932.75 - lr: 0.012500\n",
            "2023-07-17 13:16:31,351 epoch 62 - iter 14/24 - loss 0.32975019 - time (sec): 3.19 - samples/sec: 4070.28 - lr: 0.012500\n",
            "2023-07-17 13:16:31,692 epoch 62 - iter 16/24 - loss 0.33213062 - time (sec): 3.53 - samples/sec: 4219.85 - lr: 0.012500\n",
            "2023-07-17 13:16:31,995 epoch 62 - iter 18/24 - loss 0.32956855 - time (sec): 3.84 - samples/sec: 4326.85 - lr: 0.012500\n",
            "2023-07-17 13:16:32,388 epoch 62 - iter 20/24 - loss 0.33227251 - time (sec): 4.23 - samples/sec: 4371.22 - lr: 0.012500\n",
            "2023-07-17 13:16:32,796 epoch 62 - iter 22/24 - loss 0.33417816 - time (sec): 4.64 - samples/sec: 4478.14 - lr: 0.012500\n",
            "2023-07-17 13:16:33,078 epoch 62 - iter 24/24 - loss 0.33355794 - time (sec): 4.92 - samples/sec: 4504.49 - lr: 0.012500\n",
            "2023-07-17 13:16:33,080 ----------------------------------------------------------------------------------------------------\n",
            "2023-07-17 13:16:33,082 EPOCH 62 done: loss 0.3336 - lr 0.012500\n"
          ]
        },
        {
          "output_type": "stream",
          "name": "stderr",
          "text": [
            "100%|██████████| 5/5 [00:00<00:00,  5.79it/s]"
          ]
        },
        {
          "output_type": "stream",
          "name": "stdout",
          "text": [
            "2023-07-17 13:16:33,963 Evaluating as a multi-label problem: False\n",
            "2023-07-17 13:16:34,000 DEV : loss 0.332455039024353 - f1-score (micro avg)  0.9069\n"
          ]
        },
        {
          "output_type": "stream",
          "name": "stderr",
          "text": [
            "\n"
          ]
        },
        {
          "output_type": "stream",
          "name": "stdout",
          "text": [
            "2023-07-17 13:16:34,021 BAD EPOCHS (no improvement): 0\n",
            "2023-07-17 13:16:34,024 saving best model\n",
            "2023-07-17 13:16:35,635 ----------------------------------------------------------------------------------------------------\n",
            "2023-07-17 13:16:36,067 epoch 63 - iter 2/24 - loss 0.37128991 - time (sec): 0.41 - samples/sec: 4468.95 - lr: 0.012500\n",
            "2023-07-17 13:16:36,514 epoch 63 - iter 4/24 - loss 0.38519444 - time (sec): 0.86 - samples/sec: 4617.73 - lr: 0.012500\n",
            "2023-07-17 13:16:36,847 epoch 63 - iter 6/24 - loss 0.36280439 - time (sec): 1.19 - samples/sec: 4802.97 - lr: 0.012500\n",
            "2023-07-17 13:16:37,204 epoch 63 - iter 8/24 - loss 0.35361240 - time (sec): 1.55 - samples/sec: 5089.76 - lr: 0.012500\n",
            "2023-07-17 13:16:37,529 epoch 63 - iter 10/24 - loss 0.35190310 - time (sec): 1.88 - samples/sec: 5088.20 - lr: 0.012500\n",
            "2023-07-17 13:16:37,831 epoch 63 - iter 12/24 - loss 0.34950281 - time (sec): 2.18 - samples/sec: 5233.46 - lr: 0.012500\n",
            "2023-07-17 13:16:38,148 epoch 63 - iter 14/24 - loss 0.34471554 - time (sec): 2.49 - samples/sec: 5312.30 - lr: 0.012500\n",
            "2023-07-17 13:16:38,495 epoch 63 - iter 16/24 - loss 0.34075274 - time (sec): 2.84 - samples/sec: 5303.41 - lr: 0.012500\n",
            "2023-07-17 13:16:38,809 epoch 63 - iter 18/24 - loss 0.33645485 - time (sec): 3.16 - samples/sec: 5334.50 - lr: 0.012500\n",
            "2023-07-17 13:16:39,205 epoch 63 - iter 20/24 - loss 0.33643511 - time (sec): 3.55 - samples/sec: 5307.92 - lr: 0.012500\n",
            "2023-07-17 13:16:39,555 epoch 63 - iter 22/24 - loss 0.33536511 - time (sec): 3.90 - samples/sec: 5346.10 - lr: 0.012500\n",
            "2023-07-17 13:16:39,787 epoch 63 - iter 24/24 - loss 0.33263830 - time (sec): 4.13 - samples/sec: 5361.39 - lr: 0.012500\n",
            "2023-07-17 13:16:39,789 ----------------------------------------------------------------------------------------------------\n",
            "2023-07-17 13:16:39,797 EPOCH 63 done: loss 0.3326 - lr 0.012500\n"
          ]
        },
        {
          "output_type": "stream",
          "name": "stderr",
          "text": [
            "100%|██████████| 5/5 [00:00<00:00,  5.03it/s]\n"
          ]
        },
        {
          "output_type": "stream",
          "name": "stdout",
          "text": [
            "2023-07-17 13:16:40,812 Evaluating as a multi-label problem: False\n",
            "2023-07-17 13:16:40,868 DEV : loss 0.3315959870815277 - f1-score (micro avg)  0.9034\n",
            "2023-07-17 13:16:40,903 BAD EPOCHS (no improvement): 1\n",
            "2023-07-17 13:16:40,905 ----------------------------------------------------------------------------------------------------\n",
            "2023-07-17 13:16:41,327 epoch 64 - iter 2/24 - loss 0.34842959 - time (sec): 0.42 - samples/sec: 4698.71 - lr: 0.012500\n",
            "2023-07-17 13:16:41,813 epoch 64 - iter 4/24 - loss 0.33539545 - time (sec): 0.91 - samples/sec: 4411.61 - lr: 0.012500\n",
            "2023-07-17 13:16:42,234 epoch 64 - iter 6/24 - loss 0.32860070 - time (sec): 1.33 - samples/sec: 4358.56 - lr: 0.012500\n",
            "2023-07-17 13:16:42,739 epoch 64 - iter 8/24 - loss 0.32491002 - time (sec): 1.83 - samples/sec: 4195.45 - lr: 0.012500\n",
            "2023-07-17 13:16:43,212 epoch 64 - iter 10/24 - loss 0.32340707 - time (sec): 2.31 - samples/sec: 4128.19 - lr: 0.012500\n",
            "2023-07-17 13:16:43,742 epoch 64 - iter 12/24 - loss 0.33048758 - time (sec): 2.84 - samples/sec: 4052.41 - lr: 0.012500\n",
            "2023-07-17 13:16:44,275 epoch 64 - iter 14/24 - loss 0.32813596 - time (sec): 3.37 - samples/sec: 3967.13 - lr: 0.012500\n",
            "2023-07-17 13:16:44,788 epoch 64 - iter 16/24 - loss 0.32464327 - time (sec): 3.88 - samples/sec: 3906.54 - lr: 0.012500\n",
            "2023-07-17 13:16:45,134 epoch 64 - iter 18/24 - loss 0.32745120 - time (sec): 4.23 - samples/sec: 4020.69 - lr: 0.012500\n",
            "2023-07-17 13:16:45,504 epoch 64 - iter 20/24 - loss 0.32591821 - time (sec): 4.60 - samples/sec: 4080.23 - lr: 0.012500\n",
            "2023-07-17 13:16:45,840 epoch 64 - iter 22/24 - loss 0.33026331 - time (sec): 4.93 - samples/sec: 4162.98 - lr: 0.012500\n",
            "2023-07-17 13:16:46,161 epoch 64 - iter 24/24 - loss 0.33058216 - time (sec): 5.25 - samples/sec: 4217.49 - lr: 0.012500\n",
            "2023-07-17 13:16:46,168 ----------------------------------------------------------------------------------------------------\n",
            "2023-07-17 13:16:46,169 EPOCH 64 done: loss 0.3306 - lr 0.012500\n"
          ]
        },
        {
          "output_type": "stream",
          "name": "stderr",
          "text": [
            "100%|██████████| 5/5 [00:00<00:00,  5.93it/s]"
          ]
        },
        {
          "output_type": "stream",
          "name": "stdout",
          "text": [
            "2023-07-17 13:16:47,032 Evaluating as a multi-label problem: False\n",
            "2023-07-17 13:16:47,069 DEV : loss 0.33164548873901367 - f1-score (micro avg)  0.9029\n"
          ]
        },
        {
          "output_type": "stream",
          "name": "stderr",
          "text": [
            "\n"
          ]
        },
        {
          "output_type": "stream",
          "name": "stdout",
          "text": [
            "2023-07-17 13:16:47,089 BAD EPOCHS (no improvement): 2\n",
            "2023-07-17 13:16:47,092 ----------------------------------------------------------------------------------------------------\n",
            "2023-07-17 13:16:47,415 epoch 65 - iter 2/24 - loss 0.29056539 - time (sec): 0.32 - samples/sec: 6001.03 - lr: 0.012500\n",
            "2023-07-17 13:16:47,794 epoch 65 - iter 4/24 - loss 0.30910611 - time (sec): 0.70 - samples/sec: 5505.64 - lr: 0.012500\n",
            "2023-07-17 13:16:48,146 epoch 65 - iter 6/24 - loss 0.31837855 - time (sec): 1.05 - samples/sec: 5544.40 - lr: 0.012500\n",
            "2023-07-17 13:16:48,469 epoch 65 - iter 8/24 - loss 0.32329736 - time (sec): 1.38 - samples/sec: 5618.75 - lr: 0.012500\n",
            "2023-07-17 13:16:48,807 epoch 65 - iter 10/24 - loss 0.32505195 - time (sec): 1.71 - samples/sec: 5543.74 - lr: 0.012500\n",
            "2023-07-17 13:16:49,097 epoch 65 - iter 12/24 - loss 0.33100310 - time (sec): 2.00 - samples/sec: 5604.13 - lr: 0.012500\n",
            "2023-07-17 13:16:49,443 epoch 65 - iter 14/24 - loss 0.33179918 - time (sec): 2.35 - samples/sec: 5612.79 - lr: 0.012500\n",
            "2023-07-17 13:16:49,801 epoch 65 - iter 16/24 - loss 0.33600994 - time (sec): 2.71 - samples/sec: 5575.55 - lr: 0.012500\n",
            "2023-07-17 13:16:50,118 epoch 65 - iter 18/24 - loss 0.33434528 - time (sec): 3.02 - samples/sec: 5611.42 - lr: 0.012500\n",
            "2023-07-17 13:16:50,467 epoch 65 - iter 20/24 - loss 0.33486658 - time (sec): 3.37 - samples/sec: 5622.46 - lr: 0.012500\n",
            "2023-07-17 13:16:50,819 epoch 65 - iter 22/24 - loss 0.33139253 - time (sec): 3.73 - samples/sec: 5546.97 - lr: 0.012500\n",
            "2023-07-17 13:16:51,094 epoch 65 - iter 24/24 - loss 0.33289868 - time (sec): 4.00 - samples/sec: 5539.62 - lr: 0.012500\n",
            "2023-07-17 13:16:51,099 ----------------------------------------------------------------------------------------------------\n",
            "2023-07-17 13:16:51,103 EPOCH 65 done: loss 0.3329 - lr 0.012500\n"
          ]
        },
        {
          "output_type": "stream",
          "name": "stderr",
          "text": [
            "100%|██████████| 5/5 [00:00<00:00,  5.94it/s]"
          ]
        },
        {
          "output_type": "stream",
          "name": "stdout",
          "text": [
            "2023-07-17 13:16:51,966 Evaluating as a multi-label problem: False\n",
            "2023-07-17 13:16:52,004 DEV : loss 0.33064937591552734 - f1-score (micro avg)  0.9053\n"
          ]
        },
        {
          "output_type": "stream",
          "name": "stderr",
          "text": [
            "\n"
          ]
        },
        {
          "output_type": "stream",
          "name": "stdout",
          "text": [
            "2023-07-17 13:16:52,029 BAD EPOCHS (no improvement): 3\n",
            "2023-07-17 13:16:52,031 ----------------------------------------------------------------------------------------------------\n",
            "2023-07-17 13:16:52,423 epoch 66 - iter 2/24 - loss 0.32521274 - time (sec): 0.39 - samples/sec: 4593.92 - lr: 0.012500\n",
            "2023-07-17 13:16:52,754 epoch 66 - iter 4/24 - loss 0.33607024 - time (sec): 0.72 - samples/sec: 4837.50 - lr: 0.012500\n",
            "2023-07-17 13:16:53,107 epoch 66 - iter 6/24 - loss 0.33542299 - time (sec): 1.07 - samples/sec: 5198.30 - lr: 0.012500\n",
            "2023-07-17 13:16:53,463 epoch 66 - iter 8/24 - loss 0.33651028 - time (sec): 1.43 - samples/sec: 5275.14 - lr: 0.012500\n",
            "2023-07-17 13:16:53,809 epoch 66 - iter 10/24 - loss 0.33422634 - time (sec): 1.78 - samples/sec: 5248.11 - lr: 0.012500\n",
            "2023-07-17 13:16:54,168 epoch 66 - iter 12/24 - loss 0.33299387 - time (sec): 2.14 - samples/sec: 5378.60 - lr: 0.012500\n",
            "2023-07-17 13:16:54,540 epoch 66 - iter 14/24 - loss 0.32996455 - time (sec): 2.51 - samples/sec: 5317.70 - lr: 0.012500\n",
            "2023-07-17 13:16:54,939 epoch 66 - iter 16/24 - loss 0.33028596 - time (sec): 2.91 - samples/sec: 5195.69 - lr: 0.012500\n",
            "2023-07-17 13:16:55,365 epoch 66 - iter 18/24 - loss 0.33180461 - time (sec): 3.33 - samples/sec: 5060.88 - lr: 0.012500\n",
            "2023-07-17 13:16:55,831 epoch 66 - iter 20/24 - loss 0.32976393 - time (sec): 3.80 - samples/sec: 4999.97 - lr: 0.012500\n",
            "2023-07-17 13:16:56,289 epoch 66 - iter 22/24 - loss 0.33049607 - time (sec): 4.26 - samples/sec: 4880.11 - lr: 0.012500\n",
            "2023-07-17 13:16:56,625 epoch 66 - iter 24/24 - loss 0.32931177 - time (sec): 4.59 - samples/sec: 4824.59 - lr: 0.012500\n",
            "2023-07-17 13:16:56,630 ----------------------------------------------------------------------------------------------------\n",
            "2023-07-17 13:16:56,633 EPOCH 66 done: loss 0.3293 - lr 0.012500\n"
          ]
        },
        {
          "output_type": "stream",
          "name": "stderr",
          "text": [
            "100%|██████████| 5/5 [00:01<00:00,  2.66it/s]"
          ]
        },
        {
          "output_type": "stream",
          "name": "stdout",
          "text": [
            "2023-07-17 13:16:58,531 Evaluating as a multi-label problem: False\n",
            "2023-07-17 13:16:58,588 DEV : loss 0.3331236243247986 - f1-score (micro avg)  0.9047\n",
            "2023-07-17 13:16:58,625 Epoch    66: reducing learning rate of group 0 to 6.2500e-03.\n",
            "2023-07-17 13:16:58,627 BAD EPOCHS (no improvement): 4\n",
            "2023-07-17 13:16:58,629 ----------------------------------------------------------------------------------------------------\n"
          ]
        },
        {
          "output_type": "stream",
          "name": "stderr",
          "text": [
            "\n"
          ]
        },
        {
          "output_type": "stream",
          "name": "stdout",
          "text": [
            "2023-07-17 13:16:59,230 epoch 67 - iter 2/24 - loss 0.33277488 - time (sec): 0.60 - samples/sec: 3311.59 - lr: 0.006250\n",
            "2023-07-17 13:16:59,576 epoch 67 - iter 4/24 - loss 0.34321039 - time (sec): 0.95 - samples/sec: 4035.12 - lr: 0.006250\n",
            "2023-07-17 13:16:59,977 epoch 67 - iter 6/24 - loss 0.33244118 - time (sec): 1.35 - samples/sec: 4339.27 - lr: 0.006250\n",
            "2023-07-17 13:17:00,336 epoch 67 - iter 8/24 - loss 0.32492550 - time (sec): 1.70 - samples/sec: 4468.93 - lr: 0.006250\n",
            "2023-07-17 13:17:00,689 epoch 67 - iter 10/24 - loss 0.32418922 - time (sec): 2.06 - samples/sec: 4627.37 - lr: 0.006250\n",
            "2023-07-17 13:17:01,065 epoch 67 - iter 12/24 - loss 0.32460376 - time (sec): 2.43 - samples/sec: 4688.38 - lr: 0.006250\n",
            "2023-07-17 13:17:01,406 epoch 67 - iter 14/24 - loss 0.32376001 - time (sec): 2.77 - samples/sec: 4800.66 - lr: 0.006250\n",
            "2023-07-17 13:17:01,769 epoch 67 - iter 16/24 - loss 0.32270437 - time (sec): 3.14 - samples/sec: 4931.30 - lr: 0.006250\n",
            "2023-07-17 13:17:02,084 epoch 67 - iter 18/24 - loss 0.32169267 - time (sec): 3.45 - samples/sec: 4997.71 - lr: 0.006250\n",
            "2023-07-17 13:17:02,390 epoch 67 - iter 20/24 - loss 0.32296650 - time (sec): 3.76 - samples/sec: 5027.04 - lr: 0.006250\n",
            "2023-07-17 13:17:02,666 epoch 67 - iter 22/24 - loss 0.32493895 - time (sec): 4.04 - samples/sec: 5122.83 - lr: 0.006250\n",
            "2023-07-17 13:17:02,956 epoch 67 - iter 24/24 - loss 0.32671392 - time (sec): 4.32 - samples/sec: 5123.83 - lr: 0.006250\n",
            "2023-07-17 13:17:02,958 ----------------------------------------------------------------------------------------------------\n",
            "2023-07-17 13:17:02,964 EPOCH 67 done: loss 0.3267 - lr 0.006250\n"
          ]
        },
        {
          "output_type": "stream",
          "name": "stderr",
          "text": [
            "100%|██████████| 5/5 [00:00<00:00,  6.03it/s]"
          ]
        },
        {
          "output_type": "stream",
          "name": "stdout",
          "text": [
            "2023-07-17 13:17:03,815 Evaluating as a multi-label problem: False\n",
            "2023-07-17 13:17:03,854 DEV : loss 0.33192193508148193 - f1-score (micro avg)  0.9045\n"
          ]
        },
        {
          "output_type": "stream",
          "name": "stderr",
          "text": [
            "\n"
          ]
        },
        {
          "output_type": "stream",
          "name": "stdout",
          "text": [
            "2023-07-17 13:17:03,884 BAD EPOCHS (no improvement): 1\n",
            "2023-07-17 13:17:03,886 ----------------------------------------------------------------------------------------------------\n",
            "2023-07-17 13:17:04,197 epoch 68 - iter 2/24 - loss 0.33933164 - time (sec): 0.31 - samples/sec: 6288.32 - lr: 0.006250\n",
            "2023-07-17 13:17:04,590 epoch 68 - iter 4/24 - loss 0.31143785 - time (sec): 0.70 - samples/sec: 5671.73 - lr: 0.006250\n",
            "2023-07-17 13:17:04,977 epoch 68 - iter 6/24 - loss 0.31486745 - time (sec): 1.09 - samples/sec: 5394.50 - lr: 0.006250\n",
            "2023-07-17 13:17:05,263 epoch 68 - iter 8/24 - loss 0.31949261 - time (sec): 1.38 - samples/sec: 5543.11 - lr: 0.006250\n",
            "2023-07-17 13:17:05,568 epoch 68 - iter 10/24 - loss 0.32526840 - time (sec): 1.68 - samples/sec: 5637.44 - lr: 0.006250\n",
            "2023-07-17 13:17:05,883 epoch 68 - iter 12/24 - loss 0.32718454 - time (sec): 2.00 - samples/sec: 5681.12 - lr: 0.006250\n",
            "2023-07-17 13:17:06,266 epoch 68 - iter 14/24 - loss 0.32876799 - time (sec): 2.38 - samples/sec: 5516.34 - lr: 0.006250\n",
            "2023-07-17 13:17:06,603 epoch 68 - iter 16/24 - loss 0.32408695 - time (sec): 2.72 - samples/sec: 5537.71 - lr: 0.006250\n",
            "2023-07-17 13:17:06,937 epoch 68 - iter 18/24 - loss 0.32470333 - time (sec): 3.05 - samples/sec: 5572.87 - lr: 0.006250\n",
            "2023-07-17 13:17:07,275 epoch 68 - iter 20/24 - loss 0.32045277 - time (sec): 3.39 - samples/sec: 5587.43 - lr: 0.006250\n",
            "2023-07-17 13:17:07,578 epoch 68 - iter 22/24 - loss 0.32047240 - time (sec): 3.69 - samples/sec: 5646.15 - lr: 0.006250\n",
            "2023-07-17 13:17:07,869 epoch 68 - iter 24/24 - loss 0.32119456 - time (sec): 3.98 - samples/sec: 5565.90 - lr: 0.006250\n",
            "2023-07-17 13:17:07,871 ----------------------------------------------------------------------------------------------------\n",
            "2023-07-17 13:17:07,877 EPOCH 68 done: loss 0.3212 - lr 0.006250\n"
          ]
        },
        {
          "output_type": "stream",
          "name": "stderr",
          "text": [
            "100%|██████████| 5/5 [00:00<00:00,  5.99it/s]"
          ]
        },
        {
          "output_type": "stream",
          "name": "stdout",
          "text": [
            "2023-07-17 13:17:08,736 Evaluating as a multi-label problem: False\n",
            "2023-07-17 13:17:08,774 DEV : loss 0.33039391040802 - f1-score (micro avg)  0.9047\n"
          ]
        },
        {
          "output_type": "stream",
          "name": "stderr",
          "text": [
            "\n"
          ]
        },
        {
          "output_type": "stream",
          "name": "stdout",
          "text": [
            "2023-07-17 13:17:08,809 BAD EPOCHS (no improvement): 2\n",
            "2023-07-17 13:17:08,811 ----------------------------------------------------------------------------------------------------\n",
            "2023-07-17 13:17:09,126 epoch 69 - iter 2/24 - loss 0.35674856 - time (sec): 0.31 - samples/sec: 5850.38 - lr: 0.006250\n",
            "2023-07-17 13:17:09,625 epoch 69 - iter 4/24 - loss 0.35011530 - time (sec): 0.81 - samples/sec: 4771.07 - lr: 0.006250\n",
            "2023-07-17 13:17:10,108 epoch 69 - iter 6/24 - loss 0.33685713 - time (sec): 1.30 - samples/sec: 4509.22 - lr: 0.006250\n",
            "2023-07-17 13:17:10,634 epoch 69 - iter 8/24 - loss 0.33644140 - time (sec): 1.82 - samples/sec: 4274.88 - lr: 0.006250\n",
            "2023-07-17 13:17:11,070 epoch 69 - iter 10/24 - loss 0.35119067 - time (sec): 2.26 - samples/sec: 4244.87 - lr: 0.006250\n",
            "2023-07-17 13:17:11,586 epoch 69 - iter 12/24 - loss 0.35100231 - time (sec): 2.77 - samples/sec: 4132.87 - lr: 0.006250\n",
            "2023-07-17 13:17:12,072 epoch 69 - iter 14/24 - loss 0.34462742 - time (sec): 3.26 - samples/sec: 4097.84 - lr: 0.006250\n",
            "2023-07-17 13:17:12,614 epoch 69 - iter 16/24 - loss 0.33922419 - time (sec): 3.80 - samples/sec: 4009.20 - lr: 0.006250\n",
            "2023-07-17 13:17:13,122 epoch 69 - iter 18/24 - loss 0.33347309 - time (sec): 4.31 - samples/sec: 3950.02 - lr: 0.006250\n",
            "2023-07-17 13:17:13,596 epoch 69 - iter 20/24 - loss 0.33331677 - time (sec): 4.78 - samples/sec: 3949.13 - lr: 0.006250\n",
            "2023-07-17 13:17:13,985 epoch 69 - iter 22/24 - loss 0.32756889 - time (sec): 5.17 - samples/sec: 4001.18 - lr: 0.006250\n",
            "2023-07-17 13:17:14,289 epoch 69 - iter 24/24 - loss 0.33051896 - time (sec): 5.48 - samples/sec: 4046.63 - lr: 0.006250\n",
            "2023-07-17 13:17:14,291 ----------------------------------------------------------------------------------------------------\n",
            "2023-07-17 13:17:14,295 EPOCH 69 done: loss 0.3305 - lr 0.006250\n"
          ]
        },
        {
          "output_type": "stream",
          "name": "stderr",
          "text": [
            "100%|██████████| 5/5 [00:00<00:00,  5.72it/s]"
          ]
        },
        {
          "output_type": "stream",
          "name": "stdout",
          "text": [
            "2023-07-17 13:17:15,191 Evaluating as a multi-label problem: False\n",
            "2023-07-17 13:17:15,236 DEV : loss 0.32964208722114563 - f1-score (micro avg)  0.905\n"
          ]
        },
        {
          "output_type": "stream",
          "name": "stderr",
          "text": [
            "\n"
          ]
        },
        {
          "output_type": "stream",
          "name": "stdout",
          "text": [
            "2023-07-17 13:17:15,265 BAD EPOCHS (no improvement): 3\n",
            "2023-07-17 13:17:15,267 ----------------------------------------------------------------------------------------------------\n",
            "2023-07-17 13:17:15,628 epoch 70 - iter 2/24 - loss 0.32644714 - time (sec): 0.36 - samples/sec: 5216.37 - lr: 0.006250\n",
            "2023-07-17 13:17:15,971 epoch 70 - iter 4/24 - loss 0.33499841 - time (sec): 0.70 - samples/sec: 5327.73 - lr: 0.006250\n",
            "2023-07-17 13:17:16,382 epoch 70 - iter 6/24 - loss 0.32989434 - time (sec): 1.11 - samples/sec: 5066.02 - lr: 0.006250\n",
            "2023-07-17 13:17:16,693 epoch 70 - iter 8/24 - loss 0.33132453 - time (sec): 1.42 - samples/sec: 5283.25 - lr: 0.006250\n",
            "2023-07-17 13:17:17,010 epoch 70 - iter 10/24 - loss 0.33288717 - time (sec): 1.74 - samples/sec: 5424.43 - lr: 0.006250\n",
            "2023-07-17 13:17:17,352 epoch 70 - iter 12/24 - loss 0.32985654 - time (sec): 2.08 - samples/sec: 5383.04 - lr: 0.006250\n",
            "2023-07-17 13:17:17,700 epoch 70 - iter 14/24 - loss 0.33044499 - time (sec): 2.43 - samples/sec: 5391.58 - lr: 0.006250\n",
            "2023-07-17 13:17:18,069 epoch 70 - iter 16/24 - loss 0.33053396 - time (sec): 2.80 - samples/sec: 5378.93 - lr: 0.006250\n",
            "2023-07-17 13:17:18,389 epoch 70 - iter 18/24 - loss 0.32912472 - time (sec): 3.12 - samples/sec: 5409.15 - lr: 0.006250\n",
            "2023-07-17 13:17:18,719 epoch 70 - iter 20/24 - loss 0.32569700 - time (sec): 3.45 - samples/sec: 5461.12 - lr: 0.006250\n",
            "2023-07-17 13:17:19,050 epoch 70 - iter 22/24 - loss 0.32366650 - time (sec): 3.78 - samples/sec: 5486.87 - lr: 0.006250\n",
            "2023-07-17 13:17:19,344 epoch 70 - iter 24/24 - loss 0.32420374 - time (sec): 4.07 - samples/sec: 5441.11 - lr: 0.006250\n",
            "2023-07-17 13:17:19,345 ----------------------------------------------------------------------------------------------------\n",
            "2023-07-17 13:17:19,350 EPOCH 70 done: loss 0.3242 - lr 0.006250\n"
          ]
        },
        {
          "output_type": "stream",
          "name": "stderr",
          "text": [
            "100%|██████████| 5/5 [00:00<00:00,  6.01it/s]"
          ]
        },
        {
          "output_type": "stream",
          "name": "stdout",
          "text": [
            "2023-07-17 13:17:20,209 Evaluating as a multi-label problem: False\n",
            "2023-07-17 13:17:20,258 DEV : loss 0.33066800236701965 - f1-score (micro avg)  0.9037\n"
          ]
        },
        {
          "output_type": "stream",
          "name": "stderr",
          "text": [
            "\n"
          ]
        },
        {
          "output_type": "stream",
          "name": "stdout",
          "text": [
            "2023-07-17 13:17:20,284 Epoch    70: reducing learning rate of group 0 to 3.1250e-03.\n",
            "2023-07-17 13:17:20,286 BAD EPOCHS (no improvement): 4\n",
            "2023-07-17 13:17:20,288 ----------------------------------------------------------------------------------------------------\n",
            "2023-07-17 13:17:20,665 epoch 71 - iter 2/24 - loss 0.29655960 - time (sec): 0.38 - samples/sec: 5053.20 - lr: 0.003125\n",
            "2023-07-17 13:17:21,025 epoch 71 - iter 4/24 - loss 0.33342953 - time (sec): 0.74 - samples/sec: 5356.78 - lr: 0.003125\n",
            "2023-07-17 13:17:21,363 epoch 71 - iter 6/24 - loss 0.32745061 - time (sec): 1.07 - samples/sec: 5305.43 - lr: 0.003125\n",
            "2023-07-17 13:17:21,701 epoch 71 - iter 8/24 - loss 0.32334219 - time (sec): 1.41 - samples/sec: 5425.60 - lr: 0.003125\n",
            "2023-07-17 13:17:22,011 epoch 71 - iter 10/24 - loss 0.32191607 - time (sec): 1.72 - samples/sec: 5510.89 - lr: 0.003125\n",
            "2023-07-17 13:17:22,393 epoch 71 - iter 12/24 - loss 0.32352787 - time (sec): 2.10 - samples/sec: 5368.92 - lr: 0.003125\n",
            "2023-07-17 13:17:22,770 epoch 71 - iter 14/24 - loss 0.32201160 - time (sec): 2.48 - samples/sec: 5394.36 - lr: 0.003125\n",
            "2023-07-17 13:17:23,156 epoch 71 - iter 16/24 - loss 0.32343328 - time (sec): 2.87 - samples/sec: 5324.83 - lr: 0.003125\n",
            "2023-07-17 13:17:23,476 epoch 71 - iter 18/24 - loss 0.32232783 - time (sec): 3.19 - samples/sec: 5345.71 - lr: 0.003125\n",
            "2023-07-17 13:17:23,795 epoch 71 - iter 20/24 - loss 0.32033447 - time (sec): 3.51 - samples/sec: 5375.30 - lr: 0.003125\n",
            "2023-07-17 13:17:24,320 epoch 71 - iter 22/24 - loss 0.31945722 - time (sec): 4.03 - samples/sec: 5144.10 - lr: 0.003125\n",
            "2023-07-17 13:17:24,678 epoch 71 - iter 24/24 - loss 0.31930275 - time (sec): 4.39 - samples/sec: 5048.76 - lr: 0.003125\n",
            "2023-07-17 13:17:24,681 ----------------------------------------------------------------------------------------------------\n",
            "2023-07-17 13:17:24,683 EPOCH 71 done: loss 0.3193 - lr 0.003125\n"
          ]
        },
        {
          "output_type": "stream",
          "name": "stderr",
          "text": [
            "100%|██████████| 5/5 [00:01<00:00,  3.93it/s]"
          ]
        },
        {
          "output_type": "stream",
          "name": "stdout",
          "text": [
            "2023-07-17 13:17:25,976 Evaluating as a multi-label problem: False\n",
            "2023-07-17 13:17:26,035 DEV : loss 0.33052417635917664 - f1-score (micro avg)  0.9058\n",
            "2023-07-17 13:17:26,071 BAD EPOCHS (no improvement): 1\n",
            "2023-07-17 13:17:26,078 ----------------------------------------------------------------------------------------------------\n"
          ]
        },
        {
          "output_type": "stream",
          "name": "stderr",
          "text": [
            "\n"
          ]
        },
        {
          "output_type": "stream",
          "name": "stdout",
          "text": [
            "2023-07-17 13:17:26,555 epoch 72 - iter 2/24 - loss 0.30852527 - time (sec): 0.48 - samples/sec: 3449.80 - lr: 0.003125\n",
            "2023-07-17 13:17:27,062 epoch 72 - iter 4/24 - loss 0.30396914 - time (sec): 0.98 - samples/sec: 3359.68 - lr: 0.003125\n",
            "2023-07-17 13:17:27,711 epoch 72 - iter 6/24 - loss 0.32745229 - time (sec): 1.63 - samples/sec: 3371.68 - lr: 0.003125\n",
            "2023-07-17 13:17:28,293 epoch 72 - iter 8/24 - loss 0.32538233 - time (sec): 2.21 - samples/sec: 3395.82 - lr: 0.003125\n",
            "2023-07-17 13:17:28,663 epoch 72 - iter 10/24 - loss 0.32807922 - time (sec): 2.58 - samples/sec: 3587.74 - lr: 0.003125\n",
            "2023-07-17 13:17:29,002 epoch 72 - iter 12/24 - loss 0.32555114 - time (sec): 2.92 - samples/sec: 3828.82 - lr: 0.003125\n",
            "2023-07-17 13:17:29,317 epoch 72 - iter 14/24 - loss 0.32163929 - time (sec): 3.24 - samples/sec: 3998.78 - lr: 0.003125\n",
            "2023-07-17 13:17:29,652 epoch 72 - iter 16/24 - loss 0.32327759 - time (sec): 3.57 - samples/sec: 4158.93 - lr: 0.003125\n",
            "2023-07-17 13:17:30,045 epoch 72 - iter 18/24 - loss 0.32677676 - time (sec): 3.97 - samples/sec: 4243.24 - lr: 0.003125\n",
            "2023-07-17 13:17:30,385 epoch 72 - iter 20/24 - loss 0.32485805 - time (sec): 4.30 - samples/sec: 4363.22 - lr: 0.003125\n",
            "2023-07-17 13:17:30,740 epoch 72 - iter 22/24 - loss 0.32408272 - time (sec): 4.66 - samples/sec: 4431.59 - lr: 0.003125\n",
            "2023-07-17 13:17:31,036 epoch 72 - iter 24/24 - loss 0.32517879 - time (sec): 4.96 - samples/sec: 4471.37 - lr: 0.003125\n",
            "2023-07-17 13:17:31,037 ----------------------------------------------------------------------------------------------------\n",
            "2023-07-17 13:17:31,045 EPOCH 72 done: loss 0.3252 - lr 0.003125\n"
          ]
        },
        {
          "output_type": "stream",
          "name": "stderr",
          "text": [
            "100%|██████████| 5/5 [00:00<00:00,  5.95it/s]"
          ]
        },
        {
          "output_type": "stream",
          "name": "stdout",
          "text": [
            "2023-07-17 13:17:31,909 Evaluating as a multi-label problem: False\n",
            "2023-07-17 13:17:31,950 DEV : loss 0.3303180932998657 - f1-score (micro avg)  0.9058\n"
          ]
        },
        {
          "output_type": "stream",
          "name": "stderr",
          "text": [
            "\n"
          ]
        },
        {
          "output_type": "stream",
          "name": "stdout",
          "text": [
            "2023-07-17 13:17:31,974 BAD EPOCHS (no improvement): 2\n",
            "2023-07-17 13:17:31,977 ----------------------------------------------------------------------------------------------------\n",
            "2023-07-17 13:17:32,352 epoch 73 - iter 2/24 - loss 0.31762668 - time (sec): 0.37 - samples/sec: 4766.12 - lr: 0.003125\n",
            "2023-07-17 13:17:32,716 epoch 73 - iter 4/24 - loss 0.33584397 - time (sec): 0.74 - samples/sec: 4879.93 - lr: 0.003125\n",
            "2023-07-17 13:17:33,051 epoch 73 - iter 6/24 - loss 0.33010021 - time (sec): 1.07 - samples/sec: 5051.15 - lr: 0.003125\n",
            "2023-07-17 13:17:33,388 epoch 73 - iter 8/24 - loss 0.32613469 - time (sec): 1.41 - samples/sec: 5154.56 - lr: 0.003125\n",
            "2023-07-17 13:17:33,727 epoch 73 - iter 10/24 - loss 0.32393887 - time (sec): 1.75 - samples/sec: 5251.57 - lr: 0.003125\n",
            "2023-07-17 13:17:34,101 epoch 73 - iter 12/24 - loss 0.32105572 - time (sec): 2.12 - samples/sec: 5264.58 - lr: 0.003125\n",
            "2023-07-17 13:17:34,479 epoch 73 - iter 14/24 - loss 0.32303577 - time (sec): 2.50 - samples/sec: 5268.68 - lr: 0.003125\n",
            "2023-07-17 13:17:34,877 epoch 73 - iter 16/24 - loss 0.32642940 - time (sec): 2.90 - samples/sec: 5218.55 - lr: 0.003125\n",
            "2023-07-17 13:17:35,168 epoch 73 - iter 18/24 - loss 0.32503315 - time (sec): 3.19 - samples/sec: 5281.81 - lr: 0.003125\n",
            "2023-07-17 13:17:35,494 epoch 73 - iter 20/24 - loss 0.32931647 - time (sec): 3.52 - samples/sec: 5357.79 - lr: 0.003125\n",
            "2023-07-17 13:17:35,852 epoch 73 - iter 22/24 - loss 0.32643787 - time (sec): 3.87 - samples/sec: 5363.74 - lr: 0.003125\n",
            "2023-07-17 13:17:36,106 epoch 73 - iter 24/24 - loss 0.32760940 - time (sec): 4.13 - samples/sec: 5370.00 - lr: 0.003125\n",
            "2023-07-17 13:17:36,108 ----------------------------------------------------------------------------------------------------\n",
            "2023-07-17 13:17:36,111 EPOCH 73 done: loss 0.3276 - lr 0.003125\n"
          ]
        },
        {
          "output_type": "stream",
          "name": "stderr",
          "text": [
            "100%|██████████| 5/5 [00:01<00:00,  3.83it/s]"
          ]
        },
        {
          "output_type": "stream",
          "name": "stdout",
          "text": [
            "2023-07-17 13:17:37,442 Evaluating as a multi-label problem: False\n",
            "2023-07-17 13:17:37,483 DEV : loss 0.3301459848880768 - f1-score (micro avg)  0.9058\n"
          ]
        },
        {
          "output_type": "stream",
          "name": "stderr",
          "text": [
            "\n"
          ]
        },
        {
          "output_type": "stream",
          "name": "stdout",
          "text": [
            "2023-07-17 13:17:37,508 BAD EPOCHS (no improvement): 3\n",
            "2023-07-17 13:17:37,510 ----------------------------------------------------------------------------------------------------\n",
            "2023-07-17 13:17:37,942 epoch 74 - iter 2/24 - loss 0.34032733 - time (sec): 0.43 - samples/sec: 4584.51 - lr: 0.003125\n",
            "2023-07-17 13:17:38,287 epoch 74 - iter 4/24 - loss 0.31603898 - time (sec): 0.78 - samples/sec: 4926.89 - lr: 0.003125\n",
            "2023-07-17 13:17:38,691 epoch 74 - iter 6/24 - loss 0.31810844 - time (sec): 1.18 - samples/sec: 4809.63 - lr: 0.003125\n",
            "2023-07-17 13:17:39,208 epoch 74 - iter 8/24 - loss 0.31742525 - time (sec): 1.70 - samples/sec: 4429.53 - lr: 0.003125\n",
            "2023-07-17 13:17:39,699 epoch 74 - iter 10/24 - loss 0.31379744 - time (sec): 2.19 - samples/sec: 4305.32 - lr: 0.003125\n",
            "2023-07-17 13:17:40,222 epoch 74 - iter 12/24 - loss 0.31949801 - time (sec): 2.71 - samples/sec: 4200.06 - lr: 0.003125\n",
            "2023-07-17 13:17:40,770 epoch 74 - iter 14/24 - loss 0.31903032 - time (sec): 3.26 - samples/sec: 4053.43 - lr: 0.003125\n",
            "2023-07-17 13:17:41,277 epoch 74 - iter 16/24 - loss 0.31771798 - time (sec): 3.77 - samples/sec: 3999.21 - lr: 0.003125\n",
            "2023-07-17 13:17:41,714 epoch 74 - iter 18/24 - loss 0.32032876 - time (sec): 4.20 - samples/sec: 3986.40 - lr: 0.003125\n",
            "2023-07-17 13:17:42,261 epoch 74 - iter 20/24 - loss 0.31959898 - time (sec): 4.75 - samples/sec: 3935.46 - lr: 0.003125\n",
            "2023-07-17 13:17:42,724 epoch 74 - iter 22/24 - loss 0.31874158 - time (sec): 5.21 - samples/sec: 3940.49 - lr: 0.003125\n",
            "2023-07-17 13:17:43,083 epoch 74 - iter 24/24 - loss 0.32207725 - time (sec): 5.57 - samples/sec: 3977.34 - lr: 0.003125\n",
            "2023-07-17 13:17:43,084 ----------------------------------------------------------------------------------------------------\n",
            "2023-07-17 13:17:43,096 EPOCH 74 done: loss 0.3221 - lr 0.003125\n"
          ]
        },
        {
          "output_type": "stream",
          "name": "stderr",
          "text": [
            "100%|██████████| 5/5 [00:00<00:00,  5.61it/s]"
          ]
        },
        {
          "output_type": "stream",
          "name": "stdout",
          "text": [
            "2023-07-17 13:17:44,011 Evaluating as a multi-label problem: False\n"
          ]
        },
        {
          "output_type": "stream",
          "name": "stderr",
          "text": [
            "\n"
          ]
        },
        {
          "output_type": "stream",
          "name": "stdout",
          "text": [
            "2023-07-17 13:17:44,066 DEV : loss 0.33036550879478455 - f1-score (micro avg)  0.905\n",
            "2023-07-17 13:17:44,086 Epoch    74: reducing learning rate of group 0 to 1.5625e-03.\n",
            "2023-07-17 13:17:44,088 BAD EPOCHS (no improvement): 4\n",
            "2023-07-17 13:17:44,092 ----------------------------------------------------------------------------------------------------\n",
            "2023-07-17 13:17:44,460 epoch 75 - iter 2/24 - loss 0.34277936 - time (sec): 0.37 - samples/sec: 4724.22 - lr: 0.001563\n",
            "2023-07-17 13:17:44,762 epoch 75 - iter 4/24 - loss 0.30872899 - time (sec): 0.67 - samples/sec: 5194.30 - lr: 0.001563\n",
            "2023-07-17 13:17:45,114 epoch 75 - iter 6/24 - loss 0.30984383 - time (sec): 1.02 - samples/sec: 5225.63 - lr: 0.001563\n",
            "2023-07-17 13:17:45,488 epoch 75 - iter 8/24 - loss 0.31746532 - time (sec): 1.40 - samples/sec: 5246.66 - lr: 0.001563\n",
            "2023-07-17 13:17:45,830 epoch 75 - iter 10/24 - loss 0.32294328 - time (sec): 1.74 - samples/sec: 5356.55 - lr: 0.001563\n",
            "2023-07-17 13:17:46,176 epoch 75 - iter 12/24 - loss 0.32153364 - time (sec): 2.08 - samples/sec: 5317.08 - lr: 0.001563\n",
            "2023-07-17 13:17:46,559 epoch 75 - iter 14/24 - loss 0.32169097 - time (sec): 2.47 - samples/sec: 5296.10 - lr: 0.001563\n",
            "2023-07-17 13:17:46,900 epoch 75 - iter 16/24 - loss 0.32873924 - time (sec): 2.81 - samples/sec: 5326.05 - lr: 0.001563\n",
            "2023-07-17 13:17:47,242 epoch 75 - iter 18/24 - loss 0.32882955 - time (sec): 3.15 - samples/sec: 5304.19 - lr: 0.001563\n",
            "2023-07-17 13:17:47,620 epoch 75 - iter 20/24 - loss 0.33175452 - time (sec): 3.53 - samples/sec: 5294.11 - lr: 0.001563\n",
            "2023-07-17 13:17:47,979 epoch 75 - iter 22/24 - loss 0.33022595 - time (sec): 3.89 - samples/sec: 5333.25 - lr: 0.001563\n",
            "2023-07-17 13:17:48,244 epoch 75 - iter 24/24 - loss 0.32717001 - time (sec): 4.15 - samples/sec: 5338.15 - lr: 0.001563\n",
            "2023-07-17 13:17:48,246 ----------------------------------------------------------------------------------------------------\n",
            "2023-07-17 13:17:48,252 EPOCH 75 done: loss 0.3272 - lr 0.001563\n"
          ]
        },
        {
          "output_type": "stream",
          "name": "stderr",
          "text": [
            "100%|██████████| 5/5 [00:00<00:00,  6.04it/s]"
          ]
        },
        {
          "output_type": "stream",
          "name": "stdout",
          "text": [
            "2023-07-17 13:17:49,108 Evaluating as a multi-label problem: False\n",
            "2023-07-17 13:17:49,153 DEV : loss 0.3300498425960541 - f1-score (micro avg)  0.905\n"
          ]
        },
        {
          "output_type": "stream",
          "name": "stderr",
          "text": [
            "\n"
          ]
        },
        {
          "output_type": "stream",
          "name": "stdout",
          "text": [
            "2023-07-17 13:17:49,179 BAD EPOCHS (no improvement): 1\n",
            "2023-07-17 13:17:49,181 ----------------------------------------------------------------------------------------------------\n",
            "2023-07-17 13:17:49,556 epoch 76 - iter 2/24 - loss 0.34073910 - time (sec): 0.37 - samples/sec: 5098.56 - lr: 0.001563\n",
            "2023-07-17 13:17:49,915 epoch 76 - iter 4/24 - loss 0.35052925 - time (sec): 0.73 - samples/sec: 5201.34 - lr: 0.001563\n",
            "2023-07-17 13:17:50,293 epoch 76 - iter 6/24 - loss 0.33252374 - time (sec): 1.11 - samples/sec: 5229.90 - lr: 0.001563\n",
            "2023-07-17 13:17:50,633 epoch 76 - iter 8/24 - loss 0.32370563 - time (sec): 1.45 - samples/sec: 5328.25 - lr: 0.001563\n",
            "2023-07-17 13:17:50,954 epoch 76 - iter 10/24 - loss 0.32850544 - time (sec): 1.77 - samples/sec: 5454.52 - lr: 0.001563\n",
            "2023-07-17 13:17:51,289 epoch 76 - iter 12/24 - loss 0.32834260 - time (sec): 2.11 - samples/sec: 5464.73 - lr: 0.001563\n",
            "2023-07-17 13:17:51,611 epoch 76 - iter 14/24 - loss 0.32644269 - time (sec): 2.43 - samples/sec: 5435.25 - lr: 0.001563\n",
            "2023-07-17 13:17:51,905 epoch 76 - iter 16/24 - loss 0.32471911 - time (sec): 2.72 - samples/sec: 5493.28 - lr: 0.001563\n",
            "2023-07-17 13:17:52,223 epoch 76 - iter 18/24 - loss 0.32103342 - time (sec): 3.04 - samples/sec: 5555.80 - lr: 0.001563\n",
            "2023-07-17 13:17:52,576 epoch 76 - iter 20/24 - loss 0.32156058 - time (sec): 3.39 - samples/sec: 5537.29 - lr: 0.001563\n",
            "2023-07-17 13:17:53,002 epoch 76 - iter 22/24 - loss 0.32135658 - time (sec): 3.82 - samples/sec: 5442.53 - lr: 0.001563\n",
            "2023-07-17 13:17:53,369 epoch 76 - iter 24/24 - loss 0.32052808 - time (sec): 4.19 - samples/sec: 5293.46 - lr: 0.001563\n",
            "2023-07-17 13:17:53,380 ----------------------------------------------------------------------------------------------------\n",
            "2023-07-17 13:17:53,382 EPOCH 76 done: loss 0.3205 - lr 0.001563\n"
          ]
        },
        {
          "output_type": "stream",
          "name": "stderr",
          "text": [
            "100%|██████████| 5/5 [00:01<00:00,  3.82it/s]"
          ]
        },
        {
          "output_type": "stream",
          "name": "stdout",
          "text": [
            "2023-07-17 13:17:54,719 Evaluating as a multi-label problem: False\n",
            "2023-07-17 13:17:54,786 DEV : loss 0.3302122950553894 - f1-score (micro avg)  0.9053\n",
            "2023-07-17 13:17:54,821 BAD EPOCHS (no improvement): 2\n",
            "2023-07-17 13:17:54,827 ----------------------------------------------------------------------------------------------------\n"
          ]
        },
        {
          "output_type": "stream",
          "name": "stderr",
          "text": [
            "\n"
          ]
        },
        {
          "output_type": "stream",
          "name": "stdout",
          "text": [
            "2023-07-17 13:17:55,419 epoch 77 - iter 2/24 - loss 0.31402182 - time (sec): 0.59 - samples/sec: 3507.44 - lr: 0.001563\n",
            "2023-07-17 13:17:55,920 epoch 77 - iter 4/24 - loss 0.33118059 - time (sec): 1.09 - samples/sec: 3646.23 - lr: 0.001563\n",
            "2023-07-17 13:17:56,393 epoch 77 - iter 6/24 - loss 0.33522924 - time (sec): 1.56 - samples/sec: 3707.21 - lr: 0.001563\n",
            "2023-07-17 13:17:56,907 epoch 77 - iter 8/24 - loss 0.32253555 - time (sec): 2.08 - samples/sec: 3752.14 - lr: 0.001563\n",
            "2023-07-17 13:17:57,432 epoch 77 - iter 10/24 - loss 0.31992720 - time (sec): 2.60 - samples/sec: 3649.23 - lr: 0.001563\n",
            "2023-07-17 13:17:57,777 epoch 77 - iter 12/24 - loss 0.31713651 - time (sec): 2.95 - samples/sec: 3835.30 - lr: 0.001563\n",
            "2023-07-17 13:17:58,111 epoch 77 - iter 14/24 - loss 0.32163350 - time (sec): 3.28 - samples/sec: 3970.33 - lr: 0.001563\n",
            "2023-07-17 13:17:58,496 epoch 77 - iter 16/24 - loss 0.31546368 - time (sec): 3.67 - samples/sec: 4108.49 - lr: 0.001563\n",
            "2023-07-17 13:17:58,837 epoch 77 - iter 18/24 - loss 0.31913526 - time (sec): 4.01 - samples/sec: 4229.98 - lr: 0.001563\n",
            "2023-07-17 13:17:59,166 epoch 77 - iter 20/24 - loss 0.32453900 - time (sec): 4.34 - samples/sec: 4327.81 - lr: 0.001563\n",
            "2023-07-17 13:17:59,564 epoch 77 - iter 22/24 - loss 0.32199942 - time (sec): 4.74 - samples/sec: 4380.63 - lr: 0.001563\n",
            "2023-07-17 13:17:59,853 epoch 77 - iter 24/24 - loss 0.32191669 - time (sec): 5.02 - samples/sec: 4410.34 - lr: 0.001563\n",
            "2023-07-17 13:17:59,854 ----------------------------------------------------------------------------------------------------\n",
            "2023-07-17 13:17:59,860 EPOCH 77 done: loss 0.3219 - lr 0.001563\n"
          ]
        },
        {
          "output_type": "stream",
          "name": "stderr",
          "text": [
            "100%|██████████| 5/5 [00:00<00:00,  5.85it/s]"
          ]
        },
        {
          "output_type": "stream",
          "name": "stdout",
          "text": [
            "2023-07-17 13:18:00,739 Evaluating as a multi-label problem: False\n",
            "2023-07-17 13:18:00,782 DEV : loss 0.32985129952430725 - f1-score (micro avg)  0.9055\n"
          ]
        },
        {
          "output_type": "stream",
          "name": "stderr",
          "text": [
            "\n"
          ]
        },
        {
          "output_type": "stream",
          "name": "stdout",
          "text": [
            "2023-07-17 13:18:00,810 BAD EPOCHS (no improvement): 3\n",
            "2023-07-17 13:18:00,813 ----------------------------------------------------------------------------------------------------\n",
            "2023-07-17 13:18:01,159 epoch 78 - iter 2/24 - loss 0.35381745 - time (sec): 0.34 - samples/sec: 6174.50 - lr: 0.001563\n",
            "2023-07-17 13:18:01,558 epoch 78 - iter 4/24 - loss 0.35046139 - time (sec): 0.74 - samples/sec: 5438.38 - lr: 0.001563\n",
            "2023-07-17 13:18:01,874 epoch 78 - iter 6/24 - loss 0.31994336 - time (sec): 1.06 - samples/sec: 5431.82 - lr: 0.001563\n",
            "2023-07-17 13:18:02,287 epoch 78 - iter 8/24 - loss 0.32526325 - time (sec): 1.47 - samples/sec: 5304.09 - lr: 0.001563\n",
            "2023-07-17 13:18:02,588 epoch 78 - iter 10/24 - loss 0.32814396 - time (sec): 1.77 - samples/sec: 5374.75 - lr: 0.001563\n",
            "2023-07-17 13:18:02,870 epoch 78 - iter 12/24 - loss 0.32991240 - time (sec): 2.06 - samples/sec: 5505.26 - lr: 0.001563\n",
            "2023-07-17 13:18:03,194 epoch 78 - iter 14/24 - loss 0.33151439 - time (sec): 2.38 - samples/sec: 5513.82 - lr: 0.001563\n",
            "2023-07-17 13:18:03,563 epoch 78 - iter 16/24 - loss 0.33018156 - time (sec): 2.75 - samples/sec: 5507.21 - lr: 0.001563\n",
            "2023-07-17 13:18:03,854 epoch 78 - iter 18/24 - loss 0.33031404 - time (sec): 3.04 - samples/sec: 5527.68 - lr: 0.001563\n",
            "2023-07-17 13:18:04,189 epoch 78 - iter 20/24 - loss 0.32848707 - time (sec): 3.37 - samples/sec: 5541.67 - lr: 0.001563\n",
            "2023-07-17 13:18:04,585 epoch 78 - iter 22/24 - loss 0.32951527 - time (sec): 3.77 - samples/sec: 5470.76 - lr: 0.001563\n",
            "2023-07-17 13:18:04,852 epoch 78 - iter 24/24 - loss 0.32663988 - time (sec): 4.04 - samples/sec: 5488.10 - lr: 0.001563\n",
            "2023-07-17 13:18:04,854 ----------------------------------------------------------------------------------------------------\n",
            "2023-07-17 13:18:04,861 EPOCH 78 done: loss 0.3266 - lr 0.001563\n"
          ]
        },
        {
          "output_type": "stream",
          "name": "stderr",
          "text": [
            "100%|██████████| 5/5 [00:00<00:00,  5.90it/s]"
          ]
        },
        {
          "output_type": "stream",
          "name": "stdout",
          "text": [
            "2023-07-17 13:18:05,736 Evaluating as a multi-label problem: False\n",
            "2023-07-17 13:18:05,774 DEV : loss 0.33037659525871277 - f1-score (micro avg)  0.9058\n"
          ]
        },
        {
          "output_type": "stream",
          "name": "stderr",
          "text": [
            "\n"
          ]
        },
        {
          "output_type": "stream",
          "name": "stdout",
          "text": [
            "2023-07-17 13:18:05,796 Epoch    78: reducing learning rate of group 0 to 7.8125e-04.\n",
            "2023-07-17 13:18:05,798 BAD EPOCHS (no improvement): 4\n",
            "2023-07-17 13:18:05,799 ----------------------------------------------------------------------------------------------------\n",
            "2023-07-17 13:18:06,191 epoch 79 - iter 2/24 - loss 0.34030647 - time (sec): 0.39 - samples/sec: 4740.55 - lr: 0.000781\n",
            "2023-07-17 13:18:06,537 epoch 79 - iter 4/24 - loss 0.34390321 - time (sec): 0.74 - samples/sec: 5020.69 - lr: 0.000781\n",
            "2023-07-17 13:18:06,878 epoch 79 - iter 6/24 - loss 0.34445270 - time (sec): 1.08 - samples/sec: 5213.66 - lr: 0.000781\n",
            "2023-07-17 13:18:07,186 epoch 79 - iter 8/24 - loss 0.34190097 - time (sec): 1.39 - samples/sec: 5353.87 - lr: 0.000781\n",
            "2023-07-17 13:18:07,571 epoch 79 - iter 10/24 - loss 0.33312814 - time (sec): 1.77 - samples/sec: 5207.75 - lr: 0.000781\n",
            "2023-07-17 13:18:08,042 epoch 79 - iter 12/24 - loss 0.33304541 - time (sec): 2.24 - samples/sec: 4919.08 - lr: 0.000781\n",
            "2023-07-17 13:18:08,555 epoch 79 - iter 14/24 - loss 0.32727008 - time (sec): 2.75 - samples/sec: 4748.71 - lr: 0.000781\n",
            "2023-07-17 13:18:09,007 epoch 79 - iter 16/24 - loss 0.32698284 - time (sec): 3.21 - samples/sec: 4662.13 - lr: 0.000781\n",
            "2023-07-17 13:18:09,457 epoch 79 - iter 18/24 - loss 0.32541690 - time (sec): 3.66 - samples/sec: 4550.01 - lr: 0.000781\n",
            "2023-07-17 13:18:09,989 epoch 79 - iter 20/24 - loss 0.32323701 - time (sec): 4.19 - samples/sec: 4431.47 - lr: 0.000781\n",
            "2023-07-17 13:18:10,581 epoch 79 - iter 22/24 - loss 0.32525075 - time (sec): 4.78 - samples/sec: 4297.93 - lr: 0.000781\n",
            "2023-07-17 13:18:11,029 epoch 79 - iter 24/24 - loss 0.32070194 - time (sec): 5.23 - samples/sec: 4238.17 - lr: 0.000781\n",
            "2023-07-17 13:18:11,031 ----------------------------------------------------------------------------------------------------\n",
            "2023-07-17 13:18:11,035 EPOCH 79 done: loss 0.3207 - lr 0.000781\n"
          ]
        },
        {
          "output_type": "stream",
          "name": "stderr",
          "text": [
            "100%|██████████| 5/5 [00:01<00:00,  4.17it/s]"
          ]
        },
        {
          "output_type": "stream",
          "name": "stdout",
          "text": [
            "2023-07-17 13:18:12,259 Evaluating as a multi-label problem: False\n",
            "2023-07-17 13:18:12,297 DEV : loss 0.33036747574806213 - f1-score (micro avg)  0.9053\n"
          ]
        },
        {
          "output_type": "stream",
          "name": "stderr",
          "text": [
            "\n"
          ]
        },
        {
          "output_type": "stream",
          "name": "stdout",
          "text": [
            "2023-07-17 13:18:12,322 BAD EPOCHS (no improvement): 1\n",
            "2023-07-17 13:18:12,323 ----------------------------------------------------------------------------------------------------\n",
            "2023-07-17 13:18:12,757 epoch 80 - iter 2/24 - loss 0.34766543 - time (sec): 0.43 - samples/sec: 4435.32 - lr: 0.000781\n",
            "2023-07-17 13:18:13,164 epoch 80 - iter 4/24 - loss 0.30492762 - time (sec): 0.84 - samples/sec: 4634.18 - lr: 0.000781\n",
            "2023-07-17 13:18:13,566 epoch 80 - iter 6/24 - loss 0.32125981 - time (sec): 1.24 - samples/sec: 4790.07 - lr: 0.000781\n",
            "2023-07-17 13:18:13,916 epoch 80 - iter 8/24 - loss 0.32064005 - time (sec): 1.59 - samples/sec: 4933.93 - lr: 0.000781\n",
            "2023-07-17 13:18:14,262 epoch 80 - iter 10/24 - loss 0.32605495 - time (sec): 1.94 - samples/sec: 4995.96 - lr: 0.000781\n",
            "2023-07-17 13:18:14,639 epoch 80 - iter 12/24 - loss 0.32480761 - time (sec): 2.31 - samples/sec: 5042.77 - lr: 0.000781\n",
            "2023-07-17 13:18:14,979 epoch 80 - iter 14/24 - loss 0.32218945 - time (sec): 2.65 - samples/sec: 5092.94 - lr: 0.000781\n",
            "2023-07-17 13:18:15,315 epoch 80 - iter 16/24 - loss 0.32362253 - time (sec): 2.99 - samples/sec: 5121.59 - lr: 0.000781\n",
            "2023-07-17 13:18:15,619 epoch 80 - iter 18/24 - loss 0.32228064 - time (sec): 3.29 - samples/sec: 5211.00 - lr: 0.000781\n",
            "2023-07-17 13:18:15,954 epoch 80 - iter 20/24 - loss 0.32133909 - time (sec): 3.63 - samples/sec: 5195.98 - lr: 0.000781\n",
            "2023-07-17 13:18:16,257 epoch 80 - iter 22/24 - loss 0.32164138 - time (sec): 3.93 - samples/sec: 5243.20 - lr: 0.000781\n",
            "2023-07-17 13:18:16,513 epoch 80 - iter 24/24 - loss 0.32266965 - time (sec): 4.19 - samples/sec: 5291.00 - lr: 0.000781\n",
            "2023-07-17 13:18:16,515 ----------------------------------------------------------------------------------------------------\n",
            "2023-07-17 13:18:16,523 EPOCH 80 done: loss 0.3227 - lr 0.000781\n"
          ]
        },
        {
          "output_type": "stream",
          "name": "stderr",
          "text": [
            "100%|██████████| 5/5 [00:00<00:00,  5.82it/s]"
          ]
        },
        {
          "output_type": "stream",
          "name": "stdout",
          "text": [
            "2023-07-17 13:18:17,409 Evaluating as a multi-label problem: False\n",
            "2023-07-17 13:18:17,448 DEV : loss 0.33034074306488037 - f1-score (micro avg)  0.9053\n"
          ]
        },
        {
          "output_type": "stream",
          "name": "stderr",
          "text": [
            "\n"
          ]
        },
        {
          "output_type": "stream",
          "name": "stdout",
          "text": [
            "2023-07-17 13:18:17,475 BAD EPOCHS (no improvement): 2\n",
            "2023-07-17 13:18:17,477 ----------------------------------------------------------------------------------------------------\n",
            "2023-07-17 13:18:18,315 epoch 81 - iter 2/24 - loss 0.32003463 - time (sec): 0.84 - samples/sec: 2476.78 - lr: 0.000781\n",
            "2023-07-17 13:18:18,636 epoch 81 - iter 4/24 - loss 0.31826783 - time (sec): 1.16 - samples/sec: 3355.93 - lr: 0.000781\n",
            "2023-07-17 13:18:18,943 epoch 81 - iter 6/24 - loss 0.32338775 - time (sec): 1.46 - samples/sec: 3850.48 - lr: 0.000781\n",
            "2023-07-17 13:18:19,331 epoch 81 - iter 8/24 - loss 0.31787836 - time (sec): 1.85 - samples/sec: 4209.89 - lr: 0.000781\n",
            "2023-07-17 13:18:19,634 epoch 81 - iter 10/24 - loss 0.31763850 - time (sec): 2.15 - samples/sec: 4494.57 - lr: 0.000781\n",
            "2023-07-17 13:18:20,001 epoch 81 - iter 12/24 - loss 0.31353967 - time (sec): 2.52 - samples/sec: 4636.43 - lr: 0.000781\n",
            "2023-07-17 13:18:20,324 epoch 81 - iter 14/24 - loss 0.31304425 - time (sec): 2.85 - samples/sec: 4780.52 - lr: 0.000781\n",
            "2023-07-17 13:18:20,654 epoch 81 - iter 16/24 - loss 0.31438874 - time (sec): 3.18 - samples/sec: 4807.80 - lr: 0.000781\n",
            "2023-07-17 13:18:21,013 epoch 81 - iter 18/24 - loss 0.31816550 - time (sec): 3.53 - samples/sec: 4822.57 - lr: 0.000781\n",
            "2023-07-17 13:18:21,408 epoch 81 - iter 20/24 - loss 0.31981511 - time (sec): 3.93 - samples/sec: 4843.07 - lr: 0.000781\n",
            "2023-07-17 13:18:21,713 epoch 81 - iter 22/24 - loss 0.31848394 - time (sec): 4.23 - samples/sec: 4907.66 - lr: 0.000781\n",
            "2023-07-17 13:18:21,988 epoch 81 - iter 24/24 - loss 0.31711951 - time (sec): 4.51 - samples/sec: 4914.71 - lr: 0.000781\n",
            "2023-07-17 13:18:21,990 ----------------------------------------------------------------------------------------------------\n",
            "2023-07-17 13:18:21,993 EPOCH 81 done: loss 0.3171 - lr 0.000781\n"
          ]
        },
        {
          "output_type": "stream",
          "name": "stderr",
          "text": [
            "100%|██████████| 5/5 [00:01<00:00,  3.97it/s]\n"
          ]
        },
        {
          "output_type": "stream",
          "name": "stdout",
          "text": [
            "2023-07-17 13:18:23,272 Evaluating as a multi-label problem: False\n",
            "2023-07-17 13:18:23,330 DEV : loss 0.32999083399772644 - f1-score (micro avg)  0.9053\n",
            "2023-07-17 13:18:23,363 BAD EPOCHS (no improvement): 3\n",
            "2023-07-17 13:18:23,365 ----------------------------------------------------------------------------------------------------\n",
            "2023-07-17 13:18:23,978 epoch 82 - iter 2/24 - loss 0.37285619 - time (sec): 0.61 - samples/sec: 3315.33 - lr: 0.000781\n",
            "2023-07-17 13:18:24,523 epoch 82 - iter 4/24 - loss 0.34216636 - time (sec): 1.16 - samples/sec: 3254.72 - lr: 0.000781\n",
            "2023-07-17 13:18:25,027 epoch 82 - iter 6/24 - loss 0.33121724 - time (sec): 1.66 - samples/sec: 3326.85 - lr: 0.000781\n",
            "2023-07-17 13:18:25,624 epoch 82 - iter 8/24 - loss 0.32611522 - time (sec): 2.26 - samples/sec: 3385.72 - lr: 0.000781\n",
            "2023-07-17 13:18:26,162 epoch 82 - iter 10/24 - loss 0.33021882 - time (sec): 2.80 - samples/sec: 3427.66 - lr: 0.000781\n",
            "2023-07-17 13:18:26,609 epoch 82 - iter 12/24 - loss 0.32243631 - time (sec): 3.24 - samples/sec: 3510.90 - lr: 0.000781\n",
            "2023-07-17 13:18:26,979 epoch 82 - iter 14/24 - loss 0.31869498 - time (sec): 3.61 - samples/sec: 3659.56 - lr: 0.000781\n",
            "2023-07-17 13:18:27,371 epoch 82 - iter 16/24 - loss 0.31710355 - time (sec): 4.00 - samples/sec: 3810.56 - lr: 0.000781\n",
            "2023-07-17 13:18:27,718 epoch 82 - iter 18/24 - loss 0.31635175 - time (sec): 4.35 - samples/sec: 3930.07 - lr: 0.000781\n",
            "2023-07-17 13:18:28,076 epoch 82 - iter 20/24 - loss 0.32078237 - time (sec): 4.71 - samples/sec: 4025.47 - lr: 0.000781\n",
            "2023-07-17 13:18:28,391 epoch 82 - iter 22/24 - loss 0.31999895 - time (sec): 5.02 - samples/sec: 4152.11 - lr: 0.000781\n",
            "2023-07-17 13:18:28,649 epoch 82 - iter 24/24 - loss 0.32369894 - time (sec): 5.28 - samples/sec: 4194.57 - lr: 0.000781\n",
            "2023-07-17 13:18:28,652 ----------------------------------------------------------------------------------------------------\n",
            "2023-07-17 13:18:28,654 EPOCH 82 done: loss 0.3237 - lr 0.000781\n"
          ]
        },
        {
          "output_type": "stream",
          "name": "stderr",
          "text": [
            "100%|██████████| 5/5 [00:00<00:00,  5.84it/s]"
          ]
        },
        {
          "output_type": "stream",
          "name": "stdout",
          "text": [
            "2023-07-17 13:18:29,531 Evaluating as a multi-label problem: False\n",
            "2023-07-17 13:18:29,569 DEV : loss 0.32993870973587036 - f1-score (micro avg)  0.9047\n"
          ]
        },
        {
          "output_type": "stream",
          "name": "stderr",
          "text": [
            "\n"
          ]
        },
        {
          "output_type": "stream",
          "name": "stdout",
          "text": [
            "2023-07-17 13:18:29,589 Epoch    82: reducing learning rate of group 0 to 3.9063e-04.\n",
            "2023-07-17 13:18:29,593 BAD EPOCHS (no improvement): 4\n",
            "2023-07-17 13:18:29,595 ----------------------------------------------------------------------------------------------------\n",
            "2023-07-17 13:18:29,985 epoch 83 - iter 2/24 - loss 0.28449003 - time (sec): 0.39 - samples/sec: 4750.07 - lr: 0.000391\n",
            "2023-07-17 13:18:30,360 epoch 83 - iter 4/24 - loss 0.29503209 - time (sec): 0.76 - samples/sec: 4907.85 - lr: 0.000391\n",
            "2023-07-17 13:18:30,745 epoch 83 - iter 6/24 - loss 0.31797292 - time (sec): 1.15 - samples/sec: 4931.16 - lr: 0.000391\n",
            "2023-07-17 13:18:31,105 epoch 83 - iter 8/24 - loss 0.31249660 - time (sec): 1.51 - samples/sec: 4948.29 - lr: 0.000391\n",
            "2023-07-17 13:18:31,436 epoch 83 - iter 10/24 - loss 0.32533741 - time (sec): 1.84 - samples/sec: 5091.46 - lr: 0.000391\n",
            "2023-07-17 13:18:31,754 epoch 83 - iter 12/24 - loss 0.31862571 - time (sec): 2.16 - samples/sec: 5190.84 - lr: 0.000391\n",
            "2023-07-17 13:18:32,091 epoch 83 - iter 14/24 - loss 0.32089805 - time (sec): 2.49 - samples/sec: 5234.57 - lr: 0.000391\n",
            "2023-07-17 13:18:32,425 epoch 83 - iter 16/24 - loss 0.31863400 - time (sec): 2.83 - samples/sec: 5302.35 - lr: 0.000391\n",
            "2023-07-17 13:18:32,790 epoch 83 - iter 18/24 - loss 0.31947466 - time (sec): 3.19 - samples/sec: 5304.49 - lr: 0.000391\n",
            "2023-07-17 13:18:33,140 epoch 83 - iter 20/24 - loss 0.31622989 - time (sec): 3.54 - samples/sec: 5266.47 - lr: 0.000391\n",
            "2023-07-17 13:18:33,484 epoch 83 - iter 22/24 - loss 0.31771097 - time (sec): 3.89 - samples/sec: 5309.80 - lr: 0.000391\n",
            "2023-07-17 13:18:33,754 epoch 83 - iter 24/24 - loss 0.31799612 - time (sec): 4.16 - samples/sec: 5329.79 - lr: 0.000391\n",
            "2023-07-17 13:18:33,756 ----------------------------------------------------------------------------------------------------\n",
            "2023-07-17 13:18:33,762 EPOCH 83 done: loss 0.3180 - lr 0.000391\n"
          ]
        },
        {
          "output_type": "stream",
          "name": "stderr",
          "text": [
            "100%|██████████| 5/5 [00:00<00:00,  5.87it/s]"
          ]
        },
        {
          "output_type": "stream",
          "name": "stdout",
          "text": [
            "2023-07-17 13:18:34,636 Evaluating as a multi-label problem: False\n",
            "2023-07-17 13:18:34,682 DEV : loss 0.3300795555114746 - f1-score (micro avg)  0.905\n"
          ]
        },
        {
          "output_type": "stream",
          "name": "stderr",
          "text": [
            "\n"
          ]
        },
        {
          "output_type": "stream",
          "name": "stdout",
          "text": [
            "2023-07-17 13:18:34,703 BAD EPOCHS (no improvement): 1\n",
            "2023-07-17 13:18:34,705 ----------------------------------------------------------------------------------------------------\n",
            "2023-07-17 13:18:35,062 epoch 84 - iter 2/24 - loss 0.34292169 - time (sec): 0.36 - samples/sec: 5839.86 - lr: 0.000391\n",
            "2023-07-17 13:18:35,373 epoch 84 - iter 4/24 - loss 0.33480110 - time (sec): 0.67 - samples/sec: 5769.35 - lr: 0.000391\n",
            "2023-07-17 13:18:35,668 epoch 84 - iter 6/24 - loss 0.34558392 - time (sec): 0.96 - samples/sec: 5900.71 - lr: 0.000391\n",
            "2023-07-17 13:18:35,966 epoch 84 - iter 8/24 - loss 0.33475718 - time (sec): 1.26 - samples/sec: 5934.70 - lr: 0.000391\n",
            "2023-07-17 13:18:36,346 epoch 84 - iter 10/24 - loss 0.33723779 - time (sec): 1.64 - samples/sec: 5864.69 - lr: 0.000391\n",
            "2023-07-17 13:18:36,659 epoch 84 - iter 12/24 - loss 0.33309415 - time (sec): 1.95 - samples/sec: 5849.62 - lr: 0.000391\n",
            "2023-07-17 13:18:37,144 epoch 84 - iter 14/24 - loss 0.33438082 - time (sec): 2.44 - samples/sec: 5483.60 - lr: 0.000391\n",
            "2023-07-17 13:18:37,549 epoch 84 - iter 16/24 - loss 0.32704644 - time (sec): 2.84 - samples/sec: 5317.26 - lr: 0.000391\n",
            "2023-07-17 13:18:38,041 epoch 84 - iter 18/24 - loss 0.32645864 - time (sec): 3.33 - samples/sec: 5107.86 - lr: 0.000391\n",
            "2023-07-17 13:18:38,469 epoch 84 - iter 20/24 - loss 0.32800148 - time (sec): 3.76 - samples/sec: 5000.51 - lr: 0.000391\n",
            "2023-07-17 13:18:38,984 epoch 84 - iter 22/24 - loss 0.32849864 - time (sec): 4.28 - samples/sec: 4839.15 - lr: 0.000391\n",
            "2023-07-17 13:18:39,454 epoch 84 - iter 24/24 - loss 0.32867507 - time (sec): 4.75 - samples/sec: 4668.20 - lr: 0.000391\n",
            "2023-07-17 13:18:39,457 ----------------------------------------------------------------------------------------------------\n",
            "2023-07-17 13:18:39,459 EPOCH 84 done: loss 0.3287 - lr 0.000391\n"
          ]
        },
        {
          "output_type": "stream",
          "name": "stderr",
          "text": [
            "100%|██████████| 5/5 [00:01<00:00,  3.61it/s]"
          ]
        },
        {
          "output_type": "stream",
          "name": "stdout",
          "text": [
            "2023-07-17 13:18:40,866 Evaluating as a multi-label problem: False\n",
            "2023-07-17 13:18:40,932 DEV : loss 0.3300769329071045 - f1-score (micro avg)  0.9053\n",
            "2023-07-17 13:18:40,970 BAD EPOCHS (no improvement): 2\n",
            "2023-07-17 13:18:40,973 ----------------------------------------------------------------------------------------------------\n"
          ]
        },
        {
          "output_type": "stream",
          "name": "stderr",
          "text": [
            "\n"
          ]
        },
        {
          "output_type": "stream",
          "name": "stdout",
          "text": [
            "2023-07-17 13:18:41,512 epoch 85 - iter 2/24 - loss 0.30763959 - time (sec): 0.54 - samples/sec: 3251.45 - lr: 0.000391\n",
            "2023-07-17 13:18:41,895 epoch 85 - iter 4/24 - loss 0.33039232 - time (sec): 0.92 - samples/sec: 3891.74 - lr: 0.000391\n",
            "2023-07-17 13:18:42,272 epoch 85 - iter 6/24 - loss 0.32525309 - time (sec): 1.30 - samples/sec: 4258.43 - lr: 0.000391\n",
            "2023-07-17 13:18:42,611 epoch 85 - iter 8/24 - loss 0.32970239 - time (sec): 1.64 - samples/sec: 4512.20 - lr: 0.000391\n",
            "2023-07-17 13:18:42,972 epoch 85 - iter 10/24 - loss 0.32958553 - time (sec): 2.00 - samples/sec: 4709.11 - lr: 0.000391\n",
            "2023-07-17 13:18:43,328 epoch 85 - iter 12/24 - loss 0.32682232 - time (sec): 2.35 - samples/sec: 4769.00 - lr: 0.000391\n",
            "2023-07-17 13:18:43,720 epoch 85 - iter 14/24 - loss 0.33270225 - time (sec): 2.74 - samples/sec: 4858.60 - lr: 0.000391\n",
            "2023-07-17 13:18:44,034 epoch 85 - iter 16/24 - loss 0.32996366 - time (sec): 3.06 - samples/sec: 4968.07 - lr: 0.000391\n",
            "2023-07-17 13:18:44,354 epoch 85 - iter 18/24 - loss 0.32991082 - time (sec): 3.38 - samples/sec: 5007.50 - lr: 0.000391\n",
            "2023-07-17 13:18:44,717 epoch 85 - iter 20/24 - loss 0.32508953 - time (sec): 3.74 - samples/sec: 5065.85 - lr: 0.000391\n",
            "2023-07-17 13:18:45,069 epoch 85 - iter 22/24 - loss 0.32584099 - time (sec): 4.09 - samples/sec: 5088.33 - lr: 0.000391\n",
            "2023-07-17 13:18:45,324 epoch 85 - iter 24/24 - loss 0.32622016 - time (sec): 4.35 - samples/sec: 5095.69 - lr: 0.000391\n",
            "2023-07-17 13:18:45,327 ----------------------------------------------------------------------------------------------------\n",
            "2023-07-17 13:18:45,334 EPOCH 85 done: loss 0.3262 - lr 0.000391\n"
          ]
        },
        {
          "output_type": "stream",
          "name": "stderr",
          "text": [
            "100%|██████████| 5/5 [00:00<00:00,  5.77it/s]"
          ]
        },
        {
          "output_type": "stream",
          "name": "stdout",
          "text": [
            "2023-07-17 13:18:46,224 Evaluating as a multi-label problem: False\n",
            "2023-07-17 13:18:46,266 DEV : loss 0.3299495279788971 - f1-score (micro avg)  0.9053\n"
          ]
        },
        {
          "output_type": "stream",
          "name": "stderr",
          "text": [
            "\n"
          ]
        },
        {
          "output_type": "stream",
          "name": "stdout",
          "text": [
            "2023-07-17 13:18:46,287 BAD EPOCHS (no improvement): 3\n",
            "2023-07-17 13:18:46,289 ----------------------------------------------------------------------------------------------------\n",
            "2023-07-17 13:18:46,672 epoch 86 - iter 2/24 - loss 0.31364623 - time (sec): 0.38 - samples/sec: 5198.04 - lr: 0.000391\n",
            "2023-07-17 13:18:47,078 epoch 86 - iter 4/24 - loss 0.32076198 - time (sec): 0.79 - samples/sec: 4991.76 - lr: 0.000391\n",
            "2023-07-17 13:18:47,429 epoch 86 - iter 6/24 - loss 0.31283417 - time (sec): 1.14 - samples/sec: 5060.00 - lr: 0.000391\n",
            "2023-07-17 13:18:47,742 epoch 86 - iter 8/24 - loss 0.31035115 - time (sec): 1.45 - samples/sec: 5181.13 - lr: 0.000391\n",
            "2023-07-17 13:18:48,028 epoch 86 - iter 10/24 - loss 0.31780769 - time (sec): 1.74 - samples/sec: 5370.26 - lr: 0.000391\n",
            "2023-07-17 13:18:48,364 epoch 86 - iter 12/24 - loss 0.31873875 - time (sec): 2.07 - samples/sec: 5455.13 - lr: 0.000391\n",
            "2023-07-17 13:18:48,703 epoch 86 - iter 14/24 - loss 0.31432662 - time (sec): 2.41 - samples/sec: 5499.57 - lr: 0.000391\n",
            "2023-07-17 13:18:49,037 epoch 86 - iter 16/24 - loss 0.31658455 - time (sec): 2.75 - samples/sec: 5519.38 - lr: 0.000391\n",
            "2023-07-17 13:18:49,328 epoch 86 - iter 18/24 - loss 0.31935649 - time (sec): 3.04 - samples/sec: 5579.30 - lr: 0.000391\n",
            "2023-07-17 13:18:49,712 epoch 86 - iter 20/24 - loss 0.32035830 - time (sec): 3.42 - samples/sec: 5551.54 - lr: 0.000391\n",
            "2023-07-17 13:18:50,036 epoch 86 - iter 22/24 - loss 0.31928405 - time (sec): 3.75 - samples/sec: 5555.25 - lr: 0.000391\n",
            "2023-07-17 13:18:50,321 epoch 86 - iter 24/24 - loss 0.31959037 - time (sec): 4.03 - samples/sec: 5499.32 - lr: 0.000391\n",
            "2023-07-17 13:18:50,322 ----------------------------------------------------------------------------------------------------\n",
            "2023-07-17 13:18:50,329 EPOCH 86 done: loss 0.3196 - lr 0.000391\n"
          ]
        },
        {
          "output_type": "stream",
          "name": "stderr",
          "text": [
            "100%|██████████| 5/5 [00:00<00:00,  5.84it/s]"
          ]
        },
        {
          "output_type": "stream",
          "name": "stdout",
          "text": [
            "2023-07-17 13:18:51,209 Evaluating as a multi-label problem: False\n",
            "2023-07-17 13:18:51,255 DEV : loss 0.33007028698921204 - f1-score (micro avg)  0.9053\n"
          ]
        },
        {
          "output_type": "stream",
          "name": "stderr",
          "text": [
            "\n"
          ]
        },
        {
          "output_type": "stream",
          "name": "stdout",
          "text": [
            "2023-07-17 13:18:51,280 Epoch    86: reducing learning rate of group 0 to 1.9531e-04.\n",
            "2023-07-17 13:18:51,281 BAD EPOCHS (no improvement): 4\n",
            "2023-07-17 13:18:51,286 ----------------------------------------------------------------------------------------------------\n",
            "2023-07-17 13:18:51,797 epoch 87 - iter 2/24 - loss 0.33116521 - time (sec): 0.51 - samples/sec: 3483.37 - lr: 0.000195\n",
            "2023-07-17 13:18:52,267 epoch 87 - iter 4/24 - loss 0.32553646 - time (sec): 0.98 - samples/sec: 3732.76 - lr: 0.000195\n",
            "2023-07-17 13:18:52,762 epoch 87 - iter 6/24 - loss 0.32885842 - time (sec): 1.47 - samples/sec: 3823.57 - lr: 0.000195\n",
            "2023-07-17 13:18:53,233 epoch 87 - iter 8/24 - loss 0.32820315 - time (sec): 1.95 - samples/sec: 3837.68 - lr: 0.000195\n",
            "2023-07-17 13:18:53,762 epoch 87 - iter 10/24 - loss 0.31599035 - time (sec): 2.47 - samples/sec: 3835.78 - lr: 0.000195\n",
            "2023-07-17 13:18:54,313 epoch 87 - iter 12/24 - loss 0.31696846 - time (sec): 3.03 - samples/sec: 3819.66 - lr: 0.000195\n",
            "2023-07-17 13:18:54,932 epoch 87 - iter 14/24 - loss 0.31985171 - time (sec): 3.64 - samples/sec: 3688.68 - lr: 0.000195\n",
            "2023-07-17 13:18:55,466 epoch 87 - iter 16/24 - loss 0.32009561 - time (sec): 4.18 - samples/sec: 3672.44 - lr: 0.000195\n",
            "2023-07-17 13:18:55,991 epoch 87 - iter 18/24 - loss 0.32073406 - time (sec): 4.70 - samples/sec: 3648.31 - lr: 0.000195\n",
            "2023-07-17 13:18:56,336 epoch 87 - iter 20/24 - loss 0.31907207 - time (sec): 5.05 - samples/sec: 3767.45 - lr: 0.000195\n",
            "2023-07-17 13:18:56,666 epoch 87 - iter 22/24 - loss 0.31806036 - time (sec): 5.38 - samples/sec: 3865.65 - lr: 0.000195\n",
            "2023-07-17 13:18:56,969 epoch 87 - iter 24/24 - loss 0.32010833 - time (sec): 5.68 - samples/sec: 3900.51 - lr: 0.000195\n",
            "2023-07-17 13:18:56,970 ----------------------------------------------------------------------------------------------------\n",
            "2023-07-17 13:18:56,975 EPOCH 87 done: loss 0.3201 - lr 0.000195\n"
          ]
        },
        {
          "output_type": "stream",
          "name": "stderr",
          "text": [
            "100%|██████████| 5/5 [00:00<00:00,  5.84it/s]"
          ]
        },
        {
          "output_type": "stream",
          "name": "stdout",
          "text": [
            "2023-07-17 13:18:57,854 Evaluating as a multi-label problem: False\n",
            "2023-07-17 13:18:57,894 DEV : loss 0.3300584554672241 - f1-score (micro avg)  0.9053\n"
          ]
        },
        {
          "output_type": "stream",
          "name": "stderr",
          "text": [
            "\n"
          ]
        },
        {
          "output_type": "stream",
          "name": "stdout",
          "text": [
            "2023-07-17 13:18:57,915 BAD EPOCHS (no improvement): 1\n",
            "2023-07-17 13:18:57,917 ----------------------------------------------------------------------------------------------------\n",
            "2023-07-17 13:18:58,310 epoch 88 - iter 2/24 - loss 0.34514897 - time (sec): 0.39 - samples/sec: 5050.74 - lr: 0.000195\n",
            "2023-07-17 13:18:58,682 epoch 88 - iter 4/24 - loss 0.34419252 - time (sec): 0.76 - samples/sec: 5416.94 - lr: 0.000195\n",
            "2023-07-17 13:18:59,010 epoch 88 - iter 6/24 - loss 0.33625905 - time (sec): 1.09 - samples/sec: 5483.68 - lr: 0.000195\n",
            "2023-07-17 13:18:59,338 epoch 88 - iter 8/24 - loss 0.33844908 - time (sec): 1.42 - samples/sec: 5570.81 - lr: 0.000195\n",
            "2023-07-17 13:18:59,682 epoch 88 - iter 10/24 - loss 0.33351201 - time (sec): 1.76 - samples/sec: 5618.97 - lr: 0.000195\n",
            "2023-07-17 13:19:00,033 epoch 88 - iter 12/24 - loss 0.32977087 - time (sec): 2.11 - samples/sec: 5604.70 - lr: 0.000195\n",
            "2023-07-17 13:19:00,401 epoch 88 - iter 14/24 - loss 0.32863752 - time (sec): 2.48 - samples/sec: 5541.14 - lr: 0.000195\n",
            "2023-07-17 13:19:01,137 epoch 88 - iter 16/24 - loss 0.32686621 - time (sec): 3.22 - samples/sec: 4800.50 - lr: 0.000195\n",
            "2023-07-17 13:19:01,442 epoch 88 - iter 18/24 - loss 0.32284986 - time (sec): 3.52 - samples/sec: 4895.86 - lr: 0.000195\n",
            "2023-07-17 13:19:01,778 epoch 88 - iter 20/24 - loss 0.32513686 - time (sec): 3.86 - samples/sec: 4911.27 - lr: 0.000195\n",
            "2023-07-17 13:19:02,075 epoch 88 - iter 22/24 - loss 0.32264502 - time (sec): 4.16 - samples/sec: 4989.62 - lr: 0.000195\n",
            "2023-07-17 13:19:02,370 epoch 88 - iter 24/24 - loss 0.32337550 - time (sec): 4.45 - samples/sec: 4977.16 - lr: 0.000195\n",
            "2023-07-17 13:19:02,373 ----------------------------------------------------------------------------------------------------\n",
            "2023-07-17 13:19:02,375 EPOCH 88 done: loss 0.3234 - lr 0.000195\n"
          ]
        },
        {
          "output_type": "stream",
          "name": "stderr",
          "text": [
            "100%|██████████| 5/5 [00:00<00:00,  5.80it/s]"
          ]
        },
        {
          "output_type": "stream",
          "name": "stdout",
          "text": [
            "2023-07-17 13:19:03,257 Evaluating as a multi-label problem: False\n",
            "2023-07-17 13:19:03,296 DEV : loss 0.33009597659111023 - f1-score (micro avg)  0.9053\n"
          ]
        },
        {
          "output_type": "stream",
          "name": "stderr",
          "text": [
            "\n"
          ]
        },
        {
          "output_type": "stream",
          "name": "stdout",
          "text": [
            "2023-07-17 13:19:03,324 BAD EPOCHS (no improvement): 2\n",
            "2023-07-17 13:19:03,326 ----------------------------------------------------------------------------------------------------\n",
            "2023-07-17 13:19:03,666 epoch 89 - iter 2/24 - loss 0.31630006 - time (sec): 0.34 - samples/sec: 5409.73 - lr: 0.000195\n",
            "2023-07-17 13:19:04,023 epoch 89 - iter 4/24 - loss 0.30756274 - time (sec): 0.69 - samples/sec: 5549.14 - lr: 0.000195\n",
            "2023-07-17 13:19:04,393 epoch 89 - iter 6/24 - loss 0.31649480 - time (sec): 1.07 - samples/sec: 5345.90 - lr: 0.000195\n",
            "2023-07-17 13:19:04,728 epoch 89 - iter 8/24 - loss 0.30617092 - time (sec): 1.40 - samples/sec: 5291.91 - lr: 0.000195\n",
            "2023-07-17 13:19:05,026 epoch 89 - iter 10/24 - loss 0.31211243 - time (sec): 1.70 - samples/sec: 5378.03 - lr: 0.000195\n",
            "2023-07-17 13:19:05,375 epoch 89 - iter 12/24 - loss 0.30452782 - time (sec): 2.05 - samples/sec: 5286.55 - lr: 0.000195\n",
            "2023-07-17 13:19:05,729 epoch 89 - iter 14/24 - loss 0.30302040 - time (sec): 2.40 - samples/sec: 5384.21 - lr: 0.000195\n",
            "2023-07-17 13:19:06,138 epoch 89 - iter 16/24 - loss 0.30500489 - time (sec): 2.81 - samples/sec: 5305.57 - lr: 0.000195\n",
            "2023-07-17 13:19:06,639 epoch 89 - iter 18/24 - loss 0.31029318 - time (sec): 3.31 - samples/sec: 5105.59 - lr: 0.000195\n",
            "2023-07-17 13:19:07,062 epoch 89 - iter 20/24 - loss 0.31731569 - time (sec): 3.73 - samples/sec: 5047.72 - lr: 0.000195\n",
            "2023-07-17 13:19:07,514 epoch 89 - iter 22/24 - loss 0.31949328 - time (sec): 4.19 - samples/sec: 4956.03 - lr: 0.000195\n",
            "2023-07-17 13:19:07,880 epoch 89 - iter 24/24 - loss 0.31993629 - time (sec): 4.55 - samples/sec: 4867.77 - lr: 0.000195\n",
            "2023-07-17 13:19:07,883 ----------------------------------------------------------------------------------------------------\n",
            "2023-07-17 13:19:07,884 EPOCH 89 done: loss 0.3199 - lr 0.000195\n"
          ]
        },
        {
          "output_type": "stream",
          "name": "stderr",
          "text": [
            "100%|██████████| 5/5 [00:01<00:00,  3.70it/s]"
          ]
        },
        {
          "output_type": "stream",
          "name": "stdout",
          "text": [
            "2023-07-17 13:19:09,261 Evaluating as a multi-label problem: False\n",
            "2023-07-17 13:19:09,329 DEV : loss 0.33009999990463257 - f1-score (micro avg)  0.9053\n",
            "2023-07-17 13:19:09,364 BAD EPOCHS (no improvement): 3\n",
            "2023-07-17 13:19:09,367 ----------------------------------------------------------------------------------------------------\n"
          ]
        },
        {
          "output_type": "stream",
          "name": "stderr",
          "text": [
            "\n"
          ]
        },
        {
          "output_type": "stream",
          "name": "stdout",
          "text": [
            "2023-07-17 13:19:09,923 epoch 90 - iter 2/24 - loss 0.29040088 - time (sec): 0.55 - samples/sec: 3157.57 - lr: 0.000195\n",
            "2023-07-17 13:19:10,481 epoch 90 - iter 4/24 - loss 0.32432122 - time (sec): 1.11 - samples/sec: 3361.30 - lr: 0.000195\n",
            "2023-07-17 13:19:10,874 epoch 90 - iter 6/24 - loss 0.32021526 - time (sec): 1.51 - samples/sec: 3716.72 - lr: 0.000195\n",
            "2023-07-17 13:19:11,299 epoch 90 - iter 8/24 - loss 0.32286337 - time (sec): 1.93 - samples/sec: 3959.07 - lr: 0.000195\n",
            "2023-07-17 13:19:11,644 epoch 90 - iter 10/24 - loss 0.32698074 - time (sec): 2.27 - samples/sec: 4140.43 - lr: 0.000195\n",
            "2023-07-17 13:19:12,045 epoch 90 - iter 12/24 - loss 0.32452996 - time (sec): 2.68 - samples/sec: 4208.86 - lr: 0.000195\n",
            "2023-07-17 13:19:12,372 epoch 90 - iter 14/24 - loss 0.32248071 - time (sec): 3.00 - samples/sec: 4322.98 - lr: 0.000195\n",
            "2023-07-17 13:19:12,730 epoch 90 - iter 16/24 - loss 0.32259984 - time (sec): 3.36 - samples/sec: 4437.96 - lr: 0.000195\n",
            "2023-07-17 13:19:13,051 epoch 90 - iter 18/24 - loss 0.32023316 - time (sec): 3.68 - samples/sec: 4546.94 - lr: 0.000195\n",
            "2023-07-17 13:19:13,403 epoch 90 - iter 20/24 - loss 0.32230323 - time (sec): 4.03 - samples/sec: 4623.19 - lr: 0.000195\n",
            "2023-07-17 13:19:13,717 epoch 90 - iter 22/24 - loss 0.32402432 - time (sec): 4.35 - samples/sec: 4736.60 - lr: 0.000195\n",
            "2023-07-17 13:19:13,988 epoch 90 - iter 24/24 - loss 0.32346282 - time (sec): 4.62 - samples/sec: 4797.47 - lr: 0.000195\n",
            "2023-07-17 13:19:13,990 ----------------------------------------------------------------------------------------------------\n",
            "2023-07-17 13:19:13,995 EPOCH 90 done: loss 0.3235 - lr 0.000195\n"
          ]
        },
        {
          "output_type": "stream",
          "name": "stderr",
          "text": [
            "100%|██████████| 5/5 [00:00<00:00,  5.75it/s]"
          ]
        },
        {
          "output_type": "stream",
          "name": "stdout",
          "text": [
            "2023-07-17 13:19:14,883 Evaluating as a multi-label problem: False\n",
            "2023-07-17 13:19:14,926 DEV : loss 0.3301311433315277 - f1-score (micro avg)  0.9053\n"
          ]
        },
        {
          "output_type": "stream",
          "name": "stderr",
          "text": [
            "\n"
          ]
        },
        {
          "output_type": "stream",
          "name": "stdout",
          "text": [
            "2023-07-17 13:19:14,950 Epoch    90: reducing learning rate of group 0 to 9.7656e-05.\n",
            "2023-07-17 13:19:14,952 BAD EPOCHS (no improvement): 4\n",
            "2023-07-17 13:19:14,955 ----------------------------------------------------------------------------------------------------\n",
            "2023-07-17 13:19:14,957 ----------------------------------------------------------------------------------------------------\n",
            "2023-07-17 13:19:14,959 learning rate too small - quitting training!\n",
            "2023-07-17 13:19:14,961 ----------------------------------------------------------------------------------------------------\n",
            "2023-07-17 13:19:16,548 ----------------------------------------------------------------------------------------------------\n",
            "2023-07-17 13:19:18,025 SequenceTagger predicts: Dictionary with 19 tags: <unk>, NOUN, PROPN, PART, VERB, PUNCT, AUX, NUM, ADJ, PRON, ADP, ADV, SCONJ, CCONJ, X, DET, INTJ, <START>, <STOP>\n"
          ]
        },
        {
          "output_type": "stream",
          "name": "stderr",
          "text": [
            "100%|██████████| 19/19 [00:08<00:00,  2.34it/s]"
          ]
        },
        {
          "output_type": "stream",
          "name": "stdout",
          "text": [
            "2023-07-17 13:19:26,582 Evaluating as a multi-label problem: False\n",
            "2023-07-17 13:19:26,702 0.8964\t0.8964\t0.8964\t0.8964\n",
            "2023-07-17 13:19:26,704 \n",
            "Results:\n",
            "- F-score (micro) 0.8964\n",
            "- F-score (macro) 0.7875\n",
            "- Accuracy 0.8964\n",
            "\n",
            "By class:\n",
            "              precision    recall  f1-score   support\n",
            "\n",
            "        NOUN     0.8826    0.9140    0.8980      3676\n",
            "        PART     0.9060    0.9366    0.9211      2018\n",
            "       PROPN     0.9553    0.9715    0.9633      2002\n",
            "        VERB     0.8795    0.8982    0.8888      1877\n",
            "       PUNCT     0.9977    1.0000    0.9988      1274\n",
            "         AUX     0.9072    0.9367    0.9217      1137\n",
            "         NUM     0.9732    0.9357    0.9541       544\n",
            "         ADP     0.7623    0.7593    0.7608       511\n",
            "         ADJ     0.8647    0.7663    0.8125       492\n",
            "        PRON     0.8161    0.6821    0.7431       475\n",
            "       CCONJ     0.8539    0.7602    0.8043       392\n",
            "         ADV     0.7434    0.6439    0.6901       396\n",
            "       SCONJ     0.7627    0.8364    0.7979       269\n",
            "         DET     0.9070    0.8387    0.8715       186\n",
            "           X     0.7436    0.4677    0.5743       186\n",
            "        INTJ     0.0000    0.0000    0.0000         3\n",
            "\n",
            "    accuracy                         0.8964     15438\n",
            "   macro avg     0.8097    0.7717    0.7875     15438\n",
            "weighted avg     0.8947    0.8964    0.8945     15438\n",
            "\n",
            "2023-07-17 13:19:26,706 ----------------------------------------------------------------------------------------------------\n"
          ]
        },
        {
          "output_type": "stream",
          "name": "stderr",
          "text": [
            "\n"
          ]
        },
        {
          "output_type": "execute_result",
          "data": {
            "text/plain": [
              "{'test_score': 0.896424407306646,\n",
              " 'dev_score_history': [0.4935965848452508,\n",
              "  0.6520811099252934,\n",
              "  0.7067769477054429,\n",
              "  0.7374599786552828,\n",
              "  0.775880469583778,\n",
              "  0.7780149413020278,\n",
              "  0.8009605122732124,\n",
              "  0.8020277481323372,\n",
              "  0.817769477054429,\n",
              "  0.8183030949839915,\n",
              "  0.8241728922091782,\n",
              "  0.8385805763073639,\n",
              "  0.8431163287086446,\n",
              "  0.8417822838847385,\n",
              "  0.8383137673425827,\n",
              "  0.8545891141942369,\n",
              "  0.8524546424759872,\n",
              "  0.8495197438633938,\n",
              "  0.8631270010672358,\n",
              "  0.8612593383137673,\n",
              "  0.87059765208111,\n",
              "  0.865795090715048,\n",
              "  0.8665955176093917,\n",
              "  0.8745997865528282,\n",
              "  0.8767342582710779,\n",
              "  0.8762006403415155,\n",
              "  0.8708644610458911,\n",
              "  0.8754002134471718,\n",
              "  0.8796691568836713,\n",
              "  0.8772678762006404,\n",
              "  0.8796691568836713,\n",
              "  0.8860725720384205,\n",
              "  0.8802027748132337,\n",
              "  0.8868729989327642,\n",
              "  0.8868729989327642,\n",
              "  0.891675560298826,\n",
              "  0.8847385272145144,\n",
              "  0.8935432230522946,\n",
              "  0.887940234791889,\n",
              "  0.8911419423692636,\n",
              "  0.8954108858057631,\n",
              "  0.8967449306296692,\n",
              "  0.8895410885805763,\n",
              "  0.8946104589114194,\n",
              "  0.8943436499466382,\n",
              "  0.8948772678762006,\n",
              "  0.8972785485592316,\n",
              "  0.9012806830309499,\n",
              "  0.8991462113127001,\n",
              "  0.8994130202774814,\n",
              "  0.9010138740661686,\n",
              "  0.902614727854856,\n",
              "  0.9020811099252934,\n",
              "  0.9020811099252934,\n",
              "  0.9007470651013874,\n",
              "  0.9012806830309499,\n",
              "  0.9050160085378869,\n",
              "  0.9042155816435432,\n",
              "  0.9020811099252934,\n",
              "  0.9047491995731056,\n",
              "  0.9042155816435432,\n",
              "  0.9068836712913554,\n",
              "  0.9034151547491995,\n",
              "  0.9028815368196371,\n",
              "  0.905282817502668,\n",
              "  0.9047491995731056,\n",
              "  0.9044823906083245,\n",
              "  0.9047491995731056,\n",
              "  0.9050160085378869,\n",
              "  0.9036819637139808,\n",
              "  0.9058164354322306,\n",
              "  0.9058164354322306,\n",
              "  0.9058164354322306,\n",
              "  0.9050160085378869,\n",
              "  0.9050160085378869,\n",
              "  0.905282817502668,\n",
              "  0.9055496264674493,\n",
              "  0.9058164354322306,\n",
              "  0.905282817502668,\n",
              "  0.905282817502668,\n",
              "  0.905282817502668,\n",
              "  0.9047491995731056,\n",
              "  0.9050160085378869,\n",
              "  0.905282817502668,\n",
              "  0.905282817502668,\n",
              "  0.905282817502668,\n",
              "  0.905282817502668,\n",
              "  0.905282817502668,\n",
              "  0.905282817502668,\n",
              "  0.905282817502668],\n",
              " 'train_loss_history': [2.4048167700371588,\n",
              "  1.6132629119101844,\n",
              "  1.2863634681013087,\n",
              "  1.1198346189643502,\n",
              "  1.0206588249344257,\n",
              "  0.9555508940658844,\n",
              "  0.9051852229700191,\n",
              "  0.8503508089251467,\n",
              "  0.8094605814248647,\n",
              "  0.770892333984375,\n",
              "  0.7561021494951489,\n",
              "  0.7411291570009307,\n",
              "  0.7156969641950587,\n",
              "  0.695466652329648,\n",
              "  0.6729510916699571,\n",
              "  0.6383339671882051,\n",
              "  0.636853831597614,\n",
              "  0.6261387463511112,\n",
              "  0.607782334971514,\n",
              "  0.6026403434009758,\n",
              "  0.5868150621545013,\n",
              "  0.575710431591268,\n",
              "  0.5670834097190884,\n",
              "  0.5528609733719257,\n",
              "  0.545854203537483,\n",
              "  0.5378436697949571,\n",
              "  0.530216941420352,\n",
              "  0.5188533190785762,\n",
              "  0.5094153228649594,\n",
              "  0.5078720037687556,\n",
              "  0.5054010164006092,\n",
              "  0.4930728733324402,\n",
              "  0.48185171409634475,\n",
              "  0.4697022035233811,\n",
              "  0.46608626713391244,\n",
              "  0.46115898931069493,\n",
              "  0.4558973842579535,\n",
              "  0.4593785254963899,\n",
              "  0.44317690852747066,\n",
              "  0.44334017206185133,\n",
              "  0.4455023259462432,\n",
              "  0.4285330982414824,\n",
              "  0.4256195619218186,\n",
              "  0.4188876926683777,\n",
              "  0.411521520511338,\n",
              "  0.4096504294054603,\n",
              "  0.3861104917009815,\n",
              "  0.39151847095696074,\n",
              "  0.37671004202391695,\n",
              "  0.37411124439446075,\n",
              "  0.3715156858148127,\n",
              "  0.3633559905234657,\n",
              "  0.36489764602606045,\n",
              "  0.35372801412313853,\n",
              "  0.3636579933579648,\n",
              "  0.3522200711797721,\n",
              "  0.3442881890582694,\n",
              "  0.3407945102732965,\n",
              "  0.3413858682239959,\n",
              "  0.3340337539838109,\n",
              "  0.3380746118428475,\n",
              "  0.3335579441772902,\n",
              "  0.3326382964096345,\n",
              "  0.3305821608119923,\n",
              "  0.3328986763523804,\n",
              "  0.3293117702222473,\n",
              "  0.3267139200699459,\n",
              "  0.3211945571623985,\n",
              "  0.3305189552720273,\n",
              "  0.3242037446059905,\n",
              "  0.31930275376523015,\n",
              "  0.3251787867356724,\n",
              "  0.32760939615297835,\n",
              "  0.3220772533210176,\n",
              "  0.32717000913103567,\n",
              "  0.3205280841042419,\n",
              "  0.32191668899481046,\n",
              "  0.3266398846457581,\n",
              "  0.3207019351449684,\n",
              "  0.3226696468862816,\n",
              "  0.3171195130055562,\n",
              "  0.3236989375916629,\n",
              "  0.3179961166657265,\n",
              "  0.32867506557423287,\n",
              "  0.3262201632833653,\n",
              "  0.319590368167588,\n",
              "  0.3201083296903204,\n",
              "  0.3233754953322428,\n",
              "  0.31993628546649366,\n",
              "  0.3234628174709499],\n",
              " 'dev_loss_history': [1.7303861379623413,\n",
              "  1.2217421531677246,\n",
              "  1.0137251615524292,\n",
              "  0.8934048414230347,\n",
              "  0.7840307354927063,\n",
              "  0.7414391040802002,\n",
              "  0.6704680919647217,\n",
              "  0.6853564977645874,\n",
              "  0.6339242458343506,\n",
              "  0.597811758518219,\n",
              "  0.5866298079490662,\n",
              "  0.5392818450927734,\n",
              "  0.5331707000732422,\n",
              "  0.5408832430839539,\n",
              "  0.5332493782043457,\n",
              "  0.48541563749313354,\n",
              "  0.49273672699928284,\n",
              "  0.4865993559360504,\n",
              "  0.46543729305267334,\n",
              "  0.45196589827537537,\n",
              "  0.4447786211967468,\n",
              "  0.4610418379306793,\n",
              "  0.4446919858455658,\n",
              "  0.4334363639354706,\n",
              "  0.42759639024734497,\n",
              "  0.42124664783477783,\n",
              "  0.4269176423549652,\n",
              "  0.4041156470775604,\n",
              "  0.39952269196510315,\n",
              "  0.40157550573349,\n",
              "  0.40355101227760315,\n",
              "  0.39989492297172546,\n",
              "  0.4079992175102234,\n",
              "  0.38414379954338074,\n",
              "  0.378805011510849,\n",
              "  0.3711771070957184,\n",
              "  0.39377522468566895,\n",
              "  0.372745156288147,\n",
              "  0.3782918453216553,\n",
              "  0.37303319573402405,\n",
              "  0.3617585599422455,\n",
              "  0.36160755157470703,\n",
              "  0.3671795427799225,\n",
              "  0.3645848035812378,\n",
              "  0.3563861548900604,\n",
              "  0.3725084364414215,\n",
              "  0.34660881757736206,\n",
              "  0.343548983335495,\n",
              "  0.34215331077575684,\n",
              "  0.3454987108707428,\n",
              "  0.3479200601577759,\n",
              "  0.3380509912967682,\n",
              "  0.3454277217388153,\n",
              "  0.34244996309280396,\n",
              "  0.3350878059864044,\n",
              "  0.3458186686038971,\n",
              "  0.3336844742298126,\n",
              "  0.3338078260421753,\n",
              "  0.33539578318595886,\n",
              "  0.33722683787345886,\n",
              "  0.3344517946243286,\n",
              "  0.332455039024353,\n",
              "  0.3315959870815277,\n",
              "  0.33164548873901367,\n",
              "  0.33064937591552734,\n",
              "  0.3331236243247986,\n",
              "  0.33192193508148193,\n",
              "  0.33039391040802,\n",
              "  0.32964208722114563,\n",
              "  0.33066800236701965,\n",
              "  0.33052417635917664,\n",
              "  0.3303180932998657,\n",
              "  0.3301459848880768,\n",
              "  0.33036550879478455,\n",
              "  0.3300498425960541,\n",
              "  0.3302122950553894,\n",
              "  0.32985129952430725,\n",
              "  0.33037659525871277,\n",
              "  0.33036747574806213,\n",
              "  0.33034074306488037,\n",
              "  0.32999083399772644,\n",
              "  0.32993870973587036,\n",
              "  0.3300795555114746,\n",
              "  0.3300769329071045,\n",
              "  0.3299495279788971,\n",
              "  0.33007028698921204,\n",
              "  0.3300584554672241,\n",
              "  0.33009597659111023,\n",
              "  0.33009999990463257,\n",
              "  0.3301311433315277]}"
            ]
          },
          "metadata": {},
          "execution_count": 4
        }
      ]
    },
    {
      "cell_type": "code",
      "source": [
        "!pip install gdown\n",
        "import gdown\n",
        "path = \"https://drive.google.com/file/d/1WlpnkX9cv6MPCoAKwAnzrb-AuYWyu9n3/view?usp=drive_link\"\n",
        "file_name = \"hau_Latn.devtest.tok\"\n",
        "gdown.download(path, file_name, quiet=False,fuzzy=True)\n",
        "path = \"https://drive.google.com/file/d/16DCAzpJhN88W9jbUXL78ZmemNWp6fY67/view?usp=drive_link\"\n",
        "file_name = \"eng_Latn.devtest.tok\"\n",
        "gdown.download(path, file_name, quiet=False,fuzzy=True)\n",
        "from datasets import load_dataset\n",
        "import pandas as pd\n",
        "dataset_hau = load_dataset(\"text\", data_files=\"hau_Latn.devtest.tok\")\n",
        "dataset_hau = pd.DataFrame(dataset_hau[\"train\"])\n",
        "dataset_eng = load_dataset(\"text\", data_files=\"eng_Latn.devtest.tok\")\n",
        "dataset_eng = pd.DataFrame(dataset_eng[\"train\"])\n",
        "dataset_hau = dataset_hau.rename(columns={\"text\": \"hau\"})\n",
        "dataset_eng = dataset_eng.rename(columns={\"text\": \"eng\"})\n",
        "dataset = pd.concat([dataset_eng, dataset_hau], axis=1)\n",
        "dataset"
      ],
      "metadata": {
        "id": "R4T8ibvJ6dO5",
        "colab": {
          "base_uri": "https://localhost:8080/",
          "height": 1000,
          "referenced_widgets": [
            "3f70e40c03b24cc888e902e521f1d1ca",
            "098cf44c9a334fdb8fe056ebe031c1d0",
            "efcdbbd9b7d14c62b515702d1b454918",
            "5fee8062610a41ac8647737eef16236c",
            "ab1c89bef2584434aa06d5efccff13ac",
            "953ec0f6d45d4e25b4ee6beb0f89f467",
            "31ebc32221f840bf8ae8abd9b1697de2",
            "322c02b4878c43709f1adfaa2444e9d1",
            "b6c6add7e345493381d098d3ece96a74",
            "0583de08dddb42a8b4b81c4eb7c08c0d",
            "e3fe465e0814411887cf020c4f0f0d35",
            "5eba8dafa02d427d955410ae6e43d793",
            "075f6ca3ac694e23b957ccac3b3940f3",
            "9d14df4ebf1f4f5cac45766a47cab516",
            "630ddefe93b44e719f5ea793b78bdb08",
            "8376140f734644949819747ff3a862a2",
            "e4debe3a51ba4585a89e14fa3cfd3a5c",
            "47bb00f2f5514417a0e0121cc0ceb7a1",
            "4d4f6fe9425945aaafc2c3be67d5358d",
            "bd83877c34e74c66ae7b15d1a89d15a0",
            "1a700527e9684b9c8f6e2273edc8f54b",
            "6f5075ed2c734f23b0b20265ca2b5942",
            "1724551825c44063b8fdcfbb2c813205",
            "4d9db9e1ac654247be40924cc77c279e",
            "a42c81df4c954dca86c13131c3f4846b",
            "2a437ad341864f34a75738f6bc35e6dd",
            "b37b012e333144a8b6a2857b259f9d57",
            "dbc7cb84cb4b482eac33f03a72827719",
            "05b9f1dc17554dcdb0b9c9b1f22fe132",
            "a6b09575a6aa42a590d6c8de2ac3410d",
            "d1f55f18b8364462bce2badc5a3d92ee",
            "a93dfdeba11f486a9dc553733803c840",
            "1afc2b41983f412db1436bdad4466a37",
            "59452b995d4946a597d4dfb08f2571e8",
            "c5d45704f4c54b859b61f851e06fce75",
            "b7971fe2dfef47c7a7c48d4846f9aeda",
            "c73889e9303841eb90d22f87dbd11604",
            "d769afdee758403fb86afe624ccb5d08",
            "f238c18ff812414995ee11445ca18a56",
            "07ea5067cede4ccd9ed057e776235945",
            "d495f653f923472393445dfb2a2cc189",
            "6609fdc0adfe420e80273c84897c4c21",
            "8b40a1ab6d8348948793f6747285bc34",
            "7ce52eb38ee34f30ae18f8b96cf3987e",
            "2a0dee6c17f545bb8437f412d286688c",
            "64e66356837a4db4a3c7a1d2a9d890a2",
            "b3052cbcbb46460b9a8a8911d0502231",
            "9ce2dcf75d144ba39dea2ff665e9011d",
            "e34908cfe4354df2a5c7d06e95302b4d",
            "4f99d95207944e37ba0aed553384de7d",
            "48ce928afcce4ed193af6d9e2973065e",
            "018b84bd777c4c0b8264b0ae546cca24",
            "c631fa21f75b4f0c84a38561087b4ee0",
            "88e181c94e70429689a7c0c25b68bf18",
            "d46c58fcdf8a42b79ae7b697ba338243",
            "3d5ce5443a8144babf749b3ed6be79c6",
            "6ec4789cceeb495eba4ae0dde54b8b4f",
            "d3af79b6276b4f54bd807149421062e7",
            "e0f17666205142f3a83fe447e6a969eb",
            "e99535e85f5341998d17c61ecc7b0400",
            "7f2ed593a52e40e7ab42a0b8e2d631d8",
            "d917ab3ead7d48b8983f68e6a1f14193",
            "8d19aa7010e94b94a45939189c8ea0c8",
            "aef681e6dcd74cd1a0b7a7242997b6fc",
            "214dcabc78254bbc9b7aafbe59be1361",
            "9397f12ac9f94292a94a48ba5c51460d",
            "153f50dd7e7249f4af0ea4946db1a8ea",
            "822a564177e14c1286f75b082706e94c",
            "ca5740f9bcac4828932fd7657d7e8c54",
            "4f34488a15e845379ebe0e22c19f3a4d",
            "db325e4059e848a39507a53728419238",
            "8bafcdb8779e4efd9e4c580e4c2bca9b",
            "32b09bcbc88e44578a605038e5114564",
            "56bc620242d947cfa85dac4badc2856b",
            "8e7a8906a98045a3ae8d0840ef549e7b",
            "d8339174b2a24accbe774f85d5c42fc7",
            "52d18caa1cd64e849fc107a81951376a",
            "81ac810185b64a9ca1096c738215b1e0",
            "12a52637e48c45f68ed131f78c471547",
            "94ecc0c884ec436cafc65100e8fc07e5",
            "0739acb06bd448ae94a87cdf4a0d7a46",
            "12afb2aeb19e44e5a289b7a46a18ec6d",
            "9f06242c7770419c94037a10637bc044",
            "6a2e46666f2c49eaba753f524152a4e9",
            "1337d6ab902749b88ef3742888726c74",
            "35e8200ee730411ab5045c441c94f553",
            "d1f46ee1129b48dc8abed3afe2448b45",
            "5705f992f21a4b9798a18c0538dafc3a"
          ]
        },
        "outputId": "a360f53b-1e1b-422b-c563-46544c50650a"
      },
      "execution_count": null,
      "outputs": [
        {
          "output_type": "stream",
          "name": "stdout",
          "text": [
            "Requirement already satisfied: gdown in /usr/local/lib/python3.10/dist-packages (4.4.0)\n",
            "Requirement already satisfied: filelock in /usr/local/lib/python3.10/dist-packages (from gdown) (3.12.2)\n",
            "Requirement already satisfied: requests[socks] in /usr/local/lib/python3.10/dist-packages (from gdown) (2.27.1)\n",
            "Requirement already satisfied: six in /usr/local/lib/python3.10/dist-packages (from gdown) (1.16.0)\n",
            "Requirement already satisfied: tqdm in /usr/local/lib/python3.10/dist-packages (from gdown) (4.65.0)\n",
            "Requirement already satisfied: beautifulsoup4 in /usr/local/lib/python3.10/dist-packages (from gdown) (4.11.2)\n",
            "Requirement already satisfied: soupsieve>1.2 in /usr/local/lib/python3.10/dist-packages (from beautifulsoup4->gdown) (2.4.1)\n",
            "Requirement already satisfied: urllib3<1.27,>=1.21.1 in /usr/local/lib/python3.10/dist-packages (from requests[socks]->gdown) (1.26.16)\n",
            "Requirement already satisfied: certifi>=2017.4.17 in /usr/local/lib/python3.10/dist-packages (from requests[socks]->gdown) (2023.5.7)\n",
            "Requirement already satisfied: charset-normalizer~=2.0.0 in /usr/local/lib/python3.10/dist-packages (from requests[socks]->gdown) (2.0.12)\n",
            "Requirement already satisfied: idna<4,>=2.5 in /usr/local/lib/python3.10/dist-packages (from requests[socks]->gdown) (3.4)\n",
            "Requirement already satisfied: PySocks!=1.5.7,>=1.5.6 in /usr/local/lib/python3.10/dist-packages (from requests[socks]->gdown) (1.7.1)\n"
          ]
        },
        {
          "output_type": "stream",
          "name": "stderr",
          "text": [
            "Downloading...\n",
            "From: https://drive.google.com/uc?id=1WlpnkX9cv6MPCoAKwAnzrb-AuYWyu9n3\n",
            "To: /content/hau_Latn.devtest.tok\n",
            "100%|██████████| 146k/146k [00:00<00:00, 109MB/s]\n",
            "Downloading...\n",
            "From: https://drive.google.com/uc?id=16DCAzpJhN88W9jbUXL78ZmemNWp6fY67\n",
            "To: /content/eng_Latn.devtest.tok\n",
            "100%|██████████| 136k/136k [00:00<00:00, 108MB/s]\n"
          ]
        },
        {
          "output_type": "stream",
          "name": "stdout",
          "text": [
            "Downloading and preparing dataset text/default to /root/.cache/huggingface/datasets/text/default-c7db805edd33e4c6/0.0.0/cb1e9bd71a82ad27976be3b12b407850fe2837d80c22c5e03a28949843a8ace2...\n"
          ]
        },
        {
          "output_type": "display_data",
          "data": {
            "text/plain": [
              "Downloading data files:   0%|          | 0/1 [00:00<?, ?it/s]"
            ],
            "application/vnd.jupyter.widget-view+json": {
              "version_major": 2,
              "version_minor": 0,
              "model_id": "3f70e40c03b24cc888e902e521f1d1ca"
            }
          },
          "metadata": {}
        },
        {
          "output_type": "display_data",
          "data": {
            "text/plain": [
              "Extracting data files:   0%|          | 0/1 [00:00<?, ?it/s]"
            ],
            "application/vnd.jupyter.widget-view+json": {
              "version_major": 2,
              "version_minor": 0,
              "model_id": "5eba8dafa02d427d955410ae6e43d793"
            }
          },
          "metadata": {}
        },
        {
          "output_type": "display_data",
          "data": {
            "text/plain": [
              "Generating train split: 0 examples [00:00, ? examples/s]"
            ],
            "application/vnd.jupyter.widget-view+json": {
              "version_major": 2,
              "version_minor": 0,
              "model_id": "1724551825c44063b8fdcfbb2c813205"
            }
          },
          "metadata": {}
        },
        {
          "output_type": "stream",
          "name": "stdout",
          "text": [
            "Dataset text downloaded and prepared to /root/.cache/huggingface/datasets/text/default-c7db805edd33e4c6/0.0.0/cb1e9bd71a82ad27976be3b12b407850fe2837d80c22c5e03a28949843a8ace2. Subsequent calls will reuse this data.\n"
          ]
        },
        {
          "output_type": "display_data",
          "data": {
            "text/plain": [
              "  0%|          | 0/1 [00:00<?, ?it/s]"
            ],
            "application/vnd.jupyter.widget-view+json": {
              "version_major": 2,
              "version_minor": 0,
              "model_id": "59452b995d4946a597d4dfb08f2571e8"
            }
          },
          "metadata": {}
        },
        {
          "output_type": "stream",
          "name": "stdout",
          "text": [
            "Downloading and preparing dataset text/default to /root/.cache/huggingface/datasets/text/default-a819ef7107ce3495/0.0.0/cb1e9bd71a82ad27976be3b12b407850fe2837d80c22c5e03a28949843a8ace2...\n"
          ]
        },
        {
          "output_type": "display_data",
          "data": {
            "text/plain": [
              "Downloading data files:   0%|          | 0/1 [00:00<?, ?it/s]"
            ],
            "application/vnd.jupyter.widget-view+json": {
              "version_major": 2,
              "version_minor": 0,
              "model_id": "2a0dee6c17f545bb8437f412d286688c"
            }
          },
          "metadata": {}
        },
        {
          "output_type": "display_data",
          "data": {
            "text/plain": [
              "Extracting data files:   0%|          | 0/1 [00:00<?, ?it/s]"
            ],
            "application/vnd.jupyter.widget-view+json": {
              "version_major": 2,
              "version_minor": 0,
              "model_id": "3d5ce5443a8144babf749b3ed6be79c6"
            }
          },
          "metadata": {}
        },
        {
          "output_type": "display_data",
          "data": {
            "text/plain": [
              "Generating train split: 0 examples [00:00, ? examples/s]"
            ],
            "application/vnd.jupyter.widget-view+json": {
              "version_major": 2,
              "version_minor": 0,
              "model_id": "153f50dd7e7249f4af0ea4946db1a8ea"
            }
          },
          "metadata": {}
        },
        {
          "output_type": "stream",
          "name": "stdout",
          "text": [
            "Dataset text downloaded and prepared to /root/.cache/huggingface/datasets/text/default-a819ef7107ce3495/0.0.0/cb1e9bd71a82ad27976be3b12b407850fe2837d80c22c5e03a28949843a8ace2. Subsequent calls will reuse this data.\n"
          ]
        },
        {
          "output_type": "display_data",
          "data": {
            "text/plain": [
              "  0%|          | 0/1 [00:00<?, ?it/s]"
            ],
            "application/vnd.jupyter.widget-view+json": {
              "version_major": 2,
              "version_minor": 0,
              "model_id": "81ac810185b64a9ca1096c738215b1e0"
            }
          },
          "metadata": {}
        },
        {
          "output_type": "execute_result",
          "data": {
            "text/plain": [
              "                                                    eng  \\\n",
              "0     \" We now have 4-month-old mice that are non-di...   \n",
              "1     Dr. Ehud Ur , professor of medicine at Dalhous...   \n",
              "2     Like some other experts , he is skeptical abou...   \n",
              "3     On Monday , Sara Danius , permanent secretary ...   \n",
              "4     Danius said , \" Right now we are doing nothing...   \n",
              "...                                                 ...   \n",
              "1007  As the areas are sparsely populated , and ligh...   \n",
              "1008  Japanese work culture is more hierarchical and...   \n",
              "1009  Suits are standard business attire , and cowor...   \n",
              "1010  Workplace harmony is crucial , emphasizing gro...   \n",
              "1011  Workers must often get their superiors ' appro...   \n",
              "\n",
              "                                                    hau  \n",
              "0     “ Yanzu muna bera mai watanni 4 wadanda ba su ...  \n",
              "1     Dokta Ehud Ur , farfesan magani a Jami ’ ar Da...  \n",
              "2     Kamar wasu ƙwararrun , yana da shakkun cewa ko...  \n",
              "3     A ranar Litinin , Sara Danius , sakatariyar di...  \n",
              "4     Danius ya ce , “ Yanzu haka ba mwa yin komi . ...  \n",
              "...                                                 ...  \n",
              "1007  Tunda yankunan ba su da cinkoson jama ’ a , ku...  \n",
              "1008  Al ’ adun aiki na Japanese na da matsayi fiye ...  \n",
              "1009  Kaya masu kala ɗaya su ne cikakkun tufafin mu ...  \n",
              "1010  Yarjejeniyar wurin aiki yana da mahimmanci , y...  \n",
              "1011  Dole ne ma ’ aikata su sami amincewar manyan s...  \n",
              "\n",
              "[1012 rows x 2 columns]"
            ],
            "text/html": [
              "\n",
              "\n",
              "  <div id=\"df-14cba5b6-7bb7-4a85-a7d2-01beabefdb5c\">\n",
              "    <div class=\"colab-df-container\">\n",
              "      <div>\n",
              "<style scoped>\n",
              "    .dataframe tbody tr th:only-of-type {\n",
              "        vertical-align: middle;\n",
              "    }\n",
              "\n",
              "    .dataframe tbody tr th {\n",
              "        vertical-align: top;\n",
              "    }\n",
              "\n",
              "    .dataframe thead th {\n",
              "        text-align: right;\n",
              "    }\n",
              "</style>\n",
              "<table border=\"1\" class=\"dataframe\">\n",
              "  <thead>\n",
              "    <tr style=\"text-align: right;\">\n",
              "      <th></th>\n",
              "      <th>eng</th>\n",
              "      <th>hau</th>\n",
              "    </tr>\n",
              "  </thead>\n",
              "  <tbody>\n",
              "    <tr>\n",
              "      <th>0</th>\n",
              "      <td>\" We now have 4-month-old mice that are non-di...</td>\n",
              "      <td>“ Yanzu muna bera mai watanni 4 wadanda ba su ...</td>\n",
              "    </tr>\n",
              "    <tr>\n",
              "      <th>1</th>\n",
              "      <td>Dr. Ehud Ur , professor of medicine at Dalhous...</td>\n",
              "      <td>Dokta Ehud Ur , farfesan magani a Jami ’ ar Da...</td>\n",
              "    </tr>\n",
              "    <tr>\n",
              "      <th>2</th>\n",
              "      <td>Like some other experts , he is skeptical abou...</td>\n",
              "      <td>Kamar wasu ƙwararrun , yana da shakkun cewa ko...</td>\n",
              "    </tr>\n",
              "    <tr>\n",
              "      <th>3</th>\n",
              "      <td>On Monday , Sara Danius , permanent secretary ...</td>\n",
              "      <td>A ranar Litinin , Sara Danius , sakatariyar di...</td>\n",
              "    </tr>\n",
              "    <tr>\n",
              "      <th>4</th>\n",
              "      <td>Danius said , \" Right now we are doing nothing...</td>\n",
              "      <td>Danius ya ce , “ Yanzu haka ba mwa yin komi . ...</td>\n",
              "    </tr>\n",
              "    <tr>\n",
              "      <th>...</th>\n",
              "      <td>...</td>\n",
              "      <td>...</td>\n",
              "    </tr>\n",
              "    <tr>\n",
              "      <th>1007</th>\n",
              "      <td>As the areas are sparsely populated , and ligh...</td>\n",
              "      <td>Tunda yankunan ba su da cinkoson jama ’ a , ku...</td>\n",
              "    </tr>\n",
              "    <tr>\n",
              "      <th>1008</th>\n",
              "      <td>Japanese work culture is more hierarchical and...</td>\n",
              "      <td>Al ’ adun aiki na Japanese na da matsayi fiye ...</td>\n",
              "    </tr>\n",
              "    <tr>\n",
              "      <th>1009</th>\n",
              "      <td>Suits are standard business attire , and cowor...</td>\n",
              "      <td>Kaya masu kala ɗaya su ne cikakkun tufafin mu ...</td>\n",
              "    </tr>\n",
              "    <tr>\n",
              "      <th>1010</th>\n",
              "      <td>Workplace harmony is crucial , emphasizing gro...</td>\n",
              "      <td>Yarjejeniyar wurin aiki yana da mahimmanci , y...</td>\n",
              "    </tr>\n",
              "    <tr>\n",
              "      <th>1011</th>\n",
              "      <td>Workers must often get their superiors ' appro...</td>\n",
              "      <td>Dole ne ma ’ aikata su sami amincewar manyan s...</td>\n",
              "    </tr>\n",
              "  </tbody>\n",
              "</table>\n",
              "<p>1012 rows × 2 columns</p>\n",
              "</div>\n",
              "      <button class=\"colab-df-convert\" onclick=\"convertToInteractive('df-14cba5b6-7bb7-4a85-a7d2-01beabefdb5c')\"\n",
              "              title=\"Convert this dataframe to an interactive table.\"\n",
              "              style=\"display:none;\">\n",
              "\n",
              "  <svg xmlns=\"http://www.w3.org/2000/svg\" height=\"24px\"viewBox=\"0 0 24 24\"\n",
              "       width=\"24px\">\n",
              "    <path d=\"M0 0h24v24H0V0z\" fill=\"none\"/>\n",
              "    <path d=\"M18.56 5.44l.94 2.06.94-2.06 2.06-.94-2.06-.94-.94-2.06-.94 2.06-2.06.94zm-11 1L8.5 8.5l.94-2.06 2.06-.94-2.06-.94L8.5 2.5l-.94 2.06-2.06.94zm10 10l.94 2.06.94-2.06 2.06-.94-2.06-.94-.94-2.06-.94 2.06-2.06.94z\"/><path d=\"M17.41 7.96l-1.37-1.37c-.4-.4-.92-.59-1.43-.59-.52 0-1.04.2-1.43.59L10.3 9.45l-7.72 7.72c-.78.78-.78 2.05 0 2.83L4 21.41c.39.39.9.59 1.41.59.51 0 1.02-.2 1.41-.59l7.78-7.78 2.81-2.81c.8-.78.8-2.07 0-2.86zM5.41 20L4 18.59l7.72-7.72 1.47 1.35L5.41 20z\"/>\n",
              "  </svg>\n",
              "      </button>\n",
              "\n",
              "\n",
              "\n",
              "    <div id=\"df-3cf230ac-8aba-4dad-8e1c-ddeaebbf3a9f\">\n",
              "      <button class=\"colab-df-quickchart\" onclick=\"quickchart('df-3cf230ac-8aba-4dad-8e1c-ddeaebbf3a9f')\"\n",
              "              title=\"Suggest charts.\"\n",
              "              style=\"display:none;\">\n",
              "\n",
              "<svg xmlns=\"http://www.w3.org/2000/svg\" height=\"24px\"viewBox=\"0 0 24 24\"\n",
              "     width=\"24px\">\n",
              "    <g>\n",
              "        <path d=\"M19 3H5c-1.1 0-2 .9-2 2v14c0 1.1.9 2 2 2h14c1.1 0 2-.9 2-2V5c0-1.1-.9-2-2-2zM9 17H7v-7h2v7zm4 0h-2V7h2v10zm4 0h-2v-4h2v4z\"/>\n",
              "    </g>\n",
              "</svg>\n",
              "      </button>\n",
              "    </div>\n",
              "\n",
              "<style>\n",
              "  .colab-df-quickchart {\n",
              "    background-color: #E8F0FE;\n",
              "    border: none;\n",
              "    border-radius: 50%;\n",
              "    cursor: pointer;\n",
              "    display: none;\n",
              "    fill: #1967D2;\n",
              "    height: 32px;\n",
              "    padding: 0 0 0 0;\n",
              "    width: 32px;\n",
              "  }\n",
              "\n",
              "  .colab-df-quickchart:hover {\n",
              "    background-color: #E2EBFA;\n",
              "    box-shadow: 0px 1px 2px rgba(60, 64, 67, 0.3), 0px 1px 3px 1px rgba(60, 64, 67, 0.15);\n",
              "    fill: #174EA6;\n",
              "  }\n",
              "\n",
              "  [theme=dark] .colab-df-quickchart {\n",
              "    background-color: #3B4455;\n",
              "    fill: #D2E3FC;\n",
              "  }\n",
              "\n",
              "  [theme=dark] .colab-df-quickchart:hover {\n",
              "    background-color: #434B5C;\n",
              "    box-shadow: 0px 1px 3px 1px rgba(0, 0, 0, 0.15);\n",
              "    filter: drop-shadow(0px 1px 2px rgba(0, 0, 0, 0.3));\n",
              "    fill: #FFFFFF;\n",
              "  }\n",
              "</style>\n",
              "\n",
              "    <script>\n",
              "      async function quickchart(key) {\n",
              "        const containerElement = document.querySelector('#' + key);\n",
              "        const charts = await google.colab.kernel.invokeFunction(\n",
              "            'suggestCharts', [key], {});\n",
              "      }\n",
              "    </script>\n",
              "\n",
              "      <script>\n",
              "\n",
              "function displayQuickchartButton(domScope) {\n",
              "  let quickchartButtonEl =\n",
              "    domScope.querySelector('#df-3cf230ac-8aba-4dad-8e1c-ddeaebbf3a9f button.colab-df-quickchart');\n",
              "  quickchartButtonEl.style.display =\n",
              "    google.colab.kernel.accessAllowed ? 'block' : 'none';\n",
              "}\n",
              "\n",
              "        displayQuickchartButton(document);\n",
              "      </script>\n",
              "      <style>\n",
              "    .colab-df-container {\n",
              "      display:flex;\n",
              "      flex-wrap:wrap;\n",
              "      gap: 12px;\n",
              "    }\n",
              "\n",
              "    .colab-df-convert {\n",
              "      background-color: #E8F0FE;\n",
              "      border: none;\n",
              "      border-radius: 50%;\n",
              "      cursor: pointer;\n",
              "      display: none;\n",
              "      fill: #1967D2;\n",
              "      height: 32px;\n",
              "      padding: 0 0 0 0;\n",
              "      width: 32px;\n",
              "    }\n",
              "\n",
              "    .colab-df-convert:hover {\n",
              "      background-color: #E2EBFA;\n",
              "      box-shadow: 0px 1px 2px rgba(60, 64, 67, 0.3), 0px 1px 3px 1px rgba(60, 64, 67, 0.15);\n",
              "      fill: #174EA6;\n",
              "    }\n",
              "\n",
              "    [theme=dark] .colab-df-convert {\n",
              "      background-color: #3B4455;\n",
              "      fill: #D2E3FC;\n",
              "    }\n",
              "\n",
              "    [theme=dark] .colab-df-convert:hover {\n",
              "      background-color: #434B5C;\n",
              "      box-shadow: 0px 1px 3px 1px rgba(0, 0, 0, 0.15);\n",
              "      filter: drop-shadow(0px 1px 2px rgba(0, 0, 0, 0.3));\n",
              "      fill: #FFFFFF;\n",
              "    }\n",
              "  </style>\n",
              "\n",
              "      <script>\n",
              "        const buttonEl =\n",
              "          document.querySelector('#df-14cba5b6-7bb7-4a85-a7d2-01beabefdb5c button.colab-df-convert');\n",
              "        buttonEl.style.display =\n",
              "          google.colab.kernel.accessAllowed ? 'block' : 'none';\n",
              "\n",
              "        async function convertToInteractive(key) {\n",
              "          const element = document.querySelector('#df-14cba5b6-7bb7-4a85-a7d2-01beabefdb5c');\n",
              "          const dataTable =\n",
              "            await google.colab.kernel.invokeFunction('convertToInteractive',\n",
              "                                                     [key], {});\n",
              "          if (!dataTable) return;\n",
              "\n",
              "          const docLinkHtml = 'Like what you see? Visit the ' +\n",
              "            '<a target=\"_blank\" href=https://colab.research.google.com/notebooks/data_table.ipynb>data table notebook</a>'\n",
              "            + ' to learn more about interactive tables.';\n",
              "          element.innerHTML = '';\n",
              "          dataTable['output_type'] = 'display_data';\n",
              "          await google.colab.output.renderOutput(dataTable, element);\n",
              "          const docLink = document.createElement('div');\n",
              "          docLink.innerHTML = docLinkHtml;\n",
              "          element.appendChild(docLink);\n",
              "        }\n",
              "      </script>\n",
              "    </div>\n",
              "  </div>\n"
            ]
          },
          "metadata": {},
          "execution_count": 5
        }
      ]
    },
    {
      "cell_type": "code",
      "source": [
        "model = SequenceTagger.load('resources/taggers/example-upos/final-model.pt')\n",
        "\n",
        "# create example sentence\n",
        "sentence = flair.data.Sentence(dataset[\"hau\"][1])\n",
        "\n",
        "# predict tags and print\n",
        "model.predict(sentence)\n",
        "# print(sentence.to_tagged_string())"
      ],
      "metadata": {
        "colab": {
          "base_uri": "https://localhost:8080/"
        },
        "id": "XAr7yt8S4-Qd",
        "outputId": "2d637917-d07a-42fb-c4e2-0859956e63d8"
      },
      "execution_count": null,
      "outputs": [
        {
          "output_type": "stream",
          "name": "stdout",
          "text": [
            "2023-07-17 13:52:33,265 SequenceTagger predicts: Dictionary with 19 tags: <unk>, NOUN, PROPN, PART, VERB, PUNCT, AUX, NUM, ADJ, PRON, ADP, ADV, SCONJ, CCONJ, X, DET, INTJ, <START>, <STOP>\n"
          ]
        }
      ]
    },
    {
      "cell_type": "code",
      "source": [
        "#Initialize the fill-mask pipeline using afriberta model\n",
        "!pip install --no-cache-dir transformers sentencepiece\n",
        "from transformers import AutoTokenizer, AutoModelForTokenClassification\n",
        "from transformers import pipeline\n",
        "model = AutoModelForTokenClassification.from_pretrained(\"castorini/afriberta_small\")\n",
        "tokenizer = AutoTokenizer.from_pretrained(\"castorini/afriberta_small\", use_fast=False)\n",
        "tokenizer.model_max_length = 512\n",
        "unmasker = pipeline('fill-mask', model='castorini/afriberta_small')"
      ],
      "metadata": {
        "id": "mgknzcp2GFUD"
      },
      "execution_count": null,
      "outputs": []
    },
    {
      "cell_type": "code",
      "source": [
        "import random\n",
        "import string\n",
        "def gen_mask_pos(sequence):\n",
        "  sentence = flair.data.Sentence(sequence)\n",
        "  model.predict(sentence)\n",
        "  idx_list = []\n",
        "  for idx, label in enumerate(sentence.get_labels('upos')):\n",
        "    if label.value == 'NOUN' or label.value == 'VERB':\n",
        "      idx_list.append(idx)\n",
        "  if len(idx_list) == 0:\n",
        "    return sequence\n",
        "  else:\n",
        "    rand_idx = random.choice(idx_list)\n",
        "    # rand_word = sequence.split()[rand_idx]\n",
        "    sequence = sequence.split()[:rand_idx] + [\"<mask>\"] + sequence.split()[rand_idx+1:]\n",
        "    sequence = ' '.join(sequence)\n",
        "    result = unmasker(sequence)\n",
        "    i = 0\n",
        "    while i < len(result):\n",
        "      if result[i][\"token_str\"] in string.punctuation:\n",
        "        i += 1\n",
        "      else:\n",
        "        sequence = sequence.replace(\"<mask>\", result[i][\"token_str\"])\n",
        "        break\n",
        "    return sequence"
      ],
      "metadata": {
        "id": "CkmWr2HlEGvw"
      },
      "execution_count": null,
      "outputs": []
    },
    {
      "cell_type": "code",
      "source": [
        "dataset[\"changed_noun_verb\"] = dataset.apply(lambda row: gen_mask_pos(row[\"hau\"]), axis = 1)\n",
        "dataset"
      ],
      "metadata": {
        "id": "XkI-nJMfIFog"
      },
      "execution_count": null,
      "outputs": []
    },
    {
      "cell_type": "code",
      "source": [
        "def gen_labels_for_replacing(original, edited):\n",
        "  labels = []\n",
        "  ori_split = original.split()\n",
        "  edited_split = edited.split()\n",
        "  for i in range(len(ori_split)):\n",
        "    if ori_split[i] != edited_split[i]:\n",
        "      labels.append('1')\n",
        "    else:\n",
        "      labels.append('0')\n",
        "  return ' '.join(labels)"
      ],
      "metadata": {
        "id": "iimB3L8ILqw2"
      },
      "execution_count": null,
      "outputs": []
    },
    {
      "cell_type": "code",
      "source": [
        "dataset[\"labels\"] = dataset.apply(lambda row: gen_labels_for_replacing(row[\"hau\"], row[\"changed_noun_verb\"]), axis = 1)\n",
        "dataset"
      ],
      "metadata": {
        "colab": {
          "base_uri": "https://localhost:8080/",
          "height": 641
        },
        "id": "EBQHwXatLsWN",
        "outputId": "d855ae06-0b29-4f9e-c368-8135516d673a"
      },
      "execution_count": null,
      "outputs": [
        {
          "output_type": "execute_result",
          "data": {
            "text/plain": [
              "                                                    eng  \\\n",
              "0     \" We now have 4-month-old mice that are non-di...   \n",
              "1     Dr. Ehud Ur , professor of medicine at Dalhous...   \n",
              "2     Like some other experts , he is skeptical abou...   \n",
              "3     On Monday , Sara Danius , permanent secretary ...   \n",
              "4     Danius said , \" Right now we are doing nothing...   \n",
              "...                                                 ...   \n",
              "1007  As the areas are sparsely populated , and ligh...   \n",
              "1008  Japanese work culture is more hierarchical and...   \n",
              "1009  Suits are standard business attire , and cowor...   \n",
              "1010  Workplace harmony is crucial , emphasizing gro...   \n",
              "1011  Workers must often get their superiors ' appro...   \n",
              "\n",
              "                                                    hau  \\\n",
              "0     “ Yanzu muna bera mai watanni 4 wadanda ba su ...   \n",
              "1     Dokta Ehud Ur , farfesan magani a Jami ’ ar Da...   \n",
              "2     Kamar wasu ƙwararrun , yana da shakkun cewa ko...   \n",
              "3     A ranar Litinin , Sara Danius , sakatariyar di...   \n",
              "4     Danius ya ce , “ Yanzu haka ba mwa yin komi . ...   \n",
              "...                                                 ...   \n",
              "1007  Tunda yankunan ba su da cinkoson jama ’ a , ku...   \n",
              "1008  Al ’ adun aiki na Japanese na da matsayi fiye ...   \n",
              "1009  Kaya masu kala ɗaya su ne cikakkun tufafin mu ...   \n",
              "1010  Yarjejeniyar wurin aiki yana da mahimmanci , y...   \n",
              "1011  Dole ne ma ’ aikata su sami amincewar manyan s...   \n",
              "\n",
              "                                      changed_noun_verb  \\\n",
              "0     “ Yanzu muna bera mai buhu 4 wadanda ba su da ...   \n",
              "1     Dokta Ehud Ur , farfesan magani a Jami ’ ar Da...   \n",
              "2     Kamar wasu ganga , yana da shakkun cewa ko za ...   \n",
              "3     A ranar Litinin , Sara Danius , sakatariyar di...   \n",
              "4     Danius ya ce , “ Yanzu haka ba mwa yin komi . ...   \n",
              "...                                                 ...   \n",
              "1007  Tunda yankunan ba su da cinkoson jama ’ a , ku...   \n",
              "1008  Al ’ adun adu na Japanese na da matsayi fiye d...   \n",
              "1009  Kaya masu kala ɗaya su ne cikakkun tufafin mu ...   \n",
              "1010  Yarjejeniyar wurin aiki yana da mahimmanci , y...   \n",
              "1011  Dole ne ma ’ aikata su sami amincewar manyan s...   \n",
              "\n",
              "                                                 labels  \n",
              "0     0 0 0 0 0 1 0 0 0 0 0 0 0 0 0 0 0 0 0 0 0 0 0 ...  \n",
              "1     0 0 0 0 0 0 0 0 0 0 0 0 0 0 0 0 0 0 0 0 0 0 0 ...  \n",
              "2     0 0 1 0 0 0 0 0 0 0 0 0 0 0 0 0 0 0 0 0 0 0 0 ...  \n",
              "3     0 0 0 0 0 0 0 0 0 0 0 0 0 0 0 0 1 0 0 0 0 0 0 ...  \n",
              "4     0 0 0 0 0 0 0 0 0 0 0 0 0 0 0 0 0 0 0 0 0 0 1 ...  \n",
              "...                                                 ...  \n",
              "1007      0 0 0 0 0 0 0 0 0 0 0 0 0 1 0 0 0 0 0 0 0 0 0  \n",
              "1008                0 0 0 1 0 0 0 0 0 0 0 0 0 0 0 0 0 0  \n",
              "1009  0 0 0 0 0 0 0 0 0 0 1 0 0 0 0 0 0 0 0 0 0 0 0 ...  \n",
              "1010          0 0 0 0 0 0 0 0 1 0 0 0 0 0 0 0 0 0 0 0 0  \n",
              "1011  0 0 0 0 0 0 0 0 0 0 0 0 0 0 0 0 0 0 0 0 1 0 0 ...  \n",
              "\n",
              "[1012 rows x 4 columns]"
            ],
            "text/html": [
              "\n",
              "\n",
              "  <div id=\"df-bc23bea6-0f78-429d-8b02-3778d1429b08\">\n",
              "    <div class=\"colab-df-container\">\n",
              "      <div>\n",
              "<style scoped>\n",
              "    .dataframe tbody tr th:only-of-type {\n",
              "        vertical-align: middle;\n",
              "    }\n",
              "\n",
              "    .dataframe tbody tr th {\n",
              "        vertical-align: top;\n",
              "    }\n",
              "\n",
              "    .dataframe thead th {\n",
              "        text-align: right;\n",
              "    }\n",
              "</style>\n",
              "<table border=\"1\" class=\"dataframe\">\n",
              "  <thead>\n",
              "    <tr style=\"text-align: right;\">\n",
              "      <th></th>\n",
              "      <th>eng</th>\n",
              "      <th>hau</th>\n",
              "      <th>changed_noun_verb</th>\n",
              "      <th>labels</th>\n",
              "    </tr>\n",
              "  </thead>\n",
              "  <tbody>\n",
              "    <tr>\n",
              "      <th>0</th>\n",
              "      <td>\" We now have 4-month-old mice that are non-di...</td>\n",
              "      <td>“ Yanzu muna bera mai watanni 4 wadanda ba su ...</td>\n",
              "      <td>“ Yanzu muna bera mai buhu 4 wadanda ba su da ...</td>\n",
              "      <td>0 0 0 0 0 1 0 0 0 0 0 0 0 0 0 0 0 0 0 0 0 0 0 ...</td>\n",
              "    </tr>\n",
              "    <tr>\n",
              "      <th>1</th>\n",
              "      <td>Dr. Ehud Ur , professor of medicine at Dalhous...</td>\n",
              "      <td>Dokta Ehud Ur , farfesan magani a Jami ’ ar Da...</td>\n",
              "      <td>Dokta Ehud Ur , farfesan magani a Jami ’ ar Da...</td>\n",
              "      <td>0 0 0 0 0 0 0 0 0 0 0 0 0 0 0 0 0 0 0 0 0 0 0 ...</td>\n",
              "    </tr>\n",
              "    <tr>\n",
              "      <th>2</th>\n",
              "      <td>Like some other experts , he is skeptical abou...</td>\n",
              "      <td>Kamar wasu ƙwararrun , yana da shakkun cewa ko...</td>\n",
              "      <td>Kamar wasu ganga , yana da shakkun cewa ko za ...</td>\n",
              "      <td>0 0 1 0 0 0 0 0 0 0 0 0 0 0 0 0 0 0 0 0 0 0 0 ...</td>\n",
              "    </tr>\n",
              "    <tr>\n",
              "      <th>3</th>\n",
              "      <td>On Monday , Sara Danius , permanent secretary ...</td>\n",
              "      <td>A ranar Litinin , Sara Danius , sakatariyar di...</td>\n",
              "      <td>A ranar Litinin , Sara Danius , sakatariyar di...</td>\n",
              "      <td>0 0 0 0 0 0 0 0 0 0 0 0 0 0 0 0 1 0 0 0 0 0 0 ...</td>\n",
              "    </tr>\n",
              "    <tr>\n",
              "      <th>4</th>\n",
              "      <td>Danius said , \" Right now we are doing nothing...</td>\n",
              "      <td>Danius ya ce , “ Yanzu haka ba mwa yin komi . ...</td>\n",
              "      <td>Danius ya ce , “ Yanzu haka ba mwa yin komi . ...</td>\n",
              "      <td>0 0 0 0 0 0 0 0 0 0 0 0 0 0 0 0 0 0 0 0 0 0 1 ...</td>\n",
              "    </tr>\n",
              "    <tr>\n",
              "      <th>...</th>\n",
              "      <td>...</td>\n",
              "      <td>...</td>\n",
              "      <td>...</td>\n",
              "      <td>...</td>\n",
              "    </tr>\n",
              "    <tr>\n",
              "      <th>1007</th>\n",
              "      <td>As the areas are sparsely populated , and ligh...</td>\n",
              "      <td>Tunda yankunan ba su da cinkoson jama ’ a , ku...</td>\n",
              "      <td>Tunda yankunan ba su da cinkoson jama ’ a , ku...</td>\n",
              "      <td>0 0 0 0 0 0 0 0 0 0 0 0 0 1 0 0 0 0 0 0 0 0 0</td>\n",
              "    </tr>\n",
              "    <tr>\n",
              "      <th>1008</th>\n",
              "      <td>Japanese work culture is more hierarchical and...</td>\n",
              "      <td>Al ’ adun aiki na Japanese na da matsayi fiye ...</td>\n",
              "      <td>Al ’ adun adu na Japanese na da matsayi fiye d...</td>\n",
              "      <td>0 0 0 1 0 0 0 0 0 0 0 0 0 0 0 0 0 0</td>\n",
              "    </tr>\n",
              "    <tr>\n",
              "      <th>1009</th>\n",
              "      <td>Suits are standard business attire , and cowor...</td>\n",
              "      <td>Kaya masu kala ɗaya su ne cikakkun tufafin mu ...</td>\n",
              "      <td>Kaya masu kala ɗaya su ne cikakkun tufafin mu ...</td>\n",
              "      <td>0 0 0 0 0 0 0 0 0 0 1 0 0 0 0 0 0 0 0 0 0 0 0 ...</td>\n",
              "    </tr>\n",
              "    <tr>\n",
              "      <th>1010</th>\n",
              "      <td>Workplace harmony is crucial , emphasizing gro...</td>\n",
              "      <td>Yarjejeniyar wurin aiki yana da mahimmanci , y...</td>\n",
              "      <td>Yarjejeniyar wurin aiki yana da mahimmanci , y...</td>\n",
              "      <td>0 0 0 0 0 0 0 0 1 0 0 0 0 0 0 0 0 0 0 0 0</td>\n",
              "    </tr>\n",
              "    <tr>\n",
              "      <th>1011</th>\n",
              "      <td>Workers must often get their superiors ' appro...</td>\n",
              "      <td>Dole ne ma ’ aikata su sami amincewar manyan s...</td>\n",
              "      <td>Dole ne ma ’ aikata su sami amincewar manyan s...</td>\n",
              "      <td>0 0 0 0 0 0 0 0 0 0 0 0 0 0 0 0 0 0 0 0 1 0 0 ...</td>\n",
              "    </tr>\n",
              "  </tbody>\n",
              "</table>\n",
              "<p>1012 rows × 4 columns</p>\n",
              "</div>\n",
              "      <button class=\"colab-df-convert\" onclick=\"convertToInteractive('df-bc23bea6-0f78-429d-8b02-3778d1429b08')\"\n",
              "              title=\"Convert this dataframe to an interactive table.\"\n",
              "              style=\"display:none;\">\n",
              "\n",
              "  <svg xmlns=\"http://www.w3.org/2000/svg\" height=\"24px\"viewBox=\"0 0 24 24\"\n",
              "       width=\"24px\">\n",
              "    <path d=\"M0 0h24v24H0V0z\" fill=\"none\"/>\n",
              "    <path d=\"M18.56 5.44l.94 2.06.94-2.06 2.06-.94-2.06-.94-.94-2.06-.94 2.06-2.06.94zm-11 1L8.5 8.5l.94-2.06 2.06-.94-2.06-.94L8.5 2.5l-.94 2.06-2.06.94zm10 10l.94 2.06.94-2.06 2.06-.94-2.06-.94-.94-2.06-.94 2.06-2.06.94z\"/><path d=\"M17.41 7.96l-1.37-1.37c-.4-.4-.92-.59-1.43-.59-.52 0-1.04.2-1.43.59L10.3 9.45l-7.72 7.72c-.78.78-.78 2.05 0 2.83L4 21.41c.39.39.9.59 1.41.59.51 0 1.02-.2 1.41-.59l7.78-7.78 2.81-2.81c.8-.78.8-2.07 0-2.86zM5.41 20L4 18.59l7.72-7.72 1.47 1.35L5.41 20z\"/>\n",
              "  </svg>\n",
              "      </button>\n",
              "\n",
              "\n",
              "\n",
              "    <div id=\"df-f3767ca7-d8ae-4a2f-9289-bade4849d8c0\">\n",
              "      <button class=\"colab-df-quickchart\" onclick=\"quickchart('df-f3767ca7-d8ae-4a2f-9289-bade4849d8c0')\"\n",
              "              title=\"Suggest charts.\"\n",
              "              style=\"display:none;\">\n",
              "\n",
              "<svg xmlns=\"http://www.w3.org/2000/svg\" height=\"24px\"viewBox=\"0 0 24 24\"\n",
              "     width=\"24px\">\n",
              "    <g>\n",
              "        <path d=\"M19 3H5c-1.1 0-2 .9-2 2v14c0 1.1.9 2 2 2h14c1.1 0 2-.9 2-2V5c0-1.1-.9-2-2-2zM9 17H7v-7h2v7zm4 0h-2V7h2v10zm4 0h-2v-4h2v4z\"/>\n",
              "    </g>\n",
              "</svg>\n",
              "      </button>\n",
              "    </div>\n",
              "\n",
              "<style>\n",
              "  .colab-df-quickchart {\n",
              "    background-color: #E8F0FE;\n",
              "    border: none;\n",
              "    border-radius: 50%;\n",
              "    cursor: pointer;\n",
              "    display: none;\n",
              "    fill: #1967D2;\n",
              "    height: 32px;\n",
              "    padding: 0 0 0 0;\n",
              "    width: 32px;\n",
              "  }\n",
              "\n",
              "  .colab-df-quickchart:hover {\n",
              "    background-color: #E2EBFA;\n",
              "    box-shadow: 0px 1px 2px rgba(60, 64, 67, 0.3), 0px 1px 3px 1px rgba(60, 64, 67, 0.15);\n",
              "    fill: #174EA6;\n",
              "  }\n",
              "\n",
              "  [theme=dark] .colab-df-quickchart {\n",
              "    background-color: #3B4455;\n",
              "    fill: #D2E3FC;\n",
              "  }\n",
              "\n",
              "  [theme=dark] .colab-df-quickchart:hover {\n",
              "    background-color: #434B5C;\n",
              "    box-shadow: 0px 1px 3px 1px rgba(0, 0, 0, 0.15);\n",
              "    filter: drop-shadow(0px 1px 2px rgba(0, 0, 0, 0.3));\n",
              "    fill: #FFFFFF;\n",
              "  }\n",
              "</style>\n",
              "\n",
              "    <script>\n",
              "      async function quickchart(key) {\n",
              "        const containerElement = document.querySelector('#' + key);\n",
              "        const charts = await google.colab.kernel.invokeFunction(\n",
              "            'suggestCharts', [key], {});\n",
              "      }\n",
              "    </script>\n",
              "\n",
              "      <script>\n",
              "\n",
              "function displayQuickchartButton(domScope) {\n",
              "  let quickchartButtonEl =\n",
              "    domScope.querySelector('#df-f3767ca7-d8ae-4a2f-9289-bade4849d8c0 button.colab-df-quickchart');\n",
              "  quickchartButtonEl.style.display =\n",
              "    google.colab.kernel.accessAllowed ? 'block' : 'none';\n",
              "}\n",
              "\n",
              "        displayQuickchartButton(document);\n",
              "      </script>\n",
              "      <style>\n",
              "    .colab-df-container {\n",
              "      display:flex;\n",
              "      flex-wrap:wrap;\n",
              "      gap: 12px;\n",
              "    }\n",
              "\n",
              "    .colab-df-convert {\n",
              "      background-color: #E8F0FE;\n",
              "      border: none;\n",
              "      border-radius: 50%;\n",
              "      cursor: pointer;\n",
              "      display: none;\n",
              "      fill: #1967D2;\n",
              "      height: 32px;\n",
              "      padding: 0 0 0 0;\n",
              "      width: 32px;\n",
              "    }\n",
              "\n",
              "    .colab-df-convert:hover {\n",
              "      background-color: #E2EBFA;\n",
              "      box-shadow: 0px 1px 2px rgba(60, 64, 67, 0.3), 0px 1px 3px 1px rgba(60, 64, 67, 0.15);\n",
              "      fill: #174EA6;\n",
              "    }\n",
              "\n",
              "    [theme=dark] .colab-df-convert {\n",
              "      background-color: #3B4455;\n",
              "      fill: #D2E3FC;\n",
              "    }\n",
              "\n",
              "    [theme=dark] .colab-df-convert:hover {\n",
              "      background-color: #434B5C;\n",
              "      box-shadow: 0px 1px 3px 1px rgba(0, 0, 0, 0.15);\n",
              "      filter: drop-shadow(0px 1px 2px rgba(0, 0, 0, 0.3));\n",
              "      fill: #FFFFFF;\n",
              "    }\n",
              "  </style>\n",
              "\n",
              "      <script>\n",
              "        const buttonEl =\n",
              "          document.querySelector('#df-bc23bea6-0f78-429d-8b02-3778d1429b08 button.colab-df-convert');\n",
              "        buttonEl.style.display =\n",
              "          google.colab.kernel.accessAllowed ? 'block' : 'none';\n",
              "\n",
              "        async function convertToInteractive(key) {\n",
              "          const element = document.querySelector('#df-bc23bea6-0f78-429d-8b02-3778d1429b08');\n",
              "          const dataTable =\n",
              "            await google.colab.kernel.invokeFunction('convertToInteractive',\n",
              "                                                     [key], {});\n",
              "          if (!dataTable) return;\n",
              "\n",
              "          const docLinkHtml = 'Like what you see? Visit the ' +\n",
              "            '<a target=\"_blank\" href=https://colab.research.google.com/notebooks/data_table.ipynb>data table notebook</a>'\n",
              "            + ' to learn more about interactive tables.';\n",
              "          element.innerHTML = '';\n",
              "          dataTable['output_type'] = 'display_data';\n",
              "          await google.colab.output.renderOutput(dataTable, element);\n",
              "          const docLink = document.createElement('div');\n",
              "          docLink.innerHTML = docLinkHtml;\n",
              "          element.appendChild(docLink);\n",
              "        }\n",
              "      </script>\n",
              "    </div>\n",
              "  </div>\n"
            ]
          },
          "metadata": {},
          "execution_count": 39
        }
      ]
    },
    {
      "cell_type": "code",
      "source": [
        "dataset.to_csv(\"changed_noun_verb.tsv\", sep=\"\\t\")"
      ],
      "metadata": {
        "id": "YFlRi_dpL3TM"
      },
      "execution_count": null,
      "outputs": []
    }
  ]
}